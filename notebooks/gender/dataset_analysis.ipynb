{
 "cells": [
  {
   "cell_type": "markdown",
   "id": "cda728e0",
   "metadata": {},
   "source": [
    "## About\n"
   ]
  },
  {
   "cell_type": "markdown",
   "id": "962df7fc",
   "metadata": {},
   "source": [
    "Even though the word bias does not have only one meaning, the title of the paper might be a bit misleading in some sense. Paper (together with dataset and recommended applications) offers sort of general testing and evaluating framework for arbitrary text to get some gender statistics from. \n",
    "\n",
    "&ensp; It focuses on three dimensions of gender signal in text: ABOUT, TO, AS and on assigning them with one of the 4 gender categories : masculine, feminine, neutral and unknown. Hence using such dataset to build a classifier will only allow us to build a classifier of which gender is present in a sentence. That still might be very a useful thing. \n",
    "\n",
    "&ensp; As authors propose, such classifier can be combined with an offensive/hate speech classifier and the results can be correlated to get some more interesting information. Another recommended usage of the dataset (and models trained on it) is controlling weights on automatically generated text. Since learned word embeddings are biased due to the nature of the data on the internet, automatically generated text might be skewed to one or another direction.\n",
    "\n",
    "&ensp; We should further discuss how we want to approach the problem and what specific phenomena we want to detect. As this all is sort of sociologic question I propose to define our goal in a more rigid manner."
   ]
  },
  {
   "cell_type": "markdown",
   "id": "59e1cde7",
   "metadata": {},
   "source": [
    "#### authors main idea:\n"
   ]
  },
  {
   "cell_type": "markdown",
   "id": "2df5a7ee",
   "metadata": {},
   "source": [
    "Classifier of bias should perform almost random on ideal unbiased text. So classifier built on this dataset works as an benchmark of how biased text is in some sense.\n",
    "\n",
    "#### Bias Detection\n",
    "\n",
    "\"Creating classifiers along different dimensions can\n",
    "be used to detect gender bias in any form of text,\n",
    "beyond dialogue itself. We investigate using the\n",
    "trained classifiers to detect the most gendered sentences and paragraphs in various documents, and\n",
    "analyze what portions of the text drive the classification decision. Such methods could be very\n",
    "useful in practical applications such as detecting,\n",
    "removing, and rewriting biased writing.\""
   ]
  },
  {
   "cell_type": "markdown",
   "id": "680400d2",
   "metadata": {},
   "source": [
    "## Data\n"
   ]
  },
  {
   "cell_type": "markdown",
   "id": "6126e6a8",
   "metadata": {},
   "source": [
    "We have 7 automatically annotated large scale datasets:\n",
    "\n",
    "* **ABOUT**\n",
    "    * funpedia \n",
    "    * wizard \n",
    "    * image_chat\n",
    "    *  yelp_inferred\n",
    "    * convai2_inferred\n",
    "    * light_inferred\n",
    "    * opensubtitles_inferred\n",
    "\n",
    "\n",
    "One crowdsourced evaluation benchmark of utterance-level gender **rewrites**.\n",
    "* **ABOUT + AS + TO**\n",
    "    * new_data\n",
    "\n",
    "A list of gendered names, and a list of gendered words in English.\n",
    "    \n",
    "* gendered_words\n",
    "* name_genders\n",
    "    "
   ]
  },
  {
   "cell_type": "code",
   "execution_count": 93,
   "id": "6b61a9ac",
   "metadata": {
    "collapsed": true,
    "jupyter": {
     "outputs_hidden": true
    }
   },
   "outputs": [
    {
     "name": "stderr",
     "output_type": "stream",
     "text": [
      "Reusing dataset md_gender_bias (/home/horyctom/.cache/huggingface/datasets/md_gender_bias/funpedia/1.0.0/01dacda3d3a362db704fa0485596d225bb3790186f7ab7625fa9f81c6402f224)\n",
      "Reusing dataset md_gender_bias (/home/horyctom/.cache/huggingface/datasets/md_gender_bias/wizard/1.0.0/01dacda3d3a362db704fa0485596d225bb3790186f7ab7625fa9f81c6402f224)\n",
      "Reusing dataset md_gender_bias (/home/horyctom/.cache/huggingface/datasets/md_gender_bias/image_chat/1.0.0/01dacda3d3a362db704fa0485596d225bb3790186f7ab7625fa9f81c6402f224)\n",
      "Reusing dataset md_gender_bias (/home/horyctom/.cache/huggingface/datasets/md_gender_bias/yelp_inferred/1.0.0/01dacda3d3a362db704fa0485596d225bb3790186f7ab7625fa9f81c6402f224)\n",
      "Reusing dataset md_gender_bias (/home/horyctom/.cache/huggingface/datasets/md_gender_bias/convai2_inferred/1.0.0/01dacda3d3a362db704fa0485596d225bb3790186f7ab7625fa9f81c6402f224)\n",
      "Reusing dataset md_gender_bias (/home/horyctom/.cache/huggingface/datasets/md_gender_bias/opensubtitles_inferred/1.0.0/01dacda3d3a362db704fa0485596d225bb3790186f7ab7625fa9f81c6402f224)\n",
      "Reusing dataset md_gender_bias (/home/horyctom/.cache/huggingface/datasets/md_gender_bias/light_inferred/1.0.0/01dacda3d3a362db704fa0485596d225bb3790186f7ab7625fa9f81c6402f224)\n",
      "Reusing dataset md_gender_bias (/home/horyctom/.cache/huggingface/datasets/md_gender_bias/new_data/1.0.0/01dacda3d3a362db704fa0485596d225bb3790186f7ab7625fa9f81c6402f224)\n"
     ]
    }
   ],
   "source": [
    "from datasets import load_dataset\n",
    "funpedia = load_dataset(\"md_gender_bias\", \"funpedia\")\n",
    "wizard = load_dataset(\"md_gender_bias\", \"wizard\")\n",
    "image_chat = load_dataset(\"md_gender_bias\",\"image_chat\")\n",
    "yelp = load_dataset(\"md_gender_bias\",\"yelp_inferred\")\n",
    "convai = load_dataset(\"md_gender_bias\",\"convai2_inferred\")\n",
    "open_subtitles = load_dataset(\"md_gender_bias\",\"opensubtitles_inferred\")\n",
    "light = load_dataset(\"md_gender_bias\",\"light_inferred\")\n",
    "new_data = load_dataset(\"md_gender_bias\",\"new_data\")"
   ]
  },
  {
   "cell_type": "code",
   "execution_count": 94,
   "id": "14468872",
   "metadata": {
    "collapsed": true,
    "jupyter": {
     "outputs_hidden": true
    }
   },
   "outputs": [],
   "source": [
    "def get_gender_ratio(column_name,train_set):\n",
    "    gender_rat = []\n",
    "    for i in range (0,3):\n",
    "        gender_rat.append(train_set.filter(lambda example: example[column_name] == i).num_rows)\n",
    "    gender_rat = list(map(lambda x: x/len(train_set),gender_rat))\n",
    "    return gender_rat"
   ]
  },
  {
   "cell_type": "code",
   "execution_count": 97,
   "id": "ef8abbd5",
   "metadata": {
    "collapsed": true,
    "jupyter": {
     "outputs_hidden": true
    }
   },
   "outputs": [],
   "source": [
    "def plot_gender_ratio():\n",
    "    funpedia_ratio = get_gender_ratio('gender',funpedia['train'])\n",
    "    wizard_ratio = get_gender_ratio('gender',wizard['train'])\n",
    "    convai_ratio = [0.4748246321459548,0.2731021470198877,0.25207322083415756]\n",
    "    open_subtitles_ratio = [0.4023234084253467,0.192071468453378,0.40560512312127533]\n",
    "    light_ratio = [0.6329413316748648,0.15436007613878366,0.21269859218635156]\n",
    "    x = ['funpedia','wizard','convai','open_subtitles','light']\n",
    "\n",
    "    neutral = np.array([funpedia_ratio[0], wizard_ratio[0], convai_ratio[0],\n",
    "                        open_subtitles_ratio[0],light_ratio[0]])\n",
    "    female = np.array([funpedia_ratio[1], wizard_ratio[1], convai_ratio[1],\n",
    "                       open_subtitles_ratio[1],light_ratio[1]])\n",
    "    male = np.array([funpedia_ratio[2], wizard_ratio[2],convai_ratio[2],\n",
    "                     open_subtitles_ratio[2],light_ratio[2]])\n",
    "\n",
    "\n",
    "\n",
    "    plt.figure(figsize=(14,5))\n",
    "\n",
    "    # plot bars in stack manner\n",
    "    plt.bar(x, neutral, color='g')\n",
    "    plt.bar(x, female, bottom=neutral, color='r')\n",
    "    plt.bar(x, male, bottom=neutral+female, color='b')\n",
    "\n",
    "\n",
    "    plt.xlabel(\"Datasets\")\n",
    "\n",
    "    plt.ylabel(\"Ratio\")\n",
    "    plt.legend([\"Neutral\", \"Female\", \"Male\"])\n",
    "    plt.title(\"Neutral-Female-Male ration in training data\")\n",
    "\n",
    "    plt.show()"
   ]
  },
  {
   "cell_type": "code",
   "execution_count": 96,
   "id": "17a7f007",
   "metadata": {
    "collapsed": true,
    "jupyter": {
     "outputs_hidden": true
    }
   },
   "outputs": [],
   "source": [
    "def plot_sizes():\n",
    "    datasets = (yelp,open_subtitles,convai,light,funpedia,wizard,image_chat)\n",
    "    size = lambda x : x['train'].num_rows\n",
    "    x_axis = ['yelp','open_subtitles','convai','light','funpedia','wizard','image_chat']\n",
    "    y_axis = list(map(size,datasets))\n",
    "\n",
    "    plt.figure(figsize=(14,5))\n",
    "    plt.bar(x_axis, y_axis,log=True)\n",
    "    plt.ylabel(\"Size of training datasets\")\n",
    "    plt.show()"
   ]
  },
  {
   "cell_type": "markdown",
   "id": "74a95bd3",
   "metadata": {},
   "source": [
    "## New data"
   ]
  },
  {
   "cell_type": "code",
   "execution_count": null,
   "id": "d60b1a6c",
   "metadata": {
    "tags": []
   },
   "outputs": [],
   "source": [
    "new_data"
   ]
  },
  {
   "cell_type": "code",
   "execution_count": null,
   "id": "12a7c6b3",
   "metadata": {
    "tags": []
   },
   "outputs": [],
   "source": [
    "new_data['train'].features"
   ]
  },
  {
   "cell_type": "code",
   "execution_count": null,
   "id": "ae0fbeda",
   "metadata": {
    "tags": []
   },
   "outputs": [],
   "source": [
    "new_data['train'][0]"
   ]
  },
  {
   "cell_type": "markdown",
   "id": "0a4ad3bc",
   "metadata": {},
   "source": [
    "## 1. Funpedia"
   ]
  },
  {
   "cell_type": "code",
   "execution_count": 80,
   "id": "7984c6de",
   "metadata": {
    "collapsed": true,
    "jupyter": {
     "outputs_hidden": true
    }
   },
   "outputs": [
    {
     "data": {
      "text/plain": [
       "DatasetDict({\n",
       "    train: Dataset({\n",
       "        features: ['text', 'title', 'persona', 'gender'],\n",
       "        num_rows: 23897\n",
       "    })\n",
       "    validation: Dataset({\n",
       "        features: ['text', 'title', 'persona', 'gender'],\n",
       "        num_rows: 2984\n",
       "    })\n",
       "    test: Dataset({\n",
       "        features: ['text', 'title', 'persona', 'gender'],\n",
       "        num_rows: 2938\n",
       "    })\n",
       "})"
      ]
     },
     "execution_count": 80,
     "metadata": {},
     "output_type": "execute_result"
    }
   ],
   "source": [
    "funpedia"
   ]
  },
  {
   "cell_type": "code",
   "execution_count": 81,
   "id": "63de5e78",
   "metadata": {
    "collapsed": true,
    "jupyter": {
     "outputs_hidden": true
    }
   },
   "outputs": [
    {
     "data": {
      "text/plain": [
       "{'text': Value(dtype='string', id=None),\n",
       " 'title': Value(dtype='string', id=None),\n",
       " 'persona': Value(dtype='string', id=None),\n",
       " 'gender': ClassLabel(num_classes=3, names=['gender-neutral', 'female', 'male'], names_file=None, id=None)}"
      ]
     },
     "execution_count": 81,
     "metadata": {},
     "output_type": "execute_result"
    }
   ],
   "source": [
    "funpedia['train'].features"
   ]
  },
  {
   "cell_type": "code",
   "execution_count": 82,
   "id": "7c19ef6d",
   "metadata": {
    "collapsed": true,
    "jupyter": {
     "outputs_hidden": true
    }
   },
   "outputs": [
    {
     "data": {
      "text/plain": [
       "{'text': 'Max Landis is a comic book writer who wrote Chronicle, American Ultra, and Victor Frankestein.',\n",
       " 'title': 'Max Landis',\n",
       " 'persona': 'Humorous',\n",
       " 'gender': 2}"
      ]
     },
     "execution_count": 82,
     "metadata": {},
     "output_type": "execute_result"
    }
   ],
   "source": [
    "funpedia['train'][0]"
   ]
  },
  {
   "cell_type": "code",
   "execution_count": 89,
   "id": "c3d7094c",
   "metadata": {
    "collapsed": true,
    "jupyter": {
     "outputs_hidden": true
    }
   },
   "outputs": [
    {
     "name": "stderr",
     "output_type": "stream",
     "text": [
      "Loading cached processed dataset at /home/horyctom/.cache/huggingface/datasets/md_gender_bias/funpedia/1.0.0/01dacda3d3a362db704fa0485596d225bb3790186f7ab7625fa9f81c6402f224/cache-6433ba41b5da61c9.arrow\n",
      "Loading cached processed dataset at /home/horyctom/.cache/huggingface/datasets/md_gender_bias/funpedia/1.0.0/01dacda3d3a362db704fa0485596d225bb3790186f7ab7625fa9f81c6402f224/cache-4221182d75e6b17f.arrow\n",
      "Loading cached processed dataset at /home/horyctom/.cache/huggingface/datasets/md_gender_bias/funpedia/1.0.0/01dacda3d3a362db704fa0485596d225bb3790186f7ab7625fa9f81c6402f224/cache-18837e74cba815d1.arrow\n"
     ]
    },
    {
     "data": {
      "text/plain": [
       "[0.04799765660961627, 0.15039544712725447, 0.8016068962631293]"
      ]
     },
     "execution_count": 89,
     "metadata": {},
     "output_type": "execute_result"
    }
   ],
   "source": [
    "funpedia_ratio = get_gender_ratio('gender',funpedia['train'])\n",
    "funpedia_ratio"
   ]
  },
  {
   "cell_type": "markdown",
   "id": "b85fbe3b",
   "metadata": {},
   "source": [
    "## 2. Wizard"
   ]
  },
  {
   "cell_type": "markdown",
   "id": "0b0afc8e",
   "metadata": {},
   "source": [
    "Text containting discussion of two people."
   ]
  },
  {
   "cell_type": "code",
   "execution_count": null,
   "id": "caf712b5",
   "metadata": {
    "collapsed": true,
    "jupyter": {
     "outputs_hidden": true
    }
   },
   "outputs": [],
   "source": [
    "wizard"
   ]
  },
  {
   "cell_type": "code",
   "execution_count": null,
   "id": "22165244",
   "metadata": {
    "collapsed": true,
    "jupyter": {
     "outputs_hidden": true
    }
   },
   "outputs": [],
   "source": [
    "wizard['train'].features"
   ]
  },
  {
   "cell_type": "code",
   "execution_count": null,
   "id": "35cadaa9",
   "metadata": {
    "collapsed": true,
    "jupyter": {
     "outputs_hidden": true
    }
   },
   "outputs": [],
   "source": [
    "wizard['train'][0]"
   ]
  },
  {
   "cell_type": "code",
   "execution_count": null,
   "id": "8a1955a6",
   "metadata": {
    "collapsed": true,
    "jupyter": {
     "outputs_hidden": true
    }
   },
   "outputs": [],
   "source": [
    "wizard_ratio = get_gender_ratio('gender',wizard['train'])\n",
    "wizard_ratio"
   ]
  },
  {
   "cell_type": "markdown",
   "id": "47a684e3",
   "metadata": {},
   "source": [
    "## 3. ImageChat"
   ]
  },
  {
   "cell_type": "markdown",
   "id": "57e1215b",
   "metadata": {},
   "source": [
    "Conversation discussing content of an image. And annotation is about person IN the image"
   ]
  },
  {
   "cell_type": "code",
   "execution_count": null,
   "id": "7ff366ad",
   "metadata": {
    "collapsed": true,
    "jupyter": {
     "outputs_hidden": true
    }
   },
   "outputs": [],
   "source": [
    "image_chat"
   ]
  },
  {
   "cell_type": "code",
   "execution_count": null,
   "id": "d529d15d",
   "metadata": {
    "collapsed": true,
    "jupyter": {
     "outputs_hidden": true
    }
   },
   "outputs": [],
   "source": [
    "image_chat['train'].features"
   ]
  },
  {
   "cell_type": "code",
   "execution_count": null,
   "id": "47498d24",
   "metadata": {
    "collapsed": true,
    "jupyter": {
     "outputs_hidden": true
    }
   },
   "outputs": [],
   "source": [
    "image_chat['train'][0]"
   ]
  },
  {
   "cell_type": "markdown",
   "id": "27d60012",
   "metadata": {},
   "source": [
    "## 4. Yelp\n"
   ]
  },
  {
   "cell_type": "code",
   "execution_count": null,
   "id": "5bb01bc6",
   "metadata": {
    "collapsed": true,
    "jupyter": {
     "outputs_hidden": true
    }
   },
   "outputs": [],
   "source": [
    "yelp"
   ]
  },
  {
   "cell_type": "code",
   "execution_count": null,
   "id": "a1345804",
   "metadata": {
    "collapsed": true,
    "jupyter": {
     "outputs_hidden": true
    }
   },
   "outputs": [],
   "source": [
    "yelp['train'].features"
   ]
  },
  {
   "cell_type": "code",
   "execution_count": null,
   "id": "f93551ff",
   "metadata": {
    "collapsed": true,
    "jupyter": {
     "outputs_hidden": true
    }
   },
   "outputs": [],
   "source": [
    "yelp['train'][2]"
   ]
  },
  {
   "cell_type": "markdown",
   "id": "86b02a22",
   "metadata": {},
   "source": [
    "## 5. ConvAI2"
   ]
  },
  {
   "cell_type": "code",
   "execution_count": null,
   "id": "c76e8c8e",
   "metadata": {
    "collapsed": true,
    "jupyter": {
     "outputs_hidden": true
    }
   },
   "outputs": [],
   "source": [
    "convai"
   ]
  },
  {
   "cell_type": "code",
   "execution_count": null,
   "id": "70efa6ac",
   "metadata": {
    "collapsed": true,
    "jupyter": {
     "outputs_hidden": true
    }
   },
   "outputs": [],
   "source": [
    "convai['train'].features"
   ]
  },
  {
   "cell_type": "code",
   "execution_count": null,
   "id": "019a56ff",
   "metadata": {
    "collapsed": true,
    "jupyter": {
     "outputs_hidden": true
    }
   },
   "outputs": [],
   "source": [
    "convai['train'][9]"
   ]
  },
  {
   "cell_type": "code",
   "execution_count": null,
   "id": "3408b09d",
   "metadata": {
    "collapsed": true,
    "jupyter": {
     "outputs_hidden": true
    }
   },
   "outputs": [],
   "source": [
    "convai_ratio = get_gender_ratio('ternary_label',convai['train'])\n",
    "print(convai_ratio)\n",
    "convai_ratio = [0.4748246321459548,0.2731021470198877,0.25207322083415756] # just changing order by hand"
   ]
  },
  {
   "cell_type": "markdown",
   "id": "a1449275",
   "metadata": {},
   "source": [
    "## 6. OpenSubtitles"
   ]
  },
  {
   "cell_type": "code",
   "execution_count": null,
   "id": "22a0dfc7",
   "metadata": {
    "collapsed": true,
    "jupyter": {
     "outputs_hidden": true
    }
   },
   "outputs": [],
   "source": [
    "open_subtitles"
   ]
  },
  {
   "cell_type": "code",
   "execution_count": null,
   "id": "c04c3495",
   "metadata": {
    "collapsed": true,
    "jupyter": {
     "outputs_hidden": true
    }
   },
   "outputs": [],
   "source": [
    "open_subtitles['train'].features"
   ]
  },
  {
   "cell_type": "code",
   "execution_count": null,
   "id": "123fc7e4",
   "metadata": {
    "collapsed": true,
    "jupyter": {
     "outputs_hidden": true
    }
   },
   "outputs": [],
   "source": [
    "open_subtitles['train'][1]"
   ]
  },
  {
   "cell_type": "code",
   "execution_count": null,
   "id": "16e12530",
   "metadata": {
    "collapsed": true,
    "jupyter": {
     "outputs_hidden": true
    }
   },
   "outputs": [],
   "source": [
    "open_subtitles_ratio = get_gender_ratio('ternary_label',open_subtitles['train'])\n",
    "print(open_subtitles_ratio)\n",
    "open_subtitles_ratio = [0.4023234084253467,0.192071468453378,0.40560512312127533]"
   ]
  },
  {
   "cell_type": "markdown",
   "id": "c580b6ee",
   "metadata": {},
   "source": [
    "## 7. Light"
   ]
  },
  {
   "cell_type": "code",
   "execution_count": null,
   "id": "6a932d0d",
   "metadata": {
    "collapsed": true,
    "jupyter": {
     "outputs_hidden": true
    }
   },
   "outputs": [],
   "source": [
    "light"
   ]
  },
  {
   "cell_type": "code",
   "execution_count": null,
   "id": "6d79add0",
   "metadata": {
    "collapsed": true,
    "jupyter": {
     "outputs_hidden": true
    }
   },
   "outputs": [],
   "source": [
    "light['train'].features"
   ]
  },
  {
   "cell_type": "code",
   "execution_count": null,
   "id": "f4327c9c",
   "metadata": {
    "collapsed": true,
    "jupyter": {
     "outputs_hidden": true
    }
   },
   "outputs": [],
   "source": [
    "light['train'][22]"
   ]
  },
  {
   "cell_type": "code",
   "execution_count": null,
   "id": "26ecf6cb",
   "metadata": {
    "collapsed": true,
    "jupyter": {
     "outputs_hidden": true
    }
   },
   "outputs": [],
   "source": [
    "light_ratio = get_gender_ratio('ternary_label',light['train'])\n",
    "print(light_ratio)\n",
    "light_ratio = [0.6329413316748648,0.15436007613878366,0.21269859218635156]"
   ]
  },
  {
   "cell_type": "markdown",
   "id": "c11562c9",
   "metadata": {},
   "source": [
    "## Datasets statistics"
   ]
  },
  {
   "cell_type": "code",
   "execution_count": 98,
   "id": "455bc77d",
   "metadata": {
    "collapsed": true,
    "jupyter": {
     "outputs_hidden": true
    }
   },
   "outputs": [
    {
     "data": {
      "image/png": "[encoded data removed]",
      "text/plain": [
       "<Figure size 1008x360 with 1 Axes>"
      ]
     },
     "metadata": {
      "needs_background": "light"
     },
     "output_type": "display_data"
    }
   ],
   "source": [
    "plot_sizes()"
   ]
  },
  {
   "cell_type": "markdown",
   "id": "36dab19c",
   "metadata": {},
   "source": [
    "Here i exlcluded two datasets, which only have binary classification. They can be plotted in different plot."
   ]
  },
  {
   "cell_type": "code",
   "execution_count": 100,
   "id": "33224e7b",
   "metadata": {
    "collapsed": true,
    "jupyter": {
     "outputs_hidden": true
    }
   },
   "outputs": [
    {
     "name": "stderr",
     "output_type": "stream",
     "text": [
      "Loading cached processed dataset at /home/horyctom/.cache/huggingface/datasets/md_gender_bias/funpedia/1.0.0/01dacda3d3a362db704fa0485596d225bb3790186f7ab7625fa9f81c6402f224/cache-6433ba41b5da61c9.arrow\n",
      "Loading cached processed dataset at /home/horyctom/.cache/huggingface/datasets/md_gender_bias/funpedia/1.0.0/01dacda3d3a362db704fa0485596d225bb3790186f7ab7625fa9f81c6402f224/cache-4221182d75e6b17f.arrow\n",
      "Loading cached processed dataset at /home/horyctom/.cache/huggingface/datasets/md_gender_bias/funpedia/1.0.0/01dacda3d3a362db704fa0485596d225bb3790186f7ab7625fa9f81c6402f224/cache-18837e74cba815d1.arrow\n",
      "Loading cached processed dataset at /home/horyctom/.cache/huggingface/datasets/md_gender_bias/wizard/1.0.0/01dacda3d3a362db704fa0485596d225bb3790186f7ab7625fa9f81c6402f224/cache-045d4dabe769b435.arrow\n",
      "Loading cached processed dataset at /home/horyctom/.cache/huggingface/datasets/md_gender_bias/wizard/1.0.0/01dacda3d3a362db704fa0485596d225bb3790186f7ab7625fa9f81c6402f224/cache-91418eebf5b3d1eb.arrow\n",
      "Loading cached processed dataset at /home/horyctom/.cache/huggingface/datasets/md_gender_bias/wizard/1.0.0/01dacda3d3a362db704fa0485596d225bb3790186f7ab7625fa9f81c6402f224/cache-41beb656b274ae88.arrow\n"
     ]
    },
    {
     "data": {
      "image/png": "[encoded data removed]",
      "text/plain": [
       "<Figure size 1008x360 with 1 Axes>"
      ]
     },
     "metadata": {
      "needs_background": "light"
     },
     "output_type": "display_data"
    }
   ],
   "source": [
    "plot_gender_ratio()"
   ]
  },
  {
   "cell_type": "markdown",
   "id": "30034405",
   "metadata": {},
   "source": [
    "## Finetuning BERT for ABOUT axis classification\n",
    "\n",
    "## Funpedia data\n"
   ]
  },
  {
   "cell_type": "markdown",
   "id": "e76b16be",
   "metadata": {},
   "source": [
    "### setup"
   ]
  },
  {
   "cell_type": "code",
   "execution_count": 101,
   "id": "87173575",
   "metadata": {
    "collapsed": true,
    "jupyter": {
     "outputs_hidden": true
    }
   },
   "outputs": [],
   "source": [
    "import torch\n",
    "import torch.nn.functional as F\n",
    "from torch.utils.data import DataLoader\n",
    "\n",
    "from datasets import load_metric\n",
    "from datasets import load_dataset\n",
    "\n",
    "from transformers import AutoTokenizer, DataCollatorWithPadding\n",
    "from transformers import AutoModelForSequenceClassification\n",
    "from transformers import AdamW\n",
    "from transformers import get_scheduler\n",
    "from transformers import TrainingArguments\n",
    "from transformers import Trainer\n",
    "\n",
    "import itertools\n",
    "import numpy as np\n",
    "import matplotlib.pyplot as plt\n",
    "import nltk\n",
    "\n",
    "from sklearn.metrics import confusion_matrix\n",
    "from tqdm.auto import tqdm\n",
    "\n",
    "import gc\n",
    "import wandb\n",
    "\n",
    "checkpoint = 'bert-base-cased'\n",
    "checkpoint = 'distilbert-base-uncased'\n",
    "\n",
    "device = torch.device(\"cuda\") if torch.cuda.is_available() else torch.device(\"cpu\")"
   ]
  },
  {
   "cell_type": "code",
   "execution_count": 102,
   "id": "a5b6e0b5",
   "metadata": {
    "collapsed": true,
    "jupyter": {
     "outputs_hidden": true
    }
   },
   "outputs": [],
   "source": [
    "def tokenize_function(data):\n",
    "    return tokenizer(data['text'], truncation=True)"
   ]
  },
  {
   "cell_type": "code",
   "execution_count": 103,
   "id": "8a730ea2",
   "metadata": {
    "collapsed": true,
    "jupyter": {
     "outputs_hidden": true
    }
   },
   "outputs": [],
   "source": [
    "def clean_memory():\n",
    "    gc.collect()\n",
    "    torch.cuda.empty_cache()"
   ]
  },
  {
   "cell_type": "code",
   "execution_count": 104,
   "id": "e057508c",
   "metadata": {
    "collapsed": true,
    "jupyter": {
     "outputs_hidden": true
    }
   },
   "outputs": [],
   "source": [
    "def plot_confusion_matrix(cm, classes, normalize=False, title='Confusion matrix', cmap=plt.cm.Blues):\n",
    "    if normalize:\n",
    "        cm = cm.astype('float') / cm.sum(axis=1)[:, np.newaxis]\n",
    "        print(\"Normalized confusion matrix\")\n",
    "    else:\n",
    "        print('Confusion matrix, without normalization')\n",
    "\n",
    "    print(cm)\n",
    "    plt.imshow(cm, interpolation='nearest', cmap=cmap)\n",
    "    plt.title(title)\n",
    "    plt.colorbar()\n",
    "    tick_marks = np.arange(len(classes))\n",
    "    plt.xticks(tick_marks, classes, rotation=45)\n",
    "    plt.yticks(tick_marks, classes)\n",
    "\n",
    "    fmt = '.2f' if normalize else 'd'\n",
    "    thresh = cm.max() / 2.\n",
    "    for i, j in itertools.product(range(cm.shape[0]), range(cm.shape[1])):\n",
    "        plt.text(j, i, format(cm[i, j], fmt), horizontalalignment=\"center\", color=\"white\" if cm[i, j] > thresh else \"black\")\n",
    "\n",
    "    plt.tight_layout()\n",
    "    plt.ylabel('True label')\n",
    "    plt.xlabel('Predicted label')"
   ]
  },
  {
   "cell_type": "code",
   "execution_count": 105,
   "id": "90628b77",
   "metadata": {
    "collapsed": true,
    "jupyter": {
     "outputs_hidden": true
    }
   },
   "outputs": [],
   "source": [
    "def compute_metrics(test_dataloader):\n",
    "    metric = load_metric(\"f1\")\n",
    "\n",
    "    model.eval()\n",
    "    for batch in test_dataloader:\n",
    "        batch = {k: v.to(device) for k, v in batch.items()}\n",
    "        with torch.no_grad():\n",
    "            outputs = model(**batch)\n",
    "\n",
    "        logits = outputs.logits\n",
    "        predictions = torch.argmax(logits, dim=-1)\n",
    "        metric.add_batch(predictions=predictions, references=batch[\"labels\"])\n",
    "        \n",
    "    return metric.compute(average='micro')"
   ]
  },
  {
   "cell_type": "code",
   "execution_count": 106,
   "id": "1f0af456",
   "metadata": {
    "collapsed": true,
    "jupyter": {
     "outputs_hidden": true
    }
   },
   "outputs": [
    {
     "name": "stderr",
     "output_type": "stream",
     "text": [
      "Reusing dataset md_gender_bias (/home/horyctom/.cache/huggingface/datasets/md_gender_bias/funpedia/1.0.0/01dacda3d3a362db704fa0485596d225bb3790186f7ab7625fa9f81c6402f224)\n",
      "Some weights of the model checkpoint at distilbert-base-uncased were not used when initializing DistilBertForSequenceClassification: ['vocab_layer_norm.weight', 'vocab_transform.weight', 'vocab_layer_norm.bias', 'vocab_projector.weight', 'vocab_projector.bias', 'vocab_transform.bias']\n",
      "- This IS expected if you are initializing DistilBertForSequenceClassification from the checkpoint of a model trained on another task or with another architecture (e.g. initializing a BertForSequenceClassification model from a BertForPreTraining model).\n",
      "- This IS NOT expected if you are initializing DistilBertForSequenceClassification from the checkpoint of a model that you expect to be exactly identical (initializing a BertForSequenceClassification model from a BertForSequenceClassification model).\n",
      "Some weights of DistilBertForSequenceClassification were not initialized from the model checkpoint at distilbert-base-uncased and are newly initialized: ['classifier.weight', 'pre_classifier.bias', 'classifier.bias', 'pre_classifier.weight']\n",
      "You should probably TRAIN this model on a down-stream task to be able to use it for predictions and inference.\n"
     ]
    }
   ],
   "source": [
    "raw_datasets = load_dataset(\"md_gender_bias\", \"funpedia\")\n",
    "tokenizer = AutoTokenizer.from_pretrained(checkpoint)\n",
    "model = AutoModelForSequenceClassification.from_pretrained(checkpoint,num_labels=3)"
   ]
  },
  {
   "cell_type": "code",
   "execution_count": 107,
   "id": "b4d03e2f",
   "metadata": {
    "collapsed": true,
    "jupyter": {
     "outputs_hidden": true
    }
   },
   "outputs": [
    {
     "data": {
      "text/plain": [
       "device(type='cuda')"
      ]
     },
     "execution_count": 107,
     "metadata": {},
     "output_type": "execute_result"
    }
   ],
   "source": [
    "model.to(device)\n",
    "device"
   ]
  },
  {
   "cell_type": "code",
   "execution_count": 108,
   "id": "eccc59c9",
   "metadata": {
    "collapsed": true,
    "jupyter": {
     "outputs_hidden": true
    }
   },
   "outputs": [
    {
     "name": "stderr",
     "output_type": "stream",
     "text": [
      "Loading cached processed dataset at /home/horyctom/.cache/huggingface/datasets/md_gender_bias/funpedia/1.0.0/01dacda3d3a362db704fa0485596d225bb3790186f7ab7625fa9f81c6402f224/cache-722d38457396b218.arrow\n",
      "Loading cached processed dataset at /home/horyctom/.cache/huggingface/datasets/md_gender_bias/funpedia/1.0.0/01dacda3d3a362db704fa0485596d225bb3790186f7ab7625fa9f81c6402f224/cache-0476aa87bd5b6f06.arrow\n"
     ]
    },
    {
     "data": {
      "application/vnd.jupyter.widget-view+json": {
       "model_id": "d825b3e63a8e49808bb637d1ac0f3af4",
       "version_major": 2,
       "version_minor": 0
      },
      "text/plain": [
       "  0%|          | 0/3 [00:00<?, ?ba/s]"
      ]
     },
     "metadata": {},
     "output_type": "display_data"
    }
   ],
   "source": [
    "tokenized_datasets = raw_datasets.map(tokenize_function, batched=True)\n",
    "data_collator = DataCollatorWithPadding(tokenizer=tokenizer)"
   ]
  },
  {
   "cell_type": "markdown",
   "id": "2bd30452",
   "metadata": {},
   "source": [
    "## data preprocessing"
   ]
  },
  {
   "cell_type": "code",
   "execution_count": 109,
   "id": "bca6eb39",
   "metadata": {
    "collapsed": true,
    "jupyter": {
     "outputs_hidden": true
    }
   },
   "outputs": [
    {
     "data": {
      "text/plain": [
       "DatasetDict({\n",
       "    train: Dataset({\n",
       "        features: ['attention_mask', 'labels', 'input_ids'],\n",
       "        num_rows: 23897\n",
       "    })\n",
       "    validation: Dataset({\n",
       "        features: ['attention_mask', 'labels', 'input_ids'],\n",
       "        num_rows: 2984\n",
       "    })\n",
       "    test: Dataset({\n",
       "        features: ['attention_mask', 'labels', 'input_ids'],\n",
       "        num_rows: 2938\n",
       "    })\n",
       "})"
      ]
     },
     "execution_count": 109,
     "metadata": {},
     "output_type": "execute_result"
    }
   ],
   "source": [
    "tokenized_datasets = tokenized_datasets.remove_columns(['text', 'title','persona'])\n",
    "tokenized_datasets = tokenized_datasets.rename_column('gender', 'labels')\n",
    "tokenized_datasets.set_format(\"torch\")\n",
    "\n",
    "tokenized_datasets"
   ]
  },
  {
   "cell_type": "markdown",
   "id": "ce51506c",
   "metadata": {},
   "source": [
    "## DataLoaders"
   ]
  },
  {
   "cell_type": "code",
   "execution_count": 110,
   "id": "bd982404",
   "metadata": {
    "collapsed": true,
    "jupyter": {
     "outputs_hidden": true
    }
   },
   "outputs": [],
   "source": [
    "train_dataloader = DataLoader(\n",
    "    tokenized_datasets[\"train\"], shuffle=True, batch_size=32, collate_fn=data_collator)\n",
    "eval_dataloader = DataLoader(\n",
    "    tokenized_datasets[\"validation\"], batch_size=32, collate_fn=data_collator)\n",
    "test_dataloader = DataLoader(\n",
    "    tokenized_datasets[\"test\"], batch_size=32, collate_fn=data_collator)\n",
    "test_onebatch_dataloader = DataLoader(\n",
    "    tokenized_datasets[\"test\"], batch_size=2938, collate_fn=data_collator)"
   ]
  },
  {
   "cell_type": "code",
   "execution_count": 111,
   "id": "647c732c",
   "metadata": {
    "collapsed": true,
    "jupyter": {
     "outputs_hidden": true
    }
   },
   "outputs": [
    {
     "data": {
      "text/plain": [
       "{'attention_mask': torch.Size([32, 37]),\n",
       " 'labels': torch.Size([32]),\n",
       " 'input_ids': torch.Size([32, 37])}"
      ]
     },
     "execution_count": 111,
     "metadata": {},
     "output_type": "execute_result"
    }
   ],
   "source": [
    "#sanity check\n",
    "for batch in train_dataloader:\n",
    "    break\n",
    "{k: v.shape for k, v in batch.items()}"
   ]
  },
  {
   "cell_type": "code",
   "execution_count": 112,
   "id": "1e67be77",
   "metadata": {
    "collapsed": true,
    "jupyter": {
     "outputs_hidden": true
    }
   },
   "outputs": [
    {
     "name": "stdout",
     "output_type": "stream",
     "text": [
      "tensor(1.1426, device='cuda:0', grad_fn=<NllLossBackward>) torch.Size([32, 3])\n"
     ]
    }
   ],
   "source": [
    "#sanity check\n",
    "outputs = model(**batch.to(device))\n",
    "print(outputs.loss, outputs.logits.shape)"
   ]
  },
  {
   "cell_type": "code",
   "execution_count": 113,
   "id": "16a9c0b0",
   "metadata": {
    "collapsed": true,
    "jupyter": {
     "outputs_hidden": true
    }
   },
   "outputs": [
    {
     "data": {
      "text/plain": [
       "tensor([2, 2, 2,  ..., 2, 1, 2])"
      ]
     },
     "execution_count": 113,
     "metadata": {},
     "output_type": "execute_result"
    }
   ],
   "source": [
    "train_dataloader.dataset['labels'] "
   ]
  },
  {
   "cell_type": "markdown",
   "id": "aeea771c",
   "metadata": {},
   "source": [
    "### Training"
   ]
  },
  {
   "cell_type": "markdown",
   "id": "ff09d142",
   "metadata": {},
   "source": [
    "## training via Trainer API + wandb"
   ]
  },
  {
   "cell_type": "code",
   "execution_count": null,
   "id": "db38cea6",
   "metadata": {
    "collapsed": true,
    "jupyter": {
     "outputs_hidden": true
    }
   },
   "outputs": [],
   "source": [
    "wandb.login()"
   ]
  },
  {
   "cell_type": "code",
   "execution_count": null,
   "id": "4c70acc0",
   "metadata": {
    "collapsed": true,
    "jupyter": {
     "outputs_hidden": true
    }
   },
   "outputs": [],
   "source": [
    "%env WANDB_PROJECT=training_mdgender"
   ]
  },
  {
   "cell_type": "code",
   "execution_count": null,
   "id": "4476ff16",
   "metadata": {
    "collapsed": true,
    "jupyter": {
     "outputs_hidden": true
    }
   },
   "outputs": [],
   "source": [
    "training_args = TrainingArguments(\"test-trainer\")"
   ]
  },
  {
   "cell_type": "code",
   "execution_count": null,
   "id": "34484af2",
   "metadata": {
    "collapsed": true,
    "jupyter": {
     "outputs_hidden": true
    }
   },
   "outputs": [],
   "source": [
    "trainer = Trainer(\n",
    "    model,\n",
    "    training_args,\n",
    "    train_dataset=tokenized_datasets[\"train\"],\n",
    "    eval_dataset=tokenized_datasets[\"validation\"],\n",
    "    data_collator=data_collator,\n",
    "    tokenizer=tokenizer,\n",
    "    compute_metrics=compute_metrics\n",
    ")"
   ]
  },
  {
   "cell_type": "code",
   "execution_count": null,
   "id": "618a114b",
   "metadata": {
    "collapsed": true,
    "jupyter": {
     "outputs_hidden": true
    }
   },
   "outputs": [],
   "source": [
    "trainer.train()"
   ]
  },
  {
   "cell_type": "markdown",
   "id": "ffc09d7e",
   "metadata": {},
   "source": [
    "## clasic torch loop"
   ]
  },
  {
   "cell_type": "code",
   "execution_count": null,
   "id": "b75b5bf9",
   "metadata": {
    "collapsed": true,
    "jupyter": {
     "outputs_hidden": true
    }
   },
   "outputs": [],
   "source": [
    "optimizer = AdamW(model.parameters(), lr=1e-5)\n",
    "\n",
    "num_epochs = 10\n",
    "num_training_steps = num_epochs * len(train_dataloader)\n",
    "lr_scheduler = get_scheduler(\n",
    "    \"linear\",\n",
    "    optimizer=optimizer,\n",
    "    num_warmup_steps=0,\n",
    "    num_training_steps=num_training_steps\n",
    ")\n",
    "\n",
    "num_training_steps"
   ]
  },
  {
   "cell_type": "code",
   "execution_count": null,
   "id": "638f0a8e",
   "metadata": {
    "collapsed": true,
    "jupyter": {
     "outputs_hidden": true
    }
   },
   "outputs": [],
   "source": [
    "progress_bar = tqdm(range(num_training_steps))"
   ]
  },
  {
   "cell_type": "code",
   "execution_count": null,
   "id": "91b2a6de",
   "metadata": {
    "collapsed": true,
    "jupyter": {
     "outputs_hidden": true
    }
   },
   "outputs": [],
   "source": [
    "model.train()\n",
    "count = 0\n",
    "\n",
    "for epoch in range(num_epochs):\n",
    "    \n",
    "    for batch in train_dataloader:\n",
    "        \n",
    "        batch = {k: v.to(device) for k, v in batch.items()}\n",
    "        \n",
    "        optimizer.zero_grad()\n",
    "        \n",
    "        outputs = model(**batch)\n",
    "        loss = outputs.loss\n",
    "        loss.backward()\n",
    "        \n",
    "        optimizer.step()  \n",
    "        lr_scheduler.step()\n",
    "        \n",
    "        count+=1\n",
    "        if count % 300 == 0:\n",
    "            print(\"Loss: \" + str(loss.item()))\n",
    "            \n",
    "        progress_bar.update(1)"
   ]
  },
  {
   "cell_type": "markdown",
   "id": "80f98361",
   "metadata": {},
   "source": [
    "## Save & load"
   ]
  },
  {
   "cell_type": "code",
   "execution_count": null,
   "id": "519248fc",
   "metadata": {
    "collapsed": true,
    "jupyter": {
     "outputs_hidden": true
    }
   },
   "outputs": [],
   "source": [
    "torch.save(model.state_dict(),'../trained_models/funpedia_mdgender.pth')"
   ]
  },
  {
   "cell_type": "code",
   "execution_count": 114,
   "id": "a816087e",
   "metadata": {
    "collapsed": true,
    "jupyter": {
     "outputs_hidden": true
    }
   },
   "outputs": [
    {
     "data": {
      "text/plain": [
       "DistilBertForSequenceClassification(\n",
       "  (distilbert): DistilBertModel(\n",
       "    (embeddings): Embeddings(\n",
       "      (word_embeddings): Embedding(30522, 768, padding_idx=0)\n",
       "      (position_embeddings): Embedding(512, 768)\n",
       "      (LayerNorm): LayerNorm((768,), eps=1e-12, elementwise_affine=True)\n",
       "      (dropout): Dropout(p=0.1, inplace=False)\n",
       "    )\n",
       "    (transformer): Transformer(\n",
       "      (layer): ModuleList(\n",
       "        (0): TransformerBlock(\n",
       "          (attention): MultiHeadSelfAttention(\n",
       "            (dropout): Dropout(p=0.1, inplace=False)\n",
       "            (q_lin): Linear(in_features=768, out_features=768, bias=True)\n",
       "            (k_lin): Linear(in_features=768, out_features=768, bias=True)\n",
       "            (v_lin): Linear(in_features=768, out_features=768, bias=True)\n",
       "            (out_lin): Linear(in_features=768, out_features=768, bias=True)\n",
       "          )\n",
       "          (sa_layer_norm): LayerNorm((768,), eps=1e-12, elementwise_affine=True)\n",
       "          (ffn): FFN(\n",
       "            (dropout): Dropout(p=0.1, inplace=False)\n",
       "            (lin1): Linear(in_features=768, out_features=3072, bias=True)\n",
       "            (lin2): Linear(in_features=3072, out_features=768, bias=True)\n",
       "          )\n",
       "          (output_layer_norm): LayerNorm((768,), eps=1e-12, elementwise_affine=True)\n",
       "        )\n",
       "        (1): TransformerBlock(\n",
       "          (attention): MultiHeadSelfAttention(\n",
       "            (dropout): Dropout(p=0.1, inplace=False)\n",
       "            (q_lin): Linear(in_features=768, out_features=768, bias=True)\n",
       "            (k_lin): Linear(in_features=768, out_features=768, bias=True)\n",
       "            (v_lin): Linear(in_features=768, out_features=768, bias=True)\n",
       "            (out_lin): Linear(in_features=768, out_features=768, bias=True)\n",
       "          )\n",
       "          (sa_layer_norm): LayerNorm((768,), eps=1e-12, elementwise_affine=True)\n",
       "          (ffn): FFN(\n",
       "            (dropout): Dropout(p=0.1, inplace=False)\n",
       "            (lin1): Linear(in_features=768, out_features=3072, bias=True)\n",
       "            (lin2): Linear(in_features=3072, out_features=768, bias=True)\n",
       "          )\n",
       "          (output_layer_norm): LayerNorm((768,), eps=1e-12, elementwise_affine=True)\n",
       "        )\n",
       "        (2): TransformerBlock(\n",
       "          (attention): MultiHeadSelfAttention(\n",
       "            (dropout): Dropout(p=0.1, inplace=False)\n",
       "            (q_lin): Linear(in_features=768, out_features=768, bias=True)\n",
       "            (k_lin): Linear(in_features=768, out_features=768, bias=True)\n",
       "            (v_lin): Linear(in_features=768, out_features=768, bias=True)\n",
       "            (out_lin): Linear(in_features=768, out_features=768, bias=True)\n",
       "          )\n",
       "          (sa_layer_norm): LayerNorm((768,), eps=1e-12, elementwise_affine=True)\n",
       "          (ffn): FFN(\n",
       "            (dropout): Dropout(p=0.1, inplace=False)\n",
       "            (lin1): Linear(in_features=768, out_features=3072, bias=True)\n",
       "            (lin2): Linear(in_features=3072, out_features=768, bias=True)\n",
       "          )\n",
       "          (output_layer_norm): LayerNorm((768,), eps=1e-12, elementwise_affine=True)\n",
       "        )\n",
       "        (3): TransformerBlock(\n",
       "          (attention): MultiHeadSelfAttention(\n",
       "            (dropout): Dropout(p=0.1, inplace=False)\n",
       "            (q_lin): Linear(in_features=768, out_features=768, bias=True)\n",
       "            (k_lin): Linear(in_features=768, out_features=768, bias=True)\n",
       "            (v_lin): Linear(in_features=768, out_features=768, bias=True)\n",
       "            (out_lin): Linear(in_features=768, out_features=768, bias=True)\n",
       "          )\n",
       "          (sa_layer_norm): LayerNorm((768,), eps=1e-12, elementwise_affine=True)\n",
       "          (ffn): FFN(\n",
       "            (dropout): Dropout(p=0.1, inplace=False)\n",
       "            (lin1): Linear(in_features=768, out_features=3072, bias=True)\n",
       "            (lin2): Linear(in_features=3072, out_features=768, bias=True)\n",
       "          )\n",
       "          (output_layer_norm): LayerNorm((768,), eps=1e-12, elementwise_affine=True)\n",
       "        )\n",
       "        (4): TransformerBlock(\n",
       "          (attention): MultiHeadSelfAttention(\n",
       "            (dropout): Dropout(p=0.1, inplace=False)\n",
       "            (q_lin): Linear(in_features=768, out_features=768, bias=True)\n",
       "            (k_lin): Linear(in_features=768, out_features=768, bias=True)\n",
       "            (v_lin): Linear(in_features=768, out_features=768, bias=True)\n",
       "            (out_lin): Linear(in_features=768, out_features=768, bias=True)\n",
       "          )\n",
       "          (sa_layer_norm): LayerNorm((768,), eps=1e-12, elementwise_affine=True)\n",
       "          (ffn): FFN(\n",
       "            (dropout): Dropout(p=0.1, inplace=False)\n",
       "            (lin1): Linear(in_features=768, out_features=3072, bias=True)\n",
       "            (lin2): Linear(in_features=3072, out_features=768, bias=True)\n",
       "          )\n",
       "          (output_layer_norm): LayerNorm((768,), eps=1e-12, elementwise_affine=True)\n",
       "        )\n",
       "        (5): TransformerBlock(\n",
       "          (attention): MultiHeadSelfAttention(\n",
       "            (dropout): Dropout(p=0.1, inplace=False)\n",
       "            (q_lin): Linear(in_features=768, out_features=768, bias=True)\n",
       "            (k_lin): Linear(in_features=768, out_features=768, bias=True)\n",
       "            (v_lin): Linear(in_features=768, out_features=768, bias=True)\n",
       "            (out_lin): Linear(in_features=768, out_features=768, bias=True)\n",
       "          )\n",
       "          (sa_layer_norm): LayerNorm((768,), eps=1e-12, elementwise_affine=True)\n",
       "          (ffn): FFN(\n",
       "            (dropout): Dropout(p=0.1, inplace=False)\n",
       "            (lin1): Linear(in_features=768, out_features=3072, bias=True)\n",
       "            (lin2): Linear(in_features=3072, out_features=768, bias=True)\n",
       "          )\n",
       "          (output_layer_norm): LayerNorm((768,), eps=1e-12, elementwise_affine=True)\n",
       "        )\n",
       "      )\n",
       "    )\n",
       "  )\n",
       "  (pre_classifier): Linear(in_features=768, out_features=768, bias=True)\n",
       "  (classifier): Linear(in_features=768, out_features=3, bias=True)\n",
       "  (dropout): Dropout(p=0.2, inplace=False)\n",
       ")"
      ]
     },
     "execution_count": 114,
     "metadata": {},
     "output_type": "execute_result"
    }
   ],
   "source": [
    "model.load_state_dict(torch.load('../trained_models/funpedia_mdgender.pth'))\n",
    "model.eval()"
   ]
  },
  {
   "cell_type": "markdown",
   "id": "119efb6b",
   "metadata": {},
   "source": [
    "## Evaluate"
   ]
  },
  {
   "cell_type": "markdown",
   "id": "866fbda6",
   "metadata": {},
   "source": [
    "A macro-average will compute the metric independently for each class and then take the average (hence treating all classes equally), whereas a micro-average will aggregate the contributions of all classes to compute the average metric. In a multi-class classification setup, micro-average is preferable if you suspect there might be class imbalance (i.e you may have many more examples of one class than of other classes)."
   ]
  },
  {
   "cell_type": "code",
   "execution_count": 115,
   "id": "3a60cd27",
   "metadata": {
    "collapsed": true,
    "jupyter": {
     "outputs_hidden": true
    }
   },
   "outputs": [
    {
     "data": {
      "text/plain": [
       "{'f1': 0.8893805309734514}"
      ]
     },
     "execution_count": 115,
     "metadata": {},
     "output_type": "execute_result"
    }
   ],
   "source": [
    "metric = load_metric(\"f1\")\n",
    "\n",
    "model.eval()\n",
    "for batch in test_dataloader:\n",
    "    batch = {k: v.to(device) for k, v in batch.items()}\n",
    "    with torch.no_grad():\n",
    "        outputs = model(**batch)\n",
    "    \n",
    "    logits = outputs.logits\n",
    "    predictions = torch.argmax(logits, dim=-1)\n",
    "    metric.add_batch(predictions=predictions, references=batch[\"labels\"])\n",
    "    \n",
    "metric.compute(average='micro')"
   ]
  },
  {
   "cell_type": "code",
   "execution_count": 116,
   "id": "80b7c388",
   "metadata": {
    "collapsed": true,
    "jupyter": {
     "outputs_hidden": true
    }
   },
   "outputs": [],
   "source": [
    "batch = next(iter(test_onebatch_dataloader))\n",
    "\n",
    "model.eval()\n",
    "with torch.no_grad():\n",
    "    batch.to(device)\n",
    "    output = model(**batch)\n",
    "\n",
    "labels = torch.tensor(raw_datasets['test']['gender'])\n",
    "preds = F.softmax(output.logits,dim=1).argmax(dim=1)"
   ]
  },
  {
   "cell_type": "code",
   "execution_count": 118,
   "id": "59271712",
   "metadata": {},
   "outputs": [
    {
     "name": "stdout",
     "output_type": "stream",
     "text": [
      "Confusion matrix, without normalization\n",
      "[[  33    7   89]\n",
      " [   6  330   92]\n",
      " [  56   75 2250]]\n"
     ]
    },
    {
     "data": {
      "image/png": "[encoded data removed]",
      "text/plain": [
       "<Figure size 504x504 with 2 Axes>"
      ]
     },
     "metadata": {
      "needs_background": "light"
     },
     "output_type": "display_data"
    }
   ],
   "source": [
    "cm = confusion_matrix(labels,preds.cpu())\n",
    "\n",
    "plt.figure(figsize=(7,7))\n",
    "plot_confusion_matrix(cm,raw_datasets['test'].features['gender'].names)"
   ]
  },
  {
   "cell_type": "markdown",
   "id": "2939917d",
   "metadata": {},
   "source": [
    "Here we can see that due to the proportions of dataset, majority of 'gender-neutral' data were classified as male"
   ]
  },
  {
   "cell_type": "markdown",
   "id": "596d2c58",
   "metadata": {},
   "source": [
    "### Application outside of the dataset"
   ]
  },
  {
   "cell_type": "code",
   "execution_count": 119,
   "id": "5561c081",
   "metadata": {},
   "outputs": [
    {
     "data": {
      "text/plain": [
       "tensor([1, 1, 1, 2, 1, 2, 1, 1, 0, 1, 1, 1, 1, 1, 1, 1, 1, 1, 1, 2, 1, 1, 1, 1,\n",
       "        2, 2, 1, 1, 1, 1, 1, 1, 1, 1, 1, 1, 1, 1, 1, 1, 1, 2, 1, 1, 1, 1, 1, 1,\n",
       "        1, 1, 1, 1, 1, 1, 1, 1], device='cuda:0')"
      ]
     },
     "execution_count": 119,
     "metadata": {},
     "output_type": "execute_result"
    }
   ],
   "source": [
    "fp = open(\"../data/michelle_obama.txt\")\n",
    "data = fp.read()\n",
    "\n",
    "tokenizer_text = nltk.data.load('tokenizers/punkt/english.pickle')\n",
    "\n",
    "inputs = tokenizer_text.tokenize(data)\n",
    "\n",
    "inputs = tokenizer(inputs, padding=True, truncation=True, return_tensors=\"pt\")\n",
    "\n",
    "model.eval()\n",
    "with torch.no_grad():\n",
    "    inputs.to(device)\n",
    "    output = model(**inputs)\n",
    "    \n",
    "classification = F.softmax(output.logits,dim=1).argmax(dim=1)\n",
    "classification"
   ]
  },
  {
   "cell_type": "code",
   "execution_count": 120,
   "id": "f4381e34",
   "metadata": {},
   "outputs": [
    {
     "name": "stdout",
     "output_type": "stream",
     "text": [
      "Mean: 1.0892857313156128\n",
      "Median: 1\n"
     ]
    }
   ],
   "source": [
    "print(\"Mean:\", torch.mean(classification.to(torch.float)).item())\n",
    "print(\"Median:\", torch.median(classification).item())"
   ]
  },
  {
   "cell_type": "markdown",
   "id": "02ded0d0",
   "metadata": {},
   "source": [
    "classifier succesfully regognized Text about Michelle Obama as about 'female'"
   ]
  },
  {
   "cell_type": "markdown",
   "id": "6e1f2ff7",
   "metadata": {},
   "source": [
    "## Eval on golden new_data set"
   ]
  },
  {
   "cell_type": "code",
   "execution_count": 37,
   "id": "74b34f27",
   "metadata": {
    "collapsed": true,
    "jupyter": {
     "outputs_hidden": true
    }
   },
   "outputs": [
    {
     "data": {
      "text/plain": [
       "{'text': Value(dtype='string', id=None),\n",
       " 'original': Value(dtype='string', id=None),\n",
       " 'labels': [ClassLabel(num_classes=6, names=['ABOUT:female', 'ABOUT:male', 'PARTNER:female', 'PARTNER:male', 'SELF:female', 'SELF:male'], names_file=None, id=None)],\n",
       " 'class_type': ClassLabel(num_classes=3, names=['about', 'partner', 'self'], names_file=None, id=None),\n",
       " 'turker_gender': ClassLabel(num_classes=5, names=['man', 'woman', 'nonbinary', 'prefer not to say', 'no answer'], names_file=None, id=None),\n",
       " 'episode_done': Value(dtype='bool_', id=None),\n",
       " 'confidence': Value(dtype='string', id=None)}"
      ]
     },
     "execution_count": 37,
     "metadata": {},
     "output_type": "execute_result"
    }
   ],
   "source": [
    "new_data['train'].features"
   ]
  },
  {
   "cell_type": "code",
   "execution_count": 46,
   "id": "0ad27ff8",
   "metadata": {
    "collapsed": true,
    "jupyter": {
     "outputs_hidden": true
    }
   },
   "outputs": [
    {
     "name": "stderr",
     "output_type": "stream",
     "text": [
      "Loading cached processed dataset at /home/horyctom/.cache/huggingface/datasets/md_gender_bias/new_data/1.0.0/01dacda3d3a362db704fa0485596d225bb3790186f7ab7625fa9f81c6402f224/cache-801a3080b04ca8f5.arrow\n"
     ]
    },
    {
     "data": {
      "text/plain": [
       "DatasetDict({\n",
       "    train: Dataset({\n",
       "        features: ['text', 'original', 'labels', 'class_type', 'turker_gender', 'episode_done', 'confidence'],\n",
       "        num_rows: 785\n",
       "    })\n",
       "})"
      ]
     },
     "execution_count": 46,
     "metadata": {},
     "output_type": "execute_result"
    }
   ],
   "source": [
    "filtered_raw = new_data.filter(lambda item: item['labels'] == [0] or item['labels'] == [1])\n",
    "filtered_raw"
   ]
  },
  {
   "cell_type": "code",
   "execution_count": null,
   "id": "562308ee",
   "metadata": {
    "collapsed": true,
    "jupyter": {
     "outputs_hidden": true
    }
   },
   "outputs": [],
   "source": [
    "tokenizer = AutoTokenizer.from_pretrained(checkpoint)\n",
    "model = AutoModelForSequenceClassification.from_pretrained(checkpoint,num_labels=3)\n",
    "model.load_state_dict(torch.load('../trained_models/funpedia_mdgender.pth'))\n",
    "model.eval()"
   ]
  },
  {
   "cell_type": "code",
   "execution_count": 41,
   "id": "da89d339",
   "metadata": {
    "collapsed": true,
    "jupyter": {
     "outputs_hidden": true
    }
   },
   "outputs": [
    {
     "data": {
      "text/plain": [
       "device(type='cuda')"
      ]
     },
     "execution_count": 41,
     "metadata": {},
     "output_type": "execute_result"
    }
   ],
   "source": [
    "model.to(device)\n",
    "device"
   ]
  },
  {
   "cell_type": "code",
   "execution_count": 49,
   "id": "a56d8fbd",
   "metadata": {
    "collapsed": true,
    "jupyter": {
     "outputs_hidden": true
    }
   },
   "outputs": [
    {
     "data": {
      "application/vnd.jupyter.widget-view+json": {
       "model_id": "60401536c01147d4a9986c747a7a6dd5",
       "version_major": 2,
       "version_minor": 0
      },
      "text/plain": [
       "  0%|          | 0/785 [00:00<?, ?ex/s]"
      ]
     },
     "metadata": {},
     "output_type": "display_data"
    }
   ],
   "source": [
    "def unpack_labels(example):\n",
    "    example['labels'] = example['labels'][0]\n",
    "    return example\n",
    "\n",
    "updated_dataset = filtered_raw.map(unpack_labels)\n"
   ]
  },
  {
   "cell_type": "code",
   "execution_count": 54,
   "id": "a945d67e",
   "metadata": {
    "collapsed": true,
    "jupyter": {
     "outputs_hidden": true
    }
   },
   "outputs": [
    {
     "data": {
      "text/plain": [
       "{'text': 'She participated in the FIVB volleyball grand champions cup in 2001.',\n",
       " 'original': 'She participated in the FIVB volleyball grand champions cup in 2001',\n",
       " 'labels': 0,\n",
       " 'class_type': 0,\n",
       " 'turker_gender': 4,\n",
       " 'episode_done': True,\n",
       " 'confidence': 'certain'}"
      ]
     },
     "execution_count": 54,
     "metadata": {},
     "output_type": "execute_result"
    }
   ],
   "source": [
    "updated_dataset['train'][1]"
   ]
  },
  {
   "cell_type": "code",
   "execution_count": 58,
   "id": "d868460c",
   "metadata": {
    "collapsed": true,
    "jupyter": {
     "outputs_hidden": true
    }
   },
   "outputs": [
    {
     "data": {
      "application/vnd.jupyter.widget-view+json": {
       "model_id": "1af798afa61741e6a300fce9aa8703ae",
       "version_major": 2,
       "version_minor": 0
      },
      "text/plain": [
       "  0%|          | 0/1 [00:00<?, ?ba/s]"
      ]
     },
     "metadata": {},
     "output_type": "display_data"
    }
   ],
   "source": [
    "tokenized = updated_dataset.map(tokenize_function, batched=True)\n",
    "data_collator = DataCollatorWithPadding(tokenizer=tokenizer)"
   ]
  },
  {
   "cell_type": "code",
   "execution_count": 59,
   "id": "d28170cc",
   "metadata": {
    "collapsed": true,
    "jupyter": {
     "outputs_hidden": true
    }
   },
   "outputs": [
    {
     "data": {
      "text/plain": [
       "DatasetDict({\n",
       "    train: Dataset({\n",
       "        features: ['attention_mask', 'class_type', 'confidence', 'episode_done', 'input_ids', 'labels', 'original', 'text', 'turker_gender'],\n",
       "        num_rows: 785\n",
       "    })\n",
       "})"
      ]
     },
     "execution_count": 59,
     "metadata": {},
     "output_type": "execute_result"
    }
   ],
   "source": [
    "tokenized"
   ]
  },
  {
   "cell_type": "code",
   "execution_count": null,
   "id": "910e05a8",
   "metadata": {
    "collapsed": true,
    "jupyter": {
     "outputs_hidden": true
    }
   },
   "outputs": [],
   "source": [
    "tokenized = tokenized.remove_columns(['text', 'confidence','class_type',\n",
    "                                      'episode_done','original','turker_gender'])\n",
    "tokenized.set_format(\"torch\")\n",
    "tokenized"
   ]
  },
  {
   "cell_type": "code",
   "execution_count": 69,
   "id": "9504c105",
   "metadata": {
    "collapsed": true,
    "jupyter": {
     "outputs_hidden": true
    }
   },
   "outputs": [],
   "source": [
    "eval_dataloader = DataLoader(\n",
    "    tokenized['train'], shuffle=True, batch_size=32, collate_fn=data_collator)"
   ]
  },
  {
   "cell_type": "code",
   "execution_count": null,
   "id": "e869cbb3",
   "metadata": {
    "collapsed": true,
    "jupyter": {
     "outputs_hidden": true
    }
   },
   "outputs": [],
   "source": []
  },
  {
   "cell_type": "code",
   "execution_count": 73,
   "id": "19369184",
   "metadata": {
    "collapsed": true,
    "jupyter": {
     "outputs_hidden": true
    }
   },
   "outputs": [
    {
     "data": {
      "text/plain": [
       "{'attention_mask': torch.Size([32, 28]),\n",
       " 'input_ids': torch.Size([32, 28]),\n",
       " 'labels': torch.Size([32])}"
      ]
     },
     "execution_count": 73,
     "metadata": {},
     "output_type": "execute_result"
    }
   ],
   "source": [
    "#sanity check\n",
    "for batch in train_dataloader:\n",
    "    break\n",
    "{k: v.shape for k, v in batch.items()}"
   ]
  },
  {
   "cell_type": "code",
   "execution_count": 79,
   "id": "bf0935a9",
   "metadata": {
    "collapsed": true,
    "jupyter": {
     "outputs_hidden": true
    }
   },
   "outputs": [
    {
     "data": {
      "text/plain": [
       "tensor([[7.2644e-04, 5.9929e-03, 9.9328e-01],\n",
       "        [4.8943e-04, 1.9257e-03, 9.9758e-01],\n",
       "        [2.7154e-04, 4.2214e-04, 9.9931e-01],\n",
       "        [2.0312e-02, 7.8901e-01, 1.9067e-01],\n",
       "        [4.6586e-04, 3.8651e-04, 9.9915e-01],\n",
       "        [5.4264e-03, 3.6279e-03, 9.9095e-01],\n",
       "        [2.1830e-04, 3.0790e-04, 9.9947e-01],\n",
       "        [5.3720e-03, 9.9947e-03, 9.8463e-01],\n",
       "        [2.6160e-03, 1.8148e-03, 9.9557e-01],\n",
       "        [2.4204e-04, 5.3592e-04, 9.9922e-01],\n",
       "        [2.3839e-04, 6.7115e-04, 9.9909e-01],\n",
       "        [1.5171e-03, 1.4784e-04, 9.9834e-01],\n",
       "        [2.1411e-04, 1.3731e-04, 9.9965e-01],\n",
       "        [6.7813e-03, 6.7579e-01, 3.1743e-01],\n",
       "        [2.5727e-04, 2.7496e-04, 9.9947e-01],\n",
       "        [1.3825e-03, 1.7600e-02, 9.8102e-01],\n",
       "        [2.9451e-04, 2.1174e-04, 9.9949e-01],\n",
       "        [4.7318e-03, 9.6324e-01, 3.2031e-02],\n",
       "        [3.9549e-03, 3.7057e-01, 6.2548e-01],\n",
       "        [6.8749e-03, 8.9651e-01, 9.6615e-02],\n",
       "        [3.1012e-03, 9.8642e-01, 1.0480e-02],\n",
       "        [3.6256e-03, 6.6611e-01, 3.3026e-01],\n",
       "        [3.2607e-03, 1.6330e-03, 9.9511e-01],\n",
       "        [1.0824e-03, 9.9642e-01, 2.4948e-03],\n",
       "        [2.1463e-04, 3.3658e-04, 9.9945e-01],\n",
       "        [2.7780e-04, 3.6503e-04, 9.9936e-01],\n",
       "        [1.3419e-03, 9.9415e-01, 4.5055e-03],\n",
       "        [6.1308e-04, 2.5162e-04, 9.9914e-01],\n",
       "        [9.9674e-02, 5.7407e-01, 3.2626e-01],\n",
       "        [4.0973e-04, 5.7622e-04, 9.9901e-01],\n",
       "        [1.6945e-03, 9.8514e-01, 1.3165e-02],\n",
       "        [2.3632e-04, 6.0255e-04, 9.9916e-01]], device='cuda:0')"
      ]
     },
     "execution_count": 79,
     "metadata": {},
     "output_type": "execute_result"
    }
   ],
   "source": [
    "with torch.no_grad():\n",
    "    preds = model(**batch.to(device))\n",
    "F.softmax(preds.logits,dim=1)"
   ]
  },
  {
   "cell_type": "code",
   "execution_count": 63,
   "id": "f659c162",
   "metadata": {
    "tags": []
   },
   "outputs": [
    {
     "name": "stdout",
     "output_type": "stream",
     "text": [
      "tensor(6.2679, device='cuda:0', grad_fn=<NllLossBackward>) torch.Size([32, 3])\n"
     ]
    }
   ],
   "source": [
    "#sanity check\n",
    "outputs = model(**batch.to(device))\n",
    "print(outputs.loss, outputs.logits.shape)"
   ]
  },
  {
   "cell_type": "code",
   "execution_count": null,
   "id": "c0ddc847",
   "metadata": {
    "tags": []
   },
   "outputs": [],
   "source": []
  },
  {
   "cell_type": "code",
   "execution_count": null,
   "id": "72783203",
   "metadata": {
    "tags": []
   },
   "outputs": [],
   "source": []
  }
 ],
 "metadata": {
  "kernelspec": {
   "display_name": "Python 3",
   "language": "python",
   "name": "python3"
  },
  "language_info": {
   "codemirror_mode": {
    "name": "ipython",
    "version": 3
   },
   "file_extension": ".py",
   "mimetype": "text/x-python",
   "name": "python",
   "nbconvert_exporter": "python",
   "pygments_lexer": "ipython3",
   "version": "3.8.10"
  }
 },
 "nbformat": 4,
 "nbformat_minor": 5
}
