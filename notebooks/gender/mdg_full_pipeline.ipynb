{
 "cells": [
  {
   "cell_type": "code",
   "execution_count": 6,
   "id": "d5689332-cc7d-4f53-a19c-5248316f6d2f",
   "metadata": {},
   "outputs": [],
   "source": [
    "import torch\n",
    "import torch.nn.functional as F\n",
    "from torch.utils.data import DataLoader\n",
    "\n",
    "from datasets import load_metric,load_dataset,concatenate_datasets,load_from_disk, Dataset\n",
    "\n",
    "import transformers\n",
    "from transformers import AutoTokenizer, DataCollatorWithPadding, AutoModelForSequenceClassification,AdamW,get_scheduler,TrainingArguments,Trainer\n",
    "\n",
    "\n",
    "import itertools\n",
    "import numpy as np\n",
    "import matplotlib.pyplot as plt\n",
    "\n",
    "from sklearn.metrics import confusion_matrix\n",
    "from tqdm.auto import tqdm, trange\n",
    "import nltk\n",
    "\n",
    "import csv\n",
    "import gc\n",
    "\n",
    "checkpoint = 'bert-base-cased'\n",
    "#checkpoint = 'distilbert-base-uncased'\n",
    "\n",
    "NEUTRAL = 0\n",
    "FEMALE = 1\n",
    "MALE = 2\n",
    "\n",
    "device = torch.device(\"cuda\") if torch.cuda.is_available() else torch.device(\"cpu\")"
   ]
  },
  {
   "cell_type": "code",
   "execution_count": 2,
   "id": "30f6b536-7c2d-469f-9055-ab27fed88899",
   "metadata": {
    "tags": []
   },
   "outputs": [],
   "source": [
    "transformers.logging.set_verbosity(transformers.logging.ERROR)"
   ]
  },
  {
   "cell_type": "markdown",
   "id": "4cbc4f53-b44d-4f68-8fd0-fdfe0beb02fb",
   "metadata": {
    "tags": []
   },
   "source": [
    "#### function definitions"
   ]
  },
  {
   "cell_type": "code",
   "execution_count": 7,
   "id": "aeaad85b-dcc9-417e-b77a-10e3c05ded82",
   "metadata": {
    "tags": []
   },
   "outputs": [],
   "source": [
    "def tokenize_function(data):\n",
    "    return tokenizer(data['text'], truncation=True)\n",
    "\n",
    "def plot_confusion_matrix(cm, classes, normalize=False, title='Confusion matrix', cmap=plt.cm.Blues):\n",
    "    if normalize:\n",
    "        cm = cm.astype('float') / cm.sum(axis=1)[:, np.newaxis]\n",
    "        print(\"Normalized confusion matrix\")\n",
    "    else:\n",
    "        print('Confusion matrix, without normalization')\n",
    "\n",
    "    print(cm)\n",
    "    plt.imshow(cm, interpolation='nearest', cmap=cmap)\n",
    "    plt.title(title)\n",
    "    plt.colorbar()\n",
    "    tick_marks = np.arange(len(classes))\n",
    "    plt.xticks(tick_marks, classes, rotation=45)\n",
    "    plt.yticks(tick_marks, classes)\n",
    "\n",
    "    fmt = '.2f' if normalize else 'd'\n",
    "    thresh = cm.max() / 2.\n",
    "    for i, j in itertools.product(range(cm.shape[0]), range(cm.shape[1])):\n",
    "        plt.text(j, i, format(cm[i, j], fmt), horizontalalignment=\"center\", color=\"white\" if cm[i, j] > thresh else \"black\")\n",
    "\n",
    "    plt.tight_layout()\n",
    "    plt.ylabel('True label')\n",
    "    plt.xlabel('Predicted label')\n",
    "    \n",
    "def clean_memory():\n",
    "    gc.collect()\n",
    "    torch.cuda.empty_cache()\n",
    "    \n",
    "def compute_metrics(test_dataloader):\n",
    "    metric = load_metric(\"f1\")\n",
    "\n",
    "    model.eval()\n",
    "    for batch in test_dataloader:\n",
    "        batch = {k: v.to(device) for k, v in batch.items()}\n",
    "        with torch.no_grad():\n",
    "            outputs = model(**batch)\n",
    "\n",
    "        logits = outputs.logits\n",
    "        predictions = torch.argmax(logits, dim=-1)\n",
    "        metric.add_batch(predictions=predictions, references=batch[\"labels\"])\n",
    "        \n",
    "    return metric.compute(average='micro')"
   ]
  },
  {
   "cell_type": "markdown",
   "id": "c59c4619-b1e5-43d5-97b1-699bc5ce2301",
   "metadata": {},
   "source": [
    "# Preprocessing"
   ]
  },
  {
   "cell_type": "code",
   "execution_count": null,
   "id": "dda12e2b-4450-47ca-ae37-3b4e2f5df844",
   "metadata": {
    "tags": []
   },
   "outputs": [],
   "source": [
    "funpedia = load_dataset(\"md_gender_bias\", \"funpedia\")\n",
    "wizard = load_dataset(\"md_gender_bias\", \"wizard\")\n",
    "image_chat = load_dataset(\"md_gender_bias\",\"image_chat\")"
   ]
  },
  {
   "cell_type": "markdown",
   "id": "db775c90-302e-4495-ae5b-b90aca3ba947",
   "metadata": {},
   "source": [
    "### Image-Chat preprocessing"
   ]
  },
  {
   "cell_type": "code",
   "execution_count": 7,
   "id": "3940ed55-83cf-4ca0-97cd-a4ac0748e252",
   "metadata": {},
   "outputs": [],
   "source": [
    "def clean_text(text):\n",
    "    return text.replace('<start> a ','').replace('<start> an ','').replace('<start> ','').replace(' <eos>','')\n",
    "\n",
    "#method for creating new dataset out of existing which is labeled in a way that doesn't fit our other datasets\n",
    "#mapping male=False female=False -> 0\n",
    "#        male=False female=True  -> 1\n",
    "#        male=True  female=False -> 2\n",
    "def clean_image_chat_data(split:str):\n",
    "    img_male = image_chat[split].filter(lambda item: item['male'] == True and item['female'] == False)\n",
    "    img_female = image_chat[split].filter(lambda item: item['male'] == False and item['female'] == True)\n",
    "    img_neutral = image_chat[split].filter(lambda item: item['male'] == False and item['female'] == False)\n",
    "    \n",
    "    labels = [MALE for i in range(img_male.num_rows)] + [FEMALE for i in range(img_female.num_rows)] + [NEUTRAL for i in range(img_neutral.num_rows)]\n",
    "    texts = [clean_text(t) for t in img_male['caption']] + [clean_text(t) for t in img_female['caption']] + [clean_text(t) for t in img_neutral['caption']]\n",
    "\n",
    "    dictionary = {'text': texts, 'labels' : labels}\n",
    "    final = Dataset.from_dict(dictionary,features=train_funpedia.features)\n",
    "    \n",
    "    #valid split is too large, let it be smaller for faster processing\n",
    "    if split == 'validation':\n",
    "        final = final.shuffle()\n",
    "        final = final.shard(num_shards=150, index=0)\n",
    "    \n",
    "    return final.shuffle()"
   ]
  },
  {
   "cell_type": "markdown",
   "id": "3e811d27-b469-47bb-9bfc-a5fae76e3af6",
   "metadata": {},
   "source": [
    "### Clean and aggregate"
   ]
  },
  {
   "cell_type": "code",
   "execution_count": null,
   "id": "f7845fc6-1407-484f-a174-81e0f01f8de6",
   "metadata": {
    "tags": []
   },
   "outputs": [],
   "source": [
    "train_funpedia = funpedia['train'].remove_columns(['persona','title'])\n",
    "train_wizard = wizard['train'].remove_columns(['chosen_topic'])\n",
    "valid_funpedia = funpedia['validation'].remove_columns(['persona','title'])\n",
    "valid_wizard = wizard['validation'].remove_columns(['chosen_topic'])\n",
    "test_funpedia = funpedia['test'].remove_columns(['persona','title'])\n",
    "test_wizard = wizard['test'].remove_columns(['chosen_topic'])\n",
    "\n",
    "train_funpedia = train_funpedia.rename_column('gender', 'labels')\n",
    "train_wizard = train_wizard.rename_column('gender', 'labels')\n",
    "valid_funpedia = valid_funpedia.rename_column('gender', 'labels')\n",
    "valid_wizard = valid_wizard.rename_column('gender', 'labels')\n",
    "test_funpedia = test_funpedia.rename_column('gender','labels')\n",
    "test_wizard = test_wizard.rename_column('gender','labels')\n",
    "\n",
    "\n",
    "train_image = clean_image_chat_data('train')\n",
    "valid_image = clean_image_chat_data('validation')\n",
    "test_image = clean_image_chat_data('test')"
   ]
  },
  {
   "cell_type": "code",
   "execution_count": 9,
   "id": "b20bd8fe-ae87-4751-bd48-0fb95e739961",
   "metadata": {
    "tags": []
   },
   "outputs": [],
   "source": [
    "train_data = concatenate_datasets([train_funpedia, train_wizard,train_image]).shuffle()\n",
    "valid_data = concatenate_datasets([valid_funpedia, valid_wizard,valid_image]).shuffle()\n",
    "test_data = concatenate_datasets([test_funpedia, test_wizard,test_image]).shuffle()"
   ]
  },
  {
   "cell_type": "code",
   "execution_count": 27,
   "id": "d5af932d-dcf8-48f6-b76d-7415d93f408d",
   "metadata": {},
   "outputs": [
    {
     "name": "stdout",
     "output_type": "stream",
     "text": [
      "Dataset({\n",
      "    features: ['text', 'labels'],\n",
      "    num_rows: 44104\n",
      "})\n",
      "{'text': Value(dtype='string', id=None), 'labels': ClassLabel(num_classes=3, names=['gender-neutral', 'female', 'male'], names_file=None, id=None)}\n",
      "{'text': 'woman in a pink dress standing in front of a building with a pink and white dress', 'labels': 1}\n"
     ]
    }
   ],
   "source": [
    "print(train_data)\n",
    "print(train_data.features)\n",
    "print(train_data[14])"
   ]
  },
  {
   "cell_type": "code",
   "execution_count": 38,
   "id": "5e0907a9-1f1b-4323-9c04-9ee61f410389",
   "metadata": {
    "tags": []
   },
   "outputs": [
    {
     "data": {
      "text/plain": [
       "610304"
      ]
     },
     "execution_count": 38,
     "metadata": {},
     "output_type": "execute_result"
    }
   ],
   "source": [
    "train_data.to_csv('./train_data.csv')\n",
    "valid_data.to_csv('./validation_data.csv')\n",
    "test_data.to_csv('./testing_data.csv')"
   ]
  },
  {
   "cell_type": "markdown",
   "id": "1b3cdf54-5ede-4bff-a70d-ea61131192b6",
   "metadata": {},
   "source": [
    "### Tokenize"
   ]
  },
  {
   "cell_type": "code",
   "execution_count": 8,
   "id": "08bfbfa9-1d9f-48ad-8623-5a6e4a33850d",
   "metadata": {},
   "outputs": [],
   "source": [
    "tokenizer = AutoTokenizer.from_pretrained(checkpoint)"
   ]
  },
  {
   "cell_type": "code",
   "execution_count": 31,
   "id": "3a0ff620-6736-4fbd-a19c-459bff99405f",
   "metadata": {
    "tags": []
   },
   "outputs": [
    {
     "data": {
      "application/vnd.jupyter.widget-view+json": {
       "model_id": "cab877ba66004eb08ba01ef249e7eda2",
       "version_major": 2,
       "version_minor": 0
      },
      "text/plain": [
       "  0%|          | 0/45 [00:00<?, ?ba/s]"
      ]
     },
     "metadata": {},
     "output_type": "display_data"
    },
    {
     "data": {
      "application/vnd.jupyter.widget-view+json": {
       "model_id": "c44de6bc0bf3459e9a0449dfad3fa112",
       "version_major": 2,
       "version_minor": 0
      },
      "text/plain": [
       "  0%|          | 0/6 [00:00<?, ?ba/s]"
      ]
     },
     "metadata": {},
     "output_type": "display_data"
    },
    {
     "data": {
      "application/vnd.jupyter.widget-view+json": {
       "model_id": "78b93215dc8a4b1c8d374a4d4dfa7b18",
       "version_major": 2,
       "version_minor": 0
      },
      "text/plain": [
       "  0%|          | 0/9 [00:00<?, ?ba/s]"
      ]
     },
     "metadata": {},
     "output_type": "display_data"
    }
   ],
   "source": [
    "token_train = train_data.map(tokenize_function,batched=True)\n",
    "data_collator = DataCollatorWithPadding(tokenizer=tokenizer)\n",
    "\n",
    "token_valid = valid_data.map(tokenize_function,batched=True)\n",
    "data_collator = DataCollatorWithPadding(tokenizer=tokenizer)\n",
    "\n",
    "token_test = test_data.map(tokenize_function,batched=True)\n",
    "data_collator = DataCollatorWithPadding(tokenizer=tokenizer)"
   ]
  },
  {
   "cell_type": "code",
   "execution_count": 32,
   "id": "4c823b66-439b-41df-97ed-d9cef816888c",
   "metadata": {
    "tags": []
   },
   "outputs": [],
   "source": [
    "token_train = token_train.remove_columns(['text'])\n",
    "token_valid = token_valid.remove_columns(['text'])\n",
    "token_test = token_test.remove_columns(['text'])\n",
    "\n",
    "token_train.set_format(\"torch\")\n",
    "token_valid.set_format(\"torch\")\n",
    "token_test.set_format(\"torch\")"
   ]
  },
  {
   "cell_type": "markdown",
   "id": "03acae6a-4210-433e-be9b-fc0296ecd8c6",
   "metadata": {},
   "source": [
    "### Gender stats"
   ]
  },
  {
   "cell_type": "code",
   "execution_count": 51,
   "id": "f494ed8c-f1e4-4e7c-a7c2-ce2229097800",
   "metadata": {
    "tags": []
   },
   "outputs": [],
   "source": [
    "def plot_gender():\n",
    "    labels = ['Male', 'Female', 'Neutral']\n",
    "    sizes = [no_male,no_female, no_neutral]\n",
    "\n",
    "    fig1, ax1 = plt.subplots()\n",
    "    ax1.pie(sizes, labels=labels, autopct='%1.1f%%',\n",
    "            shadow=True, startangle=90)\n",
    "    ax1.axis('equal')  # Equal aspect ratio ensures that pie is drawn as a circle.\n",
    "\n",
    "    plt.show()"
   ]
  },
  {
   "cell_type": "code",
   "execution_count": 52,
   "id": "f983c4bb-6165-4942-8d37-e23b9fa5f9b4",
   "metadata": {
    "tags": []
   },
   "outputs": [
    {
     "name": "stderr",
     "output_type": "stream",
     "text": [
      "Loading cached processed dataset at /home/horyctom/.cache/huggingface/datasets/md_gender_bias/funpedia/1.0.0/01dacda3d3a362db704fa0485596d225bb3790186f7ab7625fa9f81c6402f224/cache-bad8d95e4b1b749b.arrow\n",
      "Loading cached processed dataset at /home/horyctom/.cache/huggingface/datasets/md_gender_bias/funpedia/1.0.0/01dacda3d3a362db704fa0485596d225bb3790186f7ab7625fa9f81c6402f224/cache-0ca72f103ee1694e.arrow\n",
      "Loading cached processed dataset at /home/horyctom/.cache/huggingface/datasets/md_gender_bias/funpedia/1.0.0/01dacda3d3a362db704fa0485596d225bb3790186f7ab7625fa9f81c6402f224/cache-07a0f7a88c25889a.arrow\n"
     ]
    },
    {
     "data": {
      "image/png": "[encoded data removed]",
      "text/plain": [
       "<Figure size 432x288 with 1 Axes>"
      ]
     },
     "metadata": {},
     "output_type": "display_data"
    }
   ],
   "source": [
    "no_neutral = train_data.filter(lambda x : x['labels'] == 0).num_rows\n",
    "no_female = train_data.filter(lambda x : x['labels'] == 1).num_rows\n",
    "no_male = train_data.filter(lambda x : x['labels'] == 2).num_rows\n",
    "plot_gender()"
   ]
  },
  {
   "cell_type": "markdown",
   "id": "9282e570-29b9-4ef1-9a2c-f6429f80cfd6",
   "metadata": {},
   "source": [
    "### Create DataLoaders"
   ]
  },
  {
   "cell_type": "code",
   "execution_count": 53,
   "id": "8f76ec0e-e17c-44f1-838f-8d4b6f824dce",
   "metadata": {},
   "outputs": [],
   "source": [
    "train_dataloader = DataLoader(\n",
    "    token_train, shuffle=True, batch_size=64, collate_fn=data_collator)\n",
    "\n",
    "eval_dataloader = DataLoader(\n",
    "    token_valid, batch_size=64, collate_fn=data_collator)\n",
    "\n",
    "test_dataloader = DataLoader(\n",
    "    token_test, batch_size=64, collate_fn=data_collator)\n",
    "\n",
    "test_onebatch_dataloader = DataLoader(\n",
    "    token_test, batch_size=test_data.num_rows, collate_fn=data_collator)"
   ]
  },
  {
   "cell_type": "markdown",
   "id": "1cd95fd5-cb09-417a-95ab-d50e31537c8f",
   "metadata": {},
   "source": [
    "### Sanity check"
   ]
  },
  {
   "cell_type": "code",
   "execution_count": null,
   "id": "e1b7eb4f-32ef-4ea1-91b7-1577382596cf",
   "metadata": {
    "collapsed": true,
    "jupyter": {
     "outputs_hidden": true
    },
    "tags": []
   },
   "outputs": [],
   "source": [
    "model = AutoModelForSequenceClassification.from_pretrained(checkpoint,num_labels=3)\n",
    "model.to(device)"
   ]
  },
  {
   "cell_type": "code",
   "execution_count": 56,
   "id": "5945c266-6b24-479c-bbe7-4abee6b0084e",
   "metadata": {},
   "outputs": [
    {
     "data": {
      "text/plain": [
       "tensor(0.9422, device='cuda:0', grad_fn=<NllLossBackward>)"
      ]
     },
     "execution_count": 56,
     "metadata": {},
     "output_type": "execute_result"
    }
   ],
   "source": [
    "batch = next(iter(train_dataloader)).to(device)\n",
    "labels = batch.pop('labels')\n",
    "outputs = model(**batch)\n",
    "logits = outputs.logits\n",
    "weights = torch.tensor([0.6, 0.3, 0.1]).to(device)\n",
    "loss_fct = torch.nn.CrossEntropyLoss(weight=weights)\n",
    "loss_fct(logits,labels)"
   ]
  },
  {
   "cell_type": "markdown",
   "id": "b0242fbe-c4ef-43f8-9c18-467dc8a7d7d8",
   "metadata": {
    "jp-MarkdownHeadingCollapsed": true,
    "tags": []
   },
   "source": [
    "## Get weights"
   ]
  },
  {
   "cell_type": "code",
   "execution_count": 57,
   "id": "53fd1fd7-4a28-452e-93af-89a70e2eb732",
   "metadata": {},
   "outputs": [],
   "source": [
    "class_samples = [no_neutral,no_female,no_male]"
   ]
  },
  {
   "cell_type": "markdown",
   "id": "4ac4afdc-d6f8-48de-876e-29d03aa0d7ef",
   "metadata": {},
   "source": [
    "### Inverse of Number of Samples (INS)"
   ]
  },
  {
   "cell_type": "code",
   "execution_count": 58,
   "id": "9afd1fa6-9fae-49e5-a9d8-60d2920d8e73",
   "metadata": {},
   "outputs": [
    {
     "data": {
      "text/plain": [
       "array([0.32984034, 0.55025858, 0.11990109])"
      ]
     },
     "execution_count": 58,
     "metadata": {},
     "output_type": "execute_result"
    }
   ],
   "source": [
    "weights_ins = 1.0 / np.array(class_samples)\n",
    "weights_ins = weights_ins / sum(weights_ins)\n",
    "weights_ins"
   ]
  },
  {
   "cell_type": "markdown",
   "id": "2b426528-c6e5-496f-b6af-0ce89bc15215",
   "metadata": {},
   "source": [
    "### Inverse of Square Root of Number of Samples (ISNS)"
   ]
  },
  {
   "cell_type": "code",
   "execution_count": 59,
   "id": "8442d14b-4cc4-44f8-a3d2-ccb008748f63",
   "metadata": {},
   "outputs": [
    {
     "data": {
      "text/plain": [
       "array([0.34547919, 0.44622451, 0.2082963 ])"
      ]
     },
     "execution_count": 59,
     "metadata": {},
     "output_type": "execute_result"
    }
   ],
   "source": [
    "weights_isns = 1.0 / np.array(np.power(class_samples,0.5))\n",
    "weights_isns = weights_isns / sum(weights_isns)\n",
    "weights_isns"
   ]
  },
  {
   "cell_type": "markdown",
   "id": "3c2ccb0d-9d40-4d9b-8007-c887ca9f951c",
   "metadata": {},
   "source": [
    "### Effective Number of Samples (ENS)"
   ]
  },
  {
   "cell_type": "code",
   "execution_count": 60,
   "id": "6bb589d2-b1cc-474f-bed7-59e7962897b7",
   "metadata": {},
   "outputs": [
    {
     "data": {
      "text/plain": [
       "array([0.32488167, 0.45454932, 0.220569  ])"
      ]
     },
     "execution_count": 60,
     "metadata": {},
     "output_type": "execute_result"
    }
   ],
   "source": [
    "beta = 0.9999\n",
    "weight_for_samples = (1.0 - beta) / (1.0 - np.power(beta,class_samples))\n",
    "weights_ens = weight_for_samples / sum(weight_for_samples)\n",
    "weights_ens"
   ]
  },
  {
   "cell_type": "code",
   "execution_count": 61,
   "id": "e289a77b-8cf6-4702-b65d-28a23cfb6027",
   "metadata": {},
   "outputs": [
    {
     "data": {
      "text/plain": [
       "tensor([[0.3298, 0.5503, 0.1199],\n",
       "        [0.3455, 0.4462, 0.2083],\n",
       "        [0.3249, 0.4545, 0.2206]], device='cuda:0')"
      ]
     },
     "execution_count": 61,
     "metadata": {},
     "output_type": "execute_result"
    }
   ],
   "source": [
    "weights = torch.tensor([weights_ins,weights_isns,weights_ens]).float().to(device)\n",
    "weights"
   ]
  },
  {
   "cell_type": "markdown",
   "id": "c471c07c-91c3-41f1-bce2-6a34172acb50",
   "metadata": {},
   "source": [
    "## Training"
   ]
  },
  {
   "cell_type": "code",
   "execution_count": 65,
   "id": "5ff27caf-3435-4925-b959-3b9d6af80ade",
   "metadata": {},
   "outputs": [],
   "source": [
    "class WeightedTrainer(Trainer):\n",
    "    def __init__(self,weights, *args, **kwargs):\n",
    "        super(WeightedTrainer, self).__init__(*args, **kwargs)\n",
    "        self.weights = torch.tensor(weights).to(device)\n",
    "    \n",
    "    def compute_loss(self, model, inputs, return_outputs=False):\n",
    "        labels = inputs.pop('labels')\n",
    "        outputs = model(**inputs)\n",
    "        logits = outputs.logits\n",
    "        loss_fct = torch.nn.CrossEntropyLoss(weight=self.weights)\n",
    "        loss = loss_fct(logits,labels)\n",
    "        return (loss, outputs) if return_outputs else loss"
   ]
  },
  {
   "cell_type": "code",
   "execution_count": null,
   "id": "e9cd4409-ecf4-49fa-a4ad-daec14802bdb",
   "metadata": {
    "collapsed": true,
    "jupyter": {
     "outputs_hidden": true
    },
    "tags": []
   },
   "outputs": [],
   "source": [
    "tokenizer = AutoTokenizer.from_pretrained(checkpoint)\n",
    "model = AutoModelForSequenceClassification.from_pretrained(checkpoint,num_labels=3)\n",
    "model.to(device)\n"
   ]
  },
  {
   "cell_type": "code",
   "execution_count": null,
   "id": "6d2d4716-0696-4e20-ac60-75505d1842a7",
   "metadata": {},
   "outputs": [],
   "source": [
    "training_args = TrainingArguments(\n",
    "    output_dir='../',          # output directory\n",
    "    num_train_epochs=5,              # total number of training epochs\n",
    "    per_device_train_batch_size=64, # batch size for evaluation\n",
    "    warmup_steps=0,                # number of warmup steps for learning rate  \n",
    "    save_steps=5000,\n",
    "    disable_tqdm = False,\n",
    "    save_total_limit=2,\n",
    "    weight_decay=0.01)               # strength of weight decay\n",
    "\n",
    "trainer = WeightedTrainer(\n",
    "    weights[0],\n",
    "    model,\n",
    "    training_args,\n",
    "    train_dataset=token_train,\n",
    "    eval_dataset=token_valid,\n",
    "    data_collator=data_collator,\n",
    "    tokenizer=tokenizer,\n",
    "    compute_metrics=compute_metrics\n",
    ")"
   ]
  },
  {
   "cell_type": "code",
   "execution_count": null,
   "id": "19dee758-6e89-41e8-81dc-a5d32613f91e",
   "metadata": {},
   "outputs": [],
   "source": [
    "trainer.train()"
   ]
  },
  {
   "cell_type": "markdown",
   "id": "44ce16a8-d693-4ddc-b4e0-40e63b26707a",
   "metadata": {},
   "source": [
    "### Evaluate"
   ]
  },
  {
   "cell_type": "code",
   "execution_count": 75,
   "id": "53b005be-2b59-455c-ab02-7ed6e1c45d50",
   "metadata": {},
   "outputs": [
    {
     "data": {
      "text/plain": [
       "{'f1': 0.9334442346570441}"
      ]
     },
     "execution_count": 75,
     "metadata": {},
     "output_type": "execute_result"
    }
   ],
   "source": [
    "metric = load_metric(\"f1\")\n",
    "\n",
    "model.eval()\n",
    "for batch in test_dataloader:\n",
    "    batch = {k: v.to(device) for k, v in batch.items()}\n",
    "    with torch.no_grad():\n",
    "        outputs = model(**batch)\n",
    "    \n",
    "    logits = outputs.logits\n",
    "    predictions = torch.argmax(logits, dim=-1)\n",
    "    metric.add_batch(predictions=predictions, references=batch[\"labels\"])\n",
    "    \n",
    "metric.compute(average='macro')"
   ]
  },
  {
   "cell_type": "code",
   "execution_count": 71,
   "id": "428d4d60-1e81-46f2-a39e-c878aa575b51",
   "metadata": {},
   "outputs": [],
   "source": [
    "batch = next(iter(test_onebatch_dataloader))\n",
    "\n",
    "model.eval()\n",
    "with torch.no_grad():\n",
    "    batch.to(device)\n",
    "    output = model(**batch)\n",
    "\n",
    "labels = torch.tensor(test_data['labels'])\n",
    "preds = F.softmax(output.logits,dim=1).argmax(dim=1)"
   ]
  },
  {
   "cell_type": "code",
   "execution_count": 73,
   "id": "2b5c4487-3742-4866-8aff-7c08700f27c6",
   "metadata": {},
   "outputs": [
    {
     "name": "stdout",
     "output_type": "stream",
     "text": [
      "Confusion matrix, without normalization\n",
      "[[3742   17  130]\n",
      " [   5  716   95]\n",
      " [  76   75 3436]]\n"
     ]
    },
    {
     "data": {
      "image/png": "[encoded data removed]",
      "text/plain": [
       "<Figure size 720x720 with 2 Axes>"
      ]
     },
     "metadata": {
      "needs_background": "light"
     },
     "output_type": "display_data"
    }
   ],
   "source": [
    "cm = confusion_matrix(labels,preds.cpu())\n",
    "\n",
    "plt.figure(figsize=(10,10))\n",
    "plot_confusion_matrix(cm,test_data.features['labels'].names)"
   ]
  },
  {
   "cell_type": "code",
   "execution_count": 90,
   "id": "a441ac94-471a-49cb-9f1d-a36a96be52a2",
   "metadata": {},
   "outputs": [
    {
     "data": {
      "text/plain": [
       "tensor([1, 1, 1, 2, 1, 1, 1, 1, 1, 1, 1, 1, 1, 1, 1, 1, 1, 1, 1, 2, 2, 1, 1, 1,\n",
       "        1, 0, 1, 1, 1, 1, 1, 1, 1, 1, 1, 1, 1, 1, 1, 1, 1, 2, 2, 2, 1, 2, 2, 1,\n",
       "        1, 1, 1, 1, 1, 1, 1, 1], device='cuda:0')"
      ]
     },
     "execution_count": 90,
     "metadata": {},
     "output_type": "execute_result"
    }
   ],
   "source": [
    "fp = open(\"../data/michelle_obama.txt\")\n",
    "data = fp.read()\n",
    "\n",
    "tokenizer_text = nltk.data.load('tokenizers/punkt/english.pickle')\n",
    "\n",
    "inputs = tokenizer_text.tokenize(data)\n",
    "\n",
    "inputs = tokenizer(inputs, padding=True, truncation=True, return_tensors=\"pt\")\n",
    "\n",
    "model.eval()\n",
    "with torch.no_grad():\n",
    "    inputs.to(device)\n",
    "    output = model(**inputs)\n",
    "    \n",
    "classification = F.softmax(output.logits,dim=1).argmax(dim=1)\n",
    "classification"
   ]
  },
  {
   "cell_type": "code",
   "execution_count": 100,
   "id": "bc79fbfa-965c-4a6c-a88e-872c6a497b20",
   "metadata": {},
   "outputs": [
    {
     "data": {
      "text/plain": [
       "tensor(1.1250, device='cuda:0')"
      ]
     },
     "execution_count": 100,
     "metadata": {},
     "output_type": "execute_result"
    }
   ],
   "source": [
    "torch.mean(classification.to(torch.float))"
   ]
  },
  {
   "cell_type": "code",
   "execution_count": null,
   "id": "d15c678c-7eed-4d44-bfb9-bd42d561fcfc",
   "metadata": {},
   "outputs": [],
   "source": []
  }
 ],
 "metadata": {
  "kernelspec": {
   "display_name": "Python 3 (ipykernel)",
   "language": "python",
   "name": "python3"
  },
  "language_info": {
   "codemirror_mode": {
    "name": "ipython",
    "version": 3
   },
   "file_extension": ".py",
   "mimetype": "text/x-python",
   "name": "python",
   "nbconvert_exporter": "python",
   "pygments_lexer": "ipython3",
   "version": "3.8.6"
  }
 },
 "nbformat": 4,
 "nbformat_minor": 5
}
