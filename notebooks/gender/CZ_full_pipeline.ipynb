{
 "cells": [
  {
   "cell_type": "markdown",
   "id": "c2479bff-85cb-434f-94c7-06640d025687",
   "metadata": {},
   "source": [
    "## Pipeline on translated data"
   ]
  },
  {
   "cell_type": "code",
   "execution_count": 7,
   "id": "7a0d84ae-87f9-46c8-933e-79196b26cdf1",
   "metadata": {},
   "outputs": [],
   "source": [
    "import torch\n",
    "import torch.nn.functional as F\n",
    "from torch.utils.data import DataLoader\n",
    "\n",
    "from datasets import load_metric,load_dataset,concatenate_datasets,load_from_disk, Dataset\n",
    "from transformers import AutoTokenizer, DataCollatorWithPadding, AutoModelForSequenceClassification,AdamW,get_scheduler,TrainingArguments,Trainer\n",
    "\n",
    "import itertools\n",
    "import numpy as np\n",
    "import matplotlib.pyplot as plt\n",
    "\n",
    "from sklearn.metrics import confusion_matrix\n",
    "from tqdm.auto import tqdm, trange\n",
    "\n",
    "import csv\n",
    "\n",
    "checkpoint = 'ufal/robeczech-base'\n",
    "data_path = './datasets/data_translation/txt/'\n",
    "TRAIN = 'train100k_cs.txt'\n",
    "VALID = 'valid_cs.txt'\n",
    "TEST = 'test_cs.txt'\n",
    "NEW_VALID = 'new_data_cs.txt'\n",
    "\n",
    "NEUTRAL = 0\n",
    "FEMALE = 1\n",
    "MALE = 2\n",
    "\n",
    "device = torch.device(\"cuda\") if torch.cuda.is_available() else torch.device(\"cpu\")"
   ]
  },
  {
   "cell_type": "code",
   "execution_count": 525,
   "id": "2f112951-8df7-475b-8350-b0c2dd0f1140",
   "metadata": {},
   "outputs": [],
   "source": [
    "transformers.logging.set_verbosity(transformers.logging.ERROR)"
   ]
  },
  {
   "cell_type": "code",
   "execution_count": 558,
   "id": "7fb4263b-8d44-49ba-b343-38e94038e19f",
   "metadata": {
    "jupyter": {
     "source_hidden": true
    },
    "tags": []
   },
   "outputs": [],
   "source": [
    "def tokenize_function(data):\n",
    "    return tokenizer(data['text'], truncation=True)\n",
    "\n",
    "def plot_confusion_matrix(cm, classes, normalize=False, title='Confusion matrix', cmap=plt.cm.Blues):\n",
    "    if normalize:\n",
    "        cm = cm.astype('float') / cm.sum(axis=1)[:, np.newaxis]\n",
    "        print(\"Normalized confusion matrix\")\n",
    "    else:\n",
    "        print('Confusion matrix, without normalization')\n",
    "\n",
    "    plt.imshow(cm, interpolation='nearest', cmap=cmap)\n",
    "    plt.title(title)\n",
    "    plt.colorbar()\n",
    "    tick_marks = np.arange(len(classes))\n",
    "    plt.xticks(tick_marks, classes, rotation=45)\n",
    "    plt.yticks(tick_marks, classes)\n",
    "\n",
    "    fmt = '.2f' if normalize else 'd'\n",
    "    thresh = cm.max() / 2.\n",
    "    for i, j in itertools.product(range(cm.shape[0]), range(cm.shape[1])):\n",
    "        plt.text(j, i, format(cm[i, j], fmt), horizontalalignment=\"center\", color=\"white\" if cm[i, j] > thresh else \"black\")\n",
    "\n",
    "    plt.tight_layout()\n",
    "    plt.ylabel('True label')\n",
    "    plt.xlabel('Predicted label')\n",
    "    \n",
    "def clean_memory():\n",
    "    gc.collect()\n",
    "    torch.cuda.empty_cache()\n",
    "    \n",
    "def compute_metrics(test_dataloader):\n",
    "    metric = load_metric(\"f1\")\n",
    "\n",
    "    model.eval()\n",
    "    for batch in test_dataloader:\n",
    "        batch = {k: v.to(device) for k, v in batch.items()}\n",
    "        with torch.no_grad():\n",
    "            outputs = model(**batch)\n",
    "\n",
    "        logits = outputs.logits\n",
    "        predictions = torch.argmax(logits, dim=-1)\n",
    "        metric.add_batch(predictions=predictions, references=batch[\"labels\"])\n",
    "        \n",
    "    return metric.compute(average='micro')\n",
    "\n",
    "def eval_test(dl,model,labels):\n",
    "    metric = load_metric(\"f1\")\n",
    "    metric_acc = load_metric(\"accuracy\")\n",
    "\n",
    "    preds = torch.Tensor([]).to(device)\n",
    "\n",
    "    model.eval()\n",
    "    for batch in dl:\n",
    "        batch = {k: v.to(device) for k, v in batch.items()}\n",
    "        with torch.no_grad():\n",
    "            outputs = model(**batch)\n",
    "\n",
    "        logits = outputs.logits\n",
    "\n",
    "        predictions = torch.argmax(logits, dim=-1)\n",
    "        preds = torch.cat((preds,logits),0)\n",
    "        metric.add_batch(predictions=predictions, references=batch[\"labels\"])\n",
    "        metric_acc.add_batch(predictions=predictions, references=batch[\"labels\"])\n",
    "\n",
    "    score = metric.compute(average=\"macro\")\n",
    "    score2 = metric_acc.compute()\n",
    "    print(\"F1 score: \" + str(score['f1']))\n",
    "    print(\"Accuracy score: \" + str(score2['accuracy']) + \"\\n\")\n",
    "\n",
    "    labels = torch.tensor(labels)\n",
    "    preds = F.softmax(preds,dim=1).argmax(dim=1)\n",
    "\n",
    "    cm = confusion_matrix(labels,preds.cpu())\n",
    "\n",
    "    plt.figure(figsize=(8,8))\n",
    "    plot_confusion_matrix(cm,['neutral','female','male'])\n",
    "    \n",
    "def plot_gender(sizes):\n",
    "    labels = ['Male', 'Female', 'Neutral']\n",
    "    sizes = [no_male,no_female, no_neutral]\n",
    "\n",
    "    fig1, ax1 = plt.subplots()\n",
    "    ax1.pie(sizes, labels=labels, autopct='%1.1f%%',\n",
    "            shadow=True, startangle=90)\n",
    "    ax1.axis('equal')  # Equal aspect ratio ensures that pie is drawn as a circle.\n",
    "\n",
    "    plt.show()"
   ]
  },
  {
   "cell_type": "markdown",
   "id": "98d75adb-095b-4729-8e6b-690a1608d14c",
   "metadata": {
    "jp-MarkdownHeadingCollapsed": true,
    "tags": []
   },
   "source": [
    "## Reassemble of data and it's labels"
   ]
  },
  {
   "cell_type": "code",
   "execution_count": null,
   "id": "ba00f4a5-7707-4161-a010-21a898bdc38a",
   "metadata": {},
   "outputs": [],
   "source": [
    "train_data = load_dataset('csv',data_files='./train.csv')['train'].remove_columns(['Unnamed: 0'])\n",
    "valid_data = load_dataset('csv',data_files='./valid.csv')['train'].remove_columns(['Unnamed: 0'])\n",
    "test_data = load_dataset('csv',data_files='./test.csv')['train'].remove_columns(['Unnamed: 0'])"
   ]
  },
  {
   "cell_type": "code",
   "execution_count": 3,
   "id": "73922174-97d3-47b7-b002-92ad994f8198",
   "metadata": {},
   "outputs": [],
   "source": [
    "labels_train = train_data['labels'][:100000] #only first 100k were translated\n",
    "labels_valid = valid_data['labels']\n",
    "labels_test = test_data['labels']"
   ]
  },
  {
   "cell_type": "code",
   "execution_count": 8,
   "id": "01185098-b3bc-422c-95f0-801d4e3c767c",
   "metadata": {},
   "outputs": [],
   "source": [
    "with open(data_path + VALID,'r') as val_file:\n",
    "    valid_texts = val_file.read().splitlines()\n",
    "\n",
    "with open(data_path + TRAIN,'r') as train_file:\n",
    "    train_texts = train_file.read().splitlines()\n",
    "\n",
    "with open(data_path + TEST,'r') as test_file:\n",
    "    test_texts = test_file.read().splitlines()"
   ]
  },
  {
   "cell_type": "code",
   "execution_count": 9,
   "id": "9c5efe7b-c166-41df-a638-72eedb4144db",
   "metadata": {},
   "outputs": [],
   "source": [
    "dictionary = {'text': train_texts, 'labels' : labels_train}\n",
    "train = Dataset.from_dict(dictionary)\n",
    "dictionary = {'text': valid_texts, 'labels' : labels_valid}\n",
    "valid = Dataset.from_dict(dictionary)\n",
    "dictionary = {'text': test_texts, 'labels' : labels_test}\n",
    "test = Dataset.from_dict(dictionary)"
   ]
  },
  {
   "cell_type": "code",
   "execution_count": 10,
   "id": "09689137-6382-4aa6-949b-9a539022420d",
   "metadata": {},
   "outputs": [
    {
     "data": {
      "text/plain": [
       "{'text': ['skupina lidí stojících na zasněžené zemi',\n",
       "  'hmm.... je to fialové a voní to jako květiny. to by se mělo královně líbit.',\n",
       "  'Jsi si jistý, že tam bylo šest cihel ?',\n",
       "  'Princezno! Cože?',\n",
       "  'Jan Dobrý byl takový úžasný světec. Ráda ho uctívám každý rok 15. ledna.',\n",
       "  'Čím se živíš?',\n",
       "  'Skupina lidí sedí na vrcholu skateparku.',\n",
       "  'na lionel. opravdu šokující průměr.',\n",
       "  'Skupina lidí v bazénu ve vodě.',\n",
       "  'A měl jsi prsty v jeho stavbě? '],\n",
       " 'labels': [0, 0, 0, 1, 2, 0, 0, 2, 0, 0]}"
      ]
     },
     "execution_count": 10,
     "metadata": {},
     "output_type": "execute_result"
    }
   ],
   "source": [
    "valid[:10]"
   ]
  },
  {
   "cell_type": "code",
   "execution_count": 11,
   "id": "e8b9d2fd-96f0-4abd-9437-e32d1e48b4ad",
   "metadata": {},
   "outputs": [
    {
     "data": {
      "text/plain": [
       "{'text': ['group of people standing on top of a snow covered ground',\n",
       "  \"hmm.... it's purple and smells sort of like flowers. that should appeal to the queen.\",\n",
       "  \"you 're certain there were six bricks ?\",\n",
       "  'princess ! what ?',\n",
       "  \"John the Good was such a wonderful saint. I'm happy to honor him on January 15th every year.\",\n",
       "  'what do you do for a living ?',\n",
       "  'group of people sitting on top of a skate park',\n",
       "  'to lionel . a truly shocking batting average .',\n",
       "  'group of people in a swimming pool in the water',\n",
       "  'and did you have a hand in its building? '],\n",
       " 'labels': [0, 0, 0, 1, 2, 0, 0, 2, 0, 0]}"
      ]
     },
     "execution_count": 11,
     "metadata": {},
     "output_type": "execute_result"
    }
   ],
   "source": [
    "valid_data[:10]"
   ]
  },
  {
   "cell_type": "code",
   "execution_count": 24,
   "id": "afa7d630-1b3a-4aab-9603-c2be406a6b5e",
   "metadata": {
    "tags": []
   },
   "outputs": [
    {
     "data": {
      "text/plain": [
       "1729096"
      ]
     },
     "execution_count": 24,
     "metadata": {},
     "output_type": "execute_result"
    }
   ],
   "source": [
    "train.to_csv(\"./train_cs.csv\",index=False)\n",
    "valid.to_csv(\"./valid_cs.csv\",index=False)\n",
    "test.to_csv(\"./test_cs.csv\",index=False)"
   ]
  },
  {
   "cell_type": "code",
   "execution_count": 20,
   "id": "10725164-98e0-4a49-8af1-1c9cd0596f6a",
   "metadata": {},
   "outputs": [
    {
     "data": {
      "application/vnd.jupyter.widget-view+json": {
       "model_id": "491816701fa4472eb8dbeeebc32e9253",
       "version_major": 2,
       "version_minor": 0
      },
      "text/plain": [
       "HBox(children=(FloatProgress(value=0.0), HTML(value='')))"
      ]
     },
     "metadata": {},
     "output_type": "display_data"
    },
    {
     "name": "stdout",
     "output_type": "stream",
     "text": [
      "\n"
     ]
    },
    {
     "data": {
      "application/vnd.jupyter.widget-view+json": {
       "model_id": "6b1d35f53ba84447903f759f35946114",
       "version_major": 2,
       "version_minor": 0
      },
      "text/plain": [
       "HBox(children=(FloatProgress(value=0.0), HTML(value='')))"
      ]
     },
     "metadata": {},
     "output_type": "display_data"
    },
    {
     "name": "stdout",
     "output_type": "stream",
     "text": [
      "\n"
     ]
    },
    {
     "data": {
      "application/vnd.jupyter.widget-view+json": {
       "model_id": "e9d6150ed33d4f028254298ebc4cea7c",
       "version_major": 2,
       "version_minor": 0
      },
      "text/plain": [
       "HBox(children=(FloatProgress(value=0.0), HTML(value='')))"
      ]
     },
     "metadata": {},
     "output_type": "display_data"
    },
    {
     "name": "stdout",
     "output_type": "stream",
     "text": [
      "\n"
     ]
    }
   ],
   "source": [
    "no_neutral = train.filter(lambda x : x['labels'] == 0).num_rows\n",
    "no_female = train.filter(lambda x : x['labels'] == 1).num_rows\n",
    "no_male = train.filter(lambda x : x['labels'] == 2).num_rows"
   ]
  },
  {
   "cell_type": "markdown",
   "id": "39b1a5b0-eafc-450c-a15d-2a63fa5ac54c",
   "metadata": {
    "jp-MarkdownHeadingCollapsed": true,
    "tags": []
   },
   "source": [
    "## Tokenize"
   ]
  },
  {
   "cell_type": "code",
   "execution_count": null,
   "id": "c55217c7-d0ed-423b-beba-46da303c2c1f",
   "metadata": {},
   "outputs": [],
   "source": [
    "tokenizer = AutoTokenizer.from_pretrained(checkpoint)\n",
    "\n",
    "token_train = train.map(tokenize_function,batched=True)\n",
    "data_collator = DataCollatorWithPadding(tokenizer=tokenizer)\n",
    "\n",
    "token_valid = valid.map(tokenize_function,batched=True)\n",
    "data_collator = DataCollatorWithPadding(tokenizer=tokenizer)\n",
    "\n",
    "token_test = test.map(tokenize_function,batched=True)\n",
    "data_collator = DataCollatorWithPadding(tokenizer=tokenizer)\n",
    "\n",
    "token_train = token_train.remove_columns(['text'])\n",
    "token_valid = token_valid.remove_columns(['text'])\n",
    "token_test = token_test.remove_columns(['text'])\n",
    "\n",
    "token_train.set_format(\"torch\")\n",
    "token_valid.set_format(\"torch\")\n",
    "token_test.set_format(\"torch\")"
   ]
  },
  {
   "cell_type": "code",
   "execution_count": 542,
   "id": "62707781-0106-48e9-b1b5-83422e93ed97",
   "metadata": {},
   "outputs": [],
   "source": [
    "train_dataloader = DataLoader(\n",
    "    token_train, shuffle=True, batch_size=64, collate_fn=data_collator)\n",
    "\n",
    "eval_dataloader = DataLoader(\n",
    "    token_valid, batch_size=64, collate_fn=data_collator)\n",
    "\n",
    "test_dataloader = DataLoader(\n",
    "    token_test, batch_size=64, collate_fn=data_collator)"
   ]
  },
  {
   "cell_type": "markdown",
   "id": "2bf57e4f-cc21-480d-95a4-21a9dd79fca4",
   "metadata": {
    "jp-MarkdownHeadingCollapsed": true,
    "tags": []
   },
   "source": [
    "#### sanity check"
   ]
  },
  {
   "cell_type": "code",
   "execution_count": 543,
   "id": "cb0d1b30-edbd-4c8b-b253-69e5e87c2dc6",
   "metadata": {},
   "outputs": [],
   "source": [
    "model = AutoModelForSequenceClassification.from_pretrained(checkpoint,num_labels=3)\n",
    "model.to(device);"
   ]
  },
  {
   "cell_type": "code",
   "execution_count": null,
   "id": "795ac498-5bbd-4201-9b3f-9ed69fec19fe",
   "metadata": {},
   "outputs": [
    {
     "data": {
      "text/plain": [
       "tensor(1.0974, device='cuda:0', grad_fn=<NllLossBackward>)"
      ]
     },
     "execution_count": 440,
     "metadata": {},
     "output_type": "execute_result"
    }
   ],
   "source": [
    "batch = next(iter(train_dataloader)).to(device)\n",
    "labels = batch.pop('labels')\n",
    "outputs = model(**batch)\n",
    "logits = outputs.logits\n",
    "weights = torch.tensor([0.6, 0.3, 0.1]).to(device)\n",
    "loss_fct = torch.nn.CrossEntropyLoss(weight=weights)\n",
    "loss_fct(logits,labels)"
   ]
  },
  {
   "cell_type": "markdown",
   "id": "ca58d4e3-f827-4fd3-aeee-4d6dd7d0a9a9",
   "metadata": {},
   "source": [
    "## Training"
   ]
  },
  {
   "cell_type": "markdown",
   "id": "50c11d28-9936-4dd0-83ef-af278fc7e2eb",
   "metadata": {
    "tags": []
   },
   "source": [
    "### weighted training"
   ]
  },
  {
   "cell_type": "code",
   "execution_count": 549,
   "id": "2445bc3f-07f9-4000-8710-ae07540d69af",
   "metadata": {},
   "outputs": [],
   "source": [
    "class_samples = [no_neutral,no_female,no_male]\n",
    "\n",
    "#Inverse of Number of Samples\n",
    "weights_ins = 1.0 / np.array(class_samples)\n",
    "weights_ins = weights_ins / sum(weights_ins)\n",
    "\n",
    "#Inverse of Square Root of Number of Samples\n",
    "weights_isns = 1.0 / np.array(np.power(class_samples,0.5))\n",
    "weights_isns = weights_isns / sum(weights_isns)\n",
    "\n",
    "#Effective Number of Samples\n",
    "beta = 0.999\n",
    "weight_for_samples = (1.0 - beta) / (1.0 - np.power(beta,class_samples))\n",
    "weights_ens = weight_for_samples / sum(weight_for_samples)\n",
    "\n",
    "weights = torch.tensor([weights_ins,weights_isns,weights_ens]).float().to(device)"
   ]
  },
  {
   "cell_type": "code",
   "execution_count": 550,
   "id": "1b4a10c8-4265-4b7f-9b6c-a11389b99e16",
   "metadata": {},
   "outputs": [
    {
     "data": {
      "text/plain": [
       "tensor([[0.4862, 0.2681, 0.2457],\n",
       "        [0.4076, 0.3027, 0.2897],\n",
       "        [0.3333, 0.3333, 0.3333]], device='cuda:0')"
      ]
     },
     "execution_count": 550,
     "metadata": {},
     "output_type": "execute_result"
    }
   ],
   "source": [
    "weights"
   ]
  },
  {
   "cell_type": "code",
   "execution_count": 551,
   "id": "b37ad886-2e82-4e80-9684-8a330e1e4510",
   "metadata": {},
   "outputs": [],
   "source": [
    "class WeightedTrainer(Trainer):\n",
    "    def __init__(self,weights, *args, **kwargs):\n",
    "        super(WeightedTrainer, self).__init__(*args, **kwargs)\n",
    "        self.weights = torch.tensor(weights).to(device)\n",
    "    \n",
    "    def compute_loss(self, model, inputs, return_outputs=False):\n",
    "        labels = inputs.pop('labels')\n",
    "        outputs = model(**inputs)\n",
    "        logits = outputs.logits\n",
    "        loss_fct = torch.nn.CrossEntropyLoss(weight=self.weights)\n",
    "        loss = loss_fct(logits,labels)\n",
    "        return (loss, outputs) if return_outputs else loss"
   ]
  },
  {
   "cell_type": "code",
   "execution_count": null,
   "id": "d9bdb562-1238-4183-bf94-8baa9f244da3",
   "metadata": {
    "tags": []
   },
   "outputs": [],
   "source": [
    "model = AutoModelForSequenceClassification.from_pretrained(checkpoint,num_labels=3)\n",
    "model.to(device);\n",
    "\n",
    "training_args = TrainingArguments(\n",
    "    output_dir='../',          # output directory\n",
    "    num_train_epochs=3,              # total number of training epochs\n",
    "    per_device_train_batch_size=64, # batch size for evaluation\n",
    "    warmup_steps=100,                # number of warmup steps for learning rate  \n",
    "    save_steps=5000,\n",
    "    disable_tqdm = False,\n",
    "    save_total_limit=2,\n",
    "    weight_decay=0.01)               # strength of weight decay\n",
    "\n",
    "trainer = WeightedTrainer(\n",
    "    weights[1], #isns\n",
    "    model,\n",
    "    training_args,\n",
    "    train_dataset=token_train,\n",
    "    eval_dataset=token_valid,\n",
    "    data_collator=data_collator,\n",
    "    tokenizer=tokenizer,\n",
    "    compute_metrics=compute_metrics\n",
    ")"
   ]
  },
  {
   "cell_type": "code",
   "execution_count": 488,
   "id": "f46f0ef0-be90-4322-aec5-1947d34f88c6",
   "metadata": {},
   "outputs": [
    {
     "name": "stderr",
     "output_type": "stream",
     "text": [
      "***** Running training *****\n",
      "  Num examples = 100000\n",
      "  Num Epochs = 3\n",
      "  Instantaneous batch size per device = 64\n",
      "  Total train batch size (w. parallel, distributed & accumulation) = 64\n",
      "  Gradient Accumulation steps = 1\n",
      "  Total optimization steps = 4689\n"
     ]
    },
    {
     "data": {
      "text/html": [
       "\n",
       "    <div>\n",
       "      \n",
       "      <progress value='4689' max='4689' style='width:300px; height:20px; vertical-align: middle;'></progress>\n",
       "      [4689/4689 18:50, Epoch 3/3]\n",
       "    </div>\n",
       "    <table border=\"1\" class=\"dataframe\">\n",
       "  <thead>\n",
       "    <tr style=\"text-align: left;\">\n",
       "      <th>Step</th>\n",
       "      <th>Training Loss</th>\n",
       "    </tr>\n",
       "  </thead>\n",
       "  <tbody>\n",
       "    <tr>\n",
       "      <td>500</td>\n",
       "      <td>0.465200</td>\n",
       "    </tr>\n",
       "    <tr>\n",
       "      <td>1000</td>\n",
       "      <td>0.285800</td>\n",
       "    </tr>\n",
       "    <tr>\n",
       "      <td>1500</td>\n",
       "      <td>0.251100</td>\n",
       "    </tr>\n",
       "    <tr>\n",
       "      <td>2000</td>\n",
       "      <td>0.176900</td>\n",
       "    </tr>\n",
       "    <tr>\n",
       "      <td>2500</td>\n",
       "      <td>0.165500</td>\n",
       "    </tr>\n",
       "    <tr>\n",
       "      <td>3000</td>\n",
       "      <td>0.159100</td>\n",
       "    </tr>\n",
       "    <tr>\n",
       "      <td>3500</td>\n",
       "      <td>0.105800</td>\n",
       "    </tr>\n",
       "    <tr>\n",
       "      <td>4000</td>\n",
       "      <td>0.095000</td>\n",
       "    </tr>\n",
       "    <tr>\n",
       "      <td>4500</td>\n",
       "      <td>0.090100</td>\n",
       "    </tr>\n",
       "  </tbody>\n",
       "</table><p>"
      ],
      "text/plain": [
       "<IPython.core.display.HTML object>"
      ]
     },
     "metadata": {},
     "output_type": "display_data"
    },
    {
     "name": "stderr",
     "output_type": "stream",
     "text": [
      "\n",
      "\n",
      "Training completed. Do not forget to share your model on huggingface.co/models =)\n",
      "\n",
      "\n"
     ]
    },
    {
     "data": {
      "text/plain": [
       "TrainOutput(global_step=4689, training_loss=0.19472527580236823, metrics={'train_runtime': 1130.4029, 'train_samples_per_second': 265.392, 'train_steps_per_second': 4.148, 'total_flos': 9796320991791936.0, 'train_loss': 0.19472527580236823, 'epoch': 3.0})"
      ]
     },
     "execution_count": 488,
     "metadata": {},
     "output_type": "execute_result"
    }
   ],
   "source": [
    "trainer.train()"
   ]
  },
  {
   "cell_type": "code",
   "execution_count": 489,
   "id": "f89cd1b0-a370-4fc3-8cd6-f125770d810b",
   "metadata": {},
   "outputs": [],
   "source": [
    "torch.save(model.state_dict(),'../isns_cs.pth')"
   ]
  },
  {
   "cell_type": "code",
   "execution_count": 554,
   "id": "4fd2745e-4bd8-4ae6-bef2-3e51f4eaa2e1",
   "metadata": {},
   "outputs": [],
   "source": [
    "model.load_state_dict(torch.load('../isns_cs.pth'))\n",
    "model.eval();"
   ]
  },
  {
   "cell_type": "markdown",
   "id": "b4f63d90-10c8-43c1-8c50-3f507debb660",
   "metadata": {},
   "source": [
    "# Eval on test data"
   ]
  },
  {
   "cell_type": "code",
   "execution_count": 559,
   "id": "f82b5ccb-4d07-4b24-b6f9-84a6617a4862",
   "metadata": {
    "jupyter": {
     "source_hidden": true
    },
    "tags": []
   },
   "outputs": [
    {
     "name": "stdout",
     "output_type": "stream",
     "text": [
      "F1 score: 0.9023802451034855\n",
      "Accuracy score: 0.9177646524307133\n",
      "\n",
      "Confusion matrix, without normalization\n"
     ]
    },
    {
     "data": {
      "image/png": "[encoded data removed]",
      "text/plain": [
       "<Figure size 576x576 with 2 Axes>"
      ]
     },
     "metadata": {
      "needs_background": "light"
     },
     "output_type": "display_data"
    }
   ],
   "source": [
    "eval_test(test_dataloader,model,test['labels'])"
   ]
  },
  {
   "cell_type": "markdown",
   "id": "46997b19-790c-4ccb-ab19-5cc985ed3118",
   "metadata": {},
   "source": [
    "# Eval on md_gender gold labeled dataset"
   ]
  },
  {
   "cell_type": "code",
   "execution_count": null,
   "id": "5fb1d59e-2c5d-4767-944a-012fc735d2ef",
   "metadata": {
    "jupyter": {
     "source_hidden": true
    },
    "tags": []
   },
   "outputs": [],
   "source": [
    "new_data = load_dataset('md_gender_bias','new_data')\n",
    "new_data_filtered = new_data['train'].filter(lambda x: x['class_type'] == 0)\n",
    "\n",
    "dictionary = {'text': new_data_filtered['text'], 'labels' : list(map(lambda x: x[0]+1,new_data_filtered['labels']))}\n",
    "new_data_final = Dataset.from_dict(dictionary)\n",
    "labels_new = new_data_final['labels']\n",
    "\n",
    "with open(data_path + NEW_VALID,'r') as val_file:\n",
    "    new_valid_texts = val_file.read().splitlines()\n",
    "    \n",
    "dictionary = {'text': new_valid_texts, 'labels' : labels_new}\n",
    "new_data_cs = Dataset.from_dict(dictionary)"
   ]
  },
  {
   "cell_type": "code",
   "execution_count": null,
   "id": "393ff3f0-e29f-4650-b680-500237d4f3da",
   "metadata": {
    "jupyter": {
     "source_hidden": true
    },
    "tags": []
   },
   "outputs": [],
   "source": [
    "tokenized_final = new_data_cs.map(tokenize_function,batched=True)\n",
    "\n",
    "tokenized_final = tokenized_final.remove_columns(['text'])\n",
    "tokenized_final.set_format(\"torch\")\n",
    "\n",
    "data_collator = DataCollatorWithPadding(tokenizer=tokenizer)\n",
    "\n",
    "new_data_test = DataLoader(\n",
    "    tokenized_final, batch_size=tokenized_final.num_rows, collate_fn=data_collator)"
   ]
  },
  {
   "cell_type": "code",
   "execution_count": 562,
   "id": "cbfdceb9-d175-4968-878b-e7ca5201c1a9",
   "metadata": {
    "jupyter": {
     "source_hidden": true
    },
    "tags": []
   },
   "outputs": [
    {
     "name": "stdout",
     "output_type": "stream",
     "text": [
      "F1 score: 0.8011315656139166\n",
      "Accuracy score: 0.8012738853503185\n",
      "\n",
      "Confusion matrix, without normalization\n"
     ]
    },
    {
     "data": {
      "image/png": "[encoded data removed]",
      "text/plain": [
       "<Figure size 576x576 with 2 Axes>"
      ]
     },
     "metadata": {
      "needs_background": "light"
     },
     "output_type": "display_data"
    }
   ],
   "source": [
    "metric1 = load_metric(\"f1\")\n",
    "metric2 = load_metric(\"accuracy\")\n",
    "indices = torch.tensor([1,2]).to(device)\n",
    "preds = torch.Tensor([]).to(device)\n",
    "\n",
    "\n",
    "model.eval()\n",
    "for batch in new_data_test:\n",
    "    batch = {k: v.to(device) for k, v in batch.items()}\n",
    "    with torch.no_grad():\n",
    "        outputs = model(**batch)\n",
    "    \n",
    "    logits = outputs.logits\n",
    "    #throw away neutral class column\n",
    "    logits = torch.index_select(logits, 1, indices)\n",
    "    \n",
    "    preds = torch.cat((preds,logits),0)\n",
    "    predictions = torch.argmax(logits, dim=-1) + 1\n",
    "    metric1.add_batch(predictions=predictions, references=batch[\"labels\"])\n",
    "    metric2.add_batch(predictions=predictions, references=batch[\"labels\"])\n",
    "    \n",
    "score = metric1.compute(average=\"macro\")\n",
    "score2 = metric2.compute()\n",
    "print(\"F1 score: \" + str(score['f1']))\n",
    "print(\"Accuracy score: \" + str(score2['accuracy']) + \"\\n\")\n",
    "\n",
    "labels = torch.tensor(labels_new)\n",
    "preds = F.softmax(preds,dim=1).argmax(dim=1) + 1\n",
    "\n",
    "cm = confusion_matrix(labels,preds.cpu())\n",
    "plt.figure(figsize=(8,8))\n",
    "plot_confusion_matrix(cm,['female','male'])"
   ]
  },
  {
   "cell_type": "markdown",
   "id": "bc72cfe2-6d99-477c-9a1c-65c392c1dc78",
   "metadata": {},
   "source": [
    "### Some experiments with czech data"
   ]
  },
  {
   "cell_type": "code",
   "execution_count": 563,
   "id": "7a099671-3cec-4bca-89a7-0e1e0dfdcc27",
   "metadata": {
    "jupyter": {
     "source_hidden": true
    },
    "tags": []
   },
   "outputs": [],
   "source": [
    "def classify(idx):\n",
    "    return ['Neutral','Female','Male'][idx]\n",
    "def classify_sentence(sentence:str):\n",
    "    sentence = tokenizer(sentence,truncation=True,return_tensors=\"pt\")\n",
    "    model.eval()\n",
    "    with torch.no_grad():\n",
    "        sentence.to(device)\n",
    "        output = model(**sentence)\n",
    "    \n",
    "        classification = F.softmax(output.logits,dim=1).argmax(dim=1)\n",
    "        return ['Neutral','Female','Male'][classification.item()]"
   ]
  },
  {
   "cell_type": "code",
   "execution_count": 576,
   "id": "5252df0c-4633-48ed-b070-10892d8c8f5d",
   "metadata": {},
   "outputs": [],
   "source": [
    "text = ('O letošním držiteli ceny rozhodli předsedové parlamentních politických skupin, Navalného přitom nominovali zástupci Evropské lidové strany'\n",
    "        '(EPP) a frakce Obnova Evropy (Renew Europe). „Pane Putine, propusťte Alexeje Navalného,“ uvedla EPP na svém oficiálním twitterovém účtu.' \n",
    "        '„Evropa volá po svobodě jeho i všech dalších politických vězňů,“ pokračuje prohlášení. Mezi dalšími nominovanými byla rovněž vězněná '\n",
    "        'exprezidentka Bolívie Jeanine Áňezová a skupina afghánských aktivistek. Afghánské ženy se EP rozhodl ocenit tím, že věnuje celý týden' \n",
    "        'aktivitám, jejichž cílem bude povzbudit zájem veřejnosti o jejich situaci, oznámila Hautalová.')"
   ]
  },
  {
   "cell_type": "code",
   "execution_count": 580,
   "id": "7230eb17-1e55-46d0-9d93-79de66876ff0",
   "metadata": {},
   "outputs": [],
   "source": [
    "small_article = text.split('.')"
   ]
  },
  {
   "cell_type": "code",
   "execution_count": 581,
   "id": "0d157d2b-3255-4b85-bf85-fbf61ca4163f",
   "metadata": {},
   "outputs": [],
   "source": [
    "result = list(map(classify_sentence,small_article))"
   ]
  },
  {
   "cell_type": "code",
   "execution_count": 582,
   "id": "a0a57e00-6aa2-44ec-bd7c-9b5894ae9101",
   "metadata": {},
   "outputs": [
    {
     "data": {
      "text/plain": [
       "['Male', 'Male', 'Male', 'Female', 'Female', 'Neutral']"
      ]
     },
     "execution_count": 582,
     "metadata": {},
     "output_type": "execute_result"
    }
   ],
   "source": [
    "result"
   ]
  }
 ],
 "metadata": {
  "kernelspec": {
   "display_name": "Python 3",
   "language": "python",
   "name": "python3"
  },
  "language_info": {
   "codemirror_mode": {
    "name": "ipython",
    "version": 3
   },
   "file_extension": ".py",
   "mimetype": "text/x-python",
   "name": "python",
   "nbconvert_exporter": "python",
   "pygments_lexer": "ipython3",
   "version": "3.8.10"
  }
 },
 "nbformat": 4,
 "nbformat_minor": 5
}
