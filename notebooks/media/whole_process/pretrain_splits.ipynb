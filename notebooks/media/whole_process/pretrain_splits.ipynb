{
 "cells": [
  {
   "cell_type": "code",
   "execution_count": 2,
   "id": "9acc97d3-e35e-4a6e-b0f9-71baed045534",
   "metadata": {},
   "outputs": [],
   "source": [
    "# Making imports convenient\n",
    "import sys\n",
    "import os\n",
    "PATH=os.getcwd().split('/notebooks')[0]\n",
    "sys.path.insert(1, PATH)\n",
    "\n",
    "import torch\n",
    "from torch.utils.data import DataLoader\n",
    "from datasets import load_dataset, Dataset, concatenate_datasets\n",
    "import transformers\n",
    "from sklearn.model_selection import StratifiedKFold\n",
    "\n",
    "from transformers import AutoTokenizer, DataCollatorWithPadding,AutoModelForSequenceClassification,TrainingArguments,Trainer\n",
    "\n",
    "from src.utils.myutils import *\n",
    "import yaml\n",
    "from tqdm import tqdm\n",
    "import logging\n",
    "import json\n",
    "import warnings\n",
    "import random\n",
    "\n",
    "logging.disable(logging.ERROR)\n",
    "np.warnings.filterwarnings('ignore', category=np.VisibleDeprecationWarning)\n",
    "warnings.filterwarnings(\"ignore\", category=UserWarning) \n",
    "\n",
    "CS_DATA_PATH = PATH + '/data/CS/processed/BABE/train.csv'\n",
    "CONFIG_PATH = PATH + '/src/utils/config.yaml'\n",
    "\n",
    "device = torch.device(\"cuda\") if torch.cuda.is_available() else torch.device(\"cpu\")\n",
    "BATCH_SIZE = 64"
   ]
  },
  {
   "cell_type": "code",
   "execution_count": 1,
   "id": "43c04b3f-2935-4f2c-923a-756a913dac66",
   "metadata": {},
   "outputs": [
    {
     "ename": "NameError",
     "evalue": "name 'load_dataset' is not defined",
     "output_type": "error",
     "traceback": [
      "\u001b[0;31m---------------------------------------------------------------------------\u001b[0m",
      "\u001b[0;31mNameError\u001b[0m                                 Traceback (most recent call last)",
      "\u001b[0;32m/tmp/ipykernel_130443/484169110.py\u001b[0m in \u001b[0;36m<module>\u001b[0;34m\u001b[0m\n\u001b[1;32m      1\u001b[0m \u001b[0;31m#load all data\u001b[0m\u001b[0;34m\u001b[0m\u001b[0;34m\u001b[0m\u001b[0;34m\u001b[0m\u001b[0m\n\u001b[0;32m----> 2\u001b[0;31m \u001b[0mbabe\u001b[0m \u001b[0;34m=\u001b[0m \u001b[0mload_dataset\u001b[0m\u001b[0;34m(\u001b[0m\u001b[0;34m'csv'\u001b[0m\u001b[0;34m,\u001b[0m\u001b[0mdata_files\u001b[0m \u001b[0;34m=\u001b[0m \u001b[0mCS_DATA_PATH\u001b[0m\u001b[0;34m)\u001b[0m\u001b[0;34m[\u001b[0m\u001b[0;34m'train'\u001b[0m\u001b[0;34m]\u001b[0m\u001b[0;34m\u001b[0m\u001b[0;34m\u001b[0m\u001b[0m\n\u001b[0m",
      "\u001b[0;31mNameError\u001b[0m: name 'load_dataset' is not defined"
     ]
    }
   ],
   "source": [
    "#load all data\n",
    "babe = load_dataset('csv',data_files = CS_DATA_PATH)['train']\n"
   ]
  },
  {
   "cell_type": "code",
   "execution_count": 10,
   "id": "adc9ac4b-b8d5-4f1b-9370-648fef24a095",
   "metadata": {},
   "outputs": [],
   "source": [
    "subj = load_dataset('csv',data_files = '/home/horyctom/bias-detection-thesis/data/CS/raw/WikiBias/wikibias.csv')['train']"
   ]
  },
  {
   "cell_type": "code",
   "execution_count": 26,
   "id": "ddac48f1-7cfd-464c-a255-eeca6943959d",
   "metadata": {},
   "outputs": [],
   "source": [
    "subj = subj.filter(lambda x: len(x['sentence']) > 20)"
   ]
  },
  {
   "cell_type": "code",
   "execution_count": 27,
   "id": "028f7dec-daf9-4b48-ba12-acb7d963b5d1",
   "metadata": {},
   "outputs": [
    {
     "data": {
      "text/plain": [
       "1407010"
      ]
     },
     "execution_count": 27,
     "metadata": {},
     "output_type": "execute_result"
    }
   ],
   "source": [
    "subj.to_csv('/home/horyctom/bias-detection-thesis/data/CS/processed/SUBJ/subj.csv',index=False)"
   ]
  },
  {
   "cell_type": "code",
   "execution_count": null,
   "id": "1039d51f-85a3-4ab0-a36e-4c7771c4463e",
   "metadata": {},
   "outputs": [],
   "source": []
  }
 ],
 "metadata": {
  "kernelspec": {
   "display_name": "Python 3 (ipykernel)",
   "language": "python",
   "name": "python3"
  },
  "language_info": {
   "codemirror_mode": {
    "name": "ipython",
    "version": 3
   },
   "file_extension": ".py",
   "mimetype": "text/x-python",
   "name": "python",
   "nbconvert_exporter": "python",
   "pygments_lexer": "ipython3",
   "version": "3.8.6"
  }
 },
 "nbformat": 4,
 "nbformat_minor": 5
}
