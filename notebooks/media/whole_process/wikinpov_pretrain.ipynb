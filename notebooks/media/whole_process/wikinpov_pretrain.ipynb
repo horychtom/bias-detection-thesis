{
 "cells": [
  {
   "cell_type": "code",
   "execution_count": null,
   "id": "aa95ba24-a399-4e2f-89e8-0e35e10ade3a",
   "metadata": {},
   "outputs": [],
   "source": [
    "# Making imports convenient\n",
    "import sys\n",
    "import os\n",
    "PATH=os.getcwd().split('/notebooks')[0]\n",
    "sys.path.insert(1, PATH)\n",
    "\n",
    "import torch\n",
    "from torch.utils.data import DataLoader\n",
    "from datasets import load_dataset, Dataset, concatenate_datasets\n",
    "import transformers\n",
    "from sklearn.model_selection import StratifiedKFold\n",
    "\n",
    "from transformers import AutoTokenizer, DataCollatorWithPadding,AutoModelForSequenceClassification,TrainingArguments,Trainer\n",
    "\n",
    "from src.utils.myutils import *\n",
    "import yaml\n",
    "from tqdm import tqdm\n",
    "import logging\n",
    "import json\n",
    "import warnings\n",
    "import random\n",
    "import pandas as pd\n",
    "\n",
    "logging.disable(logging.ERROR)\n",
    "np.warnings.filterwarnings('ignore', category=np.VisibleDeprecationWarning)\n",
    "warnings.filterwarnings(\"ignore\", category=UserWarning) \n",
    "\n",
    "CS_DATA_PATH = PATH + '/data/CS/processed/'\n",
    "CONFIG_PATH = PATH + '/src/utils/config.yaml'\n",
    "\n",
    "device = torch.device(\"cuda\") if torch.cuda.is_available() else torch.device(\"cpu\")\n",
    "\n",
    "model_name = 'fav-kky/FERNET-C5'\n",
    "tokenizer = AutoTokenizer.from_pretrained(model_name, use_fast=False,padding=True)\n",
    "data_collator = DataCollatorWithPadding(tokenizer=tokenizer)\n",
    "\n",
    "BATCH_SIZE = 32"
   ]
  },
  {
   "cell_type": "code",
   "execution_count": 23,
   "id": "9f3fd663-81ae-4b8b-895b-3b1e583fbefe",
   "metadata": {},
   "outputs": [],
   "source": [
    "model_path = '/home/horyctom/bias-detection-thesis/src/models/trained/wiki_balanced.pth'"
   ]
  },
  {
   "cell_type": "markdown",
   "id": "f9c3d5d7-6b23-467e-baa7-faeaed0f9ba3",
   "metadata": {},
   "source": [
    "## Data"
   ]
  },
  {
   "cell_type": "code",
   "execution_count": 24,
   "id": "1573fd57-42f4-439e-a2df-5e94e8e62518",
   "metadata": {},
   "outputs": [],
   "source": [
    "cw_hard = load_dataset('csv',data_files = CS_DATA_PATH + 'CW-HARD/cw-hard.csv')['train']\n",
    "cwnc = load_dataset('csv',data_files = CS_DATA_PATH + 'CWNC/cwnc.csv')['train']\n",
    "wikibias = load_dataset('csv',data_files = CS_DATA_PATH + 'WikiBias/wikibias.csv')['train']"
   ]
  },
  {
   "cell_type": "code",
   "execution_count": 25,
   "id": "71ed02ba-d00a-4c70-b301-fb3ece4a6ba7",
   "metadata": {},
   "outputs": [],
   "source": [
    "wikinpov = concatenate_datasets([cw_hard,cwnc,wikibias]).shuffle(seed=42)"
   ]
  },
  {
   "cell_type": "code",
   "execution_count": 26,
   "id": "046cbe4a-3ce4-4a11-8926-a97b32da9a89",
   "metadata": {},
   "outputs": [
    {
     "data": {
      "application/vnd.jupyter.widget-view+json": {
       "model_id": "cbc01c7926dc49e6886f9fa4b6b63f40",
       "version_major": 2,
       "version_minor": 0
      },
      "text/plain": [
       "  0%|          | 0/19 [00:00<?, ?ba/s]"
      ]
     },
     "metadata": {},
     "output_type": "display_data"
    },
    {
     "data": {
      "application/vnd.jupyter.widget-view+json": {
       "model_id": "816a147310954212b07c5e1babc356fe",
       "version_major": 2,
       "version_minor": 0
      },
      "text/plain": [
       "  0%|          | 0/19 [00:00<?, ?ba/s]"
      ]
     },
     "metadata": {},
     "output_type": "display_data"
    }
   ],
   "source": [
    "unbalanced = wikinpov\n",
    "balanced = resample(wikinpov)"
   ]
  },
  {
   "cell_type": "markdown",
   "id": "cb027534-f76c-469a-a0f8-463f70a1e06e",
   "metadata": {},
   "source": [
    "## Unbalanced"
   ]
  },
  {
   "cell_type": "code",
   "execution_count": 18,
   "id": "c18bc450-54fc-4da2-a7c1-9ec2693f9464",
   "metadata": {},
   "outputs": [
    {
     "data": {
      "application/vnd.jupyter.widget-view+json": {
       "model_id": "b7fd9fbc371d45d4a18fe3479f514b34",
       "version_major": 2,
       "version_minor": 0
      },
      "text/plain": [
       "  0%|          | 0/19 [00:00<?, ?ba/s]"
      ]
     },
     "metadata": {},
     "output_type": "display_data"
    }
   ],
   "source": [
    "tokenized = preprocess_data(unbalanced,tokenizer,'sentence')\n",
    "tokenized = tokenized.train_test_split(0.2)"
   ]
  },
  {
   "cell_type": "code",
   "execution_count": 19,
   "id": "92a72224-44c5-43cd-8e1f-02257ae8a16b",
   "metadata": {},
   "outputs": [],
   "source": [
    "pretraining_args = TrainingArguments(\n",
    "    num_train_epochs=5,\n",
    "    per_device_train_batch_size=BATCH_SIZE,  \n",
    "    per_device_eval_batch_size=BATCH_SIZE,\n",
    "    eval_steps=50,\n",
    "    logging_steps=50,\n",
    "    save_steps=400,\n",
    "    disable_tqdm = False,\n",
    "    warmup_steps=0,\n",
    "    save_total_limit=1,\n",
    "    evaluation_strategy=\"steps\",\n",
    "    weight_decay=0.1,\n",
    "    output_dir = './',\n",
    "    learning_rate=2e-5)"
   ]
  },
  {
   "cell_type": "code",
   "execution_count": 20,
   "id": "012904bc-cf61-48e2-a4b2-d8591d6faefb",
   "metadata": {
    "collapsed": true,
    "jupyter": {
     "outputs_hidden": true
    },
    "tags": []
   },
   "outputs": [
    {
     "data": {
      "text/html": [
       "\n",
       "    <div>\n",
       "      \n",
       "      <progress value='2365' max='2365' style='width:300px; height:20px; vertical-align: middle;'></progress>\n",
       "      [2365/2365 13:56, Epoch 5/5]\n",
       "    </div>\n",
       "    <table border=\"1\" class=\"dataframe\">\n",
       "  <thead>\n",
       "    <tr style=\"text-align: left;\">\n",
       "      <th>Step</th>\n",
       "      <th>Training Loss</th>\n",
       "      <th>Validation Loss</th>\n",
       "      <th>F1</th>\n",
       "    </tr>\n",
       "  </thead>\n",
       "  <tbody>\n",
       "    <tr>\n",
       "      <td>50</td>\n",
       "      <td>0.688100</td>\n",
       "      <td>0.658581</td>\n",
       "      <td>0.413793</td>\n",
       "    </tr>\n",
       "    <tr>\n",
       "      <td>100</td>\n",
       "      <td>0.656600</td>\n",
       "      <td>0.593583</td>\n",
       "      <td>0.534646</td>\n",
       "    </tr>\n",
       "    <tr>\n",
       "      <td>150</td>\n",
       "      <td>0.610800</td>\n",
       "      <td>0.581097</td>\n",
       "      <td>0.639612</td>\n",
       "    </tr>\n",
       "    <tr>\n",
       "      <td>200</td>\n",
       "      <td>0.582000</td>\n",
       "      <td>0.580093</td>\n",
       "      <td>0.650623</td>\n",
       "    </tr>\n",
       "    <tr>\n",
       "      <td>250</td>\n",
       "      <td>0.576000</td>\n",
       "      <td>0.564931</td>\n",
       "      <td>0.620416</td>\n",
       "    </tr>\n",
       "    <tr>\n",
       "      <td>300</td>\n",
       "      <td>0.560600</td>\n",
       "      <td>0.567797</td>\n",
       "      <td>0.650673</td>\n",
       "    </tr>\n",
       "    <tr>\n",
       "      <td>350</td>\n",
       "      <td>0.566500</td>\n",
       "      <td>0.559251</td>\n",
       "      <td>0.634466</td>\n",
       "    </tr>\n",
       "    <tr>\n",
       "      <td>400</td>\n",
       "      <td>0.575600</td>\n",
       "      <td>0.567772</td>\n",
       "      <td>0.639531</td>\n",
       "    </tr>\n",
       "    <tr>\n",
       "      <td>450</td>\n",
       "      <td>0.566800</td>\n",
       "      <td>0.569634</td>\n",
       "      <td>0.636392</td>\n",
       "    </tr>\n",
       "    <tr>\n",
       "      <td>500</td>\n",
       "      <td>0.522300</td>\n",
       "      <td>0.640821</td>\n",
       "      <td>0.611820</td>\n",
       "    </tr>\n",
       "    <tr>\n",
       "      <td>550</td>\n",
       "      <td>0.513400</td>\n",
       "      <td>0.584541</td>\n",
       "      <td>0.610434</td>\n",
       "    </tr>\n",
       "    <tr>\n",
       "      <td>600</td>\n",
       "      <td>0.522800</td>\n",
       "      <td>0.582281</td>\n",
       "      <td>0.596708</td>\n",
       "    </tr>\n",
       "    <tr>\n",
       "      <td>650</td>\n",
       "      <td>0.522800</td>\n",
       "      <td>0.574649</td>\n",
       "      <td>0.594448</td>\n",
       "    </tr>\n",
       "    <tr>\n",
       "      <td>700</td>\n",
       "      <td>0.489900</td>\n",
       "      <td>0.587287</td>\n",
       "      <td>0.632634</td>\n",
       "    </tr>\n",
       "    <tr>\n",
       "      <td>750</td>\n",
       "      <td>0.523400</td>\n",
       "      <td>0.572765</td>\n",
       "      <td>0.606595</td>\n",
       "    </tr>\n",
       "    <tr>\n",
       "      <td>800</td>\n",
       "      <td>0.514700</td>\n",
       "      <td>0.604362</td>\n",
       "      <td>0.636916</td>\n",
       "    </tr>\n",
       "    <tr>\n",
       "      <td>850</td>\n",
       "      <td>0.513600</td>\n",
       "      <td>0.577149</td>\n",
       "      <td>0.593414</td>\n",
       "    </tr>\n",
       "    <tr>\n",
       "      <td>900</td>\n",
       "      <td>0.527700</td>\n",
       "      <td>0.590070</td>\n",
       "      <td>0.546662</td>\n",
       "    </tr>\n",
       "    <tr>\n",
       "      <td>950</td>\n",
       "      <td>0.501800</td>\n",
       "      <td>0.591439</td>\n",
       "      <td>0.628001</td>\n",
       "    </tr>\n",
       "    <tr>\n",
       "      <td>1000</td>\n",
       "      <td>0.444900</td>\n",
       "      <td>0.638966</td>\n",
       "      <td>0.614957</td>\n",
       "    </tr>\n",
       "    <tr>\n",
       "      <td>1050</td>\n",
       "      <td>0.444500</td>\n",
       "      <td>0.653829</td>\n",
       "      <td>0.628439</td>\n",
       "    </tr>\n",
       "    <tr>\n",
       "      <td>1100</td>\n",
       "      <td>0.438000</td>\n",
       "      <td>0.667689</td>\n",
       "      <td>0.595773</td>\n",
       "    </tr>\n",
       "    <tr>\n",
       "      <td>1150</td>\n",
       "      <td>0.421800</td>\n",
       "      <td>0.657647</td>\n",
       "      <td>0.587771</td>\n",
       "    </tr>\n",
       "    <tr>\n",
       "      <td>1200</td>\n",
       "      <td>0.427400</td>\n",
       "      <td>0.692748</td>\n",
       "      <td>0.620201</td>\n",
       "    </tr>\n",
       "    <tr>\n",
       "      <td>1250</td>\n",
       "      <td>0.418600</td>\n",
       "      <td>0.691002</td>\n",
       "      <td>0.570650</td>\n",
       "    </tr>\n",
       "    <tr>\n",
       "      <td>1300</td>\n",
       "      <td>0.425100</td>\n",
       "      <td>0.693911</td>\n",
       "      <td>0.568167</td>\n",
       "    </tr>\n",
       "    <tr>\n",
       "      <td>1350</td>\n",
       "      <td>0.418100</td>\n",
       "      <td>0.712690</td>\n",
       "      <td>0.585522</td>\n",
       "    </tr>\n",
       "    <tr>\n",
       "      <td>1400</td>\n",
       "      <td>0.435600</td>\n",
       "      <td>0.672369</td>\n",
       "      <td>0.619612</td>\n",
       "    </tr>\n",
       "    <tr>\n",
       "      <td>1450</td>\n",
       "      <td>0.397100</td>\n",
       "      <td>0.775204</td>\n",
       "      <td>0.574461</td>\n",
       "    </tr>\n",
       "    <tr>\n",
       "      <td>1500</td>\n",
       "      <td>0.350400</td>\n",
       "      <td>0.758699</td>\n",
       "      <td>0.596987</td>\n",
       "    </tr>\n",
       "    <tr>\n",
       "      <td>1550</td>\n",
       "      <td>0.340200</td>\n",
       "      <td>0.792207</td>\n",
       "      <td>0.592798</td>\n",
       "    </tr>\n",
       "    <tr>\n",
       "      <td>1600</td>\n",
       "      <td>0.331600</td>\n",
       "      <td>0.819004</td>\n",
       "      <td>0.588235</td>\n",
       "    </tr>\n",
       "    <tr>\n",
       "      <td>1650</td>\n",
       "      <td>0.340500</td>\n",
       "      <td>0.832777</td>\n",
       "      <td>0.579268</td>\n",
       "    </tr>\n",
       "    <tr>\n",
       "      <td>1700</td>\n",
       "      <td>0.376800</td>\n",
       "      <td>0.793296</td>\n",
       "      <td>0.571072</td>\n",
       "    </tr>\n",
       "    <tr>\n",
       "      <td>1750</td>\n",
       "      <td>0.360200</td>\n",
       "      <td>0.817179</td>\n",
       "      <td>0.569085</td>\n",
       "    </tr>\n",
       "    <tr>\n",
       "      <td>1800</td>\n",
       "      <td>0.339300</td>\n",
       "      <td>0.853781</td>\n",
       "      <td>0.576261</td>\n",
       "    </tr>\n",
       "    <tr>\n",
       "      <td>1850</td>\n",
       "      <td>0.342700</td>\n",
       "      <td>0.840194</td>\n",
       "      <td>0.583885</td>\n",
       "    </tr>\n",
       "    <tr>\n",
       "      <td>1900</td>\n",
       "      <td>0.333900</td>\n",
       "      <td>0.840154</td>\n",
       "      <td>0.584878</td>\n",
       "    </tr>\n",
       "    <tr>\n",
       "      <td>1950</td>\n",
       "      <td>0.303400</td>\n",
       "      <td>0.906386</td>\n",
       "      <td>0.573300</td>\n",
       "    </tr>\n",
       "    <tr>\n",
       "      <td>2000</td>\n",
       "      <td>0.265700</td>\n",
       "      <td>0.943360</td>\n",
       "      <td>0.558824</td>\n",
       "    </tr>\n",
       "    <tr>\n",
       "      <td>2050</td>\n",
       "      <td>0.262500</td>\n",
       "      <td>0.947111</td>\n",
       "      <td>0.573071</td>\n",
       "    </tr>\n",
       "    <tr>\n",
       "      <td>2100</td>\n",
       "      <td>0.273700</td>\n",
       "      <td>0.958696</td>\n",
       "      <td>0.567445</td>\n",
       "    </tr>\n",
       "    <tr>\n",
       "      <td>2150</td>\n",
       "      <td>0.286400</td>\n",
       "      <td>0.969225</td>\n",
       "      <td>0.556583</td>\n",
       "    </tr>\n",
       "    <tr>\n",
       "      <td>2200</td>\n",
       "      <td>0.301800</td>\n",
       "      <td>0.948634</td>\n",
       "      <td>0.558944</td>\n",
       "    </tr>\n",
       "    <tr>\n",
       "      <td>2250</td>\n",
       "      <td>0.270500</td>\n",
       "      <td>0.951438</td>\n",
       "      <td>0.560025</td>\n",
       "    </tr>\n",
       "    <tr>\n",
       "      <td>2300</td>\n",
       "      <td>0.293400</td>\n",
       "      <td>0.944377</td>\n",
       "      <td>0.565564</td>\n",
       "    </tr>\n",
       "    <tr>\n",
       "      <td>2350</td>\n",
       "      <td>0.282800</td>\n",
       "      <td>0.947871</td>\n",
       "      <td>0.561120</td>\n",
       "    </tr>\n",
       "  </tbody>\n",
       "</table><p>"
      ],
      "text/plain": [
       "<IPython.core.display.HTML object>"
      ]
     },
     "metadata": {},
     "output_type": "display_data"
    },
    {
     "data": {
      "text/plain": [
       "TrainOutput(global_step=2365, training_loss=0.434216161510153, metrics={'train_runtime': 837.2231, 'train_samples_per_second': 90.352, 'train_steps_per_second': 2.825, 'total_flos': 3307875868532220.0, 'train_loss': 0.434216161510153, 'epoch': 5.0})"
      ]
     },
     "execution_count": 20,
     "metadata": {},
     "output_type": "execute_result"
    }
   ],
   "source": [
    "model = AutoModelForSequenceClassification.from_pretrained(model_name,num_labels=2);\n",
    "model.to(device)\n",
    "trainer = Trainer(model,pretraining_args,train_dataset=tokenized['train'],data_collator=data_collator,\n",
    "                  tokenizer=tokenizer,eval_dataset=tokenized['test'],compute_metrics=compute_metrics_eval)\n",
    "trainer.train()"
   ]
  },
  {
   "cell_type": "code",
   "execution_count": 21,
   "id": "ac194208-8ec1-43af-9bda-0458bca2334c",
   "metadata": {},
   "outputs": [
    {
     "data": {
      "image/png": "[encoded data removed]",
      "text/plain": [
       "<Figure size 432x288 with 1 Axes>"
      ]
     },
     "metadata": {
      "needs_background": "light"
     },
     "output_type": "display_data"
    }
   ],
   "source": [
    " plot_losses(pd.read_csv('wikinpov_unbalanced.loss',sep='\\t'))"
   ]
  },
  {
   "cell_type": "markdown",
   "id": "d8ec57bb-f92e-46d9-9788-23964223e166",
   "metadata": {},
   "source": [
    "## Balanced"
   ]
  },
  {
   "cell_type": "code",
   "execution_count": 27,
   "id": "b75b232f-4609-48fb-a1e6-6f514c1ebf14",
   "metadata": {},
   "outputs": [
    {
     "data": {
      "application/vnd.jupyter.widget-view+json": {
       "model_id": "bb26165ca1fd4a57a4b1fe1a43b40d65",
       "version_major": 2,
       "version_minor": 0
      },
      "text/plain": [
       "  0%|          | 0/17 [00:00<?, ?ba/s]"
      ]
     },
     "metadata": {},
     "output_type": "display_data"
    }
   ],
   "source": [
    "tokenized = preprocess_data(balanced,tokenizer,'sentence')\n",
    "tokenized = tokenized.train_test_split(0.2)"
   ]
  },
  {
   "cell_type": "code",
   "execution_count": 28,
   "id": "3da7f6a2-7492-4722-99db-91e0ccb425e9",
   "metadata": {},
   "outputs": [],
   "source": [
    "pretraining_args = TrainingArguments(\n",
    "    num_train_epochs=3,\n",
    "    per_device_train_batch_size=BATCH_SIZE,  \n",
    "    per_device_eval_batch_size=BATCH_SIZE,\n",
    "    eval_steps=50,\n",
    "    logging_steps=50,\n",
    "    save_steps=400,\n",
    "    disable_tqdm = False,\n",
    "    warmup_steps=0,\n",
    "    save_total_limit=1,\n",
    "    evaluation_strategy=\"steps\",\n",
    "    weight_decay=0.1,\n",
    "    output_dir = './',\n",
    "    learning_rate=2e-5)"
   ]
  },
  {
   "cell_type": "code",
   "execution_count": 29,
   "id": "43de8ae8-d3f5-49eb-8bbc-1d1fd06e87dd",
   "metadata": {},
   "outputs": [
    {
     "data": {
      "text/html": [
       "\n",
       "    <div>\n",
       "      \n",
       "      <progress value='1221' max='1221' style='width:300px; height:20px; vertical-align: middle;'></progress>\n",
       "      [1221/1221 07:03, Epoch 3/3]\n",
       "    </div>\n",
       "    <table border=\"1\" class=\"dataframe\">\n",
       "  <thead>\n",
       "    <tr style=\"text-align: left;\">\n",
       "      <th>Step</th>\n",
       "      <th>Training Loss</th>\n",
       "      <th>Validation Loss</th>\n",
       "      <th>F1</th>\n",
       "    </tr>\n",
       "  </thead>\n",
       "  <tbody>\n",
       "    <tr>\n",
       "      <td>50</td>\n",
       "      <td>0.704300</td>\n",
       "      <td>0.681517</td>\n",
       "      <td>0.358681</td>\n",
       "    </tr>\n",
       "    <tr>\n",
       "      <td>100</td>\n",
       "      <td>0.681400</td>\n",
       "      <td>0.669684</td>\n",
       "      <td>0.671339</td>\n",
       "    </tr>\n",
       "    <tr>\n",
       "      <td>150</td>\n",
       "      <td>0.666800</td>\n",
       "      <td>0.597389</td>\n",
       "      <td>0.656934</td>\n",
       "    </tr>\n",
       "    <tr>\n",
       "      <td>200</td>\n",
       "      <td>0.601700</td>\n",
       "      <td>0.577068</td>\n",
       "      <td>0.679520</td>\n",
       "    </tr>\n",
       "    <tr>\n",
       "      <td>250</td>\n",
       "      <td>0.587300</td>\n",
       "      <td>0.572322</td>\n",
       "      <td>0.691812</td>\n",
       "    </tr>\n",
       "    <tr>\n",
       "      <td>300</td>\n",
       "      <td>0.589000</td>\n",
       "      <td>0.567729</td>\n",
       "      <td>0.699342</td>\n",
       "    </tr>\n",
       "    <tr>\n",
       "      <td>350</td>\n",
       "      <td>0.583800</td>\n",
       "      <td>0.573837</td>\n",
       "      <td>0.644622</td>\n",
       "    </tr>\n",
       "    <tr>\n",
       "      <td>400</td>\n",
       "      <td>0.579700</td>\n",
       "      <td>0.564654</td>\n",
       "      <td>0.707550</td>\n",
       "    </tr>\n",
       "    <tr>\n",
       "      <td>450</td>\n",
       "      <td>0.551000</td>\n",
       "      <td>0.580439</td>\n",
       "      <td>0.650602</td>\n",
       "    </tr>\n",
       "    <tr>\n",
       "      <td>500</td>\n",
       "      <td>0.520900</td>\n",
       "      <td>0.593930</td>\n",
       "      <td>0.625576</td>\n",
       "    </tr>\n",
       "    <tr>\n",
       "      <td>550</td>\n",
       "      <td>0.536700</td>\n",
       "      <td>0.573026</td>\n",
       "      <td>0.677850</td>\n",
       "    </tr>\n",
       "    <tr>\n",
       "      <td>600</td>\n",
       "      <td>0.522700</td>\n",
       "      <td>0.579372</td>\n",
       "      <td>0.678582</td>\n",
       "    </tr>\n",
       "    <tr>\n",
       "      <td>650</td>\n",
       "      <td>0.524400</td>\n",
       "      <td>0.586659</td>\n",
       "      <td>0.666879</td>\n",
       "    </tr>\n",
       "    <tr>\n",
       "      <td>700</td>\n",
       "      <td>0.515300</td>\n",
       "      <td>0.587277</td>\n",
       "      <td>0.669010</td>\n",
       "    </tr>\n",
       "    <tr>\n",
       "      <td>750</td>\n",
       "      <td>0.521800</td>\n",
       "      <td>0.595727</td>\n",
       "      <td>0.661259</td>\n",
       "    </tr>\n",
       "    <tr>\n",
       "      <td>800</td>\n",
       "      <td>0.546700</td>\n",
       "      <td>0.571063</td>\n",
       "      <td>0.696590</td>\n",
       "    </tr>\n",
       "    <tr>\n",
       "      <td>850</td>\n",
       "      <td>0.513400</td>\n",
       "      <td>0.613831</td>\n",
       "      <td>0.663229</td>\n",
       "    </tr>\n",
       "    <tr>\n",
       "      <td>900</td>\n",
       "      <td>0.437700</td>\n",
       "      <td>0.638509</td>\n",
       "      <td>0.708356</td>\n",
       "    </tr>\n",
       "    <tr>\n",
       "      <td>950</td>\n",
       "      <td>0.459000</td>\n",
       "      <td>0.647659</td>\n",
       "      <td>0.674839</td>\n",
       "    </tr>\n",
       "    <tr>\n",
       "      <td>1000</td>\n",
       "      <td>0.462600</td>\n",
       "      <td>0.630549</td>\n",
       "      <td>0.672523</td>\n",
       "    </tr>\n",
       "    <tr>\n",
       "      <td>1050</td>\n",
       "      <td>0.457400</td>\n",
       "      <td>0.626175</td>\n",
       "      <td>0.672556</td>\n",
       "    </tr>\n",
       "    <tr>\n",
       "      <td>1100</td>\n",
       "      <td>0.473500</td>\n",
       "      <td>0.632627</td>\n",
       "      <td>0.656321</td>\n",
       "    </tr>\n",
       "    <tr>\n",
       "      <td>1150</td>\n",
       "      <td>0.448100</td>\n",
       "      <td>0.635293</td>\n",
       "      <td>0.662256</td>\n",
       "    </tr>\n",
       "    <tr>\n",
       "      <td>1200</td>\n",
       "      <td>0.468200</td>\n",
       "      <td>0.632228</td>\n",
       "      <td>0.659466</td>\n",
       "    </tr>\n",
       "  </tbody>\n",
       "</table><p>"
      ],
      "text/plain": [
       "<IPython.core.display.HTML object>"
      ]
     },
     "metadata": {},
     "output_type": "display_data"
    },
    {
     "data": {
      "text/plain": [
       "TrainOutput(global_step=1221, training_loss=0.538036973626764, metrics={'train_runtime': 423.9784, 'train_samples_per_second': 92.028, 'train_steps_per_second': 2.88, 'total_flos': 1700246250842640.0, 'train_loss': 0.538036973626764, 'epoch': 3.0})"
      ]
     },
     "execution_count": 29,
     "metadata": {},
     "output_type": "execute_result"
    }
   ],
   "source": [
    "model = AutoModelForSequenceClassification.from_pretrained(model_name,num_labels=2);\n",
    "model.to(device)\n",
    "trainer = Trainer(model,pretraining_args,train_dataset=tokenized['train'],data_collator=data_collator,\n",
    "                  tokenizer=tokenizer,eval_dataset=tokenized['test'],compute_metrics=compute_metrics_eval)\n",
    "trainer.train()"
   ]
  },
  {
   "cell_type": "code",
   "execution_count": 30,
   "id": "9acc9156-0f45-4775-a0c7-c6d62643d868",
   "metadata": {},
   "outputs": [
    {
     "data": {
      "image/png": "[encoded data removed]",
      "text/plain": [
       "<Figure size 432x288 with 1 Axes>"
      ]
     },
     "metadata": {
      "needs_background": "light"
     },
     "output_type": "display_data"
    }
   ],
   "source": [
    " plot_losses(pd.read_csv('wikinpov_balanced.loss',sep='\\t'))"
   ]
  },
  {
   "cell_type": "markdown",
   "id": "c0ea4dab-c98b-4927-b577-f341c0de872c",
   "metadata": {},
   "source": [
    "## Train on all"
   ]
  },
  {
   "cell_type": "code",
   "execution_count": 31,
   "id": "bab957d7-10e0-4a4c-b209-4c666417ce96",
   "metadata": {},
   "outputs": [],
   "source": [
    "tokenized = preprocess_data(balanced,tokenizer,'sentence')"
   ]
  },
  {
   "cell_type": "code",
   "execution_count": 32,
   "id": "1ebee690-b64a-452e-94d0-7c4275e3d5e6",
   "metadata": {},
   "outputs": [],
   "source": [
    "pretraining_args = TrainingArguments(\n",
    "    num_train_epochs=2,\n",
    "    per_device_train_batch_size=32,  \n",
    "    logging_steps=100,\n",
    "    save_steps=400,\n",
    "    disable_tqdm = False,\n",
    "    warmup_steps=0,\n",
    "    save_total_limit=1,\n",
    "    weight_decay=0.1,\n",
    "    output_dir = './',\n",
    "    learning_rate=2e-5)"
   ]
  },
  {
   "cell_type": "code",
   "execution_count": 34,
   "id": "7270c98f-d431-467b-aa50-2c69a1968f9f",
   "metadata": {},
   "outputs": [
    {
     "data": {
      "text/html": [
       "\n",
       "    <div>\n",
       "      \n",
       "      <progress value='1018' max='1018' style='width:300px; height:20px; vertical-align: middle;'></progress>\n",
       "      [1018/1018 03:20, Epoch 2/2]\n",
       "    </div>\n",
       "    <table border=\"1\" class=\"dataframe\">\n",
       "  <thead>\n",
       "    <tr style=\"text-align: left;\">\n",
       "      <th>Step</th>\n",
       "      <th>Training Loss</th>\n",
       "    </tr>\n",
       "  </thead>\n",
       "  <tbody>\n",
       "    <tr>\n",
       "      <td>100</td>\n",
       "      <td>0.698800</td>\n",
       "    </tr>\n",
       "    <tr>\n",
       "      <td>200</td>\n",
       "      <td>0.635800</td>\n",
       "    </tr>\n",
       "    <tr>\n",
       "      <td>300</td>\n",
       "      <td>0.599500</td>\n",
       "    </tr>\n",
       "    <tr>\n",
       "      <td>400</td>\n",
       "      <td>0.599500</td>\n",
       "    </tr>\n",
       "    <tr>\n",
       "      <td>500</td>\n",
       "      <td>0.579100</td>\n",
       "    </tr>\n",
       "    <tr>\n",
       "      <td>600</td>\n",
       "      <td>0.530000</td>\n",
       "    </tr>\n",
       "    <tr>\n",
       "      <td>700</td>\n",
       "      <td>0.514000</td>\n",
       "    </tr>\n",
       "    <tr>\n",
       "      <td>800</td>\n",
       "      <td>0.548600</td>\n",
       "    </tr>\n",
       "    <tr>\n",
       "      <td>900</td>\n",
       "      <td>0.528500</td>\n",
       "    </tr>\n",
       "    <tr>\n",
       "      <td>1000</td>\n",
       "      <td>0.516300</td>\n",
       "    </tr>\n",
       "  </tbody>\n",
       "</table><p>"
      ],
      "text/plain": [
       "<IPython.core.display.HTML object>"
      ]
     },
     "metadata": {},
     "output_type": "display_data"
    }
   ],
   "source": [
    "model = AutoModelForSequenceClassification.from_pretrained(model_name,num_labels=2);\n",
    "model.to(device)\n",
    "trainer = Trainer(model,pretraining_args,train_dataset=tokenized,data_collator=data_collator,\n",
    "                  tokenizer=tokenizer)\n",
    "trainer.train()\n",
    "\n",
    "torch.save(model.state_dict(),model_path)"
   ]
  },
  {
   "cell_type": "code",
   "execution_count": null,
   "id": "3aced1ee-d5a1-4e8d-a347-15fb851815d1",
   "metadata": {},
   "outputs": [],
   "source": []
  }
 ],
 "metadata": {
  "kernelspec": {
   "display_name": "Python 3 (ipykernel)",
   "language": "python",
   "name": "python3"
  },
  "language_info": {
   "codemirror_mode": {
    "name": "ipython",
    "version": 3
   },
   "file_extension": ".py",
   "mimetype": "text/x-python",
   "name": "python",
   "nbconvert_exporter": "python",
   "pygments_lexer": "ipython3",
   "version": "3.8.6"
  }
 },
 "nbformat": 4,
 "nbformat_minor": 5
}
