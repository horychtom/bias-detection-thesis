{
 "cells": [
  {
   "cell_type": "code",
   "execution_count": 1,
   "id": "9565f62e-a263-4cfb-87fb-c76e07891208",
   "metadata": {
    "jupyter": {
     "source_hidden": true
    },
    "tags": []
   },
   "outputs": [],
   "source": [
    "# Making imports convenient\n",
    "import sys\n",
    "import os\n",
    "PATH=os.getcwd().split('/notebooks')[0]\n",
    "sys.path.insert(1, PATH)\n",
    "\n",
    "import torch\n",
    "from torch.utils.data import DataLoader\n",
    "from datasets import load_dataset, Dataset, concatenate_datasets\n",
    "import transformers\n",
    "from sklearn.model_selection import StratifiedKFold\n",
    "\n",
    "from transformers import AutoTokenizer, DataCollatorWithPadding,AutoModelForSequenceClassification,TrainingArguments,Trainer\n",
    "\n",
    "from src.utils.myutils import *\n",
    "import yaml\n",
    "from tqdm import tqdm\n",
    "import logging\n",
    "import json\n",
    "import warnings\n",
    "import random\n",
    "import pandas as pd\n",
    "\n",
    "logging.disable(logging.ERROR)\n",
    "np.warnings.filterwarnings('ignore', category=np.VisibleDeprecationWarning)\n",
    "warnings.filterwarnings(\"ignore\", category=UserWarning) \n",
    "\n",
    "CS_DATA_PATH = PATH + '/data/CS/processed/'\n",
    "CONFIG_PATH = PATH + '/src/utils/config.yaml'\n",
    "\n",
    "device = torch.device(\"cuda\") if torch.cuda.is_available() else torch.device(\"cpu\")\n",
    "\n",
    "model_name = 'fav-kky/FERNET-C5'\n",
    "tokenizer = AutoTokenizer.from_pretrained(model_name, use_fast=False,padding=True)\n",
    "data_collator = DataCollatorWithPadding(tokenizer=tokenizer)\n",
    "\n",
    "BATCH_SIZE = 32"
   ]
  },
  {
   "cell_type": "code",
   "execution_count": 2,
   "id": "a866bab6-f4e4-43bb-8fa4-4ec5ff9ba964",
   "metadata": {},
   "outputs": [],
   "source": [
    "model_path = '/home/horyctom/bias-detection-thesis/src/models/trained/subj_balanced.pth'"
   ]
  },
  {
   "cell_type": "markdown",
   "id": "69c16fdb-21a1-4027-abf9-91656cf3a556",
   "metadata": {},
   "source": [
    "## Data"
   ]
  },
  {
   "cell_type": "code",
   "execution_count": 3,
   "id": "070607d7-d128-4dd5-96a4-3a07f450db26",
   "metadata": {},
   "outputs": [],
   "source": [
    "mpqa = load_dataset('csv',data_files = CS_DATA_PATH + 'MPQA/mpqa.csv')['train']\n",
    "subj = load_dataset('csv',data_files = CS_DATA_PATH + 'SUBJ/subj.csv')['train']\n",
    "\n",
    "subj = concatenate_datasets([subj,resample(mpqa)])\n",
    "subj = subj.shuffle(seed=42)"
   ]
  },
  {
   "cell_type": "code",
   "execution_count": 4,
   "id": "ec154c18-b15f-446b-bfb4-d280eea385f3",
   "metadata": {},
   "outputs": [],
   "source": [
    "tokenized = preprocess_data(subj,tokenizer,'sentence')\n",
    "tokenized = tokenized.train_test_split(0.2)"
   ]
  },
  {
   "cell_type": "markdown",
   "id": "9a87ea42-835b-498b-b270-46e3f927d8ae",
   "metadata": {},
   "source": [
    "## Training"
   ]
  },
  {
   "cell_type": "code",
   "execution_count": 2,
   "id": "fb4329c7-85f5-4b27-90f8-3de638c6a1f8",
   "metadata": {},
   "outputs": [],
   "source": [
    "pretraining_args = TrainingArguments(\n",
    "    num_train_epochs=3,\n",
    "    per_device_train_batch_size=BATCH_SIZE,  \n",
    "    per_device_eval_batch_size=BATCH_SIZE,\n",
    "    eval_steps=100,\n",
    "    logging_steps=100,\n",
    "    save_steps=400,\n",
    "    disable_tqdm = False,\n",
    "    warmup_steps=0,\n",
    "    save_total_limit=1,\n",
    "    evaluation_strategy=\"steps\",\n",
    "    weight_decay=0.1,\n",
    "    output_dir = './',\n",
    "    learning_rate=2e-5)"
   ]
  },
  {
   "cell_type": "code",
   "execution_count": 5,
   "id": "98895191-363c-4807-a2a5-9152b051ca87",
   "metadata": {
    "tags": []
   },
   "outputs": [
    {
     "data": {
      "text/html": [
       "\n",
       "    <div>\n",
       "      \n",
       "      <progress value='1608' max='1608' style='width:300px; height:20px; vertical-align: middle;'></progress>\n",
       "      [1608/1608 07:08, Epoch 3/3]\n",
       "    </div>\n",
       "    <table border=\"1\" class=\"dataframe\">\n",
       "  <thead>\n",
       "    <tr style=\"text-align: left;\">\n",
       "      <th>Step</th>\n",
       "      <th>Training Loss</th>\n",
       "      <th>Validation Loss</th>\n",
       "      <th>F1</th>\n",
       "    </tr>\n",
       "  </thead>\n",
       "  <tbody>\n",
       "    <tr>\n",
       "      <td>100</td>\n",
       "      <td>0.415100</td>\n",
       "      <td>0.308807</td>\n",
       "      <td>0.873756</td>\n",
       "    </tr>\n",
       "    <tr>\n",
       "      <td>200</td>\n",
       "      <td>0.335000</td>\n",
       "      <td>0.301406</td>\n",
       "      <td>0.878910</td>\n",
       "    </tr>\n",
       "    <tr>\n",
       "      <td>300</td>\n",
       "      <td>0.300700</td>\n",
       "      <td>0.284378</td>\n",
       "      <td>0.881433</td>\n",
       "    </tr>\n",
       "    <tr>\n",
       "      <td>400</td>\n",
       "      <td>0.283700</td>\n",
       "      <td>0.298764</td>\n",
       "      <td>0.880177</td>\n",
       "    </tr>\n",
       "    <tr>\n",
       "      <td>500</td>\n",
       "      <td>0.281900</td>\n",
       "      <td>0.255918</td>\n",
       "      <td>0.889504</td>\n",
       "    </tr>\n",
       "    <tr>\n",
       "      <td>600</td>\n",
       "      <td>0.224800</td>\n",
       "      <td>0.270404</td>\n",
       "      <td>0.891628</td>\n",
       "    </tr>\n",
       "    <tr>\n",
       "      <td>700</td>\n",
       "      <td>0.179000</td>\n",
       "      <td>0.284373</td>\n",
       "      <td>0.891879</td>\n",
       "    </tr>\n",
       "    <tr>\n",
       "      <td>800</td>\n",
       "      <td>0.177000</td>\n",
       "      <td>0.276595</td>\n",
       "      <td>0.892907</td>\n",
       "    </tr>\n",
       "    <tr>\n",
       "      <td>900</td>\n",
       "      <td>0.177400</td>\n",
       "      <td>0.278091</td>\n",
       "      <td>0.888466</td>\n",
       "    </tr>\n",
       "    <tr>\n",
       "      <td>1000</td>\n",
       "      <td>0.178100</td>\n",
       "      <td>0.265913</td>\n",
       "      <td>0.899449</td>\n",
       "    </tr>\n",
       "    <tr>\n",
       "      <td>1100</td>\n",
       "      <td>0.166900</td>\n",
       "      <td>0.284681</td>\n",
       "      <td>0.895066</td>\n",
       "    </tr>\n",
       "    <tr>\n",
       "      <td>1200</td>\n",
       "      <td>0.110500</td>\n",
       "      <td>0.321434</td>\n",
       "      <td>0.897477</td>\n",
       "    </tr>\n",
       "    <tr>\n",
       "      <td>1300</td>\n",
       "      <td>0.109000</td>\n",
       "      <td>0.308305</td>\n",
       "      <td>0.896360</td>\n",
       "    </tr>\n",
       "    <tr>\n",
       "      <td>1400</td>\n",
       "      <td>0.097500</td>\n",
       "      <td>0.310193</td>\n",
       "      <td>0.899210</td>\n",
       "    </tr>\n",
       "    <tr>\n",
       "      <td>1500</td>\n",
       "      <td>0.101300</td>\n",
       "      <td>0.311107</td>\n",
       "      <td>0.899104</td>\n",
       "    </tr>\n",
       "    <tr>\n",
       "      <td>1600</td>\n",
       "      <td>0.097200</td>\n",
       "      <td>0.313439</td>\n",
       "      <td>0.897912</td>\n",
       "    </tr>\n",
       "  </tbody>\n",
       "</table><p>"
      ],
      "text/plain": [
       "<IPython.core.display.HTML object>"
      ]
     },
     "metadata": {},
     "output_type": "display_data"
    },
    {
     "data": {
      "text/plain": [
       "TrainOutput(global_step=1608, training_loss=0.2017153022968354, metrics={'train_runtime': 429.3969, 'train_samples_per_second': 119.645, 'train_steps_per_second': 3.745, 'total_flos': 1831582861902360.0, 'train_loss': 0.2017153022968354, 'epoch': 3.0})"
      ]
     },
     "execution_count": 5,
     "metadata": {},
     "output_type": "execute_result"
    }
   ],
   "source": [
    "model = AutoModelForSequenceClassification.from_pretrained(model_name,num_labels=2);\n",
    "model.to(device)\n",
    "trainer = Trainer(model,pretraining_args,train_dataset=tokenized['train'],data_collator=data_collator,\n",
    "                  tokenizer=tokenizer,eval_dataset=tokenized['test'],compute_metrics=compute_metrics_eval)\n",
    "trainer.train()"
   ]
  },
  {
   "cell_type": "code",
   "execution_count": 8,
   "id": "f0ae58ba-d355-4724-9d5f-1bd1f2a229fa",
   "metadata": {},
   "outputs": [
    {
     "data": {
      "image/png": "[encoded data removed]",
      "text/plain": [
       "<Figure size 432x288 with 1 Axes>"
      ]
     },
     "metadata": {
      "needs_background": "light"
     },
     "output_type": "display_data"
    }
   ],
   "source": [
    "plot_losses(pd.read_csv('./logs/subj.loss',sep='\\t'),epochs=3,name=\"Subjective bias\")"
   ]
  },
  {
   "cell_type": "code",
   "execution_count": 12,
   "id": "b06ce079-8d26-47b9-b5df-44d128390604",
   "metadata": {},
   "outputs": [],
   "source": [
    "pretraining_args = TrainingArguments(\n",
    "    num_train_epochs=1,\n",
    "    per_device_train_batch_size=32,  \n",
    "    logging_steps=20,\n",
    "    save_steps=400,\n",
    "    disable_tqdm = False,\n",
    "    warmup_steps=0,\n",
    "    save_total_limit=1,\n",
    "    weight_decay=0.1,\n",
    "    output_dir = './',\n",
    "    learning_rate=2e-5)"
   ]
  },
  {
   "cell_type": "code",
   "execution_count": 13,
   "id": "038e9357-3a51-4e4d-86e7-6573fbdc24ed",
   "metadata": {},
   "outputs": [],
   "source": [
    "tokenized = preprocess_data(subj,tokenizer,'sentence')"
   ]
  },
  {
   "cell_type": "code",
   "execution_count": 14,
   "id": "7bd9d1f7-24ea-4d2e-9ca5-455ea644d33f",
   "metadata": {
    "collapsed": true,
    "jupyter": {
     "outputs_hidden": true
    },
    "tags": []
   },
   "outputs": [
    {
     "data": {
      "text/html": [
       "\n",
       "    <div>\n",
       "      \n",
       "      <progress value='669' max='669' style='width:300px; height:20px; vertical-align: middle;'></progress>\n",
       "      [669/669 02:18, Epoch 1/1]\n",
       "    </div>\n",
       "    <table border=\"1\" class=\"dataframe\">\n",
       "  <thead>\n",
       "    <tr style=\"text-align: left;\">\n",
       "      <th>Step</th>\n",
       "      <th>Training Loss</th>\n",
       "    </tr>\n",
       "  </thead>\n",
       "  <tbody>\n",
       "    <tr>\n",
       "      <td>20</td>\n",
       "      <td>0.580300</td>\n",
       "    </tr>\n",
       "    <tr>\n",
       "      <td>40</td>\n",
       "      <td>0.474500</td>\n",
       "    </tr>\n",
       "    <tr>\n",
       "      <td>60</td>\n",
       "      <td>0.378100</td>\n",
       "    </tr>\n",
       "    <tr>\n",
       "      <td>80</td>\n",
       "      <td>0.419600</td>\n",
       "    </tr>\n",
       "    <tr>\n",
       "      <td>100</td>\n",
       "      <td>0.408200</td>\n",
       "    </tr>\n",
       "    <tr>\n",
       "      <td>120</td>\n",
       "      <td>0.360100</td>\n",
       "    </tr>\n",
       "    <tr>\n",
       "      <td>140</td>\n",
       "      <td>0.356500</td>\n",
       "    </tr>\n",
       "    <tr>\n",
       "      <td>160</td>\n",
       "      <td>0.334600</td>\n",
       "    </tr>\n",
       "    <tr>\n",
       "      <td>180</td>\n",
       "      <td>0.314900</td>\n",
       "    </tr>\n",
       "    <tr>\n",
       "      <td>200</td>\n",
       "      <td>0.292000</td>\n",
       "    </tr>\n",
       "    <tr>\n",
       "      <td>220</td>\n",
       "      <td>0.335500</td>\n",
       "    </tr>\n",
       "    <tr>\n",
       "      <td>240</td>\n",
       "      <td>0.279000</td>\n",
       "    </tr>\n",
       "    <tr>\n",
       "      <td>260</td>\n",
       "      <td>0.283300</td>\n",
       "    </tr>\n",
       "    <tr>\n",
       "      <td>280</td>\n",
       "      <td>0.312300</td>\n",
       "    </tr>\n",
       "    <tr>\n",
       "      <td>300</td>\n",
       "      <td>0.286000</td>\n",
       "    </tr>\n",
       "    <tr>\n",
       "      <td>320</td>\n",
       "      <td>0.307300</td>\n",
       "    </tr>\n",
       "    <tr>\n",
       "      <td>340</td>\n",
       "      <td>0.351800</td>\n",
       "    </tr>\n",
       "    <tr>\n",
       "      <td>360</td>\n",
       "      <td>0.317000</td>\n",
       "    </tr>\n",
       "    <tr>\n",
       "      <td>380</td>\n",
       "      <td>0.305100</td>\n",
       "    </tr>\n",
       "    <tr>\n",
       "      <td>400</td>\n",
       "      <td>0.245300</td>\n",
       "    </tr>\n",
       "    <tr>\n",
       "      <td>420</td>\n",
       "      <td>0.293200</td>\n",
       "    </tr>\n",
       "    <tr>\n",
       "      <td>440</td>\n",
       "      <td>0.320800</td>\n",
       "    </tr>\n",
       "    <tr>\n",
       "      <td>460</td>\n",
       "      <td>0.279300</td>\n",
       "    </tr>\n",
       "    <tr>\n",
       "      <td>480</td>\n",
       "      <td>0.335100</td>\n",
       "    </tr>\n",
       "    <tr>\n",
       "      <td>500</td>\n",
       "      <td>0.293000</td>\n",
       "    </tr>\n",
       "    <tr>\n",
       "      <td>520</td>\n",
       "      <td>0.216300</td>\n",
       "    </tr>\n",
       "    <tr>\n",
       "      <td>540</td>\n",
       "      <td>0.265100</td>\n",
       "    </tr>\n",
       "    <tr>\n",
       "      <td>560</td>\n",
       "      <td>0.275000</td>\n",
       "    </tr>\n",
       "    <tr>\n",
       "      <td>580</td>\n",
       "      <td>0.321500</td>\n",
       "    </tr>\n",
       "    <tr>\n",
       "      <td>600</td>\n",
       "      <td>0.275400</td>\n",
       "    </tr>\n",
       "    <tr>\n",
       "      <td>620</td>\n",
       "      <td>0.253000</td>\n",
       "    </tr>\n",
       "    <tr>\n",
       "      <td>640</td>\n",
       "      <td>0.271600</td>\n",
       "    </tr>\n",
       "    <tr>\n",
       "      <td>660</td>\n",
       "      <td>0.259400</td>\n",
       "    </tr>\n",
       "  </tbody>\n",
       "</table><p>"
      ],
      "text/plain": [
       "<IPython.core.display.HTML object>"
      ]
     },
     "metadata": {},
     "output_type": "display_data"
    }
   ],
   "source": [
    "model = AutoModelForSequenceClassification.from_pretrained(model_name,num_labels=2);\n",
    "model.to(device)\n",
    "trainer = Trainer(model,pretraining_args,train_dataset=tokenized,data_collator=data_collator,\n",
    "                  tokenizer=tokenizer,eval_dataset=tokenized,compute_metrics=compute_metrics_eval)\n",
    "trainer.train()\n",
    "\n",
    "torch.save(model.state_dict(),balanced_path)"
   ]
  }
 ],
 "metadata": {
  "kernelspec": {
   "display_name": "Python 3 (ipykernel)",
   "language": "python",
   "name": "python3"
  },
  "language_info": {
   "codemirror_mode": {
    "name": "ipython",
    "version": 3
   },
   "file_extension": ".py",
   "mimetype": "text/x-python",
   "name": "python",
   "nbconvert_exporter": "python",
   "pygments_lexer": "ipython3",
   "version": "3.8.6"
  }
 },
 "nbformat": 4,
 "nbformat_minor": 5
}
