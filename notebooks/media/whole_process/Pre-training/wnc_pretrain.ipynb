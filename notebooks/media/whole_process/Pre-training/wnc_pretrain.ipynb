{
 "cells": [
  {
   "cell_type": "code",
   "execution_count": 1,
   "id": "bae2cf82-ca5e-4136-b49b-5ebc5a287b3b",
   "metadata": {},
   "outputs": [],
   "source": [
    "# Making imports convenient\n",
    "import sys\n",
    "import os\n",
    "PATH=os.getcwd().split('/notebooks')[0]\n",
    "sys.path.insert(1, PATH)\n",
    "\n",
    "import torch\n",
    "from torch.utils.data import DataLoader\n",
    "from datasets import load_dataset, Dataset, concatenate_datasets\n",
    "import transformers\n",
    "from sklearn.model_selection import StratifiedKFold\n",
    "\n",
    "from transformers import AutoTokenizer, DataCollatorWithPadding,AutoModelForSequenceClassification,TrainingArguments,Trainer\n",
    "\n",
    "from src.utils.myutils import *\n",
    "import yaml\n",
    "from tqdm import tqdm\n",
    "import logging\n",
    "import json\n",
    "import warnings\n",
    "import random\n",
    "import pandas as pd\n",
    "\n",
    "logging.disable(logging.ERROR)\n",
    "np.warnings.filterwarnings('ignore', category=np.VisibleDeprecationWarning)\n",
    "warnings.filterwarnings(\"ignore\", category=UserWarning) \n",
    "\n",
    "CS_DATA_PATH = PATH + '/data/CS/processed/'\n",
    "CONFIG_PATH = PATH + '/src/utils/config.yaml'\n",
    "\n",
    "device = torch.device(\"cuda\") if torch.cuda.is_available() else torch.device(\"cpu\")\n",
    "\n",
    "model_name = 'fav-kky/FERNET-C5'\n",
    "tokenizer = AutoTokenizer.from_pretrained(model_name, use_fast=False,padding=True)\n",
    "data_collator = DataCollatorWithPadding(tokenizer=tokenizer)\n",
    "\n",
    "BATCH_SIZE = 32"
   ]
  },
  {
   "cell_type": "code",
   "execution_count": 11,
   "id": "bba508bd-f154-4f39-a292-1f995303d61d",
   "metadata": {},
   "outputs": [],
   "source": [
    "model_path = '/home/horyctom/bias-detection-thesis/src/models/trained/wncs_balanced.pth'"
   ]
  },
  {
   "cell_type": "code",
   "execution_count": 3,
   "id": "bd7e278f-d765-4a72-bcc1-c5d5f02fb2cf",
   "metadata": {},
   "outputs": [],
   "source": [
    "wnc = load_dataset('csv',data_files = CS_DATA_PATH + 'WNC/wnc.csv')['train']"
   ]
  },
  {
   "cell_type": "markdown",
   "id": "7d72dd2c-82e4-4568-9d09-8b355626f3a4",
   "metadata": {},
   "source": [
    "## Train"
   ]
  },
  {
   "cell_type": "code",
   "execution_count": 6,
   "id": "3050711a-20c4-4a62-92fc-ab514745fca1",
   "metadata": {},
   "outputs": [
    {
     "data": {
      "application/vnd.jupyter.widget-view+json": {
       "model_id": "85fd6910b9c942bcb29551e3e77533a1",
       "version_major": 2,
       "version_minor": 0
      },
      "text/plain": [
       "  0%|          | 0/363 [00:00<?, ?ba/s]"
      ]
     },
     "metadata": {},
     "output_type": "display_data"
    }
   ],
   "source": [
    "tokenized = preprocess_data(wnc,tokenizer,'sentence')\n",
    "tokenized = tokenized.train_test_split(0.2,seed=42)"
   ]
  },
  {
   "cell_type": "code",
   "execution_count": 9,
   "id": "ab6353f5-00c8-45b3-b39c-3f366297c8d9",
   "metadata": {},
   "outputs": [],
   "source": [
    "pretraining_args = TrainingArguments(\n",
    "    num_train_epochs=3,\n",
    "    per_device_train_batch_size=BATCH_SIZE,  \n",
    "    per_device_eval_batch_size=BATCH_SIZE,\n",
    "    eval_steps=1000,\n",
    "    logging_steps=1000,\n",
    "    save_steps=5000,\n",
    "    disable_tqdm = False,\n",
    "    warmup_steps=0,\n",
    "    save_total_limit=1,\n",
    "    evaluation_strategy=\"steps\",\n",
    "    weight_decay=0.1,\n",
    "    output_dir = './',\n",
    "    learning_rate=2e-5)"
   ]
  },
  {
   "cell_type": "code",
   "execution_count": 10,
   "id": "3d5fcb60-4ae0-4b45-9f88-98d00e5ee6da",
   "metadata": {},
   "outputs": [
    {
     "data": {
      "text/html": [
       "\n",
       "    <div>\n",
       "      \n",
       "      <progress value='27225' max='27225' style='width:300px; height:20px; vertical-align: middle;'></progress>\n",
       "      [27225/27225 2:34:34, Epoch 3/3]\n",
       "    </div>\n",
       "    <table border=\"1\" class=\"dataframe\">\n",
       "  <thead>\n",
       "    <tr style=\"text-align: left;\">\n",
       "      <th>Step</th>\n",
       "      <th>Training Loss</th>\n",
       "      <th>Validation Loss</th>\n",
       "      <th>F1</th>\n",
       "    </tr>\n",
       "  </thead>\n",
       "  <tbody>\n",
       "    <tr>\n",
       "      <td>1000</td>\n",
       "      <td>0.639300</td>\n",
       "      <td>0.621087</td>\n",
       "      <td>0.553218</td>\n",
       "    </tr>\n",
       "    <tr>\n",
       "      <td>2000</td>\n",
       "      <td>0.617800</td>\n",
       "      <td>0.605859</td>\n",
       "      <td>0.666092</td>\n",
       "    </tr>\n",
       "    <tr>\n",
       "      <td>3000</td>\n",
       "      <td>0.609600</td>\n",
       "      <td>0.595582</td>\n",
       "      <td>0.656912</td>\n",
       "    </tr>\n",
       "    <tr>\n",
       "      <td>4000</td>\n",
       "      <td>0.603100</td>\n",
       "      <td>0.597041</td>\n",
       "      <td>0.628197</td>\n",
       "    </tr>\n",
       "    <tr>\n",
       "      <td>5000</td>\n",
       "      <td>0.599900</td>\n",
       "      <td>0.595485</td>\n",
       "      <td>0.672082</td>\n",
       "    </tr>\n",
       "    <tr>\n",
       "      <td>6000</td>\n",
       "      <td>0.599400</td>\n",
       "      <td>0.589904</td>\n",
       "      <td>0.642536</td>\n",
       "    </tr>\n",
       "    <tr>\n",
       "      <td>7000</td>\n",
       "      <td>0.596700</td>\n",
       "      <td>0.588311</td>\n",
       "      <td>0.645611</td>\n",
       "    </tr>\n",
       "    <tr>\n",
       "      <td>8000</td>\n",
       "      <td>0.592600</td>\n",
       "      <td>0.588974</td>\n",
       "      <td>0.629292</td>\n",
       "    </tr>\n",
       "    <tr>\n",
       "      <td>9000</td>\n",
       "      <td>0.594800</td>\n",
       "      <td>0.587056</td>\n",
       "      <td>0.655791</td>\n",
       "    </tr>\n",
       "    <tr>\n",
       "      <td>10000</td>\n",
       "      <td>0.551300</td>\n",
       "      <td>0.620132</td>\n",
       "      <td>0.618082</td>\n",
       "    </tr>\n",
       "    <tr>\n",
       "      <td>11000</td>\n",
       "      <td>0.546500</td>\n",
       "      <td>0.624691</td>\n",
       "      <td>0.663720</td>\n",
       "    </tr>\n",
       "    <tr>\n",
       "      <td>12000</td>\n",
       "      <td>0.545300</td>\n",
       "      <td>0.615449</td>\n",
       "      <td>0.648727</td>\n",
       "    </tr>\n",
       "    <tr>\n",
       "      <td>13000</td>\n",
       "      <td>0.545800</td>\n",
       "      <td>0.604168</td>\n",
       "      <td>0.642413</td>\n",
       "    </tr>\n",
       "    <tr>\n",
       "      <td>14000</td>\n",
       "      <td>0.544000</td>\n",
       "      <td>0.614628</td>\n",
       "      <td>0.669348</td>\n",
       "    </tr>\n",
       "    <tr>\n",
       "      <td>15000</td>\n",
       "      <td>0.550100</td>\n",
       "      <td>0.617088</td>\n",
       "      <td>0.645178</td>\n",
       "    </tr>\n",
       "    <tr>\n",
       "      <td>16000</td>\n",
       "      <td>0.550700</td>\n",
       "      <td>0.605134</td>\n",
       "      <td>0.653947</td>\n",
       "    </tr>\n",
       "    <tr>\n",
       "      <td>17000</td>\n",
       "      <td>0.551000</td>\n",
       "      <td>0.609605</td>\n",
       "      <td>0.644596</td>\n",
       "    </tr>\n",
       "    <tr>\n",
       "      <td>18000</td>\n",
       "      <td>0.549100</td>\n",
       "      <td>0.608359</td>\n",
       "      <td>0.625352</td>\n",
       "    </tr>\n",
       "    <tr>\n",
       "      <td>19000</td>\n",
       "      <td>0.502800</td>\n",
       "      <td>0.644954</td>\n",
       "      <td>0.632784</td>\n",
       "    </tr>\n",
       "    <tr>\n",
       "      <td>20000</td>\n",
       "      <td>0.490000</td>\n",
       "      <td>0.666328</td>\n",
       "      <td>0.648343</td>\n",
       "    </tr>\n",
       "    <tr>\n",
       "      <td>21000</td>\n",
       "      <td>0.487600</td>\n",
       "      <td>0.650359</td>\n",
       "      <td>0.634361</td>\n",
       "    </tr>\n",
       "    <tr>\n",
       "      <td>22000</td>\n",
       "      <td>0.490500</td>\n",
       "      <td>0.675555</td>\n",
       "      <td>0.642206</td>\n",
       "    </tr>\n",
       "    <tr>\n",
       "      <td>23000</td>\n",
       "      <td>0.492400</td>\n",
       "      <td>0.665626</td>\n",
       "      <td>0.641898</td>\n",
       "    </tr>\n",
       "    <tr>\n",
       "      <td>24000</td>\n",
       "      <td>0.487800</td>\n",
       "      <td>0.675738</td>\n",
       "      <td>0.638842</td>\n",
       "    </tr>\n",
       "    <tr>\n",
       "      <td>25000</td>\n",
       "      <td>0.486600</td>\n",
       "      <td>0.664975</td>\n",
       "      <td>0.640951</td>\n",
       "    </tr>\n",
       "    <tr>\n",
       "      <td>26000</td>\n",
       "      <td>0.489000</td>\n",
       "      <td>0.664224</td>\n",
       "      <td>0.638477</td>\n",
       "    </tr>\n",
       "    <tr>\n",
       "      <td>27000</td>\n",
       "      <td>0.487500</td>\n",
       "      <td>0.674160</td>\n",
       "      <td>0.634043</td>\n",
       "    </tr>\n",
       "  </tbody>\n",
       "</table><p>"
      ],
      "text/plain": [
       "<IPython.core.display.HTML object>"
      ]
     },
     "metadata": {},
     "output_type": "display_data"
    },
    {
     "data": {
      "text/plain": [
       "TrainOutput(global_step=27225, training_loss=0.5476160278880782, metrics={'train_runtime': 9274.7571, 'train_samples_per_second': 93.93, 'train_steps_per_second': 2.935, 'total_flos': 4.240609801448976e+16, 'train_loss': 0.5476160278880782, 'epoch': 3.0})"
      ]
     },
     "execution_count": 10,
     "metadata": {},
     "output_type": "execute_result"
    }
   ],
   "source": [
    "model = AutoModelForSequenceClassification.from_pretrained(model_name,num_labels=2);\n",
    "model.to(device)\n",
    "trainer = Trainer(model,pretraining_args,train_dataset=tokenized['train'],data_collator=data_collator,\n",
    "                  tokenizer=tokenizer,eval_dataset=tokenized['test'],compute_metrics=compute_metrics_eval)\n",
    "trainer.train()"
   ]
  },
  {
   "cell_type": "code",
   "execution_count": 3,
   "id": "98abdaee-0db4-4d7f-8da7-ebf915556300",
   "metadata": {},
   "outputs": [
    {
     "data": {
      "image/png": "[encoded data removed]",
      "text/plain": [
       "<Figure size 432x288 with 1 Axes>"
      ]
     },
     "metadata": {
      "needs_background": "light"
     },
     "output_type": "display_data"
    }
   ],
   "source": [
    "plot_losses(pd.read_csv('./logs/wncs.loss',sep='\\t'),epochs=3,name=\"Wiki Neutrality Corpus\")"
   ]
  },
  {
   "cell_type": "markdown",
   "id": "5a6d1176-6a35-43f8-93a9-1eddc6323c52",
   "metadata": {},
   "source": [
    "## train all"
   ]
  },
  {
   "cell_type": "code",
   "execution_count": 14,
   "id": "8d2d3bf6-0e6a-4c5f-a09f-f9c94ecc284b",
   "metadata": {},
   "outputs": [],
   "source": [
    "tokenized = preprocess_data(wnc,tokenizer,'sentence')"
   ]
  },
  {
   "cell_type": "code",
   "execution_count": 17,
   "id": "70bb6ede-2a8b-4dfa-85fd-62d83ddc2323",
   "metadata": {},
   "outputs": [],
   "source": [
    "pretraining_args = TrainingArguments(\n",
    "    num_train_epochs=1,\n",
    "    per_device_train_batch_size=32,  \n",
    "    logging_steps=1000,\n",
    "    save_steps=5000,\n",
    "    disable_tqdm = False,\n",
    "    warmup_steps=0,\n",
    "    save_total_limit=1,\n",
    "    weight_decay=0.1,\n",
    "    output_dir = './',\n",
    "    learning_rate=2e-5)"
   ]
  },
  {
   "cell_type": "code",
   "execution_count": 18,
   "id": "9a4773f2-a4aa-45a6-b3df-9169d2c91872",
   "metadata": {},
   "outputs": [
    {
     "data": {
      "text/html": [
       "\n",
       "    <div>\n",
       "      \n",
       "      <progress value='11344' max='11344' style='width:300px; height:20px; vertical-align: middle;'></progress>\n",
       "      [11344/11344 37:16, Epoch 1/1]\n",
       "    </div>\n",
       "    <table border=\"1\" class=\"dataframe\">\n",
       "  <thead>\n",
       "    <tr style=\"text-align: left;\">\n",
       "      <th>Step</th>\n",
       "      <th>Training Loss</th>\n",
       "    </tr>\n",
       "  </thead>\n",
       "  <tbody>\n",
       "    <tr>\n",
       "      <td>1000</td>\n",
       "      <td>0.647000</td>\n",
       "    </tr>\n",
       "    <tr>\n",
       "      <td>2000</td>\n",
       "      <td>0.611200</td>\n",
       "    </tr>\n",
       "    <tr>\n",
       "      <td>3000</td>\n",
       "      <td>0.608900</td>\n",
       "    </tr>\n",
       "    <tr>\n",
       "      <td>4000</td>\n",
       "      <td>0.606400</td>\n",
       "    </tr>\n",
       "    <tr>\n",
       "      <td>5000</td>\n",
       "      <td>0.600100</td>\n",
       "    </tr>\n",
       "    <tr>\n",
       "      <td>6000</td>\n",
       "      <td>0.599100</td>\n",
       "    </tr>\n",
       "    <tr>\n",
       "      <td>7000</td>\n",
       "      <td>0.595100</td>\n",
       "    </tr>\n",
       "    <tr>\n",
       "      <td>8000</td>\n",
       "      <td>0.588100</td>\n",
       "    </tr>\n",
       "    <tr>\n",
       "      <td>9000</td>\n",
       "      <td>0.587700</td>\n",
       "    </tr>\n",
       "    <tr>\n",
       "      <td>10000</td>\n",
       "      <td>0.588000</td>\n",
       "    </tr>\n",
       "    <tr>\n",
       "      <td>11000</td>\n",
       "      <td>0.584200</td>\n",
       "    </tr>\n",
       "  </tbody>\n",
       "</table><p>"
      ],
      "text/plain": [
       "<IPython.core.display.HTML object>"
      ]
     },
     "metadata": {},
     "output_type": "display_data"
    }
   ],
   "source": [
    "model = AutoModelForSequenceClassification.from_pretrained(model_name,num_labels=2);\n",
    "model.to(device)\n",
    "trainer = Trainer(model,pretraining_args,train_dataset=tokenized,data_collator=data_collator,\n",
    "                  tokenizer=tokenizer)\n",
    "trainer.train()\n",
    "\n",
    "torch.save(model.state_dict(),model_path)"
   ]
  },
  {
   "cell_type": "code",
   "execution_count": null,
   "id": "d4eb6b5c-3ff7-40e4-a569-e988666272f0",
   "metadata": {},
   "outputs": [],
   "source": []
  }
 ],
 "metadata": {
  "kernelspec": {
   "display_name": "Python 3 (ipykernel)",
   "language": "python",
   "name": "python3"
  },
  "language_info": {
   "codemirror_mode": {
    "name": "ipython",
    "version": 3
   },
   "file_extension": ".py",
   "mimetype": "text/x-python",
   "name": "python",
   "nbconvert_exporter": "python",
   "pygments_lexer": "ipython3",
   "version": "3.8.6"
  }
 },
 "nbformat": 4,
 "nbformat_minor": 5
}
