{
 "cells": [
  {
   "cell_type": "code",
   "execution_count": 1,
   "id": "e01d1632-3e68-4583-be8f-a6be7bc1cc93",
   "metadata": {},
   "outputs": [],
   "source": [
    "# Making imports convenient\n",
    "import sys\n",
    "import os\n",
    "PATH=os.getcwd().split('/notebooks')[0]\n",
    "sys.path.insert(1, PATH)\n",
    "\n",
    "import torch\n",
    "from torch.utils.data import DataLoader\n",
    "import torch.nn.functional as F\n",
    "from datasets import load_dataset, Dataset, concatenate_datasets\n",
    "import transformers\n",
    "from sklearn.model_selection import StratifiedKFold\n",
    "\n",
    "from transformers import AutoTokenizer, DataCollatorWithPadding,BertForSequenceClassification,TrainingArguments,Trainer\n",
    "\n",
    "from src.utils.myutils import *\n",
    "import yaml\n",
    "from tqdm import tqdm\n",
    "import logging\n",
    "import json\n",
    "import warnings\n",
    "import random\n",
    "import pandas as pd\n",
    "\n",
    "logging.disable(logging.ERROR)\n",
    "np.warnings.filterwarnings('ignore', category=np.VisibleDeprecationWarning)\n",
    "warnings.filterwarnings(\"ignore\", category=UserWarning) \n",
    "\n",
    "CS_DATA_PATH = PATH + '/data/CS/processed/'\n",
    "CONFIG_PATH = PATH + '/src/utils/config.yaml'\n",
    "\n",
    "device = torch.device(\"cuda\") if torch.cuda.is_available() else torch.device(\"cpu\")\n",
    "\n",
    "model_name = 'fav-kky/FERNET-C5'\n",
    "tokenizer = AutoTokenizer.from_pretrained(model_name, use_fast=False,padding=True)\n",
    "data_collator = DataCollatorWithPadding(tokenizer=tokenizer)\n",
    "\n",
    "BATCH_SIZE = 32"
   ]
  },
  {
   "cell_type": "code",
   "execution_count": 73,
   "id": "8d63fb62-b3d7-4b06-83bc-da4c6556dea9",
   "metadata": {},
   "outputs": [],
   "source": [
    "babe_train = load_dataset('csv',data_files = CS_DATA_PATH + 'BABE/train.csv')['train']\n",
    "babe_test = load_dataset('csv',data_files = CS_DATA_PATH + 'BABE/test.csv')['train']\n",
    "babe_all = load_dataset('csv',data_files = CS_DATA_PATH + 'BABE/babe.csv')['train']\n",
    "\n",
    "PRETRAINED_PATH = '/home/horyctom/bias-detection-thesis/src/models/trained/all_balanced.pth'\n",
    "FINAL_PATH = '/home/horyctom/bias-detection-thesis/src/models/trained/final_classifier.pth'\n",
    "SUBJ_PATH = '/home/horyctom/bias-detection-thesis/src/models/trained/subj_balanced.pth'"
   ]
  },
  {
   "cell_type": "markdown",
   "id": "4031041c-ddbc-4069-a419-7ee5b2dcb52c",
   "metadata": {},
   "source": [
    "## Prepare model"
   ]
  },
  {
   "cell_type": "code",
   "execution_count": 3,
   "id": "2e526462-6d98-4416-8aaa-d8440f0631b9",
   "metadata": {
    "tags": []
   },
   "outputs": [
    {
     "data": {
      "text/plain": [
       "<All keys matched successfully>"
      ]
     },
     "execution_count": 3,
     "metadata": {},
     "output_type": "execute_result"
    }
   ],
   "source": [
    "model_all = BertForSequenceClassification.from_pretrained(model_name,num_labels=2)\n",
    "model_all.load_state_dict(torch.load(PRETRAINED_PATH))"
   ]
  },
  {
   "cell_type": "markdown",
   "id": "ea457b81-4b01-4196-9bac-cdf27aa4a690",
   "metadata": {},
   "source": [
    "## Prepare Data"
   ]
  },
  {
   "cell_type": "code",
   "execution_count": 7,
   "id": "2964ba81-b361-4607-a038-e867c5a41dbd",
   "metadata": {},
   "outputs": [
    {
     "data": {
      "application/vnd.jupyter.widget-view+json": {
       "model_id": "9dda58aaa9dc4b30864b7f40c17a292b",
       "version_major": 2,
       "version_minor": 0
      },
      "text/plain": [
       "  0%|          | 0/4 [00:00<?, ?ba/s]"
      ]
     },
     "metadata": {},
     "output_type": "display_data"
    }
   ],
   "source": [
    "train_tok = preprocess_data(babe_train,tokenizer,'sentence')\n",
    "test_tok = preprocess_data(babe_test,tokenizer,'sentence')\n",
    "babe_tok = preprocess_data(babe_all,tokenizer,'sentence')"
   ]
  },
  {
   "cell_type": "markdown",
   "id": "cc8df9cd-28d0-4f53-906d-c2c7b88ea511",
   "metadata": {},
   "source": [
    "# Training"
   ]
  },
  {
   "cell_type": "code",
   "execution_count": 5,
   "id": "11c19e7e-b1eb-43e6-9670-cae8f5f7e41c",
   "metadata": {},
   "outputs": [],
   "source": [
    "training_args = TrainingArguments(\n",
    "    output_dir = './',\n",
    "    num_train_epochs=3,\n",
    "    per_device_train_batch_size=32,  \n",
    "    logging_steps=20,\n",
    "    disable_tqdm = False,\n",
    "    save_total_limit=2,\n",
    "    weight_decay=0.1,\n",
    "    learning_rate=3e-5)"
   ]
  },
  {
   "cell_type": "code",
   "execution_count": 6,
   "id": "3a5e9b9d-9f68-4c71-8467-87ff35c78ccb",
   "metadata": {},
   "outputs": [
    {
     "data": {
      "text/html": [
       "\n",
       "    <div>\n",
       "      \n",
       "      <progress value='294' max='294' style='width:300px; height:20px; vertical-align: middle;'></progress>\n",
       "      [294/294 00:51, Epoch 3/3]\n",
       "    </div>\n",
       "    <table border=\"1\" class=\"dataframe\">\n",
       "  <thead>\n",
       "    <tr style=\"text-align: left;\">\n",
       "      <th>Step</th>\n",
       "      <th>Training Loss</th>\n",
       "    </tr>\n",
       "  </thead>\n",
       "  <tbody>\n",
       "    <tr>\n",
       "      <td>20</td>\n",
       "      <td>0.561600</td>\n",
       "    </tr>\n",
       "    <tr>\n",
       "      <td>40</td>\n",
       "      <td>0.499300</td>\n",
       "    </tr>\n",
       "    <tr>\n",
       "      <td>60</td>\n",
       "      <td>0.507400</td>\n",
       "    </tr>\n",
       "    <tr>\n",
       "      <td>80</td>\n",
       "      <td>0.513800</td>\n",
       "    </tr>\n",
       "    <tr>\n",
       "      <td>100</td>\n",
       "      <td>0.438000</td>\n",
       "    </tr>\n",
       "    <tr>\n",
       "      <td>120</td>\n",
       "      <td>0.366600</td>\n",
       "    </tr>\n",
       "    <tr>\n",
       "      <td>140</td>\n",
       "      <td>0.305300</td>\n",
       "    </tr>\n",
       "    <tr>\n",
       "      <td>160</td>\n",
       "      <td>0.275800</td>\n",
       "    </tr>\n",
       "    <tr>\n",
       "      <td>180</td>\n",
       "      <td>0.290400</td>\n",
       "    </tr>\n",
       "    <tr>\n",
       "      <td>200</td>\n",
       "      <td>0.301900</td>\n",
       "    </tr>\n",
       "    <tr>\n",
       "      <td>220</td>\n",
       "      <td>0.199800</td>\n",
       "    </tr>\n",
       "    <tr>\n",
       "      <td>240</td>\n",
       "      <td>0.214800</td>\n",
       "    </tr>\n",
       "    <tr>\n",
       "      <td>260</td>\n",
       "      <td>0.153600</td>\n",
       "    </tr>\n",
       "    <tr>\n",
       "      <td>280</td>\n",
       "      <td>0.180600</td>\n",
       "    </tr>\n",
       "  </tbody>\n",
       "</table><p>"
      ],
      "text/plain": [
       "<IPython.core.display.HTML object>"
      ]
     },
     "metadata": {},
     "output_type": "display_data"
    },
    {
     "data": {
      "text/plain": [
       "0.8039869298268728"
      ]
     },
     "execution_count": 6,
     "metadata": {},
     "output_type": "execute_result"
    }
   ],
   "source": [
    "model = AutoModelForSequenceClassification.from_pretrained(model_name,num_labels=2);\n",
    "model.load_state_dict(torch.load(PRETRAINED_PATH))\n",
    "\n",
    "model.to(device)\n",
    "trainer = Trainer(model,training_args,train_dataset=train_tok,data_collator=data_collator\n",
    "                      ,tokenizer=tokenizer)\n",
    "trainer.train()\n",
    "\n",
    "eval_dataloader = DataLoader(test_tok, batch_size=BATCH_SIZE, collate_fn=data_collator)\n",
    "compute_metrics(model,device,eval_dataloader)['f1']"
   ]
  },
  {
   "cell_type": "markdown",
   "id": "e19a7666-2bf8-4bf4-adf3-65d420aa69ca",
   "metadata": {},
   "source": [
    "# Final model"
   ]
  },
  {
   "cell_type": "code",
   "execution_count": 9,
   "id": "b99a710a-cc83-47b9-8296-b939f0a9ee9d",
   "metadata": {},
   "outputs": [
    {
     "data": {
      "text/html": [
       "\n",
       "    <div>\n",
       "      \n",
       "      <progress value='345' max='345' style='width:300px; height:20px; vertical-align: middle;'></progress>\n",
       "      [345/345 00:56, Epoch 3/3]\n",
       "    </div>\n",
       "    <table border=\"1\" class=\"dataframe\">\n",
       "  <thead>\n",
       "    <tr style=\"text-align: left;\">\n",
       "      <th>Step</th>\n",
       "      <th>Training Loss</th>\n",
       "    </tr>\n",
       "  </thead>\n",
       "  <tbody>\n",
       "    <tr>\n",
       "      <td>20</td>\n",
       "      <td>0.564800</td>\n",
       "    </tr>\n",
       "    <tr>\n",
       "      <td>40</td>\n",
       "      <td>0.496300</td>\n",
       "    </tr>\n",
       "    <tr>\n",
       "      <td>60</td>\n",
       "      <td>0.461800</td>\n",
       "    </tr>\n",
       "    <tr>\n",
       "      <td>80</td>\n",
       "      <td>0.492600</td>\n",
       "    </tr>\n",
       "    <tr>\n",
       "      <td>100</td>\n",
       "      <td>0.448900</td>\n",
       "    </tr>\n",
       "    <tr>\n",
       "      <td>120</td>\n",
       "      <td>0.453500</td>\n",
       "    </tr>\n",
       "    <tr>\n",
       "      <td>140</td>\n",
       "      <td>0.308200</td>\n",
       "    </tr>\n",
       "    <tr>\n",
       "      <td>160</td>\n",
       "      <td>0.329600</td>\n",
       "    </tr>\n",
       "    <tr>\n",
       "      <td>180</td>\n",
       "      <td>0.297000</td>\n",
       "    </tr>\n",
       "    <tr>\n",
       "      <td>200</td>\n",
       "      <td>0.294000</td>\n",
       "    </tr>\n",
       "    <tr>\n",
       "      <td>220</td>\n",
       "      <td>0.306900</td>\n",
       "    </tr>\n",
       "    <tr>\n",
       "      <td>240</td>\n",
       "      <td>0.250400</td>\n",
       "    </tr>\n",
       "    <tr>\n",
       "      <td>260</td>\n",
       "      <td>0.166600</td>\n",
       "    </tr>\n",
       "    <tr>\n",
       "      <td>280</td>\n",
       "      <td>0.182200</td>\n",
       "    </tr>\n",
       "    <tr>\n",
       "      <td>300</td>\n",
       "      <td>0.166500</td>\n",
       "    </tr>\n",
       "    <tr>\n",
       "      <td>320</td>\n",
       "      <td>0.221500</td>\n",
       "    </tr>\n",
       "    <tr>\n",
       "      <td>340</td>\n",
       "      <td>0.140100</td>\n",
       "    </tr>\n",
       "  </tbody>\n",
       "</table><p>"
      ],
      "text/plain": [
       "<IPython.core.display.HTML object>"
      ]
     },
     "metadata": {},
     "output_type": "display_data"
    },
    {
     "data": {
      "text/plain": [
       "0.9678364213527204"
      ]
     },
     "execution_count": 9,
     "metadata": {},
     "output_type": "execute_result"
    }
   ],
   "source": [
    "model = AutoModelForSequenceClassification.from_pretrained(model_name,num_labels=2);\n",
    "model.load_state_dict(torch.load(PRETRAINED_PATH))\n",
    "\n",
    "model.to(device)\n",
    "trainer = Trainer(model,training_args,train_dataset=babe_tok,data_collator=data_collator\n",
    "                      ,tokenizer=tokenizer)\n",
    "trainer.train()"
   ]
  },
  {
   "cell_type": "code",
   "execution_count": 39,
   "id": "cc14fb00-e64f-4651-b18b-7405592a1e3d",
   "metadata": {},
   "outputs": [],
   "source": [
    "torch.save(model.state_dict(),FINAL_PATH)"
   ]
  },
  {
   "cell_type": "code",
   "execution_count": 40,
   "id": "dcfec49c-22a2-4d02-947a-65ec05ce1e19",
   "metadata": {},
   "outputs": [
    {
     "data": {
      "text/plain": [
       "<All keys matched successfully>"
      ]
     },
     "execution_count": 40,
     "metadata": {},
     "output_type": "execute_result"
    }
   ],
   "source": [
    "model1 = BertForSequenceClassification.from_pretrained(model_name,num_labels=2)\n",
    "model1.load_state_dict(torch.load(PRETRAINED_PATH))"
   ]
  },
  {
   "cell_type": "code",
   "execution_count": 41,
   "id": "342c52f3-a7e1-4a51-b398-1b06e9ddd205",
   "metadata": {},
   "outputs": [
    {
     "data": {
      "text/plain": [
       "<All keys matched successfully>"
      ]
     },
     "execution_count": 41,
     "metadata": {},
     "output_type": "execute_result"
    }
   ],
   "source": [
    "model2 = BertForSequenceClassification.from_pretrained(model_name,num_labels=2)\n",
    "model2.load_state_dict(torch.load(FINAL_PATH))"
   ]
  },
  {
   "cell_type": "code",
   "execution_count": 74,
   "id": "b8aab59b-7013-409d-a248-18cae78031ae",
   "metadata": {},
   "outputs": [
    {
     "data": {
      "text/plain": [
       "<All keys matched successfully>"
      ]
     },
     "execution_count": 74,
     "metadata": {},
     "output_type": "execute_result"
    }
   ],
   "source": [
    "model3 = BertForSequenceClassification.from_pretrained(model_name,num_labels=2)\n",
    "model3.load_state_dict(torch.load(SUBJ_PATH))"
   ]
  },
  {
   "cell_type": "code",
   "execution_count": 75,
   "id": "2a2e3d3a-b7d8-47b3-a4bd-da4483596419",
   "metadata": {},
   "outputs": [],
   "source": [
    "model=model3"
   ]
  },
  {
   "cell_type": "markdown",
   "id": "7e201db7-051d-4a89-8eba-cd51e16846fa",
   "metadata": {},
   "source": [
    "## Experiments"
   ]
  },
  {
   "cell_type": "code",
   "execution_count": 11,
   "id": "b5bad158-54fc-4a89-8c5d-dc736478c029",
   "metadata": {},
   "outputs": [],
   "source": [
    "def classify_sentence(sent:str):\n",
    "    toksentence = tokenizer(sent,truncation=True,return_tensors=\"pt\")\n",
    "    model.eval()\n",
    "    model.to(device)\n",
    "    with torch.no_grad():\n",
    "        toksentence.to(device)\n",
    "        output = model(**toksentence)\n",
    "    \n",
    "    classification = F.softmax(output.logits,dim=1).argmax(dim=1)\n",
    "    \n",
    "    return {0:'unbiased',1:'biased'}[classification[0].item()]"
   ]
  },
  {
   "cell_type": "code",
   "execution_count": 17,
   "id": "a6c48381-c1b3-4b26-86f8-99f536228246",
   "metadata": {},
   "outputs": [],
   "source": [
    "def classify_sentence_certainty(sent:str):\n",
    "    toksentence = tokenizer(sent,truncation=True,return_tensors=\"pt\")\n",
    "    model.eval()\n",
    "    model.to(device)\n",
    "    with torch.no_grad():\n",
    "        toksentence.to(device)\n",
    "        output = model(**toksentence)\n",
    "    \n",
    "    classification = F.softmax(output.logits,dim=1)\n",
    "    \n",
    "    return classification"
   ]
  },
  {
   "cell_type": "code",
   "execution_count": 76,
   "id": "bfaaa8ed-397c-402b-8f92-f1a6273d129a",
   "metadata": {},
   "outputs": [
    {
     "name": "stdout",
     "output_type": "stream",
     "text": [
      "tensor([[0.7847, 0.2153]], device='cuda:0')\n",
      "tensor([[0.0374, 0.9626]], device='cuda:0')\n"
     ]
    }
   ],
   "source": [
    "print(classify_sentence_certainty('Od března jedeme sedm dní v týdnu a bojujeme s touto ojedinělou situací'))\n",
    "print(classify_sentence_certainty('ojedinělá situace, na kterou nemohl být nikdo připraven.'))"
   ]
  },
  {
   "cell_type": "code",
   "execution_count": 77,
   "id": "7efbb9b0-b62e-4721-894a-353b20275e7d",
   "metadata": {},
   "outputs": [
    {
     "name": "stdout",
     "output_type": "stream",
     "text": [
      "tensor([[0.1404, 0.8596]], device='cuda:0')\n",
      "tensor([[0.4194, 0.5806]], device='cuda:0')\n"
     ]
    }
   ],
   "source": [
    "print(classify_sentence_certainty('Podle íránské vlády bylo sestřelení IR 655 \"Vincennes\" úmyslně provedeným a nezákonným činem.'))\n",
    "print(classify_sentence_certainty('Sestřelení IR 655 \"Vincennes\" bylo úmyslně provedeným a nezákonným činem.'))"
   ]
  },
  {
   "cell_type": "code",
   "execution_count": 78,
   "id": "0c75b33c-f25a-49f3-8c57-fa348a5f3dfd",
   "metadata": {},
   "outputs": [
    {
     "data": {
      "text/plain": [
       "tensor([[0.3038, 0.6962]], device='cuda:0')"
      ]
     },
     "execution_count": 78,
     "metadata": {},
     "output_type": "execute_result"
    }
   ],
   "source": [
    "classify_sentence_certainty('Byli mu prý doporučeni jako \"spolehliví a levní\" a sám přesvědčil, že je droga od nich kvalitní a čistá.')"
   ]
  },
  {
   "cell_type": "code",
   "execution_count": 14,
   "id": "b8b05e21-047f-485d-a568-620babd1b8dd",
   "metadata": {},
   "outputs": [],
   "source": [
    "from newspaper import Article"
   ]
  },
  {
   "cell_type": "code",
   "execution_count": 15,
   "id": "d386bb3a-ddec-448f-915b-a1f482cd00f8",
   "metadata": {},
   "outputs": [],
   "source": [
    "from nltk import sent_tokenize"
   ]
  },
  {
   "cell_type": "code",
   "execution_count": 79,
   "id": "a7a5b1c4-96d4-45bf-966e-36057e1c6ce2",
   "metadata": {},
   "outputs": [],
   "source": [
    "with open('text.txt','r') as f:\n",
    "    text = f.read()\n"
   ]
  },
  {
   "cell_type": "code",
   "execution_count": 83,
   "id": "36dd2df9-8bfc-49f7-abdc-07609da25e83",
   "metadata": {},
   "outputs": [
    {
     "name": "stdout",
     "output_type": "stream",
     "text": [
      "bias level:  75.30864197530865 %\n"
     ]
    }
   ],
   "source": [
    "article = Article('https://www.seznamzpravy.cz/clanek/prectete-si-babisuv-projev-udelal-jsem-chybu-kterou-nechci-opakovat-120741')\n",
    "article.download()\n",
    "article.parse()\n",
    "sentences = sent_tokenize(article.text)\n",
    "annotations = np.array(list(zip(sentences,list(map(classify_sentence,sentences)))))\n",
    "certainity = np.array(list(zip(sentences,list(map(classify_sentence_certainty,sentences)))))\n",
    "\n",
    "stats = np.unique(annotations[:,1],return_counts=True)\n",
    "print(\"bias level: \",stats[1][0]/stats[1].sum()*100,\"%\")"
   ]
  },
  {
   "cell_type": "code",
   "execution_count": 84,
   "id": "4fd2551e-f73d-4e06-aa01-baa6d211f6c2",
   "metadata": {
    "tags": []
   },
   "outputs": [
    {
     "name": "stdout",
     "output_type": "stream",
     "text": [
      "[['Vážení spoluobčané,\\n\\npo hezkém létě začíná podzim a my se opět nacházíme ve velmi složité situaci.'\n",
      "  tensor([[0.3852, 0.6148]], device='cuda:0')]\n",
      " ['Budu k vám jako vždycky upřímný a otevřený.'\n",
      "  tensor([[0.0551, 0.9449]], device='cuda:0')]\n",
      " ['Epidemie je zpět.' tensor([[0.4962, 0.5038]], device='cuda:0')]\n",
      " ['Bohužel.' tensor([[0.4712, 0.5288]], device='cuda:0')]\n",
      " ['Čísla nákazy závratně rostou.'\n",
      "  tensor([[0.8814, 0.1186]], device='cuda:0')]\n",
      " ['V posledních dnech nám byly předložené scénáře vývoje, které mě značně znepokojily.'\n",
      "  tensor([[0.4169, 0.5831]], device='cuda:0')]\n",
      " ['Bylo to podobné, jako když nám začátkem března analytici ukázali matematické modely, kterým bylo složité uvěřit, ale po třech dnech, když vycházely, jsme rázně udělali zásadní opatření.'\n",
      "  tensor([[0.2590, 0.7410]], device='cuda:0')]\n",
      " ['Zachránili jsme tím tisíce životů, proto jsme první vlnu zvládli tak dobře.'\n",
      "  tensor([[0.2333, 0.7667]], device='cuda:0')]\n",
      " ['Ke konci jara jsme ale měli pocit, že vir odešel, a od prvního července jsme zrušili povinnost nosit roušky všude.'\n",
      "  tensor([[0.4356, 0.5644]], device='cuda:0')]\n",
      " ['Tehdy jsme těch opatření měli všichni až po krk.'\n",
      "  tensor([[0.2823, 0.7177]], device='cuda:0')]\n",
      " ['Všichni jsme se chtěli volně nadechnout a užít si léto, jak jsme zvyklí.'\n",
      "  tensor([[0.1359, 0.8641]], device='cuda:0')]\n",
      " ['Bylo to poté, co jsme zarazili šíření nemoci jako jedni z prvních v Evropě.'\n",
      "  tensor([[0.7283, 0.2717]], device='cuda:0')]\n",
      " ['Měli jsme jen minimum mrtvých, což nás tehdy možná ukolébalo v představě, že to s tím virem není tak zlé.'\n",
      "  tensor([[0.0798, 0.9202]], device='cuda:0')]\n",
      " ['I já jsem se nechal unést nastupujícím létem a atmosférou ve společnosti.'\n",
      "  tensor([[0.1105, 0.8895]], device='cuda:0')]\n",
      " ['To byla chyba, kterou nechci zopakovat.'\n",
      "  tensor([[0.0536, 0.9464]], device='cuda:0')]\n",
      " ['Od března jedeme sedm dní v týdnu a bojujeme s touto ojedinělou situací, na kterou nemohl být nikdo připraven.'\n",
      "  tensor([[0.5678, 0.4322]], device='cuda:0')]\n",
      " ['Jak ale vidíme kolem sebe a každý den čteme v médiích a na sociálních sítích, naše společnost je rozdělená.'\n",
      "  tensor([[0.4272, 0.5728]], device='cuda:0')]\n",
      " ['Jsou tu lidé, kteří nosí roušky a podporují všechna opatření, a pak jsou tu lidé, kteří považují virus za obyčejnou chřipku.'\n",
      "  tensor([[0.1740, 0.8260]], device='cuda:0')]\n",
      " ['Můžu to chápat u mladší generace, protože tam nakažení většinou ani nevykazují příznaky a po karanténě se vrací zpět do normálního života.'\n",
      "  tensor([[0.2385, 0.7615]], device='cuda:0')]\n",
      " ['Ale pro starší lidi, kteří navíc mohou mít zdravotní komplikace, jako například vysoký tlak, plicní či srdeční onemocnění nebo cukrovku, je koronavirus vážné ohrožení.'\n",
      "  tensor([[0.2854, 0.7146]], device='cuda:0')]\n",
      " ['Právě starší a nemocné lidi musíme ochránit.'\n",
      "  tensor([[0.4161, 0.5839]], device='cuda:0')]\n",
      " ['Slyšel jsem, že nenošením roušek chtějí někteří občané vyjádřit protest proti vládě a vládním opatřením.'\n",
      "  tensor([[0.0618, 0.9382]], device='cuda:0')]\n",
      " ['Těmto lidem bych ale chtěl vzkázat: Ty roušky nenosíte kvůli Babišovi, Vojtěchovi nebo Prymulovi, ale kvůli vašim rodičům a prarodičům, kvůli vašim blízkým, kvůli vašim kamarádům a známým.'\n",
      "  tensor([[0.1082, 0.8918]], device='cuda:0')]\n",
      " ['Teď už vážně nejde o politiku.'\n",
      "  tensor([[0.2103, 0.7897]], device='cuda:0')]\n",
      " ['Nikdo nechce nikoho z plezíru omezovat.'\n",
      "  tensor([[0.2650, 0.7350]], device='cuda:0')]\n",
      " ['Rouška neohrožuje svobodu a demokracii, ale její nenošení ohrožuje životy.'\n",
      "  tensor([[0.1468, 0.8532]], device='cuda:0')]\n",
      " ['Sám jsem viděl případy, hlavně v Praze, kdy lidi nerespektovali ani ty úplně základní pokyny.'\n",
      "  tensor([[0.5783, 0.4217]], device='cuda:0')]\n",
      " ['Nošení roušky není o svobodě jednotlivce, ale o osobním pohodlí.'\n",
      "  tensor([[0.3160, 0.6840]], device='cuda:0')]\n",
      " ['Ano, je to otravné a ne moc příjemné, ale zachraňuje to naše životy.'\n",
      "  tensor([[0.0088, 0.9912]], device='cuda:0')]\n",
      " ['A já jako předseda vlády prostě nechci dopustit, abychom měli miliony nakažených a tisíce mrtvých.'\n",
      "  tensor([[0.0475, 0.9525]], device='cuda:0')]\n",
      " ['Četl jsem dnes jeden komentář na sítích, který přesně vystihuje situaci ve veřejném prostoru.'\n",
      "  tensor([[0.2479, 0.7521]], device='cuda:0')]\n",
      " ['Téměř každý je teď epidemiolog.'\n",
      "  tensor([[0.8337, 0.1663]], device='cuda:0')]\n",
      " ['Bohužel ale nejvíce polopravd a omylů šíří i někteří lékaři, kteří nejsou epidemiology, a ti svými výroky pak matou ostatní.'\n",
      "  tensor([[0.2430, 0.7570]], device='cuda:0')]\n",
      " ['A to ani nemluvím o masově sdílených příspěvcích na sociálních sítích, které lidem radí nenosit roušku.'\n",
      "  tensor([[0.2173, 0.7827]], device='cuda:0')]\n",
      " ['A pokud nám ale někdo dává za vzor Švédsko, které má stejný počet obyvatel jako Česká republika, tak bych rád uvedl, že Švédsko šlo cestou promoření, což vyústilo v to, že tam zemřelo celkově 5865 lidí s covidem.'\n",
      "  tensor([[0.1954, 0.8046]], device='cuda:0')]\n",
      " ['Jedenáctkrát více než u nás.'\n",
      "  tensor([[0.9160, 0.0840]], device='cuda:0')]\n",
      " ['Také tam mají zakázané všechny kulturní akce nad 50 lidí.'\n",
      "  tensor([[0.8700, 0.1300]], device='cuda:0')]\n",
      " ['Jinými slovy: opatření jsou tam dnes přísnější než doposud u nás.'\n",
      "  tensor([[0.4327, 0.5673]], device='cuda:0')]\n",
      " ['Je jasné, že se opatření spoustě lidí nelíbí a líbit nebudou, ale musíme je teď dodržovat.'\n",
      "  tensor([[0.0905, 0.9095]], device='cuda:0')]\n",
      " ['Kvůli sobě, kvůli ostatním a kvůli tomu, abychom i touto vlnou prošli v relativním pořádku.'\n",
      "  tensor([[0.2995, 0.7005]], device='cuda:0')]\n",
      " ['Proto si dovolím zopakovat základní pravidlo boje proti viru 3R: ruce, roušky, rozestupy.'\n",
      "  tensor([[0.5942, 0.4058]], device='cuda:0')]\n",
      " ['Naše vláda se snaží myslet na všechny skupiny obyvatel.'\n",
      "  tensor([[0.1176, 0.8824]], device='cuda:0')]\n",
      " ['Na velké i menší skupiny lidí, zaměstnance, živnostníky i zaměstnavatele.'\n",
      "  tensor([[0.8676, 0.1324]], device='cuda:0')]\n",
      " ['A budeme to dělat i nadále.'\n",
      "  tensor([[0.3204, 0.6796]], device='cuda:0')]\n",
      " ['Protože už nechceme vypnout ekonomiku tak jako na jaře.'\n",
      "  tensor([[0.1691, 0.8309]], device='cuda:0')]\n",
      " ['Zároveň ale musíme především myslet na ochranu životů našich občanů.'\n",
      "  tensor([[0.1979, 0.8021]], device='cuda:0')]\n",
      " ['Je to těžké rozhodování, ale snažíme se najít rovnováhu mezi ochranou zdraví našich lidí a naší ekonomikou.'\n",
      "  tensor([[0.0968, 0.9032]], device='cuda:0')]\n",
      " ['Je mi líto neustálých sporů, útoků a obviňování.'\n",
      "  tensor([[0.0821, 0.9179]], device='cuda:0')]\n",
      " ['Pojďme toho teď na chvíli nechat.'\n",
      "  tensor([[0.4171, 0.5829]], device='cuda:0')]\n",
      " ['Čas na skládání účtů zase přijde.'\n",
      "  tensor([[0.8381, 0.1619]], device='cuda:0')]\n",
      " ['Situace je vážná, ale vím, že to zvládneme, protože v těžkých chvílích se náš národ vždycky dokázal semknout.'\n",
      "  tensor([[0.0504, 0.9496]], device='cuda:0')]\n",
      " ['Chci moc poděkovat našim hygienikům, armádě, zdravotníkům, sestřičkám, medikům, laboratořím, ajťákům, policistům, hasičům, záchranářům a dobrovolníkům, mají za sebou těžkou dobu.'\n",
      "  tensor([[0.2695, 0.7305]], device='cuda:0')]\n",
      " ['A ještě těžší před sebou.' tensor([[0.8081, 0.1919]], device='cuda:0')]\n",
      " ['Chci poděkovat vám všem, kteří jste se spojili a snažíte se epidemii zastavit.'\n",
      "  tensor([[0.2220, 0.7780]], device='cuda:0')]\n",
      " ['Třeba i jen tím, že si vezmete tu často nenáviděnou roušku.'\n",
      "  tensor([[0.1724, 0.8276]], device='cuda:0')]\n",
      " ['Chci také poděkovat ministrovi zdravotnictví Adamu Vojtěchovi, který dnes oznámil svou rezignaci.'\n",
      "  tensor([[0.2081, 0.7919]], device='cuda:0')]\n",
      " ['Za práci, kterou pro zdravotnictví vykonal.'\n",
      "  tensor([[0.5074, 0.4926]], device='cuda:0')]\n",
      " ['Je to slušný, poctivý a velmi pracovitý člověk, kterého jsem si kdysi přivedl na Ministerstvo financí a v podstatě si ho vychoval, takže mám k němu speciální vztah.'\n",
      "  tensor([[0.1715, 0.8285]], device='cuda:0')]\n",
      " ['Přinesl do politiky slušnost a úctu.'\n",
      "  tensor([[0.1836, 0.8164]], device='cuda:0')]\n",
      " ['A jsem přesvědčen, že se na něj jednou bude vzpomínat jako na nejlepšího ministra zdravotnictví.'\n",
      "  tensor([[0.0390, 0.9610]], device='cuda:0')]\n",
      " ['Na resortu udělal víc práce než většina jeho předchůdců.'\n",
      "  tensor([[0.6488, 0.3512]], device='cuda:0')]\n",
      " ['Boj s první vlnou viru zvládl neuvěřitelně.'\n",
      "  tensor([[0.5094, 0.4906]], device='cuda:0')]\n",
      " ['Chápu, že už toho na něj muselo být moc.'\n",
      "  tensor([[0.0576, 0.9424]], device='cuda:0')]\n",
      " ['Že byl znechucený a unavený politikou a médii a rozhodl se odejít.'\n",
      "  tensor([[0.1618, 0.8382]], device='cuda:0')]\n",
      " ['Děkuju mu za vše a přeju mu v životě i další kariéře jen to nejlepší.'\n",
      "  tensor([[0.3687, 0.6313]], device='cuda:0')]\n",
      " ['Teď jde o to, jestli dokážeme respektovat, že tu žijeme všichni společně.'\n",
      "  tensor([[0.1054, 0.8946]], device='cuda:0')]\n",
      " ['Každý sám si musí odpovědět na otázku, zda je ochoten obětovat něco ze svého pohodlí pro ostatní.'\n",
      "  tensor([[0.3123, 0.6877]], device='cuda:0')]\n",
      " ['Pojďme si nyní všichni říci, zda nám stojí za to, že na základě naší neochoty dočasně změnit své chování třeba i někdo jiný, klidně i náš blízký, zemře - a to nikdo nechceme.'\n",
      "  tensor([[0.0619, 0.9381]], device='cuda:0')]\n",
      " ['Zvládneme to ale jen společně.'\n",
      "  tensor([[0.6294, 0.3706]], device='cuda:0')]\n",
      " ['Stejně jako na jaře.' tensor([[0.4657, 0.5343]], device='cuda:0')]\n",
      " ['Právě proto zase musíme být zodpovědní, ohleduplní a důslední v dodržování pravidel.'\n",
      "  tensor([[0.2433, 0.7567]], device='cuda:0')]\n",
      " ['Pro každého to bude těžké.'\n",
      "  tensor([[0.3505, 0.6495]], device='cuda:0')]\n",
      " ['Co nás teď čeká?' tensor([[0.9292, 0.0708]], device='cuda:0')]\n",
      " ['Urychleně dobudovat integrovaný systém s velkokapacitními call centry.'\n",
      "  tensor([[0.8506, 0.1494]], device='cuda:0')]\n",
      " ['Zajistit dostatečný počet odběrných míst a kapacity laboratoří, které budou hlásit lidem výsledek odběru do 48 hodin.'\n",
      "  tensor([[0.8575, 0.1425]], device='cuda:0')]\n",
      " ['Spustit systém sebereportování, který zrychlí celý proces a ušetří čas hygienikům a občanům.'\n",
      "  tensor([[0.8288, 0.1712]], device='cuda:0')]\n",
      " ['A dostatečnou kapacitu lůžek pro pacienty s covidem ve středním a těžkém stavu.'\n",
      "  tensor([[0.6553, 0.3447]], device='cuda:0')]\n",
      " ['Je důležité, aby byla udávaná kapacita krajských a fakultních nemocnic okamžitě k dispozici a hlavně odpovídala realitě.'\n",
      "  tensor([[0.1516, 0.8484]], device='cuda:0')]\n",
      " ['A ještě důležitější je ochránit zdravotnický personál za každou cenu.'\n",
      "  tensor([[0.2315, 0.7685]], device='cuda:0')]\n",
      " ['Nechceme zavírat ekonomiku a ohrozit zaměstnanost.'\n",
      "  tensor([[0.0697, 0.9303]], device='cuda:0')]\n",
      " ['Stejně jako vy to chceme zvládnout jen s opatřeními, která náš život omezí co možná nejméně.'\n",
      "  tensor([[0.1122, 0.8878]], device='cuda:0')]]\n"
     ]
    }
   ],
   "source": [
    "print(certainity)"
   ]
  },
  {
   "cell_type": "code",
   "execution_count": 86,
   "id": "8c094642-54eb-4e27-b531-c19c39a2635b",
   "metadata": {},
   "outputs": [
    {
     "data": {
      "text/plain": [
       "[array(['Čísla nákazy závratně rostou.', 'unbiased'], dtype='<U212'),\n",
       " array(['Bylo to poté, co jsme zarazili šíření nemoci jako jedni z prvních v Evropě.',\n",
       "        'unbiased'], dtype='<U212'),\n",
       " array(['Od března jedeme sedm dní v týdnu a bojujeme s touto ojedinělou situací, na kterou nemohl být nikdo připraven.',\n",
       "        'unbiased'], dtype='<U212'),\n",
       " array(['Sám jsem viděl případy, hlavně v Praze, kdy lidi nerespektovali ani ty úplně základní pokyny.',\n",
       "        'unbiased'], dtype='<U212'),\n",
       " array(['Téměř každý je teď epidemiolog.', 'unbiased'], dtype='<U212'),\n",
       " array(['Jedenáctkrát více než u nás.', 'unbiased'], dtype='<U212'),\n",
       " array(['Také tam mají zakázané všechny kulturní akce nad 50 lidí.',\n",
       "        'unbiased'], dtype='<U212'),\n",
       " array(['Proto si dovolím zopakovat základní pravidlo boje proti viru 3R: ruce, roušky, rozestupy.',\n",
       "        'unbiased'], dtype='<U212'),\n",
       " array(['Na velké i menší skupiny lidí, zaměstnance, živnostníky i zaměstnavatele.',\n",
       "        'unbiased'], dtype='<U212'),\n",
       " array(['Čas na skládání účtů zase přijde.', 'unbiased'], dtype='<U212'),\n",
       " array(['A ještě těžší před sebou.', 'unbiased'], dtype='<U212'),\n",
       " array(['Za práci, kterou pro zdravotnictví vykonal.', 'unbiased'],\n",
       "       dtype='<U212'),\n",
       " array(['Na resortu udělal víc práce než většina jeho předchůdců.',\n",
       "        'unbiased'], dtype='<U212'),\n",
       " array(['Boj s první vlnou viru zvládl neuvěřitelně.', 'unbiased'],\n",
       "       dtype='<U212'),\n",
       " array(['Zvládneme to ale jen společně.', 'unbiased'], dtype='<U212'),\n",
       " array(['Co nás teď čeká?', 'unbiased'], dtype='<U212'),\n",
       " array(['Urychleně dobudovat integrovaný systém s velkokapacitními call centry.',\n",
       "        'unbiased'], dtype='<U212'),\n",
       " array(['Zajistit dostatečný počet odběrných míst a kapacity laboratoří, které budou hlásit lidem výsledek odběru do 48 hodin.',\n",
       "        'unbiased'], dtype='<U212'),\n",
       " array(['Spustit systém sebereportování, který zrychlí celý proces a ušetří čas hygienikům a občanům.',\n",
       "        'unbiased'], dtype='<U212'),\n",
       " array(['A dostatečnou kapacitu lůžek pro pacienty s covidem ve středním a těžkém stavu.',\n",
       "        'unbiased'], dtype='<U212')]"
      ]
     },
     "execution_count": 86,
     "metadata": {},
     "output_type": "execute_result"
    }
   ],
   "source": [
    "list(filter(lambda x : x[1] == 'unbiased',annotations))"
   ]
  },
  {
   "cell_type": "code",
   "execution_count": 66,
   "id": "8590beb0-7aeb-4236-af19-2dacb01e91fd",
   "metadata": {},
   "outputs": [
    {
     "name": "stdout",
     "output_type": "stream",
     "text": [
      "Začátky osídlovaní Horehroní se datují někdy okolo roku 2500 před naším letopočtem. Horský drsný terén nepředstavoval takové lákadlo jako níže položené oblasti a tehdejší obyvatelstvo potrápil při chovu dobytka a zemědělské činnosti.\n",
      "Zlaté časy přišly až později ve 13. století. A to doslova zlaté. Velká část Horehroní byla totiž bohatá na zlato, které se v místních kopcích těžilo ve velkém. Například tehdejší obec Mýto pod Ďumbierom představovala jednu velkou továrnu o rozloze 600 hektarů, v níž se zpracovávala vytěžená hmota, a oddělovalo se zlato od hlušiny. Poprvé na světě byl pro tento proces těžby použit mlýn právě zde, díky čemuž je dodnes možné spatřit hory hlušiny, ale i pozůstatky štol v okolních horách.\n",
      "Horehroní se nachází na historicky slavné obchodní cestě Via Magna. Za účelem ochrany této trasy byl postaven hrad Ľupča, který je dnes možné navštívit. Dalšími hrady v regionu jsou Tisovský hrad a hrad Muráň, z nějž však zůstalo již jen torzo. Přesto však představuje oblíbené místo turistů a milovníků koní, zejména pro své unikátní vyhlídky na okolní přírodu Muránské planiny.\n",
      "Skrýval se zde Janošík\n",
      "Tak jako bylo panstvo součástí historie Horehroní, tak jimi byli také zbojníci, kteří někdy bohatým brali a chudým dávali a někdy jen brali a nikomu nic nedali. V sedle Zbojská \"úřadoval\" zbojník Jakub Surovec, kterému je věnován naučný chodník při Salaši Zbojská.\n",
      "A o pár kopců dál, nad obcí Klenovec v roce 1713 chytli Janošíka, který se skrýval u Martina Mravce, taktéž zbojníka. Oba byli odsouzeni a krátce na to popraveni. V každém případě i tyto osobnosti vešly do dějin regionu, i když pouze jako opozice tehdejší moci. Zůstaly po nich však, pro turisty oblíbené, Zbojnické chodníčky nedaleko Salaše Zbojská.\n",
      "Velkým lákadlem také železnice\n",
      "Do dnešních dob na nás dýchá i historie technické revoluce. Nejznámějším parním vlakem na Slovensku je Čiernohronská železnice v Čiernom Balogu. K jejímu znovuzrození výraznou měrou přispěl původně dobrovolný studentský brigádník a současný ředitel, rodák z Plzně, Aleš Bílek.\n",
      "Pod jeho vedením vlaky jezdí celoročně, dokonce i v tuhých zimách, a představují lákadlo, jak pro malé děti, tak pro dospělé, jelikož jejich kouzlo je nezapomenutelné. Tratě železnice vedou dolinami Slovenského rudohoří a jednou z jejich zastávek je i Lesnický skanzen, který své návštěvníky vtáhne do tajů života lesa, těžby dřeva a nabírání nových znalostí o přírodě.\n",
      "Před pár lety byla také dobrovolníky z dezolátního stavu oživena ozubnicová železnice. Tento světový unikát dnes jezdí z Tisovce k Salaši Zbojská, na trati vinoucí se viadukty ve výšce 30 metrů a na úseku 4,7 kilometrů, Bánovo - Zbojská, překoná neuvěřitelné převýšení 166 metrů. Oba parní vlaky mají svá muzea v Čiernom Balogu a Tisovci.\n",
      "Celá řada muzeí\n",
      "Z monumentů minulosti, dávné i ne tak dávné, do dnešních dob zůstaly hrady, hradby, ale i muzea. Tím největším je určitě Horehronské muzeum v Brezně nacházející se ve třech budovách na náměstí. Zajímavá je i zrekonstruovaná synagoga se stálou expozicí holocaustu, ale i dechberoucí prostory, ve kterých probíhají umělecké vystoupení a vernisáže.\n",
      "Neméně zajímavým je Hutní muzeum v Podbrezové s vykopávkami z pradávných dob. Skvostem jsou i muzea: Zvonce na Šumiaci, muzeum miniatur v Pohorelej, ale také muzeum lyží a lanovek v Podkonici nebo Von Roll na svahu Chopku.\n"
     ]
    }
   ],
   "source": [
    "print(\"Začátky osídlovaní Horehroní se datují někdy okolo roku 2500 před naším letopočtem. Horský drsný terén nepředstavoval takové lákadlo jako níže položené oblasti a tehdejší obyvatelstvo potrápil při chovu dobytka a zemědělské činnosti.\\nZlaté časy přišly až později ve 13. století. A to doslova zlaté. Velká část Horehroní byla totiž bohatá na zlato, které se v místních kopcích těžilo ve velkém. Například tehdejší obec Mýto pod Ďumbierom představovala jednu velkou továrnu o rozloze 600 hektarů, v níž se zpracovávala vytěžená hmota, a oddělovalo se zlato od hlušiny. Poprvé na světě byl pro tento proces těžby použit mlýn právě zde, díky čemuž je dodnes možné spatřit hory hlušiny, ale i pozůstatky štol v okolních horách.\\nHorehroní se nachází na historicky slavné obchodní cestě Via Magna. Za účelem ochrany této trasy byl postaven hrad Ľupča, který je dnes možné navštívit. Dalšími hrady v regionu jsou Tisovský hrad a hrad Muráň, z nějž však zůstalo již jen torzo. Přesto však představuje oblíbené místo turistů a milovníků koní, zejména pro své unikátní vyhlídky na okolní přírodu Muránské planiny.\\nSkrýval se zde Janošík\\nTak jako bylo panstvo součástí historie Horehroní, tak jimi byli také zbojníci, kteří někdy bohatým brali a chudým dávali a někdy jen brali a nikomu nic nedali. V sedle Zbojská \\\"úřadoval\\\" zbojník Jakub Surovec, kterému je věnován naučný chodník při Salaši Zbojská.\\nA o pár kopců dál, nad obcí Klenovec v roce 1713 chytli Janošíka, který se skrýval u Martina Mravce, taktéž zbojníka. Oba byli odsouzeni a krátce na to popraveni. V každém případě i tyto osobnosti vešly do dějin regionu, i když pouze jako opozice tehdejší moci. Zůstaly po nich však, pro turisty oblíbené, Zbojnické chodníčky nedaleko Salaše Zbojská.\\nVelkým lákadlem také železnice\\nDo dnešních dob na nás dýchá i historie technické revoluce. Nejznámějším parním vlakem na Slovensku je Čiernohronská železnice v Čiernom Balogu. K jejímu znovuzrození výraznou měrou přispěl původně dobrovolný studentský brigádník a současný ředitel, rodák z Plzně, Aleš Bílek.\\nPod jeho vedením vlaky jezdí celoročně, dokonce i v tuhých zimách, a představují lákadlo, jak pro malé děti, tak pro dospělé, jelikož jejich kouzlo je nezapomenutelné. Tratě železnice vedou dolinami Slovenského rudohoří a jednou z jejich zastávek je i Lesnický skanzen, který své návštěvníky vtáhne do tajů života lesa, těžby dřeva a nabírání nových znalostí o přírodě.\\nPřed pár lety byla také dobrovolníky z dezolátního stavu oživena ozubnicová železnice. Tento světový unikát dnes jezdí z Tisovce k Salaši Zbojská, na trati vinoucí se viadukty ve výšce 30 metrů a na úseku 4,7 kilometrů, Bánovo - Zbojská, překoná neuvěřitelné převýšení 166 metrů. Oba parní vlaky mají svá muzea v Čiernom Balogu a Tisovci.\\nCelá řada muzeí\\nZ monumentů minulosti, dávné i ne tak dávné, do dnešních dob zůstaly hrady, hradby, ale i muzea. Tím největším je určitě Horehronské muzeum v Brezně nacházející se ve třech budovách na náměstí. Zajímavá je i zrekonstruovaná synagoga se stálou expozicí holocaustu, ale i dechberoucí prostory, ve kterých probíhají umělecké vystoupení a vernisáže.\\nNeméně zajímavým je Hutní muzeum v Podbrezové s vykopávkami z pradávných dob. Skvostem jsou i muzea: Zvonce na Šumiaci, muzeum miniatur v Pohorelej, ale také muzeum lyží a lanovek v Podkonici nebo Von Roll na svahu Chopku.\")"
   ]
  },
  {
   "cell_type": "code",
   "execution_count": null,
   "id": "88f90b4d-af52-43b9-bc3f-b07c06fb2c3c",
   "metadata": {},
   "outputs": [],
   "source": []
  }
 ],
 "metadata": {
  "kernelspec": {
   "display_name": "Python 3 (ipykernel)",
   "language": "python",
   "name": "python3"
  },
  "language_info": {
   "codemirror_mode": {
    "name": "ipython",
    "version": 3
   },
   "file_extension": ".py",
   "mimetype": "text/x-python",
   "name": "python",
   "nbconvert_exporter": "python",
   "pygments_lexer": "ipython3",
   "version": "3.8.6"
  }
 },
 "nbformat": 4,
 "nbformat_minor": 5
}
