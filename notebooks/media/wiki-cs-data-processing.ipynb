{
 "cells": [
  {
   "cell_type": "code",
   "execution_count": 1,
   "metadata": {},
   "outputs": [
    {
     "name": "stderr",
     "output_type": "stream",
     "text": [
      "/usr/lib/python3/dist-packages/requests/__init__.py:89: RequestsDependencyWarning: urllib3 (1.26.6) or chardet (3.0.4) doesn't match a supported version!\n",
      "  warnings.warn(\"urllib3 ({}) or chardet ({}) doesn't match a supported \"\n"
     ]
    }
   ],
   "source": [
    "# Making imports convenient\n",
    "import sys\n",
    "import os\n",
    "MODULE_FULL_PATH=os.getcwd().split('/notebooks')[0]\n",
    "sys.path.insert(1, MODULE_FULL_PATH)\n",
    "\n",
    "import datasets\n",
    "from datasets import load_dataset"
   ]
  },
  {
   "cell_type": "code",
   "execution_count": null,
   "metadata": {},
   "outputs": [],
   "source": [
    "label_to_num = lambda data : {'label':0 if data['label'] == '__label__neutral' else 1,'sentence':data['sentence']}"
   ]
  },
  {
   "cell_type": "code",
   "execution_count": 11,
   "metadata": {},
   "outputs": [
    {
     "name": "stderr",
     "output_type": "stream",
     "text": [
      "Using custom data configuration default-734a7695d4506273\n",
      "Reusing dataset csv (/home/tomas/.cache/huggingface/datasets/csv/default-734a7695d4506273/0.0.0/2dc6629a9ff6b5697d82c25b73731dd440507a69cbce8b425db50b751e8fcfd0)\n",
      "Using custom data configuration default-36297962793fcb92\n",
      "                            \r"
     ]
    },
    {
     "name": "stdout",
     "output_type": "stream",
     "text": [
      "Downloading and preparing dataset csv/default (download: Unknown size, generated: Unknown size, post-processed: Unknown size, total: Unknown size) to /home/tomas/.cache/huggingface/datasets/csv/default-36297962793fcb92/0.0.0/2dc6629a9ff6b5697d82c25b73731dd440507a69cbce8b425db50b751e8fcfd0...\n",
      "Dataset csv downloaded and prepared to /home/tomas/.cache/huggingface/datasets/csv/default-36297962793fcb92/0.0.0/2dc6629a9ff6b5697d82c25b73731dd440507a69cbce8b425db50b751e8fcfd0. Subsequent calls will reuse this data.\n"
     ]
    },
    {
     "name": "stderr",
     "output_type": "stream",
     "text": [
      "Using custom data configuration default-1fe2b71f253dd9df\n",
      "                            "
     ]
    },
    {
     "name": "stdout",
     "output_type": "stream",
     "text": [
      "Downloading and preparing dataset csv/default (download: Unknown size, generated: Unknown size, post-processed: Unknown size, total: Unknown size) to /home/tomas/.cache/huggingface/datasets/csv/default-1fe2b71f253dd9df/0.0.0/2dc6629a9ff6b5697d82c25b73731dd440507a69cbce8b425db50b751e8fcfd0...\n",
      "Dataset csv downloaded and prepared to /home/tomas/.cache/huggingface/datasets/csv/default-1fe2b71f253dd9df/0.0.0/2dc6629a9ff6b5697d82c25b73731dd440507a69cbce8b425db50b751e8fcfd0. Subsequent calls will reuse this data.\n"
     ]
    },
    {
     "name": "stderr",
     "output_type": "stream",
     "text": [
      "\r"
     ]
    }
   ],
   "source": [
    "train = load_dataset('csv',data_files=MODULE_FULL_PATH+\"/data/CS/raw/WIKI-CS/CS-train.txt\",sep='\\t')['train']\n",
    "dev = load_dataset('csv',data_files=MODULE_FULL_PATH+\"/data/CS/raw/WIKI-CS/CS-dev.txt\",sep='\\t')['train']\n",
    "test = load_dataset('csv',data_files=MODULE_FULL_PATH+\"/data/CS/raw/WIKI-CS/CS-test.txt\",sep='\\t')['train']\n"
   ]
  },
  {
   "cell_type": "code",
   "execution_count": 12,
   "metadata": {},
   "outputs": [],
   "source": [
    "train = train.map(label_to_num)\n",
    "dev = dev.map(label_to_num)\n",
    "test = test.map(label_to_num)"
   ]
  },
  {
   "cell_type": "code",
   "execution_count": 35,
   "metadata": {},
   "outputs": [
    {
     "data": {
      "text/plain": [
       "209492"
      ]
     },
     "execution_count": 35,
     "metadata": {},
     "output_type": "execute_result"
    }
   ],
   "source": [
    "train.to_csv(MODULE_FULL_PATH+\"/data/CS/processed/WIKI-CS/train.csv\",index=False)\n",
    "dev.to_csv(MODULE_FULL_PATH+\"/data/CS/processed/WIKI-CS/dev.csv\",index=False)\n",
    "test.to_csv(MODULE_FULL_PATH+\"/data/CS/processed/WIKI-CS/test.csv\",index=False)"
   ]
  }
 ],
 "metadata": {
  "interpreter": {
   "hash": "31f2aee4e71d21fbe5cf8b01ff0e069b9275f58929596ceb00d14d90e3e16cd6"
  },
  "kernelspec": {
   "display_name": "Python 3.6.8 64-bit",
   "language": "python",
   "name": "python3"
  },
  "language_info": {
   "codemirror_mode": {
    "name": "ipython",
    "version": 3
   },
   "file_extension": ".py",
   "mimetype": "text/x-python",
   "name": "python",
   "nbconvert_exporter": "python",
   "pygments_lexer": "ipython3",
   "version": "3.6.8"
  },
  "orig_nbformat": 4
 },
 "nbformat": 4,
 "nbformat_minor": 2
}
