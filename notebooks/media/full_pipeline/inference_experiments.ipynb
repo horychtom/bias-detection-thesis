{
 "cells": [
  {
   "cell_type": "code",
   "execution_count": 1,
   "id": "c5316ec4-10df-4760-9535-df59480ab81b",
   "metadata": {},
   "outputs": [],
   "source": [
    "# Making imports convenient\n",
    "import sys\n",
    "import os\n",
    "PATH=os.getcwd().split('/notebooks')[0]\n",
    "sys.path.insert(1, PATH)"
   ]
  },
  {
   "cell_type": "code",
   "execution_count": 194,
   "id": "40a8b086-b750-4e4f-966c-4e644ff088f4",
   "metadata": {},
   "outputs": [],
   "source": [
    "import torch\n",
    "from torch.utils.data import DataLoader\n",
    "import torch.nn.functional as F\n",
    "from datasets import load_dataset, Dataset, concatenate_datasets\n",
    "import transformers\n",
    "from sklearn.model_selection import StratifiedKFold\n",
    "from sklearn.metrics import confusion_matrix\n",
    "\n",
    "\n",
    "from transformers import AutoTokenizer, DataCollatorWithPadding,BertForSequenceClassification,TrainingArguments,Trainer\n",
    "\n",
    "from src.utils.myutils import *\n",
    "import yaml\n",
    "from tqdm import tqdm\n",
    "import logging\n",
    "import json\n",
    "import warnings\n",
    "import random\n",
    "import pandas as pd\n",
    "from newspaper import Article\n",
    "from nltk import sent_tokenize\n",
    "\n",
    "logging.disable(logging.ERROR)\n",
    "np.warnings.filterwarnings('ignore', category=np.VisibleDeprecationWarning)\n",
    "warnings.filterwarnings(\"ignore\", category=UserWarning) \n",
    "\n",
    "CS_DATA_PATH = PATH + '/data/CS/processed/'\n",
    "CONFIG_PATH = PATH + '/src/utils/config.yaml'\n",
    "FINAL_PATH = '/home/horyctom/bias-detection-thesis/src/models/trained/final_classifier.pth'\n",
    "\n",
    "\n",
    "device = torch.device(\"cuda\") if torch.cuda.is_available() else torch.device(\"cpu\")\n",
    "\n",
    "model_name = 'fav-kky/FERNET-C5'\n",
    "tokenizer = AutoTokenizer.from_pretrained(model_name, use_fast=False,padding=True)\n",
    "data_collator = DataCollatorWithPadding(tokenizer=tokenizer)\n",
    "\n",
    "BATCH_SIZE = 32"
   ]
  },
  {
   "cell_type": "code",
   "execution_count": 45,
   "id": "7c715c15-24ff-4959-a7e7-60170f3f3d41",
   "metadata": {
    "tags": []
   },
   "outputs": [
    {
     "data": {
      "text/plain": [
       "<All keys matched successfully>"
      ]
     },
     "execution_count": 45,
     "metadata": {},
     "output_type": "execute_result"
    }
   ],
   "source": [
    "model = BertForSequenceClassification.from_pretrained(model_name,num_labels=2)\n",
    "model.load_state_dict(torch.load(FINAL_PATH))"
   ]
  },
  {
   "cell_type": "code",
   "execution_count": 196,
   "id": "52fbf4d7-6b6b-4e8d-9f02-cb70874d929c",
   "metadata": {},
   "outputs": [],
   "source": [
    "def classify_sentence(sent:str):\n",
    "    toksentence = tokenizer(sent,truncation=True,return_tensors=\"pt\",max_length=128)\n",
    "    model.eval()\n",
    "    model.to(device)\n",
    "    with torch.no_grad():\n",
    "        toksentence.to(device)\n",
    "        output = model(**toksentence)\n",
    "    \n",
    "    classification = F.softmax(output.logits,dim=1).argmax(dim=1)\n",
    "    \n",
    "    return classification[0].item()"
   ]
  },
  {
   "cell_type": "code",
   "execution_count": 195,
   "id": "86c9bd68-11ff-4e00-8e73-29ec657da91d",
   "metadata": {},
   "outputs": [],
   "source": [
    "def classify_sentence_certainty(sent:str):\n",
    "    toksentence = tokenizer(sent,truncation=True,return_tensors=\"pt\",max_length=128)\n",
    "    model.eval()\n",
    "    model.to(device)\n",
    "    with torch.no_grad():\n",
    "        toksentence.to(device)\n",
    "        output = model(**toksentence)\n",
    "    \n",
    "    classification = F.softmax(output.logits,dim=1)\n",
    "    \n",
    "    return classification"
   ]
  },
  {
   "cell_type": "code",
   "execution_count": 15,
   "id": "99bebb01-94c2-4a82-9b0f-55351297e55d",
   "metadata": {},
   "outputs": [
    {
     "name": "stdout",
     "output_type": "stream",
     "text": [
      "bias level:  26.08695652173913 %\n"
     ]
    }
   ],
   "source": [
    "article = Article('https://a2larm.cz/2022/03/clenky-feministickeho-protivalecneho-odporu-putinovo-rusko-je-zakleta-ziva-mrtvola/')\n",
    "article.download()\n",
    "article.parse()\n",
    "sentences = sent_tokenize(article.text)\n",
    "annotations = np.array(list(zip(sentences,list(map(classify_sentence,sentences)))))\n",
    "certainity = np.array(list(zip(sentences,list(map(classify_sentence_certainty,sentences)))))\n",
    "\n"
   ]
  },
  {
   "cell_type": "code",
   "execution_count": 219,
   "id": "34fc616f-57fb-4269-a6d6-f72630646e8c",
   "metadata": {},
   "outputs": [],
   "source": [
    "novinky_sort = novinky.sort_values(by=['published'])"
   ]
  },
  {
   "cell_type": "code",
   "execution_count": 395,
   "id": "eba4870c-27af-4ef9-a5f2-63cdcc264fc2",
   "metadata": {},
   "outputs": [
    {
     "data": {
      "text/plain": [
       "36077    2002-12-28T11:58:00+0100\n",
       "8110     2003-01-01T14:15:00+0100\n",
       "24514    2003-01-02T17:24:00+0100\n",
       "29463    2003-01-03T09:23:00+0100\n",
       "Name: published, dtype: object"
      ]
     },
     "execution_count": 395,
     "metadata": {},
     "output_type": "execute_result"
    }
   ],
   "source": [
    "novinky_sort['published'][:4]"
   ]
  },
  {
   "cell_type": "code",
   "execution_count": 16,
   "id": "fc1a41f6-a58c-41f7-9ff7-fbbbff485a74",
   "metadata": {
    "collapsed": true,
    "jupyter": {
     "outputs_hidden": true
    },
    "tags": []
   },
   "outputs": [
    {
     "data": {
      "text/plain": [
       "[array(['To bylo mimochodem velmi konsolidované – podíleli se na něm jak intelektuálové, tak dělníci.',\n",
       "        'biased'], dtype='<U296'),\n",
       " array(['A my ji bereme v úvahu.', 'biased'], dtype='<U296'),\n",
       " array(['Zdá se mi, že právě u těchto lidí by bylo třeba hledat odpověď na otázku po metodologii.',\n",
       "        'biased'], dtype='<U296'),\n",
       " array(['Putin denacifikuje Ukrajinu a zároveň ho v Rusku podporují neonacisté.',\n",
       "        'biased'], dtype='<U296'),\n",
       " array(['Jedná se o velký problém militarismu, jímž trpí ženy, queer lidi a děti, tedy ty nejzranitelnější skupiny.',\n",
       "        'biased'], dtype='<U296'),\n",
       " array(['Darja: Každá válka je pro oblast lidských práv katastrofou.',\n",
       "        'biased'], dtype='<U296'),\n",
       " array(['Ničí všechny dosavadní úspěchy nevládních organizací, filantropie, feministických a queer komunit.',\n",
       "        'biased'], dtype='<U296'),\n",
       " array(['Nezáleží na tom, zda jste ve vítězné nebo poražené zemi.',\n",
       "        'biased'], dtype='<U296'),\n",
       " array(['Ella Rossmanová ve své studii Znepokojivý sovětský gender, publikované ve sborníku Feministický samizdat čtyřicet let poté, píše, že během válečných let ženy na domácí frontě vykonávaly mužskou práci, ale po válce byly rychle vráceny „na patřičné místo“, což mnohé z nich dost bolestně prožívaly.',\n",
       "        'biased'], dtype='<U296'),\n",
       " array(['Válka je extrémní situace a emancipační výdobytky se po jejím skončení často takřka beze stopy vytratí.',\n",
       "        'biased'], dtype='<U296'),\n",
       " array(['Vracejí se pak ke svému velkému konzervativnímu narativu „máme velké ztráty, musíme mít více dětí“.',\n",
       "        'biased'], dtype='<U296'),\n",
       " array(['Nechceme, aby existovala „hlava“ a „tělo“ organizace: pokud se hlava odřízne, zemře i tělo.',\n",
       "        'biased'], dtype='<U296'),\n",
       " array(['Stát má na své straně obrovské peníze a represivní mechanismy, my máme aktivisty, nadšení a touhu pracovat zdola.',\n",
       "        'biased'], dtype='<U296'),\n",
       " array(['Říkáme: staňte se agitátory proti válce.', 'biased'],\n",
       "       dtype='<U296'),\n",
       " array(['Zaměřujeme se také na interakci s konzervativnějšími sociálními sítěmi: napodobujeme jejich jazyk, snažíme se mluvit se starším publikem, žádáme všechny, aby se hromadně registrovali na Spolužácích a šířili tam naše protiválečné texty.',\n",
       "        'biased'], dtype='<U296'),\n",
       " array(['Pak ale začala válka a my jsme si uvědomily, že 8. březen už nelze slavit starým způsobem.',\n",
       "        'biased'], dtype='<U296'),\n",
       " array(['Putin po celá léta využíval válečný narativ.', 'biased'],\n",
       "       dtype='<U296'),\n",
       " array(['Po vypuknutí války se ukázalo, že veškerá oficiální rétorika směřovala k válce.',\n",
       "        'biased'], dtype='<U296'),\n",
       " array(['K našemu překvapení se tato akce 8. března uskutečnila v mnoha městech a zemích, a dokonce i u pomníků na okrajích měst byly květiny.',\n",
       "        'biased'], dtype='<U296'),\n",
       " array(['Dívky byly zadrženy policií kvůli „truchlivému“ vzhledu.',\n",
       "        'biased'], dtype='<U296'),\n",
       " array(['Akci Ženy v černém poprvé zorganizovaly izraelské feministky v roce 1988 v reakci na porušování lidských práv izraelskými vojáky na okupovaných územích.',\n",
       "        'biased'], dtype='<U296'),\n",
       " array(['bez vůdce.', 'biased'], dtype='<U296'),\n",
       " array(['S překvapením jsme zjistily, že náš manifest byl přeložen do více než dvaceti jazyků.',\n",
       "        'biased'], dtype='<U296'),\n",
       " array(['Táňa: Protiválečné hnutí samozřejmě nemůže teď válku zastavit.',\n",
       "        'biased'], dtype='<U296'),\n",
       " array(['Je velká škoda, že se nezačalo dříve.', 'biased'], dtype='<U296'),\n",
       " array(['Tehdy jste mohli předstírat, že je všechno v pořádku, nebo říct: „Já se v tom nevyznám.“ I pro mnoho pravicových intelektuálů se válka stala bodem zlomu.',\n",
       "        'biased'], dtype='<U296'),\n",
       " array(['Je to důležité pro všechny lidi, kteří váhají a přemýšlejí, zda mají udělat nějaké gesto.',\n",
       "        'biased'], dtype='<U296'),\n",
       " array(['Když jsem byla zatčena, policistky byly vůči mně krutější než muži… Ale vraťme se k tématu.',\n",
       "        'biased'], dtype='<U296'),\n",
       " array(['Účastníci a účastnice akcí FAS jsou vystaveni velkému tlaku ze strany státní moci.',\n",
       "        'biased'], dtype='<U296'),\n",
       " array(['Před válkou jako by feministické aktivistky stát nebral vážně.',\n",
       "        'biased'], dtype='<U296'),\n",
       " array(['Teď ale riziko dramaticky narostlo a máme velmi mnoho zadržených, asi stovku.',\n",
       "        'biased'], dtype='<U296'),\n",
       " array(['Bylo jich tam 24 a většina z nich byla vystavena mučení.',\n",
       "        'biased'], dtype='<U296'),\n",
       " array(['Aktivistkám na dveře namalovali písmena Z a výzvy k násilí, zveřejnili naše adresy, jména a tváře.',\n",
       "        'biased'], dtype='<U296'),\n",
       " array(['Žádáme muže, aby byli našimi spojenci, a nikoli přizvanými odborníky.',\n",
       "        'biased'], dtype='<U296'),\n",
       " array(['Jejich hlas musí být ve světě slyšet.', 'biased'], dtype='<U296'),\n",
       " array(['Putinovo Rusko je zakletá živá mrtvola, která vláčí miliony nevinných lidí na onen svět.',\n",
       "        'biased'], dtype='<U296')]"
      ]
     },
     "execution_count": 16,
     "metadata": {},
     "output_type": "execute_result"
    }
   ],
   "source": [
    "list(filter(lambda x : x[1] == 'biased',annotations))"
   ]
  },
  {
   "cell_type": "code",
   "execution_count": 483,
   "id": "69101e9a-6588-4623-836d-299137df6109",
   "metadata": {},
   "outputs": [],
   "source": [
    "data = pd.read_json('/mnt/data/factcheck/summarization/sumeczech/sumeczech-1.0-test.jsonl',lines=True)\n",
    "#throaway blogs\n",
    "data = data[~data['subdomain'].str.contains('blog')]"
   ]
  },
  {
   "cell_type": "code",
   "execution_count": 485,
   "id": "b72e5508-8c92-4bed-a5d8-1c5cd7ea0c25",
   "metadata": {},
   "outputs": [
    {
     "data": {
      "text/plain": [
       "array(['alik.idnes.cz', 'auto.idnes.cz', 'bonusweb.idnes.cz',\n",
       "       'brno.idnes.cz', 'budejovice.idnes.cz', 'bydleni.idnes.cz',\n",
       "       'byznys.lidovky.cz', 'ceskenoviny.cz', 'cestiny.idnes.cz',\n",
       "       'cestovani.idnes.cz', 'cestovani.lidovky.cz', 'denik.cz',\n",
       "       'ekonomika.idnes.cz', 'finance.idnes.cz', 'fotbal.idnes.cz',\n",
       "       'hobby.idnes.cz', 'hradec.idnes.cz', 'jihlava.idnes.cz',\n",
       "       'kraje.idnes.cz', 'kultura.zpravy.idnes.cz', 'liberec.idnes.cz',\n",
       "       'lidovky.cz', 'mobil.idnes.cz', 'mobilnihry.idnes.cz',\n",
       "       'novinky.cz', 'olomouc.idnes.cz', 'ona.idnes.cz',\n",
       "       'ostrava.idnes.cz', 'pardubice.idnes.cz', 'plnehry.idnes.cz',\n",
       "       'plzen.idnes.cz', 'pr.lidovky.cz', 'praha.idnes.cz',\n",
       "       'relax.lidovky.cz', 'revue.idnes.cz', 'rungo.idnes.cz',\n",
       "       'sdeleni.idnes.cz', 'sport.lidovky.cz', 'technet.idnes.cz',\n",
       "       'usti.idnes.cz', 'vary.idnes.cz', 'volby.idnes.cz',\n",
       "       'wiki.idnes.cz', 'xman.idnes.cz', 'zlin.idnes.cz',\n",
       "       'zpravy.idnes.cz'], dtype=object)"
      ]
     },
     "execution_count": 485,
     "metadata": {},
     "output_type": "execute_result"
    }
   ],
   "source": [
    "np.unique(data['subdomain'])"
   ]
  },
  {
   "cell_type": "code",
   "execution_count": 455,
   "id": "46c6f6c3-993f-4384-9a48-f2d347bfbfdb",
   "metadata": {},
   "outputs": [],
   "source": [
    "denik = data[data.subdomain == 'denik.cz']"
   ]
  },
  {
   "cell_type": "code",
   "execution_count": 499,
   "id": "7f94339f-52e3-44b0-9503-9b4cf0ded3f2",
   "metadata": {},
   "outputs": [
    {
     "data": {
      "text/plain": [
       "'alik'"
      ]
     },
     "execution_count": 499,
     "metadata": {},
     "output_type": "execute_result"
    }
   ],
   "source": [
    "\"alik.idnes.cz\".split('.')[0]"
   ]
  },
  {
   "cell_type": "code",
   "execution_count": 501,
   "id": "28eea069-7cc0-44b8-86ab-88121eac74d3",
   "metadata": {},
   "outputs": [
    {
     "data": {
      "text/plain": [
       "0          bydleni\n",
       "1           zpravy\n",
       "2        ekonomika\n",
       "3        cestovani\n",
       "4          kultura\n",
       "           ...    \n",
       "1025     ekonomika\n",
       "1026         denik\n",
       "1027       lidovky\n",
       "1028    zahranicni\n",
       "1029        zpravy\n",
       "Name: section, Length: 1000, dtype: object"
      ]
     },
     "execution_count": 501,
     "metadata": {},
     "output_type": "execute_result"
    }
   ],
   "source": []
  },
  {
   "cell_type": "code",
   "execution_count": 488,
   "id": "38050aa9-45ee-4d30-8f0e-8fad95942396",
   "metadata": {
    "tags": []
   },
   "outputs": [
    {
     "name": "stderr",
     "output_type": "stream",
     "text": [
      "100%|██████████| 1000/1000 [05:34<00:00,  2.99it/s]\n"
     ]
    }
   ],
   "source": [
    "values = np.zeros(1000)\n",
    "for i in tqdm(range(1000)):\n",
    "    text = data[:1000].iloc[i]['text']\n",
    "    sentences = sent_tokenize(text)\n",
    "    labels = np.array(list(map(classify_sentence,sentences)))\n",
    "    values[i] = 100*np.sum(labels)/len(labels)"
   ]
  },
  {
   "cell_type": "code",
   "execution_count": 502,
   "id": "cb5f1bbc-56ec-4257-b525-7de16afaf519",
   "metadata": {},
   "outputs": [],
   "source": [
    "dat = pd.DataFrame({'section':data[:1000]['section'].apply(lambda x: x.split('.')[0]),\"Bias\":values})"
   ]
  },
  {
   "cell_type": "code",
   "execution_count": 503,
   "id": "c6cd8d3f-4343-4a83-89bd-ec162d4220d4",
   "metadata": {},
   "outputs": [],
   "source": [
    "dat = dat.groupby('section').agg({'Bias':'mean'}).reset_index()"
   ]
  },
  {
   "cell_type": "code",
   "execution_count": 504,
   "id": "23bb02e2-2a8d-4b32-826a-2a38c28db5ea",
   "metadata": {},
   "outputs": [
    {
     "data": {
      "text/html": [
       "<div>\n",
       "<style scoped>\n",
       "    .dataframe tbody tr th:only-of-type {\n",
       "        vertical-align: middle;\n",
       "    }\n",
       "\n",
       "    .dataframe tbody tr th {\n",
       "        vertical-align: top;\n",
       "    }\n",
       "\n",
       "    .dataframe thead th {\n",
       "        text-align: right;\n",
       "    }\n",
       "</style>\n",
       "<table border=\"1\" class=\"dataframe\">\n",
       "  <thead>\n",
       "    <tr style=\"text-align: right;\">\n",
       "      <th></th>\n",
       "      <th>section</th>\n",
       "      <th>Bias</th>\n",
       "    </tr>\n",
       "  </thead>\n",
       "  <tbody>\n",
       "    <tr>\n",
       "      <th>53</th>\n",
       "      <td>zoh10</td>\n",
       "      <td>0.000000</td>\n",
       "    </tr>\n",
       "    <tr>\n",
       "      <th>50</th>\n",
       "      <td>zdravi</td>\n",
       "      <td>0.000000</td>\n",
       "    </tr>\n",
       "    <tr>\n",
       "      <th>28</th>\n",
       "      <td>motorismus</td>\n",
       "      <td>2.272727</td>\n",
       "    </tr>\n",
       "    <tr>\n",
       "      <th>32</th>\n",
       "      <td>ostrava</td>\n",
       "      <td>3.567682</td>\n",
       "    </tr>\n",
       "    <tr>\n",
       "      <th>7</th>\n",
       "      <td>byznys</td>\n",
       "      <td>3.612197</td>\n",
       "    </tr>\n",
       "    <tr>\n",
       "      <th>30</th>\n",
       "      <td>olomouc</td>\n",
       "      <td>3.631288</td>\n",
       "    </tr>\n",
       "    <tr>\n",
       "      <th>13</th>\n",
       "      <td>ekonomika</td>\n",
       "      <td>3.912629</td>\n",
       "    </tr>\n",
       "    <tr>\n",
       "      <th>41</th>\n",
       "      <td>sdeleni</td>\n",
       "      <td>4.122492</td>\n",
       "    </tr>\n",
       "    <tr>\n",
       "      <th>17</th>\n",
       "      <td>hokej</td>\n",
       "      <td>4.505293</td>\n",
       "    </tr>\n",
       "    <tr>\n",
       "      <th>51</th>\n",
       "      <td>zena</td>\n",
       "      <td>5.300562</td>\n",
       "    </tr>\n",
       "    <tr>\n",
       "      <th>14</th>\n",
       "      <td>finance</td>\n",
       "      <td>5.318701</td>\n",
       "    </tr>\n",
       "    <tr>\n",
       "      <th>49</th>\n",
       "      <td>zahranicni</td>\n",
       "      <td>5.398192</td>\n",
       "    </tr>\n",
       "    <tr>\n",
       "      <th>47</th>\n",
       "      <td>vary</td>\n",
       "      <td>5.427718</td>\n",
       "    </tr>\n",
       "    <tr>\n",
       "      <th>6</th>\n",
       "      <td>bydleni</td>\n",
       "      <td>5.911780</td>\n",
       "    </tr>\n",
       "    <tr>\n",
       "      <th>23</th>\n",
       "      <td>krimi</td>\n",
       "      <td>6.507022</td>\n",
       "    </tr>\n",
       "    <tr>\n",
       "      <th>8</th>\n",
       "      <td>cestiny</td>\n",
       "      <td>7.142857</td>\n",
       "    </tr>\n",
       "    <tr>\n",
       "      <th>37</th>\n",
       "      <td>regiony</td>\n",
       "      <td>7.475037</td>\n",
       "    </tr>\n",
       "    <tr>\n",
       "      <th>36</th>\n",
       "      <td>praha</td>\n",
       "      <td>7.729618</td>\n",
       "    </tr>\n",
       "    <tr>\n",
       "      <th>20</th>\n",
       "      <td>jihlava</td>\n",
       "      <td>7.881097</td>\n",
       "    </tr>\n",
       "    <tr>\n",
       "      <th>35</th>\n",
       "      <td>plzen</td>\n",
       "      <td>8.024725</td>\n",
       "    </tr>\n",
       "    <tr>\n",
       "      <th>16</th>\n",
       "      <td>hobby</td>\n",
       "      <td>8.437448</td>\n",
       "    </tr>\n",
       "    <tr>\n",
       "      <th>33</th>\n",
       "      <td>pardubice</td>\n",
       "      <td>8.846154</td>\n",
       "    </tr>\n",
       "    <tr>\n",
       "      <th>10</th>\n",
       "      <td>denik</td>\n",
       "      <td>9.173250</td>\n",
       "    </tr>\n",
       "    <tr>\n",
       "      <th>12</th>\n",
       "      <td>domaci</td>\n",
       "      <td>9.285069</td>\n",
       "    </tr>\n",
       "    <tr>\n",
       "      <th>45</th>\n",
       "      <td>usti</td>\n",
       "      <td>9.320099</td>\n",
       "    </tr>\n",
       "    <tr>\n",
       "      <th>18</th>\n",
       "      <td>hradec</td>\n",
       "      <td>9.769305</td>\n",
       "    </tr>\n",
       "    <tr>\n",
       "      <th>5</th>\n",
       "      <td>budejovice</td>\n",
       "      <td>9.870130</td>\n",
       "    </tr>\n",
       "    <tr>\n",
       "      <th>54</th>\n",
       "      <td>zpravy</td>\n",
       "      <td>10.567130</td>\n",
       "    </tr>\n",
       "    <tr>\n",
       "      <th>27</th>\n",
       "      <td>mobil</td>\n",
       "      <td>10.793967</td>\n",
       "    </tr>\n",
       "    <tr>\n",
       "      <th>2</th>\n",
       "      <td>auto</td>\n",
       "      <td>11.277759</td>\n",
       "    </tr>\n",
       "    <tr>\n",
       "      <th>25</th>\n",
       "      <td>liberec</td>\n",
       "      <td>11.746655</td>\n",
       "    </tr>\n",
       "    <tr>\n",
       "      <th>31</th>\n",
       "      <td>ona</td>\n",
       "      <td>12.412247</td>\n",
       "    </tr>\n",
       "    <tr>\n",
       "      <th>46</th>\n",
       "      <td>vanoce</td>\n",
       "      <td>12.500000</td>\n",
       "    </tr>\n",
       "    <tr>\n",
       "      <th>15</th>\n",
       "      <td>fotbal</td>\n",
       "      <td>12.841880</td>\n",
       "    </tr>\n",
       "    <tr>\n",
       "      <th>42</th>\n",
       "      <td>sport</td>\n",
       "      <td>12.982003</td>\n",
       "    </tr>\n",
       "    <tr>\n",
       "      <th>29</th>\n",
       "      <td>novinky</td>\n",
       "      <td>14.100613</td>\n",
       "    </tr>\n",
       "    <tr>\n",
       "      <th>26</th>\n",
       "      <td>lidovky</td>\n",
       "      <td>14.262836</td>\n",
       "    </tr>\n",
       "    <tr>\n",
       "      <th>4</th>\n",
       "      <td>brno</td>\n",
       "      <td>15.224875</td>\n",
       "    </tr>\n",
       "    <tr>\n",
       "      <th>9</th>\n",
       "      <td>cestovani</td>\n",
       "      <td>15.639213</td>\n",
       "    </tr>\n",
       "    <tr>\n",
       "      <th>19</th>\n",
       "      <td>hudba</td>\n",
       "      <td>16.500604</td>\n",
       "    </tr>\n",
       "    <tr>\n",
       "      <th>48</th>\n",
       "      <td>xman</td>\n",
       "      <td>16.773504</td>\n",
       "    </tr>\n",
       "    <tr>\n",
       "      <th>52</th>\n",
       "      <td>zlin</td>\n",
       "      <td>17.117605</td>\n",
       "    </tr>\n",
       "    <tr>\n",
       "      <th>43</th>\n",
       "      <td>technet</td>\n",
       "      <td>17.165792</td>\n",
       "    </tr>\n",
       "    <tr>\n",
       "      <th>38</th>\n",
       "      <td>relax</td>\n",
       "      <td>18.542569</td>\n",
       "    </tr>\n",
       "    <tr>\n",
       "      <th>44</th>\n",
       "      <td>tenis</td>\n",
       "      <td>19.047619</td>\n",
       "    </tr>\n",
       "    <tr>\n",
       "      <th>21</th>\n",
       "      <td>koktejl</td>\n",
       "      <td>19.879079</td>\n",
       "    </tr>\n",
       "    <tr>\n",
       "      <th>11</th>\n",
       "      <td>divadlo</td>\n",
       "      <td>24.242424</td>\n",
       "    </tr>\n",
       "    <tr>\n",
       "      <th>39</th>\n",
       "      <td>revue</td>\n",
       "      <td>26.714848</td>\n",
       "    </tr>\n",
       "    <tr>\n",
       "      <th>3</th>\n",
       "      <td>bonusweb</td>\n",
       "      <td>27.921832</td>\n",
       "    </tr>\n",
       "    <tr>\n",
       "      <th>40</th>\n",
       "      <td>rungo</td>\n",
       "      <td>28.152610</td>\n",
       "    </tr>\n",
       "    <tr>\n",
       "      <th>1</th>\n",
       "      <td>atletika</td>\n",
       "      <td>28.571429</td>\n",
       "    </tr>\n",
       "    <tr>\n",
       "      <th>0</th>\n",
       "      <td>alik</td>\n",
       "      <td>31.578947</td>\n",
       "    </tr>\n",
       "    <tr>\n",
       "      <th>24</th>\n",
       "      <td>kultura</td>\n",
       "      <td>33.855259</td>\n",
       "    </tr>\n",
       "    <tr>\n",
       "      <th>34</th>\n",
       "      <td>plnehry</td>\n",
       "      <td>42.975458</td>\n",
       "    </tr>\n",
       "    <tr>\n",
       "      <th>22</th>\n",
       "      <td>komentare</td>\n",
       "      <td>57.258065</td>\n",
       "    </tr>\n",
       "  </tbody>\n",
       "</table>\n",
       "</div>"
      ],
      "text/plain": [
       "       section       Bias\n",
       "53       zoh10   0.000000\n",
       "50      zdravi   0.000000\n",
       "28  motorismus   2.272727\n",
       "32     ostrava   3.567682\n",
       "7       byznys   3.612197\n",
       "30     olomouc   3.631288\n",
       "13   ekonomika   3.912629\n",
       "41     sdeleni   4.122492\n",
       "17       hokej   4.505293\n",
       "51        zena   5.300562\n",
       "14     finance   5.318701\n",
       "49  zahranicni   5.398192\n",
       "47        vary   5.427718\n",
       "6      bydleni   5.911780\n",
       "23       krimi   6.507022\n",
       "8      cestiny   7.142857\n",
       "37     regiony   7.475037\n",
       "36       praha   7.729618\n",
       "20     jihlava   7.881097\n",
       "35       plzen   8.024725\n",
       "16       hobby   8.437448\n",
       "33   pardubice   8.846154\n",
       "10       denik   9.173250\n",
       "12      domaci   9.285069\n",
       "45        usti   9.320099\n",
       "18      hradec   9.769305\n",
       "5   budejovice   9.870130\n",
       "54      zpravy  10.567130\n",
       "27       mobil  10.793967\n",
       "2         auto  11.277759\n",
       "25     liberec  11.746655\n",
       "31         ona  12.412247\n",
       "46      vanoce  12.500000\n",
       "15      fotbal  12.841880\n",
       "42       sport  12.982003\n",
       "29     novinky  14.100613\n",
       "26     lidovky  14.262836\n",
       "4         brno  15.224875\n",
       "9    cestovani  15.639213\n",
       "19       hudba  16.500604\n",
       "48        xman  16.773504\n",
       "52        zlin  17.117605\n",
       "43     technet  17.165792\n",
       "38       relax  18.542569\n",
       "44       tenis  19.047619\n",
       "21     koktejl  19.879079\n",
       "11     divadlo  24.242424\n",
       "39       revue  26.714848\n",
       "3     bonusweb  27.921832\n",
       "40       rungo  28.152610\n",
       "1     atletika  28.571429\n",
       "0         alik  31.578947\n",
       "24     kultura  33.855259\n",
       "34     plnehry  42.975458\n",
       "22   komentare  57.258065"
      ]
     },
     "execution_count": 504,
     "metadata": {},
     "output_type": "execute_result"
    }
   ],
   "source": [
    "dat.sort_values('Bias')"
   ]
  },
  {
   "cell_type": "code",
   "execution_count": 440,
   "id": "7df45cae-a279-420b-a3f1-6eb03faf1f50",
   "metadata": {},
   "outputs": [
    {
     "data": {
      "image/png": "[encoded data removed]",
      "text/plain": [
       "<Figure size 432x288 with 1 Axes>"
      ]
     },
     "metadata": {
      "needs_background": "light"
     },
     "output_type": "display_data"
    }
   ],
   "source": [
    "ax = dat.plot.bar(x='publisher', y='Bias', rot=0)"
   ]
  },
  {
   "cell_type": "code",
   "execution_count": 323,
   "id": "7e0bec38-7434-4343-8fdc-98eff68909d5",
   "metadata": {
    "tags": []
   },
   "outputs": [],
   "source": [
    "years = list(novinky_sort[:2000]['published'].apply(lambda x: int(x[:4])))"
   ]
  },
  {
   "cell_type": "code",
   "execution_count": 330,
   "id": "9a00b312-76b8-4227-af87-1cc92bc1ef22",
   "metadata": {},
   "outputs": [],
   "source": [
    "months_years = list(novinky_sort[:2000]['published'].apply(lambda x: x[:7]))"
   ]
  },
  {
   "cell_type": "code",
   "execution_count": 359,
   "id": "df3659ba-c6f1-4469-bb68-6e1ace578162",
   "metadata": {},
   "outputs": [],
   "source": [
    "years_biases = pd.DataFrame({'Year':months_years,'Bias':values[:2000]})"
   ]
  },
  {
   "cell_type": "code",
   "execution_count": 377,
   "id": "7fcaba0d-9061-4286-b89f-e1b5dcce4db1",
   "metadata": {},
   "outputs": [],
   "source": [
    "df = years_biases.groupby('Year').agg({'Bias':'mean'}).rename(columns={'Bias':'mean_bias'}).reset_index()"
   ]
  },
  {
   "cell_type": "code",
   "execution_count": null,
   "id": "29495d3e-c9cd-4ea2-ab79-603745ba2e2b",
   "metadata": {},
   "outputs": [],
   "source": [
    "bias = pd.DataFrame({'Publisher':"
   ]
  },
  {
   "cell_type": "code",
   "execution_count": 513,
   "id": "c4109091-f321-4e6b-8668-c0a797481ea0",
   "metadata": {},
   "outputs": [
    {
     "data": {
      "image/png": "[encoded data removed]",
      "text/plain": [
       "<Figure size 432x288 with 1 Axes>"
      ]
     },
     "metadata": {
      "needs_background": "light"
     },
     "output_type": "display_data"
    }
   ],
   "source": [
    "from scipy.optimize import curve_fit\n",
    "import matplotlib.pyplot as plt\n",
    "\n",
    "# Let's create a function to model and create data\n",
    "def func(x, a, x0, sigma):\n",
    "\treturn a*np.exp(-(x-x0)**2/(2*sigma**2))\n",
    "\n",
    "# Generating clean data\n",
    "x = range(len(dat['Bias']))\n",
    "yn = dat['Bias']\n",
    "\n",
    "# Plot out the current state of the data and model\n",
    "fig = plt.figure()\n",
    "ax = fig.add_subplot(111)\n",
    "ax.scatter(x, yn)\n",
    "\n",
    "# Executing curve_fit on noisy data\n",
    "ym = func(x, popt[0], popt[1], popt[2])\n",
    "ax.legend()\n",
    "fig.savefig('model_fit.png')\n"
   ]
  },
  {
   "cell_type": "code",
   "execution_count": 525,
   "id": "c216cff5-d406-47da-a8b9-b429546585be",
   "metadata": {},
   "outputs": [
    {
     "data": {
      "image/png": "[encoded data removed]",
      "text/plain": [
       "<Figure size 432x288 with 1 Axes>"
      ]
     },
     "metadata": {
      "needs_background": "light"
     },
     "output_type": "display_data"
    }
   ],
   "source": [
    "import pandas as pd\n",
    "\n",
    "# Generate data on commute times.\n",
    "commutes = pd.Series(values[:1000])\n",
    "\n",
    "commutes.plot.hist(grid=True, bins=10, rwidth=0.9,\n",
    "                   color='#607c8e')\n",
    "plt.grid(axis='y', alpha=0.75)"
   ]
  },
  {
   "cell_type": "code",
   "execution_count": 235,
   "id": "4aa1bd12-80fa-47c7-843b-52f669d5602e",
   "metadata": {},
   "outputs": [
    {
     "data": {
      "image/png": "[encoded data removed]",
      "text/plain": [
       "<Figure size 432x288 with 1 Axes>"
      ]
     },
     "metadata": {
      "needs_background": "light"
     },
     "output_type": "display_data"
    }
   ],
   "source": [
    "from scipy.optimize import curve_fit\n",
    "import matplotlib.pyplot as plt\n",
    "\n",
    "# Let's create a function to model and create data\n",
    "def func(x, a, x0, sigma):\n",
    "\treturn a*np.exp(-(x-x0)**2/(2*sigma**2))\n",
    "\n",
    "# Generating clean data\n",
    "x = np.arange(2000)\n",
    "yn = values[:2000]\n",
    "\n",
    "# Plot out the current state of the data and model\n",
    "fig = plt.figure()\n",
    "ax = fig.add_subplot(111)\n",
    "ax.scatter(x, yn)\n",
    "\n",
    "# Executing curve_fit on noisy data\n",
    "ym = func(x, popt[0], popt[1], popt[2])\n",
    "ax.legend()\n",
    "fig.savefig('model_fit.png')\n"
   ]
  },
  {
   "cell_type": "code",
   "execution_count": 131,
   "id": "9f20e4fa-57af-4062-80fc-84a8b6eefed8",
   "metadata": {},
   "outputs": [],
   "source": [
    "novinky = data[data.subdomain == 'novinky.cz']"
   ]
  },
  {
   "cell_type": "code",
   "execution_count": 135,
   "id": "ee79792a-b378-4e85-8b7c-3b9100ed2486",
   "metadata": {},
   "outputs": [
    {
     "data": {
      "text/plain": [
       "(array(['biased', 'unbiased'], dtype='<U230'), array([5, 1]))"
      ]
     },
     "execution_count": 135,
     "metadata": {},
     "output_type": "execute_result"
    }
   ],
   "source": [
    "np.unique(annotations[:,1],return_counts=True)"
   ]
  },
  {
   "cell_type": "code",
   "execution_count": 146,
   "id": "ebbec447-265d-4a43-85cf-8299bd9c86df",
   "metadata": {},
   "outputs": [
    {
     "data": {
      "text/plain": [
       "(array(['biased', 'unbiased'], dtype='<U230'), array([5, 1]))"
      ]
     },
     "execution_count": 146,
     "metadata": {},
     "output_type": "execute_result"
    }
   ],
   "source": [
    "stats"
   ]
  },
  {
   "cell_type": "code",
   "execution_count": 148,
   "id": "ccec8c8b-ee87-4889-9271-924ada7b080e",
   "metadata": {},
   "outputs": [],
   "source": [
    "text = data.iloc[41]['text']"
   ]
  },
  {
   "cell_type": "code",
   "execution_count": 153,
   "id": "1ed405cc-61a5-461b-b5b4-95a59948bf04",
   "metadata": {},
   "outputs": [],
   "source": [
    "sentences = sent_tokenize(text)\n",
    "labels = np.array(list(map(classify_sentence,sentences)))\n",
    "annotations = np.array(list(zip(sentences,list(map(classify_sentence,sentences)))))\n",
    "certainity = np.array(list(zip(sentences,list(map(classify_sentence_certainty,sentences)))))"
   ]
  },
  {
   "cell_type": "code",
   "execution_count": 156,
   "id": "93fe9de2-08a5-4074-b0d7-684a196649cf",
   "metadata": {},
   "outputs": [
    {
     "data": {
      "text/plain": [
       "0.8333333333333334"
      ]
     },
     "execution_count": 156,
     "metadata": {},
     "output_type": "execute_result"
    }
   ],
   "source": [
    "np.sum(labels)/len(labels)"
   ]
  },
  {
   "cell_type": "code",
   "execution_count": 104,
   "id": "73418ff0-8784-4765-b277-b76d521574e9",
   "metadata": {},
   "outputs": [
    {
     "name": "stdout",
     "output_type": "stream",
     "text": [
      "bias level:  83.33333333333334 %\n"
     ]
    }
   ],
   "source": [
    "stats = np.unique(annotations[:,1],return_counts=True)\n",
    "print(\"bias level: \",stats[1][0]/stats[1].sum()*100,\"%\")"
   ]
  },
  {
   "cell_type": "code",
   "execution_count": 105,
   "id": "fcd8dab9-a660-40b3-b10a-b738a3b6fced",
   "metadata": {},
   "outputs": [
    {
     "data": {
      "text/plain": [
       "[array(['Zobrazit fotogaleriiA zatřetí, legendě se sluší popřát: premiéru totiž měla právě na podzim před třiceti lety, třebaže k nám dorazila až za svobodné éry roku 1990.',\n",
       "        'biased'], dtype='<U230'),\n",
       " array(['Tudíž oslavu třicetiletého kyborga a pětadvacetiletého Listopadu lze docela přirozeně spojit, jak potvrdí pamětníci, kteří viděli Terminátora poprvé ještě v ilegalitě 80. let, na láskyplně pašovaných a stokrát obehraných kazetách.',\n",
       "        'biased'], dtype='<U230'),\n",
       " array(['Z takového pokoutního přepisu se leckdy nedalo pořádně rozpoznat, kdo je vlastně Arnold Schwarzenegger, ale mělo to i své výhody, nehrozila ztráta iluzí.',\n",
       "        'biased'], dtype='<U230'),\n",
       " array(['Ani Bystrozraký by pod jeho kostýmem neodhalil napájecí baterie k laserovému zařízení, natož aby odhadl, ve které fázi hercův obličej nahradila loutka nebo kde se režisér James Cameron vmísil mezi komparz.',\n",
       "        'biased'], dtype='<U230'),\n",
       " array(['Ale nostalgik to rád unese, protože v době digitální dokonalosti není nad závan patiny starých časů a triků.',\n",
       "        'biased'], dtype='<U230')]"
      ]
     },
     "execution_count": 105,
     "metadata": {},
     "output_type": "execute_result"
    }
   ],
   "source": [
    "list(filter(lambda x : x[1] == 'biased',annotations))"
   ]
  },
  {
   "cell_type": "code",
   "execution_count": 100,
   "id": "a906e590-884c-448d-a3a8-99a4e79e4084",
   "metadata": {},
   "outputs": [
    {
     "data": {
      "text/plain": [
       "tensor([[0.0139, 0.9861]], device='cuda:0')"
      ]
     },
     "execution_count": 100,
     "metadata": {},
     "output_type": "execute_result"
    }
   ],
   "source": [
    "classify_sentence_certainty('Lady Gaga je schopná.')"
   ]
  },
  {
   "cell_type": "code",
   "execution_count": 187,
   "id": "b6ce38e1-63ec-4f63-891a-0e8d957665d5",
   "metadata": {},
   "outputs": [
    {
     "data": {
      "text/plain": [
       "array([ 0,  1,  2,  3,  4,  5,  6,  7,  8,  9, 10, 11, 12, 13, 14, 15, 16,\n",
       "       17, 18, 19, 20, 21, 22, 23, 24, 25, 26, 27, 28, 29, 30, 31, 32, 33,\n",
       "       34, 35, 36, 37, 38, 39, 40, 41, 42, 43, 44, 45, 46, 47, 48, 49])"
      ]
     },
     "execution_count": 187,
     "metadata": {},
     "output_type": "execute_result"
    }
   ],
   "source": [
    "np.arange(50)"
   ]
  },
  {
   "cell_type": "code",
   "execution_count": null,
   "id": "9b75f858-dcfe-41ea-8a2b-57f05c85de18",
   "metadata": {},
   "outputs": [],
   "source": []
  }
 ],
 "metadata": {
  "kernelspec": {
   "display_name": "Python 3 (ipykernel)",
   "language": "python",
   "name": "python3"
  },
  "language_info": {
   "codemirror_mode": {
    "name": "ipython",
    "version": 3
   },
   "file_extension": ".py",
   "mimetype": "text/x-python",
   "name": "python",
   "nbconvert_exporter": "python",
   "pygments_lexer": "ipython3",
   "version": "3.8.6"
  }
 },
 "nbformat": 4,
 "nbformat_minor": 5
}
