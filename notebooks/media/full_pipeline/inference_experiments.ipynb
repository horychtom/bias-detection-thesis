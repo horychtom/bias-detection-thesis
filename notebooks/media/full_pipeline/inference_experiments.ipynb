{
 "cells": [
  {
   "cell_type": "markdown",
   "id": "6148c3a8-4267-45c0-b51b-9d7d02543b41",
   "metadata": {
    "jp-MarkdownHeadingCollapsed": true,
    "tags": []
   },
   "source": [
    "## Imports"
   ]
  },
  {
   "cell_type": "code",
   "execution_count": 1,
   "id": "2553cd26-9e0e-4ea7-8eeb-104b921054bb",
   "metadata": {},
   "outputs": [],
   "source": [
    "# Making imports convenient\n",
    "import sys\n",
    "import os\n",
    "PATH=os.getcwd().split('/notebooks')[0]\n",
    "sys.path.insert(1, PATH)"
   ]
  },
  {
   "cell_type": "code",
   "execution_count": 28,
   "id": "40a8b086-b750-4e4f-966c-4e644ff088f4",
   "metadata": {
    "tags": []
   },
   "outputs": [],
   "source": [
    "import torch\n",
    "from torch.utils.data import DataLoader\n",
    "import torch.nn.functional as F\n",
    "from datasets import load_dataset, Dataset, concatenate_datasets\n",
    "import transformers\n",
    "from sklearn.model_selection import StratifiedKFold\n",
    "from sklearn.metrics import confusion_matrix\n",
    "\n",
    "\n",
    "from transformers import AutoTokenizer, DataCollatorWithPadding,BertForSequenceClassification,TrainingArguments,Trainer\n",
    "\n",
    "from src.utils.myutils import *\n",
    "import yaml\n",
    "from tqdm import tqdm\n",
    "import logging\n",
    "import json\n",
    "import warnings\n",
    "import random\n",
    "import pandas as pd\n",
    "from newspaper import Article\n",
    "from nltk import sent_tokenize\n",
    "import seaborn as sns\n",
    "\n",
    "logging.disable(logging.ERROR)\n",
    "np.warnings.filterwarnings('ignore', category=np.VisibleDeprecationWarning)\n",
    "warnings.filterwarnings(\"ignore\", category=UserWarning) \n",
    "\n",
    "CS_DATA_PATH = PATH + '/data/CS/processed/'\n",
    "CONFIG_PATH = PATH + '/src/utils/config.yaml'\n",
    "FINAL_PATH = '/home/horyctom/bias-detection-thesis/src/models/trained/final_classifier.pth'\n",
    "\n",
    "\n",
    "device = torch.device(\"cuda\") if torch.cuda.is_available() else torch.device(\"cpu\")\n",
    "\n",
    "model_name = 'fav-kky/FERNET-C5'\n",
    "tokenizer = AutoTokenizer.from_pretrained(model_name, use_fast=False,padding=True)\n",
    "data_collator = DataCollatorWithPadding(tokenizer=tokenizer)\n",
    "model = AutoModelForSequenceClassification.from_pretrained(\"horychtom/czech_media_bias_classifier\")\n",
    "\n",
    "BATCH_SIZE = 32"
   ]
  },
  {
   "cell_type": "markdown",
   "id": "5e679f59-80df-4d9b-9f16-94c9ac3b4391",
   "metadata": {
    "jp-MarkdownHeadingCollapsed": true,
    "tags": []
   },
   "source": [
    "## Function definitions"
   ]
  },
  {
   "cell_type": "code",
   "execution_count": 23,
   "id": "52fbf4d7-6b6b-4e8d-9f02-cb70874d929c",
   "metadata": {
    "tags": []
   },
   "outputs": [],
   "source": [
    "def classify_sentence(sent:str):\n",
    "    toksentence = tokenizer(sent,truncation=True,return_tensors=\"pt\",max_length=128)\n",
    "    model.eval()\n",
    "    model.to(device)\n",
    "    with torch.no_grad():\n",
    "        toksentence.to(device)\n",
    "        output = model(**toksentence)\n",
    "    \n",
    "    classification = F.softmax(output.logits,dim=1).argmax(dim=1)\n",
    "    \n",
    "    return classification[0].item()"
   ]
  },
  {
   "cell_type": "code",
   "execution_count": 24,
   "id": "86c9bd68-11ff-4e00-8e73-29ec657da91d",
   "metadata": {
    "tags": []
   },
   "outputs": [],
   "source": [
    "def classify_sentence_bias_prob(sent:str):\n",
    "    toksentence = tokenizer(sent,truncation=True,return_tensors=\"pt\",max_length=128)\n",
    "    model.eval()\n",
    "    model.to(device)\n",
    "    with torch.no_grad():\n",
    "        toksentence.to(device)\n",
    "        output = model(**toksentence)\n",
    "    \n",
    "    classification = F.softmax(output.logits,dim=1).squeeze(dim=0)\n",
    "    \n",
    "    return classification[1]"
   ]
  },
  {
   "cell_type": "code",
   "execution_count": 25,
   "id": "ae20064a-5a87-446a-93ff-dfe9eeb4d503",
   "metadata": {
    "tags": []
   },
   "outputs": [],
   "source": [
    "def classify_article(url:str):\n",
    "    article = Article(url)\n",
    "    article.download()\n",
    "    article.parse()\n",
    "    sentences = sent_tokenize(article.text)\n",
    "    annotations = np.array(list(zip(sentences,list(map(classify_sentence,sentences)))))\n",
    "    probabilities = np.array(list(zip(sentences,list(map(classify_sentence_certainty,sentences)))))\n",
    "    return annotations,probabilities"
   ]
  },
  {
   "cell_type": "code",
   "execution_count": 26,
   "id": "1562db6e-50b3-4d52-a197-26bd60fc2f7b",
   "metadata": {},
   "outputs": [],
   "source": [
    "def strip_domains(data):\n",
    "    get_domain = lambda x : '.'.join(x.split('.')[-2:])\n",
    "    get_section = lambda x : x.split('.')[0] if '.' in x else x\n",
    "    data['subdomain'] = data['subdomain'].apply(get_domain)\n",
    "    data['section'] = data['section'].apply(get_section)\n",
    "    \n",
    "    return data"
   ]
  },
  {
   "cell_type": "code",
   "execution_count": 27,
   "id": "de13bb47-4711-4a48-beea-5cd388d314f3",
   "metadata": {},
   "outputs": [],
   "source": [
    "def date_format(data):\n",
    "    data['published'] = data['published'].apply(lambda x: x[:7])\n",
    "    data = data.assign(Year = data['published'].apply(lambda x: int(x[:4])))\n",
    "    \n",
    "    return data"
   ]
  },
  {
   "cell_type": "code",
   "execution_count": 77,
   "id": "6bfd48dc-a7ee-4627-ae1b-85061d97374e",
   "metadata": {},
   "outputs": [],
   "source": [
    "def assign_bias_ratio(data,split:str):\n",
    "    size = len(data)\n",
    "    values = np.zeros(size)\n",
    "    \n",
    "    for i in tqdm(range(size)):\n",
    "        text = data.iloc[i][split]\n",
    "        sentences = sent_tokenize(text)\n",
    "        labels = np.array(list(map(classify_sentence,sentences)))\n",
    "        values[i] = 100*np.sum(labels)/len(labels)\n",
    "    \n",
    "    data.insert(0,split+'_bias',values)\n",
    "    \n",
    "    return data"
   ]
  },
  {
   "cell_type": "code",
   "execution_count": 78,
   "id": "b9b5db6e-f239-4daf-9a5d-fc5ef5212f3c",
   "metadata": {},
   "outputs": [],
   "source": [
    "def assign_bias_headline(data):\n",
    "    size = len(data)\n",
    "    values = np.zeros(size)\n",
    "    \n",
    "    for i in tqdm(range(size)):\n",
    "        text = data.iloc[i]['headline']\n",
    "        values[i] = classify_sentence_bias_prob(text)\n",
    "        \n",
    "    data.insert(0,'headline_bias',values)\n",
    "    \n",
    "    return data"
   ]
  },
  {
   "cell_type": "markdown",
   "id": "3c9f25e8-5caa-4d62-8b16-fde15ffa5489",
   "metadata": {},
   "source": [
    "## Load and clean data"
   ]
  },
  {
   "cell_type": "code",
   "execution_count": 184,
   "id": "99641d58-02bf-417a-9468-975e2523064c",
   "metadata": {},
   "outputs": [],
   "source": [
    "test = pd.read_json('/mnt/data/factcheck/summarization/sumeczech/sumeczech-1.0-test.jsonl',lines=True)\n",
    "dev = pd.read_json('/mnt/data/factcheck/summarization/sumeczech/sumeczech-1.0-dev.jsonl',lines=True)\n",
    "data = pd.concat([test,dev])\n",
    "\n",
    "#throaway blogs\n",
    "data = data[~data['subdomain'].str.contains('blog')]"
   ]
  },
  {
   "cell_type": "code",
   "execution_count": 187,
   "id": "f837a3f6-c934-4a56-b54a-973316dfbb08",
   "metadata": {},
   "outputs": [],
   "source": [
    "data.drop(['filename', 'dataset','md5','offset'], axis=1, inplace=True)"
   ]
  },
  {
   "cell_type": "code",
   "execution_count": null,
   "id": "044ecab8-0d7c-47f4-967f-2ffd4647aa5d",
   "metadata": {},
   "outputs": [],
   "source": [
    "data = data[data['published']!='']\n",
    "data = date_format(data)\n",
    "data = strip_domains(data)"
   ]
  },
  {
   "cell_type": "code",
   "execution_count": 192,
   "id": "8cf915c9-5136-4854-8018-33a671cb5ae7",
   "metadata": {
    "tags": []
   },
   "outputs": [],
   "source": [
    "denik = data[data.subdomain == 'denik.cz']\n",
    "ctk = data[data.subdomain == 'ceskenoviny.cz']\n",
    "idnes = data[data.subdomain == 'idnes.cz']\n",
    "lidovky = data[data.subdomain == 'lidovky.cz']\n",
    "novinky = data[data.subdomain == 'novinky.cz']"
   ]
  },
  {
   "cell_type": "markdown",
   "id": "03d1ca2c-627a-4737-b386-bff379b50e0e",
   "metadata": {
    "jp-MarkdownHeadingCollapsed": true,
    "tags": []
   },
   "source": [
    "## Idnes.cz experiments"
   ]
  },
  {
   "cell_type": "code",
   "execution_count": 210,
   "id": "c08a70f6-9002-47b9-8204-8eeb7bdaeb7a",
   "metadata": {
    "tags": []
   },
   "outputs": [
    {
     "name": "stderr",
     "output_type": "stream",
     "text": [
      "100%|██████████| 39081/39081 [26:23<00:00, 24.68it/s]\n",
      "100%|██████████| 39081/39081 [08:46<00:00, 74.19it/s]\n"
     ]
    }
   ],
   "source": [
    "idnes = assign_bias_ratio(idnes,'abstract')\n",
    "idnes = assign_bias_headline(idnes)"
   ]
  },
  {
   "cell_type": "code",
   "execution_count": 211,
   "id": "59d43919-e365-4ae1-94ed-ef84ee1f0900",
   "metadata": {},
   "outputs": [],
   "source": [
    "idnes.to_csv('./indes_data.csv',index=False)"
   ]
  },
  {
   "cell_type": "code",
   "execution_count": 212,
   "id": "ed2062aa-146f-4c8d-8deb-8b6c425bdc90",
   "metadata": {},
   "outputs": [
    {
     "data": {
      "image/png": "[encoded data removed]",
      "text/plain": [
       "<Figure size 432x288 with 2 Axes>"
      ]
     },
     "metadata": {
      "needs_background": "light"
     },
     "output_type": "display_data"
    }
   ],
   "source": [
    "df = idnes[['headline_bias','abstract_bias']]\n",
    "plt.figure(figsize=(6, 4))\n",
    "heatmap = sns.heatmap(df.corr(), vmin=-1, vmax=1, annot=True)\n",
    "heatmap.set_title('Correlation Heatmap', fontdict={'fontsize':12}, pad=12);"
   ]
  },
  {
   "cell_type": "code",
   "execution_count": 213,
   "id": "7eff8f6f-2aca-4c55-b21a-75756c7a05d5",
   "metadata": {},
   "outputs": [
    {
     "data": {
      "image/png": "[encoded data removed]",
      "text/plain": [
       "<Figure size 720x432 with 2 Axes>"
      ]
     },
     "metadata": {
      "needs_background": "light"
     },
     "output_type": "display_data"
    }
   ],
   "source": [
    "plt.figure(figsize=(10, 6))\n",
    "heatmap = sns.heatmap(idnes.corr(), vmin=-1, vmax=1, annot=True)\n",
    "heatmap.set_title('Correlation Heatmap', fontdict={'fontsize':12}, pad=12);"
   ]
  },
  {
   "cell_type": "code",
   "execution_count": 217,
   "id": "d82919e6-7bc6-4225-b9f3-f782c63d83b2",
   "metadata": {},
   "outputs": [
    {
     "data": {
      "text/html": [
       "<div>\n",
       "<style scoped>\n",
       "    .dataframe tbody tr th:only-of-type {\n",
       "        vertical-align: middle;\n",
       "    }\n",
       "\n",
       "    .dataframe tbody tr th {\n",
       "        vertical-align: top;\n",
       "    }\n",
       "\n",
       "    .dataframe thead th {\n",
       "        text-align: right;\n",
       "    }\n",
       "</style>\n",
       "<table border=\"1\" class=\"dataframe\">\n",
       "  <thead>\n",
       "    <tr style=\"text-align: right;\">\n",
       "      <th></th>\n",
       "      <th>headline_bias</th>\n",
       "    </tr>\n",
       "  </thead>\n",
       "  <tbody>\n",
       "    <tr>\n",
       "      <th>headline_bias</th>\n",
       "      <td>1.0</td>\n",
       "    </tr>\n",
       "  </tbody>\n",
       "</table>\n",
       "</div>"
      ],
      "text/plain": [
       "               headline_bias\n",
       "headline_bias            1.0"
      ]
     },
     "execution_count": 217,
     "metadata": {},
     "output_type": "execute_result"
    }
   ],
   "source": [
    "df = idnes.groupby('published',as_index=False).agg({'headline_bias':'mean'})\n",
    "df.corr()"
   ]
  },
  {
   "cell_type": "code",
   "execution_count": 225,
   "id": "8c189151-8f1f-4960-bc49-ef4d397a3153",
   "metadata": {},
   "outputs": [],
   "source": [
    "df = idnes.groupby('section',as_index=False).agg({'headline_bias':'mean'})"
   ]
  },
  {
   "cell_type": "code",
   "execution_count": 226,
   "id": "51fd5507-eeca-40fc-9869-26c0a1ba30ae",
   "metadata": {},
   "outputs": [
    {
     "data": {
      "text/html": [
       "<div>\n",
       "<style scoped>\n",
       "    .dataframe tbody tr th:only-of-type {\n",
       "        vertical-align: middle;\n",
       "    }\n",
       "\n",
       "    .dataframe tbody tr th {\n",
       "        vertical-align: top;\n",
       "    }\n",
       "\n",
       "    .dataframe thead th {\n",
       "        text-align: right;\n",
       "    }\n",
       "</style>\n",
       "<table border=\"1\" class=\"dataframe\">\n",
       "  <thead>\n",
       "    <tr style=\"text-align: right;\">\n",
       "      <th></th>\n",
       "      <th>section</th>\n",
       "      <th>headline_bias</th>\n",
       "    </tr>\n",
       "  </thead>\n",
       "  <tbody>\n",
       "    <tr>\n",
       "      <th>37</th>\n",
       "      <td>z-radnic-a-obci</td>\n",
       "      <td>0.007430</td>\n",
       "    </tr>\n",
       "    <tr>\n",
       "      <th>19</th>\n",
       "      <td>oh</td>\n",
       "      <td>0.045119</td>\n",
       "    </tr>\n",
       "    <tr>\n",
       "      <th>14</th>\n",
       "      <td>kraje</td>\n",
       "      <td>0.050670</td>\n",
       "    </tr>\n",
       "    <tr>\n",
       "      <th>6</th>\n",
       "      <td>cestiny</td>\n",
       "      <td>0.088057</td>\n",
       "    </tr>\n",
       "    <tr>\n",
       "      <th>35</th>\n",
       "      <td>wiki</td>\n",
       "      <td>0.090523</td>\n",
       "    </tr>\n",
       "    <tr>\n",
       "      <th>25</th>\n",
       "      <td>plzen</td>\n",
       "      <td>0.100826</td>\n",
       "    </tr>\n",
       "    <tr>\n",
       "      <th>38</th>\n",
       "      <td>zlin</td>\n",
       "      <td>0.103501</td>\n",
       "    </tr>\n",
       "    <tr>\n",
       "      <th>33</th>\n",
       "      <td>vary</td>\n",
       "      <td>0.110620</td>\n",
       "    </tr>\n",
       "    <tr>\n",
       "      <th>20</th>\n",
       "      <td>olomouc</td>\n",
       "      <td>0.113115</td>\n",
       "    </tr>\n",
       "    <tr>\n",
       "      <th>4</th>\n",
       "      <td>budejovice</td>\n",
       "      <td>0.115013</td>\n",
       "    </tr>\n",
       "    <tr>\n",
       "      <th>26</th>\n",
       "      <td>praha</td>\n",
       "      <td>0.115067</td>\n",
       "    </tr>\n",
       "    <tr>\n",
       "      <th>10</th>\n",
       "      <td>fotbal</td>\n",
       "      <td>0.117488</td>\n",
       "    </tr>\n",
       "    <tr>\n",
       "      <th>12</th>\n",
       "      <td>hradec</td>\n",
       "      <td>0.127261</td>\n",
       "    </tr>\n",
       "    <tr>\n",
       "      <th>8</th>\n",
       "      <td>ekonomika</td>\n",
       "      <td>0.131336</td>\n",
       "    </tr>\n",
       "    <tr>\n",
       "      <th>23</th>\n",
       "      <td>pardubice</td>\n",
       "      <td>0.135343</td>\n",
       "    </tr>\n",
       "    <tr>\n",
       "      <th>32</th>\n",
       "      <td>usti</td>\n",
       "      <td>0.144053</td>\n",
       "    </tr>\n",
       "    <tr>\n",
       "      <th>22</th>\n",
       "      <td>ostrava</td>\n",
       "      <td>0.152056</td>\n",
       "    </tr>\n",
       "    <tr>\n",
       "      <th>9</th>\n",
       "      <td>finance</td>\n",
       "      <td>0.154073</td>\n",
       "    </tr>\n",
       "    <tr>\n",
       "      <th>13</th>\n",
       "      <td>jihlava</td>\n",
       "      <td>0.155115</td>\n",
       "    </tr>\n",
       "    <tr>\n",
       "      <th>3</th>\n",
       "      <td>brno</td>\n",
       "      <td>0.155679</td>\n",
       "    </tr>\n",
       "    <tr>\n",
       "      <th>16</th>\n",
       "      <td>liberec</td>\n",
       "      <td>0.174758</td>\n",
       "    </tr>\n",
       "    <tr>\n",
       "      <th>30</th>\n",
       "      <td>sdeleni</td>\n",
       "      <td>0.186923</td>\n",
       "    </tr>\n",
       "    <tr>\n",
       "      <th>39</th>\n",
       "      <td>zpravy</td>\n",
       "      <td>0.211068</td>\n",
       "    </tr>\n",
       "    <tr>\n",
       "      <th>31</th>\n",
       "      <td>technet</td>\n",
       "      <td>0.223889</td>\n",
       "    </tr>\n",
       "    <tr>\n",
       "      <th>27</th>\n",
       "      <td>reality</td>\n",
       "      <td>0.229499</td>\n",
       "    </tr>\n",
       "    <tr>\n",
       "      <th>17</th>\n",
       "      <td>mobil</td>\n",
       "      <td>0.231011</td>\n",
       "    </tr>\n",
       "    <tr>\n",
       "      <th>29</th>\n",
       "      <td>rungo</td>\n",
       "      <td>0.259239</td>\n",
       "    </tr>\n",
       "    <tr>\n",
       "      <th>7</th>\n",
       "      <td>cestovani</td>\n",
       "      <td>0.264737</td>\n",
       "    </tr>\n",
       "    <tr>\n",
       "      <th>5</th>\n",
       "      <td>bydleni</td>\n",
       "      <td>0.277748</td>\n",
       "    </tr>\n",
       "    <tr>\n",
       "      <th>11</th>\n",
       "      <td>hobby</td>\n",
       "      <td>0.282494</td>\n",
       "    </tr>\n",
       "    <tr>\n",
       "      <th>1</th>\n",
       "      <td>auto</td>\n",
       "      <td>0.298917</td>\n",
       "    </tr>\n",
       "    <tr>\n",
       "      <th>2</th>\n",
       "      <td>bonusweb</td>\n",
       "      <td>0.304542</td>\n",
       "    </tr>\n",
       "    <tr>\n",
       "      <th>21</th>\n",
       "      <td>ona</td>\n",
       "      <td>0.320558</td>\n",
       "    </tr>\n",
       "    <tr>\n",
       "      <th>34</th>\n",
       "      <td>volby</td>\n",
       "      <td>0.322269</td>\n",
       "    </tr>\n",
       "    <tr>\n",
       "      <th>36</th>\n",
       "      <td>xman</td>\n",
       "      <td>0.345856</td>\n",
       "    </tr>\n",
       "    <tr>\n",
       "      <th>28</th>\n",
       "      <td>revue</td>\n",
       "      <td>0.407754</td>\n",
       "    </tr>\n",
       "    <tr>\n",
       "      <th>15</th>\n",
       "      <td>kultura</td>\n",
       "      <td>0.441747</td>\n",
       "    </tr>\n",
       "    <tr>\n",
       "      <th>0</th>\n",
       "      <td>alik</td>\n",
       "      <td>0.454371</td>\n",
       "    </tr>\n",
       "    <tr>\n",
       "      <th>24</th>\n",
       "      <td>plnehry</td>\n",
       "      <td>0.506977</td>\n",
       "    </tr>\n",
       "    <tr>\n",
       "      <th>18</th>\n",
       "      <td>mobilnihry</td>\n",
       "      <td>0.677256</td>\n",
       "    </tr>\n",
       "  </tbody>\n",
       "</table>\n",
       "</div>"
      ],
      "text/plain": [
       "            section  headline_bias\n",
       "37  z-radnic-a-obci       0.007430\n",
       "19               oh       0.045119\n",
       "14            kraje       0.050670\n",
       "6           cestiny       0.088057\n",
       "35             wiki       0.090523\n",
       "25            plzen       0.100826\n",
       "38             zlin       0.103501\n",
       "33             vary       0.110620\n",
       "20          olomouc       0.113115\n",
       "4        budejovice       0.115013\n",
       "26            praha       0.115067\n",
       "10           fotbal       0.117488\n",
       "12           hradec       0.127261\n",
       "8         ekonomika       0.131336\n",
       "23        pardubice       0.135343\n",
       "32             usti       0.144053\n",
       "22          ostrava       0.152056\n",
       "9           finance       0.154073\n",
       "13          jihlava       0.155115\n",
       "3              brno       0.155679\n",
       "16          liberec       0.174758\n",
       "30          sdeleni       0.186923\n",
       "39           zpravy       0.211068\n",
       "31          technet       0.223889\n",
       "27          reality       0.229499\n",
       "17            mobil       0.231011\n",
       "29            rungo       0.259239\n",
       "7         cestovani       0.264737\n",
       "5           bydleni       0.277748\n",
       "11            hobby       0.282494\n",
       "1              auto       0.298917\n",
       "2          bonusweb       0.304542\n",
       "21              ona       0.320558\n",
       "34            volby       0.322269\n",
       "36             xman       0.345856\n",
       "28            revue       0.407754\n",
       "15          kultura       0.441747\n",
       "0              alik       0.454371\n",
       "24          plnehry       0.506977\n",
       "18       mobilnihry       0.677256"
      ]
     },
     "execution_count": 226,
     "metadata": {},
     "output_type": "execute_result"
    }
   ],
   "source": [
    "df.sort_values(by='headline_bias')"
   ]
  },
  {
   "cell_type": "markdown",
   "id": "cc45936f-d2a1-4e79-9e5a-79f5f53bfa7d",
   "metadata": {},
   "source": [
    "## Denik.cz experiments"
   ]
  },
  {
   "cell_type": "markdown",
   "id": "bfbaa143-5c51-4120-9ec5-d6701b7da2fd",
   "metadata": {},
   "source": [
    "#### interesting properties \n",
    "    - length\n",
    "    - bias of headline, abstract, text\n",
    "    - section\n",
    "    - subdomain\n",
    "    - time"
   ]
  },
  {
   "cell_type": "code",
   "execution_count": 193,
   "id": "4d7d32e3-dd90-4821-abcf-95bddef68ccc",
   "metadata": {},
   "outputs": [
    {
     "name": "stderr",
     "output_type": "stream",
     "text": [
      "100%|██████████| 14413/14413 [07:46<00:00, 30.90it/s]\n",
      "100%|██████████| 14413/14413 [03:17<00:00, 72.87it/s]\n"
     ]
    }
   ],
   "source": [
    "denik = assign_bias_ratio(denik,'abstract')\n",
    "denik = assign_bias_headline(denik)"
   ]
  },
  {
   "cell_type": "code",
   "execution_count": 228,
   "id": "7ca26894-d764-445a-8472-7b4861ceb415",
   "metadata": {},
   "outputs": [
    {
     "name": "stderr",
     "output_type": "stream",
     "text": [
      "100%|██████████| 14413/14413 [1:25:23<00:00,  2.81it/s]  \n"
     ]
    }
   ],
   "source": [
    "denik = assign_bias_ratio(denik,'text')"
   ]
  },
  {
   "cell_type": "code",
   "execution_count": null,
   "id": "ee6e5fea-2a35-40b2-a1f7-fb00c68780b4",
   "metadata": {
    "tags": []
   },
   "outputs": [],
   "source": [
    "denik['published'] = pd.to_datetime(denik['published'], format = '%Y-%m')"
   ]
  },
  {
   "cell_type": "code",
   "execution_count": 231,
   "id": "8f0e6780-d946-44de-86af-d379aa371359",
   "metadata": {},
   "outputs": [],
   "source": [
    "denik.to_csv('./denik_data.csv',index=False)"
   ]
  },
  {
   "cell_type": "code",
   "execution_count": 345,
   "id": "3661b4b3-cef2-463c-9952-d2b8bc6d2786",
   "metadata": {},
   "outputs": [],
   "source": [
    "denik = denik[denik['section'] != 'komentare']"
   ]
  },
  {
   "cell_type": "code",
   "execution_count": 346,
   "id": "ab254acb-8b89-4d90-bfd3-a141255c285f",
   "metadata": {},
   "outputs": [],
   "source": [
    "denik = denik[denik['section'] != 'fejeton']"
   ]
  },
  {
   "cell_type": "markdown",
   "id": "653d5857-7da1-48ef-9a4b-0b891c991ef8",
   "metadata": {},
   "source": [
    "### Correlation between different granularities"
   ]
  },
  {
   "cell_type": "code",
   "execution_count": 367,
   "id": "8095c192-dfb0-4b92-bbd5-392b11a1cdec",
   "metadata": {},
   "outputs": [
    {
     "data": {
      "image/png": "[encoded data removed]",
      "text/plain": [
       "<Figure size 720x432 with 2 Axes>"
      ]
     },
     "metadata": {
      "needs_background": "light"
     },
     "output_type": "display_data"
    }
   ],
   "source": [
    "df = denik[['headline_bias','abstract_bias','text_bias']]\n",
    "plt.figure(figsize=(10, 6))\n",
    "heatmap = sns.heatmap(df.corr(), vmin=-1, vmax=1, annot=True)\n",
    "heatmap.set_title('Correlation Heatmap', fontdict={'fontsize':12}, pad=12);"
   ]
  },
  {
   "cell_type": "code",
   "execution_count": 368,
   "id": "b52d1e1e-01a6-47ac-8bf6-09d4e44673bf",
   "metadata": {},
   "outputs": [
    {
     "data": {
      "image/png": "[encoded data removed]",
      "text/plain": [
       "<Figure size 720x432 with 2 Axes>"
      ]
     },
     "metadata": {
      "needs_background": "light"
     },
     "output_type": "display_data"
    }
   ],
   "source": [
    "plt.figure(figsize=(10, 6))\n",
    "heatmap = sns.heatmap(denik.corr(), vmin=-1, vmax=1, annot=True)\n",
    "heatmap.set_title('Correlation Heatmap', fontdict={'fontsize':12}, pad=12);"
   ]
  },
  {
   "cell_type": "code",
   "execution_count": 391,
   "id": "6596efff-b25f-46d7-9622-20f49246e8e6",
   "metadata": {},
   "outputs": [],
   "source": [
    "df_years = denik.groupby('Year',as_index=False).agg({'text_bias':'mean'})\n",
    "df_months = denik.groupby('published',as_index=False).agg({'text_bias':'mean'})"
   ]
  },
  {
   "cell_type": "code",
   "execution_count": 371,
   "id": "74fda985-d38a-4c6a-81cc-20fc42988211",
   "metadata": {},
   "outputs": [
    {
     "data": {
      "image/png": "[encoded data removed]",
      "text/plain": [
       "<Figure size 432x288 with 2 Axes>"
      ]
     },
     "metadata": {
      "needs_background": "light"
     },
     "output_type": "display_data"
    }
   ],
   "source": [
    "plt.figure(figsize=(6, 4))\n",
    "heatmap = sns.heatmap(df_years.corr(), vmin=-1, vmax=1, annot=True)\n",
    "heatmap.set_title('Correlation Heatmap', fontdict={'fontsize':12}, pad=12);"
   ]
  },
  {
   "cell_type": "code",
   "execution_count": 372,
   "id": "53218a0b-f3d2-4986-904e-61c4b492c47d",
   "metadata": {},
   "outputs": [
    {
     "data": {
      "text/html": [
       "<div>\n",
       "<style scoped>\n",
       "    .dataframe tbody tr th:only-of-type {\n",
       "        vertical-align: middle;\n",
       "    }\n",
       "\n",
       "    .dataframe tbody tr th {\n",
       "        vertical-align: top;\n",
       "    }\n",
       "\n",
       "    .dataframe thead th {\n",
       "        text-align: right;\n",
       "    }\n",
       "</style>\n",
       "<table border=\"1\" class=\"dataframe\">\n",
       "  <thead>\n",
       "    <tr style=\"text-align: right;\">\n",
       "      <th></th>\n",
       "      <th>Year</th>\n",
       "      <th>text_bias</th>\n",
       "    </tr>\n",
       "  </thead>\n",
       "  <tbody>\n",
       "    <tr>\n",
       "      <th>0</th>\n",
       "      <td>2007</td>\n",
       "      <td>0.108502</td>\n",
       "    </tr>\n",
       "    <tr>\n",
       "      <th>1</th>\n",
       "      <td>2008</td>\n",
       "      <td>0.119969</td>\n",
       "    </tr>\n",
       "    <tr>\n",
       "      <th>2</th>\n",
       "      <td>2009</td>\n",
       "      <td>0.120925</td>\n",
       "    </tr>\n",
       "    <tr>\n",
       "      <th>3</th>\n",
       "      <td>2010</td>\n",
       "      <td>0.085044</td>\n",
       "    </tr>\n",
       "    <tr>\n",
       "      <th>4</th>\n",
       "      <td>2011</td>\n",
       "      <td>0.070475</td>\n",
       "    </tr>\n",
       "    <tr>\n",
       "      <th>5</th>\n",
       "      <td>2012</td>\n",
       "      <td>0.076541</td>\n",
       "    </tr>\n",
       "    <tr>\n",
       "      <th>6</th>\n",
       "      <td>2013</td>\n",
       "      <td>0.076334</td>\n",
       "    </tr>\n",
       "    <tr>\n",
       "      <th>7</th>\n",
       "      <td>2014</td>\n",
       "      <td>0.071083</td>\n",
       "    </tr>\n",
       "    <tr>\n",
       "      <th>8</th>\n",
       "      <td>2015</td>\n",
       "      <td>0.071454</td>\n",
       "    </tr>\n",
       "    <tr>\n",
       "      <th>9</th>\n",
       "      <td>2016</td>\n",
       "      <td>0.071549</td>\n",
       "    </tr>\n",
       "    <tr>\n",
       "      <th>10</th>\n",
       "      <td>2017</td>\n",
       "      <td>0.080761</td>\n",
       "    </tr>\n",
       "  </tbody>\n",
       "</table>\n",
       "</div>"
      ],
      "text/plain": [
       "    Year  text_bias\n",
       "0   2007   0.108502\n",
       "1   2008   0.119969\n",
       "2   2009   0.120925\n",
       "3   2010   0.085044\n",
       "4   2011   0.070475\n",
       "5   2012   0.076541\n",
       "6   2013   0.076334\n",
       "7   2014   0.071083\n",
       "8   2015   0.071454\n",
       "9   2016   0.071549\n",
       "10  2017   0.080761"
      ]
     },
     "execution_count": 372,
     "metadata": {},
     "output_type": "execute_result"
    }
   ],
   "source": [
    "df_years"
   ]
  },
  {
   "cell_type": "code",
   "execution_count": 373,
   "id": "adb97a5d-ce52-4bdc-9813-ed38546fed23",
   "metadata": {},
   "outputs": [
    {
     "data": {
      "text/plain": [
       "Text(0.5, 1.0, 'Medi Bias development over years')"
      ]
     },
     "execution_count": 373,
     "metadata": {},
     "output_type": "execute_result"
    },
    {
     "data": {
      "image/png": "[encoded data removed]",
      "text/plain": [
       "<Figure size 720x360 with 1 Axes>"
      ]
     },
     "metadata": {
      "needs_background": "light"
     },
     "output_type": "display_data"
    }
   ],
   "source": [
    "fig, ax = plt.subplots(figsize = (10, 5))\n",
    "sns.lineplot(ax = ax, x='Year', y='text_bias', data=df_years).set_title('Medi Bias development over years')"
   ]
  },
  {
   "cell_type": "code",
   "execution_count": 394,
   "id": "470fec5f-3af5-425a-95c7-5a3b664b7556",
   "metadata": {},
   "outputs": [
    {
     "data": {
      "text/plain": [
       "Text(0.5, 1.0, 'Media Bias development over months')"
      ]
     },
     "execution_count": 394,
     "metadata": {},
     "output_type": "execute_result"
    },
    {
     "data": {
      "image/png": "[encoded data removed]",
      "text/plain": [
       "<Figure size 720x360 with 1 Axes>"
      ]
     },
     "metadata": {
      "needs_background": "light"
     },
     "output_type": "display_data"
    }
   ],
   "source": [
    "fig, ax = plt.subplots(figsize = (10, 5))\n",
    "sns.lineplot(ax = ax, x='published', y='text_bias', data=df_months).set_title('Media Bias development over months')"
   ]
  },
  {
   "cell_type": "markdown",
   "id": "f951c55a-14f6-4b4f-ae5b-e84859f20858",
   "metadata": {},
   "source": [
    "## Bias across different topics/sections"
   ]
  },
  {
   "cell_type": "code",
   "execution_count": 375,
   "id": "ace23bea-1e47-470a-a733-8c016d1a807e",
   "metadata": {},
   "outputs": [],
   "source": [
    "df_sections = denik.groupby('section',as_index=False).agg({'text_bias':'mean'})"
   ]
  },
  {
   "cell_type": "code",
   "execution_count": 377,
   "id": "4c32fcb2-1a6f-4e52-8c8d-70f5a92e3f07",
   "metadata": {},
   "outputs": [
    {
     "data": {
      "text/html": [
       "<div>\n",
       "<style scoped>\n",
       "    .dataframe tbody tr th:only-of-type {\n",
       "        vertical-align: middle;\n",
       "    }\n",
       "\n",
       "    .dataframe tbody tr th {\n",
       "        vertical-align: top;\n",
       "    }\n",
       "\n",
       "    .dataframe thead th {\n",
       "        text-align: right;\n",
       "    }\n",
       "</style>\n",
       "<table border=\"1\" class=\"dataframe\">\n",
       "  <thead>\n",
       "    <tr style=\"text-align: right;\">\n",
       "      <th></th>\n",
       "      <th>section</th>\n",
       "      <th>text_bias</th>\n",
       "    </tr>\n",
       "  </thead>\n",
       "  <tbody>\n",
       "    <tr>\n",
       "      <th>20</th>\n",
       "      <td>radar</td>\n",
       "      <td>0.000000</td>\n",
       "    </tr>\n",
       "    <tr>\n",
       "      <th>8</th>\n",
       "      <td>ekonomika</td>\n",
       "      <td>0.028877</td>\n",
       "    </tr>\n",
       "    <tr>\n",
       "      <th>24</th>\n",
       "      <td>reklama</td>\n",
       "      <td>0.031250</td>\n",
       "    </tr>\n",
       "    <tr>\n",
       "      <th>35</th>\n",
       "      <td>vzdelavani</td>\n",
       "      <td>0.040000</td>\n",
       "    </tr>\n",
       "    <tr>\n",
       "      <th>28</th>\n",
       "      <td>special</td>\n",
       "      <td>0.041667</td>\n",
       "    </tr>\n",
       "    <tr>\n",
       "      <th>2</th>\n",
       "      <td>bydleni</td>\n",
       "      <td>0.047952</td>\n",
       "    </tr>\n",
       "    <tr>\n",
       "      <th>17</th>\n",
       "      <td>krimi</td>\n",
       "      <td>0.048424</td>\n",
       "    </tr>\n",
       "    <tr>\n",
       "      <th>36</th>\n",
       "      <td>zdravi</td>\n",
       "      <td>0.049762</td>\n",
       "    </tr>\n",
       "    <tr>\n",
       "      <th>1</th>\n",
       "      <td>auto</td>\n",
       "      <td>0.053181</td>\n",
       "    </tr>\n",
       "    <tr>\n",
       "      <th>15</th>\n",
       "      <td>klasa</td>\n",
       "      <td>0.062500</td>\n",
       "    </tr>\n",
       "    <tr>\n",
       "      <th>29</th>\n",
       "      <td>specialy</td>\n",
       "      <td>0.063571</td>\n",
       "    </tr>\n",
       "    <tr>\n",
       "      <th>6</th>\n",
       "      <td>denik</td>\n",
       "      <td>0.075776</td>\n",
       "    </tr>\n",
       "    <tr>\n",
       "      <th>18</th>\n",
       "      <td>motorismus</td>\n",
       "      <td>0.077148</td>\n",
       "    </tr>\n",
       "    <tr>\n",
       "      <th>19</th>\n",
       "      <td>praha</td>\n",
       "      <td>0.078451</td>\n",
       "    </tr>\n",
       "    <tr>\n",
       "      <th>12</th>\n",
       "      <td>hokej</td>\n",
       "      <td>0.081382</td>\n",
       "    </tr>\n",
       "    <tr>\n",
       "      <th>23</th>\n",
       "      <td>regiony</td>\n",
       "      <td>0.084479</td>\n",
       "    </tr>\n",
       "    <tr>\n",
       "      <th>32</th>\n",
       "      <td>tipy</td>\n",
       "      <td>0.085701</td>\n",
       "    </tr>\n",
       "    <tr>\n",
       "      <th>37</th>\n",
       "      <td>zoh10</td>\n",
       "      <td>0.086574</td>\n",
       "    </tr>\n",
       "    <tr>\n",
       "      <th>4</th>\n",
       "      <td>cestovani</td>\n",
       "      <td>0.088319</td>\n",
       "    </tr>\n",
       "    <tr>\n",
       "      <th>0</th>\n",
       "      <td>atletika</td>\n",
       "      <td>0.100863</td>\n",
       "    </tr>\n",
       "    <tr>\n",
       "      <th>26</th>\n",
       "      <td>skolaci</td>\n",
       "      <td>0.100913</td>\n",
       "    </tr>\n",
       "    <tr>\n",
       "      <th>31</th>\n",
       "      <td>tenis</td>\n",
       "      <td>0.114974</td>\n",
       "    </tr>\n",
       "    <tr>\n",
       "      <th>22</th>\n",
       "      <td>reforma</td>\n",
       "      <td>0.127480</td>\n",
       "    </tr>\n",
       "    <tr>\n",
       "      <th>11</th>\n",
       "      <td>fotbal</td>\n",
       "      <td>0.135209</td>\n",
       "    </tr>\n",
       "    <tr>\n",
       "      <th>33</th>\n",
       "      <td>triatlon</td>\n",
       "      <td>0.143294</td>\n",
       "    </tr>\n",
       "    <tr>\n",
       "      <th>30</th>\n",
       "      <td>stavba</td>\n",
       "      <td>0.164732</td>\n",
       "    </tr>\n",
       "    <tr>\n",
       "      <th>3</th>\n",
       "      <td>ceskozpivakoledy</td>\n",
       "      <td>0.166667</td>\n",
       "    </tr>\n",
       "    <tr>\n",
       "      <th>13</th>\n",
       "      <td>hry</td>\n",
       "      <td>0.194050</td>\n",
       "    </tr>\n",
       "    <tr>\n",
       "      <th>34</th>\n",
       "      <td>umeni</td>\n",
       "      <td>0.219059</td>\n",
       "    </tr>\n",
       "    <tr>\n",
       "      <th>14</th>\n",
       "      <td>hudba</td>\n",
       "      <td>0.222843</td>\n",
       "    </tr>\n",
       "    <tr>\n",
       "      <th>7</th>\n",
       "      <td>divadlo</td>\n",
       "      <td>0.246995</td>\n",
       "    </tr>\n",
       "    <tr>\n",
       "      <th>9</th>\n",
       "      <td>festivaly</td>\n",
       "      <td>0.260536</td>\n",
       "    </tr>\n",
       "    <tr>\n",
       "      <th>16</th>\n",
       "      <td>knihy</td>\n",
       "      <td>0.277836</td>\n",
       "    </tr>\n",
       "    <tr>\n",
       "      <th>25</th>\n",
       "      <td>samet</td>\n",
       "      <td>0.279221</td>\n",
       "    </tr>\n",
       "    <tr>\n",
       "      <th>27</th>\n",
       "      <td>souteze</td>\n",
       "      <td>0.294139</td>\n",
       "    </tr>\n",
       "    <tr>\n",
       "      <th>10</th>\n",
       "      <td>film</td>\n",
       "      <td>0.334977</td>\n",
       "    </tr>\n",
       "    <tr>\n",
       "      <th>5</th>\n",
       "      <td>civilizace</td>\n",
       "      <td>0.452158</td>\n",
       "    </tr>\n",
       "    <tr>\n",
       "      <th>21</th>\n",
       "      <td>rakusanova</td>\n",
       "      <td>0.456566</td>\n",
       "    </tr>\n",
       "  </tbody>\n",
       "</table>\n",
       "</div>"
      ],
      "text/plain": [
       "             section  text_bias\n",
       "20             radar   0.000000\n",
       "8          ekonomika   0.028877\n",
       "24           reklama   0.031250\n",
       "35        vzdelavani   0.040000\n",
       "28           special   0.041667\n",
       "2            bydleni   0.047952\n",
       "17             krimi   0.048424\n",
       "36            zdravi   0.049762\n",
       "1               auto   0.053181\n",
       "15             klasa   0.062500\n",
       "29          specialy   0.063571\n",
       "6              denik   0.075776\n",
       "18        motorismus   0.077148\n",
       "19             praha   0.078451\n",
       "12             hokej   0.081382\n",
       "23           regiony   0.084479\n",
       "32              tipy   0.085701\n",
       "37             zoh10   0.086574\n",
       "4          cestovani   0.088319\n",
       "0           atletika   0.100863\n",
       "26           skolaci   0.100913\n",
       "31             tenis   0.114974\n",
       "22           reforma   0.127480\n",
       "11            fotbal   0.135209\n",
       "33          triatlon   0.143294\n",
       "30            stavba   0.164732\n",
       "3   ceskozpivakoledy   0.166667\n",
       "13               hry   0.194050\n",
       "34             umeni   0.219059\n",
       "14             hudba   0.222843\n",
       "7            divadlo   0.246995\n",
       "9          festivaly   0.260536\n",
       "16             knihy   0.277836\n",
       "25             samet   0.279221\n",
       "27           souteze   0.294139\n",
       "10              film   0.334977\n",
       "5         civilizace   0.452158\n",
       "21        rakusanova   0.456566"
      ]
     },
     "execution_count": 377,
     "metadata": {},
     "output_type": "execute_result"
    }
   ],
   "source": [
    "df_sections.sort_values(by='text_bias')"
   ]
  }
 ],
 "metadata": {
  "kernelspec": {
   "display_name": "Python 3 (ipykernel)",
   "language": "python",
   "name": "python3"
  },
  "language_info": {
   "codemirror_mode": {
    "name": "ipython",
    "version": 3
   },
   "file_extension": ".py",
   "mimetype": "text/x-python",
   "name": "python",
   "nbconvert_exporter": "python",
   "pygments_lexer": "ipython3",
   "version": "3.8.6"
  }
 },
 "nbformat": 4,
 "nbformat_minor": 5
}
