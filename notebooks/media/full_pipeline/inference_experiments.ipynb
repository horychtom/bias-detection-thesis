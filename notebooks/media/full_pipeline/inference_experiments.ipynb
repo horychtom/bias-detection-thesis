{
 "cells": [
  {
   "cell_type": "markdown",
   "id": "6148c3a8-4267-45c0-b51b-9d7d02543b41",
   "metadata": {
    "tags": []
   },
   "source": [
    "## Imports"
   ]
  },
  {
   "cell_type": "code",
   "execution_count": 1,
   "id": "2553cd26-9e0e-4ea7-8eeb-104b921054bb",
   "metadata": {},
   "outputs": [],
   "source": [
    "# Making imports convenient\n",
    "import sys\n",
    "import os\n",
    "PATH=os.getcwd().split('/notebooks')[0]\n",
    "sys.path.insert(1, PATH)"
   ]
  },
  {
   "cell_type": "code",
   "execution_count": 2,
   "id": "40a8b086-b750-4e4f-966c-4e644ff088f4",
   "metadata": {
    "tags": []
   },
   "outputs": [],
   "source": [
    "import torch\n",
    "from torch.utils.data import DataLoader\n",
    "import torch.nn.functional as F\n",
    "from datasets import load_dataset, Dataset, concatenate_datasets\n",
    "import transformers\n",
    "from sklearn.model_selection import StratifiedKFold\n",
    "from sklearn.metrics import confusion_matrix\n",
    "\n",
    "\n",
    "from transformers import AutoTokenizer, DataCollatorWithPadding,BertForSequenceClassification,TrainingArguments,Trainer\n",
    "\n",
    "from src.utils.myutils import *\n",
    "import yaml\n",
    "from tqdm import tqdm\n",
    "import logging\n",
    "import json\n",
    "import warnings\n",
    "import random\n",
    "import pandas as pd\n",
    "from newspaper import Article\n",
    "from nltk import sent_tokenize\n",
    "import seaborn as sns\n",
    "\n",
    "logging.disable(logging.ERROR)\n",
    "np.warnings.filterwarnings('ignore', category=np.VisibleDeprecationWarning)\n",
    "warnings.filterwarnings(\"ignore\", category=UserWarning) \n",
    "\n",
    "CS_DATA_PATH = PATH + '/data/CS/processed/'\n",
    "CONFIG_PATH = PATH + '/src/utils/config.yaml'\n",
    "FINAL_PATH = '/home/horyctom/bias-detection-thesis/src/models/trained/final_classifier.pth'\n",
    "\n",
    "\n",
    "device = torch.device(\"cuda\") if torch.cuda.is_available() else torch.device(\"cpu\")\n",
    "\n",
    "model_name = 'fav-kky/FERNET-C5'\n",
    "tokenizer = AutoTokenizer.from_pretrained(model_name, use_fast=False,padding=True)\n",
    "data_collator = DataCollatorWithPadding(tokenizer=tokenizer)\n",
    "model = AutoModelForSequenceClassification.from_pretrained(\"horychtom/czech_media_bias_classifier\")\n",
    "\n",
    "BATCH_SIZE = 32"
   ]
  },
  {
   "cell_type": "markdown",
   "id": "5e679f59-80df-4d9b-9f16-94c9ac3b4391",
   "metadata": {
    "tags": []
   },
   "source": [
    "## Function definitions"
   ]
  },
  {
   "cell_type": "code",
   "execution_count": 3,
   "id": "52fbf4d7-6b6b-4e8d-9f02-cb70874d929c",
   "metadata": {
    "tags": []
   },
   "outputs": [],
   "source": [
    "def classify_sentence(sent:str):\n",
    "    toksentence = tokenizer(sent,truncation=True,return_tensors=\"pt\",max_length=128)\n",
    "    model.eval()\n",
    "    model.to(device)\n",
    "    with torch.no_grad():\n",
    "        toksentence.to(device)\n",
    "        output = model(**toksentence)\n",
    "    \n",
    "    classification = F.softmax(output.logits,dim=1).argmax(dim=1)\n",
    "    \n",
    "    return classification[0].item()"
   ]
  },
  {
   "cell_type": "code",
   "execution_count": 4,
   "id": "86c9bd68-11ff-4e00-8e73-29ec657da91d",
   "metadata": {
    "tags": []
   },
   "outputs": [],
   "source": [
    "def classify_sentence_bias_prob(sent:str):\n",
    "    toksentence = tokenizer(sent,truncation=True,return_tensors=\"pt\",max_length=128)\n",
    "    model.eval()\n",
    "    model.to(device)\n",
    "    with torch.no_grad():\n",
    "        toksentence.to(device)\n",
    "        output = model(**toksentence)\n",
    "    \n",
    "    classification = F.softmax(output.logits,dim=1).squeeze(dim=0)\n",
    "    \n",
    "    return classification[1]"
   ]
  },
  {
   "cell_type": "code",
   "execution_count": 5,
   "id": "ae20064a-5a87-446a-93ff-dfe9eeb4d503",
   "metadata": {
    "tags": []
   },
   "outputs": [],
   "source": [
    "def classify_article(url:str):\n",
    "    article = Article(url)\n",
    "    article.download()\n",
    "    article.parse()\n",
    "    sentences = sent_tokenize(article.text)\n",
    "    annotations = np.array(list(zip(sentences,list(map(classify_sentence,sentences)))))\n",
    "    probabilities = np.array(list(zip(sentences,list(map(classify_sentence_bias_prob,sentences)))))\n",
    "    return annotations,probabilities"
   ]
  },
  {
   "cell_type": "code",
   "execution_count": 6,
   "id": "1562db6e-50b3-4d52-a197-26bd60fc2f7b",
   "metadata": {},
   "outputs": [],
   "source": [
    "def strip_domains(data):\n",
    "    get_domain = lambda x : '.'.join(x.split('.')[-2:])\n",
    "    get_section = lambda x : x.split('.')[0] if '.' in x else x\n",
    "    data['subdomain'] = data['subdomain'].apply(get_domain)\n",
    "    data['section'] = data['section'].apply(get_section)\n",
    "    \n",
    "    return data"
   ]
  },
  {
   "cell_type": "code",
   "execution_count": 7,
   "id": "de13bb47-4711-4a48-beea-5cd388d314f3",
   "metadata": {},
   "outputs": [],
   "source": [
    "def date_format(data):\n",
    "    data['published'] = data['published'].apply(lambda x: x[:7])\n",
    "    data = data.assign(Year = data['published'].apply(lambda x: int(x[:4])))\n",
    "    \n",
    "    return data"
   ]
  },
  {
   "cell_type": "code",
   "execution_count": 8,
   "id": "6bfd48dc-a7ee-4627-ae1b-85061d97374e",
   "metadata": {},
   "outputs": [],
   "source": [
    "def assign_bias_ratio(data,split:str):\n",
    "    size = len(data)\n",
    "    values = np.zeros(size)\n",
    "    \n",
    "    for i in tqdm(range(size)):\n",
    "        text = data.iloc[i][split]\n",
    "        sentences = sent_tokenize(text)\n",
    "        labels = np.array(list(map(classify_sentence,sentences)))\n",
    "        values[i] = 100*np.sum(labels)/len(labels)\n",
    "    \n",
    "    data.insert(0,split+'_bias',values)\n",
    "    \n",
    "    return data"
   ]
  },
  {
   "cell_type": "code",
   "execution_count": 20,
   "id": "b9b5db6e-f239-4daf-9a5d-fc5ef5212f3c",
   "metadata": {},
   "outputs": [],
   "source": [
    "def assign_bias_headline(data):\n",
    "    size = len(data)\n",
    "    values = np.zeros(size)\n",
    "    \n",
    "    for i in tqdm(range(size)):\n",
    "        text = data.iloc[i]['headline']\n",
    "        values[i] = classify_sentence(text)\n",
    "        \n",
    "    data.insert(0,'headline_bias',values)\n",
    "    \n",
    "    return data"
   ]
  },
  {
   "cell_type": "markdown",
   "id": "3c9f25e8-5caa-4d62-8b16-fde15ffa5489",
   "metadata": {},
   "source": [
    "## Load and clean data"
   ]
  },
  {
   "cell_type": "code",
   "execution_count": 10,
   "id": "99641d58-02bf-417a-9468-975e2523064c",
   "metadata": {},
   "outputs": [],
   "source": [
    "test = pd.read_json('/mnt/data/factcheck/summarization/sumeczech/sumeczech-1.0-test.jsonl',lines=True)\n",
    "dev = pd.read_json('/mnt/data/factcheck/summarization/sumeczech/sumeczech-1.0-dev.jsonl',lines=True)\n",
    "data = pd.concat([test,dev])\n",
    "\n",
    "#throaway blogs\n",
    "data = data[~data['subdomain'].str.contains('blog')]"
   ]
  },
  {
   "cell_type": "code",
   "execution_count": 11,
   "id": "f837a3f6-c934-4a56-b54a-973316dfbb08",
   "metadata": {},
   "outputs": [],
   "source": [
    "data.drop(['filename', 'dataset','md5','offset'], axis=1, inplace=True)"
   ]
  },
  {
   "cell_type": "code",
   "execution_count": 12,
   "id": "044ecab8-0d7c-47f4-967f-2ffd4647aa5d",
   "metadata": {},
   "outputs": [],
   "source": [
    "data = data[data['published']!='']\n",
    "data = date_format(data)\n",
    "data = strip_domains(data)"
   ]
  },
  {
   "cell_type": "code",
   "execution_count": 13,
   "id": "8cf915c9-5136-4854-8018-33a671cb5ae7",
   "metadata": {
    "tags": []
   },
   "outputs": [],
   "source": [
    "denik = data[data.subdomain == 'denik.cz']\n",
    "ctk = data[data.subdomain == 'ceskenoviny.cz']\n",
    "idnes = data[data.subdomain == 'idnes.cz']\n",
    "lidovky = data[data.subdomain == 'lidovky.cz']\n",
    "novinky = data[data.subdomain == 'novinky.cz']"
   ]
  },
  {
   "cell_type": "markdown",
   "id": "db613ad2-d3bb-4215-8794-920e2eae3ede",
   "metadata": {},
   "source": [
    "## novinky.cz experiments"
   ]
  },
  {
   "cell_type": "code",
   "execution_count": null,
   "id": "4b528c6b-3e76-4ddd-865f-1db96bdefe48",
   "metadata": {},
   "outputs": [
    {
     "name": "stderr",
     "output_type": "stream",
     "text": [
      "100%|██████████| 20871/20871 [14:44<00:00, 23.60it/s]\n",
      " 32%|███▏      | 6759/20871 [01:39<03:26, 68.24it/s]"
     ]
    }
   ],
   "source": [
    "novinky = assign_bias_ratio(novinky,'abstract')"
   ]
  },
  {
   "cell_type": "code",
   "execution_count": 26,
   "id": "7324bb8a-2e02-4864-b0c0-0fbcf0148dc1",
   "metadata": {},
   "outputs": [
    {
     "name": "stderr",
     "output_type": "stream",
     "text": [
      "100%|██████████| 20871/20871 [05:07<00:00, 67.88it/s]\n"
     ]
    }
   ],
   "source": [
    "novinky = assign_bias_headline(novinky)"
   ]
  },
  {
   "cell_type": "code",
   "execution_count": 27,
   "id": "376aaf76-9ea4-40dc-b9f2-1130d8a5e84d",
   "metadata": {},
   "outputs": [],
   "source": [
    "novinky.to_csv('./novinky_w_commentary.csv',index=False)"
   ]
  },
  {
   "cell_type": "code",
   "execution_count": 30,
   "id": "8b96286f-64d4-42ba-8fe9-df78d653dda1",
   "metadata": {},
   "outputs": [
    {
     "name": "stderr",
     "output_type": "stream",
     "text": [
      "100%|██████████| 20871/20871 [1:58:27<00:00,  2.94it/s]  \n"
     ]
    }
   ],
   "source": [
    "novinky = assign_bias_ratio(novinky,'text')"
   ]
  },
  {
   "cell_type": "code",
   "execution_count": 31,
   "id": "7f31fb37-3018-4d0d-b87d-9f94aa13a646",
   "metadata": {},
   "outputs": [],
   "source": [
    "novinky.to_csv('./novinky_w_commentary.csv',index=False)"
   ]
  },
  {
   "cell_type": "code",
   "execution_count": 32,
   "id": "903e3185-74fa-4862-9ee1-51d951115621",
   "metadata": {},
   "outputs": [],
   "source": [
    "novinky = novinky[novinky['section'] != 'komentare']\n",
    "novinky = novinky[novinky['section'] != 'fejeton']"
   ]
  },
  {
   "cell_type": "code",
   "execution_count": 34,
   "id": "b5df0959-70d6-4937-9017-419f89705399",
   "metadata": {},
   "outputs": [
    {
     "data": {
      "image/png": "[encoded data removed]",
      "text/plain": [
       "<Figure size 720x432 with 2 Axes>"
      ]
     },
     "metadata": {
      "needs_background": "light"
     },
     "output_type": "display_data"
    }
   ],
   "source": [
    "df = novinky[['headline_bias','abstract_bias','text_bias']]\n",
    "plt.figure(figsize=(10, 6))\n",
    "heatmap = sns.heatmap(df.corr(), vmin=-1, vmax=1, annot=True)\n",
    "heatmap.set_title('Correlation Heatmap', fontdict={'fontsize':12}, pad=12);"
   ]
  },
  {
   "cell_type": "code",
   "execution_count": 36,
   "id": "35ec4b14-7d22-4142-bfd0-bb35886537a8",
   "metadata": {},
   "outputs": [
    {
     "data": {
      "image/png": "[encoded data removed]",
      "text/plain": [
       "<Figure size 720x432 with 2 Axes>"
      ]
     },
     "metadata": {
      "needs_background": "light"
     },
     "output_type": "display_data"
    }
   ],
   "source": [
    "plt.figure(figsize=(10, 6))\n",
    "heatmap = sns.heatmap(novinky.corr(), vmin=-1, vmax=1, annot=True)\n",
    "heatmap.set_title('Correlation Heatmap', fontdict={'fontsize':12}, pad=12);"
   ]
  },
  {
   "cell_type": "code",
   "execution_count": 41,
   "id": "fc3a8275-4953-4b65-8dfe-28d4f130b460",
   "metadata": {},
   "outputs": [],
   "source": [
    "novinky['published'] = pd.to_datetime(novinky['published'], format = '%Y-%m')\n",
    "\n",
    "df_years = novinky.groupby('Year',as_index=False).agg({'text_bias':'mean'})\n",
    "df_months = novinky.groupby('published',as_index=False).agg({'text_bias':'mean'})"
   ]
  },
  {
   "cell_type": "code",
   "execution_count": 42,
   "id": "2b6169ef-3e09-428e-9bb4-3cef2d6c4075",
   "metadata": {},
   "outputs": [
    {
     "data": {
      "image/png": "[encoded data removed]",
      "text/plain": [
       "<Figure size 432x288 with 2 Axes>"
      ]
     },
     "metadata": {
      "needs_background": "light"
     },
     "output_type": "display_data"
    }
   ],
   "source": [
    "plt.figure(figsize=(6, 4))\n",
    "heatmap = sns.heatmap(df_years.corr(), vmin=-1, vmax=1, annot=True)\n",
    "heatmap.set_title('Correlation Heatmap', fontdict={'fontsize':12}, pad=12);"
   ]
  },
  {
   "cell_type": "code",
   "execution_count": 43,
   "id": "8e468664-1736-4b82-a03f-ba79c7b71215",
   "metadata": {},
   "outputs": [
    {
     "data": {
      "text/plain": [
       "Text(0.5, 1.0, 'Medi Bias development over years')"
      ]
     },
     "execution_count": 43,
     "metadata": {},
     "output_type": "execute_result"
    },
    {
     "data": {
      "image/png": "[encoded data removed]",
      "text/plain": [
       "<Figure size 720x360 with 1 Axes>"
      ]
     },
     "metadata": {
      "needs_background": "light"
     },
     "output_type": "display_data"
    }
   ],
   "source": [
    "fig, ax = plt.subplots(figsize = (10, 5))\n",
    "sns.lineplot(ax = ax, x='Year', y='text_bias', data=df_years).set_title('Medi Bias development over years')"
   ]
  },
  {
   "cell_type": "code",
   "execution_count": 44,
   "id": "c81247fa-7556-4dd3-baad-782ad5ad871d",
   "metadata": {},
   "outputs": [
    {
     "data": {
      "text/plain": [
       "Text(0.5, 1.0, 'Media Bias development over months')"
      ]
     },
     "execution_count": 44,
     "metadata": {},
     "output_type": "execute_result"
    },
    {
     "data": {
      "image/png": "[encoded data removed]",
      "text/plain": [
       "<Figure size 720x360 with 1 Axes>"
      ]
     },
     "metadata": {
      "needs_background": "light"
     },
     "output_type": "display_data"
    }
   ],
   "source": [
    "fig, ax = plt.subplots(figsize = (10, 5))\n",
    "sns.lineplot(ax = ax, x='published', y='text_bias', data=df_months).set_title('Media Bias development over months')"
   ]
  },
  {
   "cell_type": "code",
   "execution_count": 62,
   "id": "0cbea5c6-390f-4d29-86bc-e05251ba34f1",
   "metadata": {},
   "outputs": [
    {
     "data": {
      "text/html": [
       "<div>\n",
       "<style scoped>\n",
       "    .dataframe tbody tr th:only-of-type {\n",
       "        vertical-align: middle;\n",
       "    }\n",
       "\n",
       "    .dataframe tbody tr th {\n",
       "        vertical-align: top;\n",
       "    }\n",
       "\n",
       "    .dataframe thead th {\n",
       "        text-align: right;\n",
       "    }\n",
       "</style>\n",
       "<table border=\"1\" class=\"dataframe\">\n",
       "  <thead>\n",
       "    <tr style=\"text-align: right;\">\n",
       "      <th></th>\n",
       "      <th>published</th>\n",
       "      <th>text_bias</th>\n",
       "    </tr>\n",
       "  </thead>\n",
       "  <tbody>\n",
       "    <tr>\n",
       "      <th>0</th>\n",
       "      <td>2002-12-01</td>\n",
       "      <td>18.117588</td>\n",
       "    </tr>\n",
       "    <tr>\n",
       "      <th>1</th>\n",
       "      <td>2003-01-01</td>\n",
       "      <td>13.519366</td>\n",
       "    </tr>\n",
       "    <tr>\n",
       "      <th>2</th>\n",
       "      <td>2003-02-01</td>\n",
       "      <td>16.246737</td>\n",
       "    </tr>\n",
       "    <tr>\n",
       "      <th>3</th>\n",
       "      <td>2003-03-01</td>\n",
       "      <td>14.048871</td>\n",
       "    </tr>\n",
       "    <tr>\n",
       "      <th>4</th>\n",
       "      <td>2003-04-01</td>\n",
       "      <td>11.221100</td>\n",
       "    </tr>\n",
       "    <tr>\n",
       "      <th>...</th>\n",
       "      <td>...</td>\n",
       "      <td>...</td>\n",
       "    </tr>\n",
       "    <tr>\n",
       "      <th>176</th>\n",
       "      <td>2017-08-01</td>\n",
       "      <td>11.424637</td>\n",
       "    </tr>\n",
       "    <tr>\n",
       "      <th>177</th>\n",
       "      <td>2017-09-01</td>\n",
       "      <td>11.189310</td>\n",
       "    </tr>\n",
       "    <tr>\n",
       "      <th>178</th>\n",
       "      <td>2017-10-01</td>\n",
       "      <td>10.411985</td>\n",
       "    </tr>\n",
       "    <tr>\n",
       "      <th>179</th>\n",
       "      <td>2017-11-01</td>\n",
       "      <td>10.092068</td>\n",
       "    </tr>\n",
       "    <tr>\n",
       "      <th>180</th>\n",
       "      <td>2017-12-01</td>\n",
       "      <td>10.869096</td>\n",
       "    </tr>\n",
       "  </tbody>\n",
       "</table>\n",
       "<p>181 rows × 2 columns</p>\n",
       "</div>"
      ],
      "text/plain": [
       "     published  text_bias\n",
       "0   2002-12-01  18.117588\n",
       "1   2003-01-01  13.519366\n",
       "2   2003-02-01  16.246737\n",
       "3   2003-03-01  14.048871\n",
       "4   2003-04-01  11.221100\n",
       "..         ...        ...\n",
       "176 2017-08-01  11.424637\n",
       "177 2017-09-01  11.189310\n",
       "178 2017-10-01  10.411985\n",
       "179 2017-11-01  10.092068\n",
       "180 2017-12-01  10.869096\n",
       "\n",
       "[181 rows x 2 columns]"
      ]
     },
     "execution_count": 62,
     "metadata": {},
     "output_type": "execute_result"
    }
   ],
   "source": [
    "df_months"
   ]
  },
  {
   "cell_type": "code",
   "execution_count": 210,
   "id": "c08a70f6-9002-47b9-8204-8eeb7bdaeb7a",
   "metadata": {
    "tags": []
   },
   "outputs": [
    {
     "name": "stderr",
     "output_type": "stream",
     "text": [
      "100%|██████████| 39081/39081 [26:23<00:00, 24.68it/s]\n",
      "100%|██████████| 39081/39081 [08:46<00:00, 74.19it/s]\n"
     ]
    }
   ],
   "source": [
    "idnes = assign_bias_ratio(idnes,'abstract')\n",
    "idnes = assign_bias_headline(idnes)"
   ]
  },
  {
   "cell_type": "code",
   "execution_count": 211,
   "id": "59d43919-e365-4ae1-94ed-ef84ee1f0900",
   "metadata": {},
   "outputs": [],
   "source": [
    "idnes.to_csv('./indes_data.csv',index=False)"
   ]
  },
  {
   "cell_type": "code",
   "execution_count": 212,
   "id": "ed2062aa-146f-4c8d-8deb-8b6c425bdc90",
   "metadata": {},
   "outputs": [
    {
     "data": {
      "image/png": "[encoded data removed]",
      "text/plain": [
       "<Figure size 432x288 with 2 Axes>"
      ]
     },
     "metadata": {
      "needs_background": "light"
     },
     "output_type": "display_data"
    }
   ],
   "source": [
    "df = idnes[['headline_bias','abstract_bias']]\n",
    "plt.figure(figsize=(6, 4))\n",
    "heatmap = sns.heatmap(df.corr(), vmin=-1, vmax=1, annot=True)\n",
    "heatmap.set_title('Correlation Heatmap', fontdict={'fontsize':12}, pad=12);"
   ]
  },
  {
   "cell_type": "code",
   "execution_count": 213,
   "id": "7eff8f6f-2aca-4c55-b21a-75756c7a05d5",
   "metadata": {},
   "outputs": [
    {
     "data": {
      "image/png": "[encoded data removed]",
      "text/plain": [
       "<Figure size 720x432 with 2 Axes>"
      ]
     },
     "metadata": {
      "needs_background": "light"
     },
     "output_type": "display_data"
    }
   ],
   "source": [
    "plt.figure(figsize=(10, 6))\n",
    "heatmap = sns.heatmap(idnes.corr(), vmin=-1, vmax=1, annot=True)\n",
    "heatmap.set_title('Correlation Heatmap', fontdict={'fontsize':12}, pad=12);"
   ]
  },
  {
   "cell_type": "code",
   "execution_count": 217,
   "id": "d82919e6-7bc6-4225-b9f3-f782c63d83b2",
   "metadata": {},
   "outputs": [
    {
     "data": {
      "text/html": [
       "<div>\n",
       "<style scoped>\n",
       "    .dataframe tbody tr th:only-of-type {\n",
       "        vertical-align: middle;\n",
       "    }\n",
       "\n",
       "    .dataframe tbody tr th {\n",
       "        vertical-align: top;\n",
       "    }\n",
       "\n",
       "    .dataframe thead th {\n",
       "        text-align: right;\n",
       "    }\n",
       "</style>\n",
       "<table border=\"1\" class=\"dataframe\">\n",
       "  <thead>\n",
       "    <tr style=\"text-align: right;\">\n",
       "      <th></th>\n",
       "      <th>headline_bias</th>\n",
       "    </tr>\n",
       "  </thead>\n",
       "  <tbody>\n",
       "    <tr>\n",
       "      <th>headline_bias</th>\n",
       "      <td>1.0</td>\n",
       "    </tr>\n",
       "  </tbody>\n",
       "</table>\n",
       "</div>"
      ],
      "text/plain": [
       "               headline_bias\n",
       "headline_bias            1.0"
      ]
     },
     "execution_count": 217,
     "metadata": {},
     "output_type": "execute_result"
    }
   ],
   "source": [
    "df = idnes.groupby('published',as_index=False).agg({'headline_bias':'mean'})\n",
    "df.corr()"
   ]
  },
  {
   "cell_type": "code",
   "execution_count": 225,
   "id": "8c189151-8f1f-4960-bc49-ef4d397a3153",
   "metadata": {},
   "outputs": [],
   "source": [
    "df = idnes.groupby('section',as_index=False).agg({'headline_bias':'mean'})"
   ]
  },
  {
   "cell_type": "code",
   "execution_count": 226,
   "id": "51fd5507-eeca-40fc-9869-26c0a1ba30ae",
   "metadata": {},
   "outputs": [
    {
     "data": {
      "text/html": [
       "<div>\n",
       "<style scoped>\n",
       "    .dataframe tbody tr th:only-of-type {\n",
       "        vertical-align: middle;\n",
       "    }\n",
       "\n",
       "    .dataframe tbody tr th {\n",
       "        vertical-align: top;\n",
       "    }\n",
       "\n",
       "    .dataframe thead th {\n",
       "        text-align: right;\n",
       "    }\n",
       "</style>\n",
       "<table border=\"1\" class=\"dataframe\">\n",
       "  <thead>\n",
       "    <tr style=\"text-align: right;\">\n",
       "      <th></th>\n",
       "      <th>section</th>\n",
       "      <th>headline_bias</th>\n",
       "    </tr>\n",
       "  </thead>\n",
       "  <tbody>\n",
       "    <tr>\n",
       "      <th>37</th>\n",
       "      <td>z-radnic-a-obci</td>\n",
       "      <td>0.007430</td>\n",
       "    </tr>\n",
       "    <tr>\n",
       "      <th>19</th>\n",
       "      <td>oh</td>\n",
       "      <td>0.045119</td>\n",
       "    </tr>\n",
       "    <tr>\n",
       "      <th>14</th>\n",
       "      <td>kraje</td>\n",
       "      <td>0.050670</td>\n",
       "    </tr>\n",
       "    <tr>\n",
       "      <th>6</th>\n",
       "      <td>cestiny</td>\n",
       "      <td>0.088057</td>\n",
       "    </tr>\n",
       "    <tr>\n",
       "      <th>35</th>\n",
       "      <td>wiki</td>\n",
       "      <td>0.090523</td>\n",
       "    </tr>\n",
       "    <tr>\n",
       "      <th>25</th>\n",
       "      <td>plzen</td>\n",
       "      <td>0.100826</td>\n",
       "    </tr>\n",
       "    <tr>\n",
       "      <th>38</th>\n",
       "      <td>zlin</td>\n",
       "      <td>0.103501</td>\n",
       "    </tr>\n",
       "    <tr>\n",
       "      <th>33</th>\n",
       "      <td>vary</td>\n",
       "      <td>0.110620</td>\n",
       "    </tr>\n",
       "    <tr>\n",
       "      <th>20</th>\n",
       "      <td>olomouc</td>\n",
       "      <td>0.113115</td>\n",
       "    </tr>\n",
       "    <tr>\n",
       "      <th>4</th>\n",
       "      <td>budejovice</td>\n",
       "      <td>0.115013</td>\n",
       "    </tr>\n",
       "    <tr>\n",
       "      <th>26</th>\n",
       "      <td>praha</td>\n",
       "      <td>0.115067</td>\n",
       "    </tr>\n",
       "    <tr>\n",
       "      <th>10</th>\n",
       "      <td>fotbal</td>\n",
       "      <td>0.117488</td>\n",
       "    </tr>\n",
       "    <tr>\n",
       "      <th>12</th>\n",
       "      <td>hradec</td>\n",
       "      <td>0.127261</td>\n",
       "    </tr>\n",
       "    <tr>\n",
       "      <th>8</th>\n",
       "      <td>ekonomika</td>\n",
       "      <td>0.131336</td>\n",
       "    </tr>\n",
       "    <tr>\n",
       "      <th>23</th>\n",
       "      <td>pardubice</td>\n",
       "      <td>0.135343</td>\n",
       "    </tr>\n",
       "    <tr>\n",
       "      <th>32</th>\n",
       "      <td>usti</td>\n",
       "      <td>0.144053</td>\n",
       "    </tr>\n",
       "    <tr>\n",
       "      <th>22</th>\n",
       "      <td>ostrava</td>\n",
       "      <td>0.152056</td>\n",
       "    </tr>\n",
       "    <tr>\n",
       "      <th>9</th>\n",
       "      <td>finance</td>\n",
       "      <td>0.154073</td>\n",
       "    </tr>\n",
       "    <tr>\n",
       "      <th>13</th>\n",
       "      <td>jihlava</td>\n",
       "      <td>0.155115</td>\n",
       "    </tr>\n",
       "    <tr>\n",
       "      <th>3</th>\n",
       "      <td>brno</td>\n",
       "      <td>0.155679</td>\n",
       "    </tr>\n",
       "    <tr>\n",
       "      <th>16</th>\n",
       "      <td>liberec</td>\n",
       "      <td>0.174758</td>\n",
       "    </tr>\n",
       "    <tr>\n",
       "      <th>30</th>\n",
       "      <td>sdeleni</td>\n",
       "      <td>0.186923</td>\n",
       "    </tr>\n",
       "    <tr>\n",
       "      <th>39</th>\n",
       "      <td>zpravy</td>\n",
       "      <td>0.211068</td>\n",
       "    </tr>\n",
       "    <tr>\n",
       "      <th>31</th>\n",
       "      <td>technet</td>\n",
       "      <td>0.223889</td>\n",
       "    </tr>\n",
       "    <tr>\n",
       "      <th>27</th>\n",
       "      <td>reality</td>\n",
       "      <td>0.229499</td>\n",
       "    </tr>\n",
       "    <tr>\n",
       "      <th>17</th>\n",
       "      <td>mobil</td>\n",
       "      <td>0.231011</td>\n",
       "    </tr>\n",
       "    <tr>\n",
       "      <th>29</th>\n",
       "      <td>rungo</td>\n",
       "      <td>0.259239</td>\n",
       "    </tr>\n",
       "    <tr>\n",
       "      <th>7</th>\n",
       "      <td>cestovani</td>\n",
       "      <td>0.264737</td>\n",
       "    </tr>\n",
       "    <tr>\n",
       "      <th>5</th>\n",
       "      <td>bydleni</td>\n",
       "      <td>0.277748</td>\n",
       "    </tr>\n",
       "    <tr>\n",
       "      <th>11</th>\n",
       "      <td>hobby</td>\n",
       "      <td>0.282494</td>\n",
       "    </tr>\n",
       "    <tr>\n",
       "      <th>1</th>\n",
       "      <td>auto</td>\n",
       "      <td>0.298917</td>\n",
       "    </tr>\n",
       "    <tr>\n",
       "      <th>2</th>\n",
       "      <td>bonusweb</td>\n",
       "      <td>0.304542</td>\n",
       "    </tr>\n",
       "    <tr>\n",
       "      <th>21</th>\n",
       "      <td>ona</td>\n",
       "      <td>0.320558</td>\n",
       "    </tr>\n",
       "    <tr>\n",
       "      <th>34</th>\n",
       "      <td>volby</td>\n",
       "      <td>0.322269</td>\n",
       "    </tr>\n",
       "    <tr>\n",
       "      <th>36</th>\n",
       "      <td>xman</td>\n",
       "      <td>0.345856</td>\n",
       "    </tr>\n",
       "    <tr>\n",
       "      <th>28</th>\n",
       "      <td>revue</td>\n",
       "      <td>0.407754</td>\n",
       "    </tr>\n",
       "    <tr>\n",
       "      <th>15</th>\n",
       "      <td>kultura</td>\n",
       "      <td>0.441747</td>\n",
       "    </tr>\n",
       "    <tr>\n",
       "      <th>0</th>\n",
       "      <td>alik</td>\n",
       "      <td>0.454371</td>\n",
       "    </tr>\n",
       "    <tr>\n",
       "      <th>24</th>\n",
       "      <td>plnehry</td>\n",
       "      <td>0.506977</td>\n",
       "    </tr>\n",
       "    <tr>\n",
       "      <th>18</th>\n",
       "      <td>mobilnihry</td>\n",
       "      <td>0.677256</td>\n",
       "    </tr>\n",
       "  </tbody>\n",
       "</table>\n",
       "</div>"
      ],
      "text/plain": [
       "            section  headline_bias\n",
       "37  z-radnic-a-obci       0.007430\n",
       "19               oh       0.045119\n",
       "14            kraje       0.050670\n",
       "6           cestiny       0.088057\n",
       "35             wiki       0.090523\n",
       "25            plzen       0.100826\n",
       "38             zlin       0.103501\n",
       "33             vary       0.110620\n",
       "20          olomouc       0.113115\n",
       "4        budejovice       0.115013\n",
       "26            praha       0.115067\n",
       "10           fotbal       0.117488\n",
       "12           hradec       0.127261\n",
       "8         ekonomika       0.131336\n",
       "23        pardubice       0.135343\n",
       "32             usti       0.144053\n",
       "22          ostrava       0.152056\n",
       "9           finance       0.154073\n",
       "13          jihlava       0.155115\n",
       "3              brno       0.155679\n",
       "16          liberec       0.174758\n",
       "30          sdeleni       0.186923\n",
       "39           zpravy       0.211068\n",
       "31          technet       0.223889\n",
       "27          reality       0.229499\n",
       "17            mobil       0.231011\n",
       "29            rungo       0.259239\n",
       "7         cestovani       0.264737\n",
       "5           bydleni       0.277748\n",
       "11            hobby       0.282494\n",
       "1              auto       0.298917\n",
       "2          bonusweb       0.304542\n",
       "21              ona       0.320558\n",
       "34            volby       0.322269\n",
       "36             xman       0.345856\n",
       "28            revue       0.407754\n",
       "15          kultura       0.441747\n",
       "0              alik       0.454371\n",
       "24          plnehry       0.506977\n",
       "18       mobilnihry       0.677256"
      ]
     },
     "execution_count": 226,
     "metadata": {},
     "output_type": "execute_result"
    }
   ],
   "source": [
    "df.sort_values(by='headline_bias')"
   ]
  },
  {
   "cell_type": "markdown",
   "id": "cc45936f-d2a1-4e79-9e5a-79f5f53bfa7d",
   "metadata": {},
   "source": [
    "## Denik.cz experiments"
   ]
  },
  {
   "cell_type": "markdown",
   "id": "bfbaa143-5c51-4120-9ec5-d6701b7da2fd",
   "metadata": {},
   "source": [
    "#### interesting properties \n",
    "    - length\n",
    "    - bias of headline, abstract, text\n",
    "    - section\n",
    "    - subdomain\n",
    "    - time"
   ]
  },
  {
   "cell_type": "code",
   "execution_count": 193,
   "id": "4d7d32e3-dd90-4821-abcf-95bddef68ccc",
   "metadata": {},
   "outputs": [
    {
     "name": "stderr",
     "output_type": "stream",
     "text": [
      "100%|██████████| 14413/14413 [07:46<00:00, 30.90it/s]\n",
      "100%|██████████| 14413/14413 [03:17<00:00, 72.87it/s]\n"
     ]
    }
   ],
   "source": [
    "denik = assign_bias_ratio(denik,'abstract')\n",
    "denik = assign_bias_headline(denik)"
   ]
  },
  {
   "cell_type": "code",
   "execution_count": 228,
   "id": "7ca26894-d764-445a-8472-7b4861ceb415",
   "metadata": {},
   "outputs": [
    {
     "name": "stderr",
     "output_type": "stream",
     "text": [
      "100%|██████████| 14413/14413 [1:25:23<00:00,  2.81it/s]  \n"
     ]
    }
   ],
   "source": [
    "denik = assign_bias_ratio(denik,'text')"
   ]
  },
  {
   "cell_type": "code",
   "execution_count": null,
   "id": "ee6e5fea-2a35-40b2-a1f7-fb00c68780b4",
   "metadata": {
    "tags": []
   },
   "outputs": [],
   "source": [
    "denik['published'] = pd.to_datetime(denik['published'], format = '%Y-%m')"
   ]
  },
  {
   "cell_type": "code",
   "execution_count": 231,
   "id": "8f0e6780-d946-44de-86af-d379aa371359",
   "metadata": {},
   "outputs": [],
   "source": [
    "denik.to_csv('./denik_data.csv',index=False)"
   ]
  },
  {
   "cell_type": "code",
   "execution_count": 345,
   "id": "3661b4b3-cef2-463c-9952-d2b8bc6d2786",
   "metadata": {},
   "outputs": [],
   "source": [
    "denik = denik[denik['section'] != 'komentare']"
   ]
  },
  {
   "cell_type": "code",
   "execution_count": 346,
   "id": "ab254acb-8b89-4d90-bfd3-a141255c285f",
   "metadata": {},
   "outputs": [],
   "source": [
    "denik = denik[denik['section'] != 'fejeton']"
   ]
  },
  {
   "cell_type": "markdown",
   "id": "653d5857-7da1-48ef-9a4b-0b891c991ef8",
   "metadata": {},
   "source": [
    "### Correlation between different sections"
   ]
  },
  {
   "cell_type": "code",
   "execution_count": 367,
   "id": "8095c192-dfb0-4b92-bbd5-392b11a1cdec",
   "metadata": {},
   "outputs": [
    {
     "data": {
      "image/png": "[encoded data removed]",
      "text/plain": [
       "<Figure size 720x432 with 2 Axes>"
      ]
     },
     "metadata": {
      "needs_background": "light"
     },
     "output_type": "display_data"
    }
   ],
   "source": [
    "df = denik[['headline_bias','abstract_bias','text_bias']]\n",
    "plt.figure(figsize=(10, 6))\n",
    "heatmap = sns.heatmap(df.corr(), vmin=-1, vmax=1, annot=True)\n",
    "heatmap.set_title('Correlation Heatmap', fontdict={'fontsize':12}, pad=12);"
   ]
  },
  {
   "cell_type": "code",
   "execution_count": 368,
   "id": "b52d1e1e-01a6-47ac-8bf6-09d4e44673bf",
   "metadata": {},
   "outputs": [
    {
     "data": {
      "image/png": "[encoded data removed]",
      "text/plain": [
       "<Figure size 720x432 with 2 Axes>"
      ]
     },
     "metadata": {
      "needs_background": "light"
     },
     "output_type": "display_data"
    }
   ],
   "source": [
    "plt.figure(figsize=(10, 6))\n",
    "heatmap = sns.heatmap(denik.corr(), vmin=-1, vmax=1, annot=True)\n",
    "heatmap.set_title('Correlation Heatmap', fontdict={'fontsize':12}, pad=12);"
   ]
  },
  {
   "cell_type": "code",
   "execution_count": 391,
   "id": "6596efff-b25f-46d7-9622-20f49246e8e6",
   "metadata": {},
   "outputs": [],
   "source": [
    "df_years = denik.groupby('Year',as_index=False).agg({'text_bias':'mean'})\n",
    "df_months = denik.groupby('published',as_index=False).agg({'text_bias':'mean'})"
   ]
  },
  {
   "cell_type": "code",
   "execution_count": 371,
   "id": "74fda985-d38a-4c6a-81cc-20fc42988211",
   "metadata": {},
   "outputs": [
    {
     "data": {
      "image/png": "[encoded data removed]",
      "text/plain": [
       "<Figure size 432x288 with 2 Axes>"
      ]
     },
     "metadata": {
      "needs_background": "light"
     },
     "output_type": "display_data"
    }
   ],
   "source": [
    "plt.figure(figsize=(6, 4))\n",
    "heatmap = sns.heatmap(df_years.corr(), vmin=-1, vmax=1, annot=True)\n",
    "heatmap.set_title('Correlation Heatmap', fontdict={'fontsize':12}, pad=12);"
   ]
  },
  {
   "cell_type": "code",
   "execution_count": 372,
   "id": "53218a0b-f3d2-4986-904e-61c4b492c47d",
   "metadata": {},
   "outputs": [
    {
     "data": {
      "text/html": [
       "<div>\n",
       "<style scoped>\n",
       "    .dataframe tbody tr th:only-of-type {\n",
       "        vertical-align: middle;\n",
       "    }\n",
       "\n",
       "    .dataframe tbody tr th {\n",
       "        vertical-align: top;\n",
       "    }\n",
       "\n",
       "    .dataframe thead th {\n",
       "        text-align: right;\n",
       "    }\n",
       "</style>\n",
       "<table border=\"1\" class=\"dataframe\">\n",
       "  <thead>\n",
       "    <tr style=\"text-align: right;\">\n",
       "      <th></th>\n",
       "      <th>Year</th>\n",
       "      <th>text_bias</th>\n",
       "    </tr>\n",
       "  </thead>\n",
       "  <tbody>\n",
       "    <tr>\n",
       "      <th>0</th>\n",
       "      <td>2007</td>\n",
       "      <td>0.108502</td>\n",
       "    </tr>\n",
       "    <tr>\n",
       "      <th>1</th>\n",
       "      <td>2008</td>\n",
       "      <td>0.119969</td>\n",
       "    </tr>\n",
       "    <tr>\n",
       "      <th>2</th>\n",
       "      <td>2009</td>\n",
       "      <td>0.120925</td>\n",
       "    </tr>\n",
       "    <tr>\n",
       "      <th>3</th>\n",
       "      <td>2010</td>\n",
       "      <td>0.085044</td>\n",
       "    </tr>\n",
       "    <tr>\n",
       "      <th>4</th>\n",
       "      <td>2011</td>\n",
       "      <td>0.070475</td>\n",
       "    </tr>\n",
       "    <tr>\n",
       "      <th>5</th>\n",
       "      <td>2012</td>\n",
       "      <td>0.076541</td>\n",
       "    </tr>\n",
       "    <tr>\n",
       "      <th>6</th>\n",
       "      <td>2013</td>\n",
       "      <td>0.076334</td>\n",
       "    </tr>\n",
       "    <tr>\n",
       "      <th>7</th>\n",
       "      <td>2014</td>\n",
       "      <td>0.071083</td>\n",
       "    </tr>\n",
       "    <tr>\n",
       "      <th>8</th>\n",
       "      <td>2015</td>\n",
       "      <td>0.071454</td>\n",
       "    </tr>\n",
       "    <tr>\n",
       "      <th>9</th>\n",
       "      <td>2016</td>\n",
       "      <td>0.071549</td>\n",
       "    </tr>\n",
       "    <tr>\n",
       "      <th>10</th>\n",
       "      <td>2017</td>\n",
       "      <td>0.080761</td>\n",
       "    </tr>\n",
       "  </tbody>\n",
       "</table>\n",
       "</div>"
      ],
      "text/plain": [
       "    Year  text_bias\n",
       "0   2007   0.108502\n",
       "1   2008   0.119969\n",
       "2   2009   0.120925\n",
       "3   2010   0.085044\n",
       "4   2011   0.070475\n",
       "5   2012   0.076541\n",
       "6   2013   0.076334\n",
       "7   2014   0.071083\n",
       "8   2015   0.071454\n",
       "9   2016   0.071549\n",
       "10  2017   0.080761"
      ]
     },
     "execution_count": 372,
     "metadata": {},
     "output_type": "execute_result"
    }
   ],
   "source": [
    "df_years"
   ]
  },
  {
   "cell_type": "code",
   "execution_count": 373,
   "id": "adb97a5d-ce52-4bdc-9813-ed38546fed23",
   "metadata": {},
   "outputs": [
    {
     "data": {
      "text/plain": [
       "Text(0.5, 1.0, 'Medi Bias development over years')"
      ]
     },
     "execution_count": 373,
     "metadata": {},
     "output_type": "execute_result"
    },
    {
     "data": {
      "image/png": "[encoded data removed]",
      "text/plain": [
       "<Figure size 720x360 with 1 Axes>"
      ]
     },
     "metadata": {
      "needs_background": "light"
     },
     "output_type": "display_data"
    }
   ],
   "source": [
    "fig, ax = plt.subplots(figsize = (10, 5))\n",
    "sns.lineplot(ax = ax, x='Year', y='text_bias', data=df_years).set_title('Medi Bias development over years')"
   ]
  },
  {
   "cell_type": "code",
   "execution_count": 394,
   "id": "470fec5f-3af5-425a-95c7-5a3b664b7556",
   "metadata": {},
   "outputs": [
    {
     "data": {
      "text/plain": [
       "Text(0.5, 1.0, 'Media Bias development over months')"
      ]
     },
     "execution_count": 394,
     "metadata": {},
     "output_type": "execute_result"
    },
    {
     "data": {
      "image/png": "[encoded data removed]",
      "text/plain": [
       "<Figure size 720x360 with 1 Axes>"
      ]
     },
     "metadata": {
      "needs_background": "light"
     },
     "output_type": "display_data"
    }
   ],
   "source": [
    "fig, ax = plt.subplots(figsize = (10, 5))\n",
    "sns.lineplot(ax = ax, x='published', y='text_bias', data=df_months).set_title('Media Bias development over months')"
   ]
  },
  {
   "cell_type": "markdown",
   "id": "f951c55a-14f6-4b4f-ae5b-e84859f20858",
   "metadata": {},
   "source": [
    "## Bias across different topics"
   ]
  },
  {
   "cell_type": "code",
   "execution_count": 375,
   "id": "ace23bea-1e47-470a-a733-8c016d1a807e",
   "metadata": {},
   "outputs": [],
   "source": [
    "df_sections = denik.groupby('section',as_index=False).agg({'text_bias':'mean'})"
   ]
  },
  {
   "cell_type": "code",
   "execution_count": 377,
   "id": "4c32fcb2-1a6f-4e52-8c8d-70f5a92e3f07",
   "metadata": {},
   "outputs": [
    {
     "data": {
      "text/html": [
       "<div>\n",
       "<style scoped>\n",
       "    .dataframe tbody tr th:only-of-type {\n",
       "        vertical-align: middle;\n",
       "    }\n",
       "\n",
       "    .dataframe tbody tr th {\n",
       "        vertical-align: top;\n",
       "    }\n",
       "\n",
       "    .dataframe thead th {\n",
       "        text-align: right;\n",
       "    }\n",
       "</style>\n",
       "<table border=\"1\" class=\"dataframe\">\n",
       "  <thead>\n",
       "    <tr style=\"text-align: right;\">\n",
       "      <th></th>\n",
       "      <th>section</th>\n",
       "      <th>text_bias</th>\n",
       "    </tr>\n",
       "  </thead>\n",
       "  <tbody>\n",
       "    <tr>\n",
       "      <th>20</th>\n",
       "      <td>radar</td>\n",
       "      <td>0.000000</td>\n",
       "    </tr>\n",
       "    <tr>\n",
       "      <th>8</th>\n",
       "      <td>ekonomika</td>\n",
       "      <td>0.028877</td>\n",
       "    </tr>\n",
       "    <tr>\n",
       "      <th>24</th>\n",
       "      <td>reklama</td>\n",
       "      <td>0.031250</td>\n",
       "    </tr>\n",
       "    <tr>\n",
       "      <th>35</th>\n",
       "      <td>vzdelavani</td>\n",
       "      <td>0.040000</td>\n",
       "    </tr>\n",
       "    <tr>\n",
       "      <th>28</th>\n",
       "      <td>special</td>\n",
       "      <td>0.041667</td>\n",
       "    </tr>\n",
       "    <tr>\n",
       "      <th>2</th>\n",
       "      <td>bydleni</td>\n",
       "      <td>0.047952</td>\n",
       "    </tr>\n",
       "    <tr>\n",
       "      <th>17</th>\n",
       "      <td>krimi</td>\n",
       "      <td>0.048424</td>\n",
       "    </tr>\n",
       "    <tr>\n",
       "      <th>36</th>\n",
       "      <td>zdravi</td>\n",
       "      <td>0.049762</td>\n",
       "    </tr>\n",
       "    <tr>\n",
       "      <th>1</th>\n",
       "      <td>auto</td>\n",
       "      <td>0.053181</td>\n",
       "    </tr>\n",
       "    <tr>\n",
       "      <th>15</th>\n",
       "      <td>klasa</td>\n",
       "      <td>0.062500</td>\n",
       "    </tr>\n",
       "    <tr>\n",
       "      <th>29</th>\n",
       "      <td>specialy</td>\n",
       "      <td>0.063571</td>\n",
       "    </tr>\n",
       "    <tr>\n",
       "      <th>6</th>\n",
       "      <td>denik</td>\n",
       "      <td>0.075776</td>\n",
       "    </tr>\n",
       "    <tr>\n",
       "      <th>18</th>\n",
       "      <td>motorismus</td>\n",
       "      <td>0.077148</td>\n",
       "    </tr>\n",
       "    <tr>\n",
       "      <th>19</th>\n",
       "      <td>praha</td>\n",
       "      <td>0.078451</td>\n",
       "    </tr>\n",
       "    <tr>\n",
       "      <th>12</th>\n",
       "      <td>hokej</td>\n",
       "      <td>0.081382</td>\n",
       "    </tr>\n",
       "    <tr>\n",
       "      <th>23</th>\n",
       "      <td>regiony</td>\n",
       "      <td>0.084479</td>\n",
       "    </tr>\n",
       "    <tr>\n",
       "      <th>32</th>\n",
       "      <td>tipy</td>\n",
       "      <td>0.085701</td>\n",
       "    </tr>\n",
       "    <tr>\n",
       "      <th>37</th>\n",
       "      <td>zoh10</td>\n",
       "      <td>0.086574</td>\n",
       "    </tr>\n",
       "    <tr>\n",
       "      <th>4</th>\n",
       "      <td>cestovani</td>\n",
       "      <td>0.088319</td>\n",
       "    </tr>\n",
       "    <tr>\n",
       "      <th>0</th>\n",
       "      <td>atletika</td>\n",
       "      <td>0.100863</td>\n",
       "    </tr>\n",
       "    <tr>\n",
       "      <th>26</th>\n",
       "      <td>skolaci</td>\n",
       "      <td>0.100913</td>\n",
       "    </tr>\n",
       "    <tr>\n",
       "      <th>31</th>\n",
       "      <td>tenis</td>\n",
       "      <td>0.114974</td>\n",
       "    </tr>\n",
       "    <tr>\n",
       "      <th>22</th>\n",
       "      <td>reforma</td>\n",
       "      <td>0.127480</td>\n",
       "    </tr>\n",
       "    <tr>\n",
       "      <th>11</th>\n",
       "      <td>fotbal</td>\n",
       "      <td>0.135209</td>\n",
       "    </tr>\n",
       "    <tr>\n",
       "      <th>33</th>\n",
       "      <td>triatlon</td>\n",
       "      <td>0.143294</td>\n",
       "    </tr>\n",
       "    <tr>\n",
       "      <th>30</th>\n",
       "      <td>stavba</td>\n",
       "      <td>0.164732</td>\n",
       "    </tr>\n",
       "    <tr>\n",
       "      <th>3</th>\n",
       "      <td>ceskozpivakoledy</td>\n",
       "      <td>0.166667</td>\n",
       "    </tr>\n",
       "    <tr>\n",
       "      <th>13</th>\n",
       "      <td>hry</td>\n",
       "      <td>0.194050</td>\n",
       "    </tr>\n",
       "    <tr>\n",
       "      <th>34</th>\n",
       "      <td>umeni</td>\n",
       "      <td>0.219059</td>\n",
       "    </tr>\n",
       "    <tr>\n",
       "      <th>14</th>\n",
       "      <td>hudba</td>\n",
       "      <td>0.222843</td>\n",
       "    </tr>\n",
       "    <tr>\n",
       "      <th>7</th>\n",
       "      <td>divadlo</td>\n",
       "      <td>0.246995</td>\n",
       "    </tr>\n",
       "    <tr>\n",
       "      <th>9</th>\n",
       "      <td>festivaly</td>\n",
       "      <td>0.260536</td>\n",
       "    </tr>\n",
       "    <tr>\n",
       "      <th>16</th>\n",
       "      <td>knihy</td>\n",
       "      <td>0.277836</td>\n",
       "    </tr>\n",
       "    <tr>\n",
       "      <th>25</th>\n",
       "      <td>samet</td>\n",
       "      <td>0.279221</td>\n",
       "    </tr>\n",
       "    <tr>\n",
       "      <th>27</th>\n",
       "      <td>souteze</td>\n",
       "      <td>0.294139</td>\n",
       "    </tr>\n",
       "    <tr>\n",
       "      <th>10</th>\n",
       "      <td>film</td>\n",
       "      <td>0.334977</td>\n",
       "    </tr>\n",
       "    <tr>\n",
       "      <th>5</th>\n",
       "      <td>civilizace</td>\n",
       "      <td>0.452158</td>\n",
       "    </tr>\n",
       "    <tr>\n",
       "      <th>21</th>\n",
       "      <td>rakusanova</td>\n",
       "      <td>0.456566</td>\n",
       "    </tr>\n",
       "  </tbody>\n",
       "</table>\n",
       "</div>"
      ],
      "text/plain": [
       "             section  text_bias\n",
       "20             radar   0.000000\n",
       "8          ekonomika   0.028877\n",
       "24           reklama   0.031250\n",
       "35        vzdelavani   0.040000\n",
       "28           special   0.041667\n",
       "2            bydleni   0.047952\n",
       "17             krimi   0.048424\n",
       "36            zdravi   0.049762\n",
       "1               auto   0.053181\n",
       "15             klasa   0.062500\n",
       "29          specialy   0.063571\n",
       "6              denik   0.075776\n",
       "18        motorismus   0.077148\n",
       "19             praha   0.078451\n",
       "12             hokej   0.081382\n",
       "23           regiony   0.084479\n",
       "32              tipy   0.085701\n",
       "37             zoh10   0.086574\n",
       "4          cestovani   0.088319\n",
       "0           atletika   0.100863\n",
       "26           skolaci   0.100913\n",
       "31             tenis   0.114974\n",
       "22           reforma   0.127480\n",
       "11            fotbal   0.135209\n",
       "33          triatlon   0.143294\n",
       "30            stavba   0.164732\n",
       "3   ceskozpivakoledy   0.166667\n",
       "13               hry   0.194050\n",
       "34             umeni   0.219059\n",
       "14             hudba   0.222843\n",
       "7            divadlo   0.246995\n",
       "9          festivaly   0.260536\n",
       "16             knihy   0.277836\n",
       "25             samet   0.279221\n",
       "27           souteze   0.294139\n",
       "10              film   0.334977\n",
       "5         civilizace   0.452158\n",
       "21        rakusanova   0.456566"
      ]
     },
     "execution_count": 377,
     "metadata": {},
     "output_type": "execute_result"
    }
   ],
   "source": [
    "df_sections.sort_values(by='text_bias')"
   ]
  },
  {
   "cell_type": "markdown",
   "id": "6b224ded",
   "metadata": {},
   "source": [
    "### Volby bias"
   ]
  },
  {
   "cell_type": "code",
   "execution_count": 86,
   "id": "faa715a1",
   "metadata": {},
   "outputs": [],
   "source": [
    "data = pd.read_csv('denik_data_w_commentary.csv')\n",
    "data = data[data['section']!='komentare']\n",
    "data = data[data['section']!='fejeton']"
   ]
  },
  {
   "cell_type": "code",
   "execution_count": 87,
   "id": "d931941e",
   "metadata": {},
   "outputs": [],
   "source": [
    "data['headline_bias'] = data['headline_bias'].apply(lambda x: 1 if x >= 0.5 else 0)"
   ]
  },
  {
   "cell_type": "code",
   "execution_count": 88,
   "id": "dfbf89b5",
   "metadata": {},
   "outputs": [
    {
     "data": {
      "image/png": "[encoded data removed]",
      "text/plain": [
       "<Figure size 720x432 with 2 Axes>"
      ]
     },
     "metadata": {
      "needs_background": "light"
     },
     "output_type": "display_data"
    }
   ],
   "source": [
    "df = data[['headline_bias','abstract_bias','text_bias']]\n",
    "plt.figure(figsize=(10, 6))\n",
    "heatmap = sns.heatmap(df.corr(), vmin=-1, vmax=1, annot=True)\n",
    "heatmap.set_title('Correlation Heatmap', fontdict={'fontsize':12}, pad=12);"
   ]
  },
  {
   "cell_type": "code",
   "execution_count": 89,
   "id": "e47ee244",
   "metadata": {},
   "outputs": [],
   "source": [
    "from scipy.stats import pearsonr"
   ]
  },
  {
   "cell_type": "code",
   "execution_count": 93,
   "id": "ff0588ac",
   "metadata": {},
   "outputs": [
    {
     "data": {
      "text/html": [
       "<div>\n",
       "<style scoped>\n",
       "    .dataframe tbody tr th:only-of-type {\n",
       "        vertical-align: middle;\n",
       "    }\n",
       "\n",
       "    .dataframe tbody tr th {\n",
       "        vertical-align: top;\n",
       "    }\n",
       "\n",
       "    .dataframe thead th {\n",
       "        text-align: right;\n",
       "    }\n",
       "</style>\n",
       "<table border=\"1\" class=\"dataframe\">\n",
       "  <thead>\n",
       "    <tr style=\"text-align: right;\">\n",
       "      <th></th>\n",
       "      <th>Year</th>\n",
       "      <th>text_bias</th>\n",
       "    </tr>\n",
       "  </thead>\n",
       "  <tbody>\n",
       "    <tr>\n",
       "      <th>0</th>\n",
       "      <td>2007</td>\n",
       "      <td>10.850161</td>\n",
       "    </tr>\n",
       "    <tr>\n",
       "      <th>1</th>\n",
       "      <td>2008</td>\n",
       "      <td>11.996914</td>\n",
       "    </tr>\n",
       "    <tr>\n",
       "      <th>2</th>\n",
       "      <td>2009</td>\n",
       "      <td>12.092549</td>\n",
       "    </tr>\n",
       "    <tr>\n",
       "      <th>3</th>\n",
       "      <td>2010</td>\n",
       "      <td>8.504399</td>\n",
       "    </tr>\n",
       "    <tr>\n",
       "      <th>4</th>\n",
       "      <td>2011</td>\n",
       "      <td>7.047523</td>\n",
       "    </tr>\n",
       "    <tr>\n",
       "      <th>5</th>\n",
       "      <td>2012</td>\n",
       "      <td>7.654079</td>\n",
       "    </tr>\n",
       "    <tr>\n",
       "      <th>6</th>\n",
       "      <td>2013</td>\n",
       "      <td>7.633447</td>\n",
       "    </tr>\n",
       "    <tr>\n",
       "      <th>7</th>\n",
       "      <td>2014</td>\n",
       "      <td>7.108341</td>\n",
       "    </tr>\n",
       "    <tr>\n",
       "      <th>8</th>\n",
       "      <td>2015</td>\n",
       "      <td>7.145373</td>\n",
       "    </tr>\n",
       "    <tr>\n",
       "      <th>9</th>\n",
       "      <td>2016</td>\n",
       "      <td>7.154864</td>\n",
       "    </tr>\n",
       "    <tr>\n",
       "      <th>10</th>\n",
       "      <td>2017</td>\n",
       "      <td>8.076140</td>\n",
       "    </tr>\n",
       "  </tbody>\n",
       "</table>\n",
       "</div>"
      ],
      "text/plain": [
       "    Year  text_bias\n",
       "0   2007  10.850161\n",
       "1   2008  11.996914\n",
       "2   2009  12.092549\n",
       "3   2010   8.504399\n",
       "4   2011   7.047523\n",
       "5   2012   7.654079\n",
       "6   2013   7.633447\n",
       "7   2014   7.108341\n",
       "8   2015   7.145373\n",
       "9   2016   7.154864\n",
       "10  2017   8.076140"
      ]
     },
     "execution_count": 93,
     "metadata": {},
     "output_type": "execute_result"
    }
   ],
   "source": [
    "df_years"
   ]
  },
  {
   "cell_type": "code",
   "execution_count": 107,
   "id": "39a9113c",
   "metadata": {},
   "outputs": [
    {
     "data": {
      "text/plain": [
       "(0.21768718130678483, 4.680135644248319e-154)"
      ]
     },
     "execution_count": 107,
     "metadata": {},
     "output_type": "execute_result"
    }
   ],
   "source": [
    "pearsonr(data['text_bias'],data['length'])"
   ]
  },
  {
   "cell_type": "code",
   "execution_count": 98,
   "id": "5f617de0",
   "metadata": {},
   "outputs": [
    {
     "data": {
      "image/png": "[encoded data removed]",
      "text/plain": [
       "<Figure size 432x288 with 2 Axes>"
      ]
     },
     "metadata": {
      "needs_background": "light"
     },
     "output_type": "display_data"
    }
   ],
   "source": [
    "df_years = data.groupby('Year',as_index=False).agg({'text_bias':'mean'})\n",
    "df_months = data.groupby('published',as_index=False).agg({'text_bias':'mean'})\n",
    "plt.figure(figsize=(6, 4))\n",
    "heatmap = sns.heatmap(df_years.corr(), vmin=-1, vmax=1, annot=True)\n",
    "heatmap.set_title('Correlation Heatmap', fontdict={'fontsize':12}, pad=12);"
   ]
  },
  {
   "cell_type": "code",
   "execution_count": 65,
   "id": "d3fde8c9",
   "metadata": {},
   "outputs": [
    {
     "data": {
      "text/html": [
       "<div>\n",
       "<style scoped>\n",
       "    .dataframe tbody tr th:only-of-type {\n",
       "        vertical-align: middle;\n",
       "    }\n",
       "\n",
       "    .dataframe tbody tr th {\n",
       "        vertical-align: top;\n",
       "    }\n",
       "\n",
       "    .dataframe thead th {\n",
       "        text-align: right;\n",
       "    }\n",
       "</style>\n",
       "<table border=\"1\" class=\"dataframe\">\n",
       "  <thead>\n",
       "    <tr style=\"text-align: right;\">\n",
       "      <th></th>\n",
       "      <th>text_bias</th>\n",
       "    </tr>\n",
       "    <tr>\n",
       "      <th>text</th>\n",
       "      <th></th>\n",
       "    </tr>\n",
       "  </thead>\n",
       "  <tbody>\n",
       "    <tr>\n",
       "      <th>False</th>\n",
       "      <td>7.959036</td>\n",
       "    </tr>\n",
       "    <tr>\n",
       "      <th>True</th>\n",
       "      <td>11.318319</td>\n",
       "    </tr>\n",
       "  </tbody>\n",
       "</table>\n",
       "</div>"
      ],
      "text/plain": [
       "       text_bias\n",
       "text            \n",
       "False   7.959036\n",
       "True   11.318319"
      ]
     },
     "execution_count": 65,
     "metadata": {},
     "output_type": "execute_result"
    }
   ],
   "source": [
    "searchfor = ['volby', 'volební','volbách','voleb']\n",
    "data.groupby(data['text'].str.contains('|'.join(searchfor))).agg({'text_bias':'mean'})"
   ]
  },
  {
   "cell_type": "code",
   "execution_count": 66,
   "id": "870a7951",
   "metadata": {},
   "outputs": [
    {
     "data": {
      "text/html": [
       "<div>\n",
       "<style scoped>\n",
       "    .dataframe tbody tr th:only-of-type {\n",
       "        vertical-align: middle;\n",
       "    }\n",
       "\n",
       "    .dataframe tbody tr th {\n",
       "        vertical-align: top;\n",
       "    }\n",
       "\n",
       "    .dataframe thead th {\n",
       "        text-align: right;\n",
       "    }\n",
       "</style>\n",
       "<table border=\"1\" class=\"dataframe\">\n",
       "  <thead>\n",
       "    <tr style=\"text-align: right;\">\n",
       "      <th></th>\n",
       "      <th>text_bias</th>\n",
       "    </tr>\n",
       "    <tr>\n",
       "      <th>text</th>\n",
       "      <th></th>\n",
       "    </tr>\n",
       "  </thead>\n",
       "  <tbody>\n",
       "    <tr>\n",
       "      <th>False</th>\n",
       "      <td>4.347826</td>\n",
       "    </tr>\n",
       "    <tr>\n",
       "      <th>True</th>\n",
       "      <td>7.692308</td>\n",
       "    </tr>\n",
       "  </tbody>\n",
       "</table>\n",
       "</div>"
      ],
      "text/plain": [
       "       text_bias\n",
       "text            \n",
       "False   4.347826\n",
       "True    7.692308"
      ]
     },
     "execution_count": 66,
     "metadata": {},
     "output_type": "execute_result"
    }
   ],
   "source": [
    "data.groupby(data['text'].str.contains('|'.join(searchfor))).agg({'text_bias':'median'})"
   ]
  },
  {
   "cell_type": "code",
   "execution_count": 69,
   "id": "082fa4d3",
   "metadata": {},
   "outputs": [
    {
     "data": {
      "text/html": [
       "<div>\n",
       "<style scoped>\n",
       "    .dataframe tbody tr th:only-of-type {\n",
       "        vertical-align: middle;\n",
       "    }\n",
       "\n",
       "    .dataframe tbody tr th {\n",
       "        vertical-align: top;\n",
       "    }\n",
       "\n",
       "    .dataframe thead th {\n",
       "        text-align: right;\n",
       "    }\n",
       "</style>\n",
       "<table border=\"1\" class=\"dataframe\">\n",
       "  <thead>\n",
       "    <tr style=\"text-align: right;\">\n",
       "      <th></th>\n",
       "      <th>text_bias</th>\n",
       "    </tr>\n",
       "    <tr>\n",
       "      <th>text</th>\n",
       "      <th></th>\n",
       "    </tr>\n",
       "  </thead>\n",
       "  <tbody>\n",
       "    <tr>\n",
       "      <th>False</th>\n",
       "      <td>8.141556</td>\n",
       "    </tr>\n",
       "    <tr>\n",
       "      <th>True</th>\n",
       "      <td>12.936312</td>\n",
       "    </tr>\n",
       "  </tbody>\n",
       "</table>\n",
       "</div>"
      ],
      "text/plain": [
       "       text_bias\n",
       "text            \n",
       "False   8.141556\n",
       "True   12.936312"
      ]
     },
     "execution_count": 69,
     "metadata": {},
     "output_type": "execute_result"
    }
   ],
   "source": [
    "searchfor = ['Babiš', 'Babišovi','Babišovo','Babišem','Babišův']\n",
    "data.groupby(data['text'].str.contains('|'.join(searchfor))).agg({'text_bias':'mean'})"
   ]
  },
  {
   "cell_type": "code",
   "execution_count": 61,
   "id": "f9a6dec8",
   "metadata": {},
   "outputs": [
    {
     "data": {
      "text/plain": [
       "array([['Autoři článků v Pittsburgh Tribune Review by byli jistě nadšeni, že jim ty články někdo žere, ale to netuší, že čtenář Lukáš tak činí doslova.',\n",
       "        '1'],\n",
       "       ['Jen jsem se vzdálila na minutku do kuchyně, zvládnul se natáhnout pro sportovní přílohu, a když jsem se vrátila, už ji pěkně zpracovával bezzubými dásněmi.',\n",
       "        '1'],\n",
       "       ['Koutky úst mu odkapávala tiskařská čerň a měl zjevně velkou radost nad tím, co píší.',\n",
       "        '1'],\n",
       "       ['Tím mě přivedl na myšlenku, že by měl někdo zakódovat abecedu ve speciálním písmu určeném těmto malým čtenářům.',\n",
       "        '0']], dtype='<U155')"
      ]
     },
     "execution_count": 61,
     "metadata": {},
     "output_type": "execute_result"
    }
   ],
   "source": [
    "classify_article(data.sort_values(by='text_bias').iloc[-100]['url'])[0]"
   ]
  },
  {
   "cell_type": "code",
   "execution_count": 69,
   "id": "ac56dcfb",
   "metadata": {},
   "outputs": [
    {
     "data": {
      "text/html": [
       "<div>\n",
       "<style scoped>\n",
       "    .dataframe tbody tr th:only-of-type {\n",
       "        vertical-align: middle;\n",
       "    }\n",
       "\n",
       "    .dataframe tbody tr th {\n",
       "        vertical-align: top;\n",
       "    }\n",
       "\n",
       "    .dataframe thead th {\n",
       "        text-align: right;\n",
       "    }\n",
       "</style>\n",
       "<table border=\"1\" class=\"dataframe\">\n",
       "  <thead>\n",
       "    <tr style=\"text-align: right;\">\n",
       "      <th></th>\n",
       "      <th>text_bias</th>\n",
       "    </tr>\n",
       "    <tr>\n",
       "      <th>text</th>\n",
       "      <th></th>\n",
       "    </tr>\n",
       "  </thead>\n",
       "  <tbody>\n",
       "    <tr>\n",
       "      <th>False</th>\n",
       "      <td>7.959036</td>\n",
       "    </tr>\n",
       "    <tr>\n",
       "      <th>True</th>\n",
       "      <td>11.318319</td>\n",
       "    </tr>\n",
       "  </tbody>\n",
       "</table>\n",
       "</div>"
      ],
      "text/plain": [
       "       text_bias\n",
       "text            \n",
       "False   7.959036\n",
       "True   11.318319"
      ]
     },
     "execution_count": 69,
     "metadata": {},
     "output_type": "execute_result"
    }
   ],
   "source": [
    "searchfor = ['volby', 'volební','volbách','voleb']\n",
    "data.groupby(data['text'].str.contains('|'.join(searchfor))).agg({'text_bias':'mean'})"
   ]
  },
  {
   "cell_type": "code",
   "execution_count": 72,
   "id": "9b40c21f",
   "metadata": {},
   "outputs": [],
   "source": [
    "data_volby = data[data['text'].str.contains('|'.join(searchfor))].sort_values(by='text_bias')"
   ]
  },
  {
   "cell_type": "code",
   "execution_count": 75,
   "id": "e4111bc8",
   "metadata": {},
   "outputs": [
    {
     "data": {
      "text/html": [
       "<div>\n",
       "<style scoped>\n",
       "    .dataframe tbody tr th:only-of-type {\n",
       "        vertical-align: middle;\n",
       "    }\n",
       "\n",
       "    .dataframe tbody tr th {\n",
       "        vertical-align: top;\n",
       "    }\n",
       "\n",
       "    .dataframe thead th {\n",
       "        text-align: right;\n",
       "    }\n",
       "</style>\n",
       "<table border=\"1\" class=\"dataframe\">\n",
       "  <thead>\n",
       "    <tr style=\"text-align: right;\">\n",
       "      <th></th>\n",
       "      <th>text_bias</th>\n",
       "      <th>headline_bias</th>\n",
       "      <th>abstract_bias</th>\n",
       "      <th>abstract</th>\n",
       "      <th>headline</th>\n",
       "      <th>length</th>\n",
       "      <th>published</th>\n",
       "      <th>section</th>\n",
       "      <th>subdomain</th>\n",
       "      <th>text</th>\n",
       "      <th>url</th>\n",
       "      <th>Year</th>\n",
       "    </tr>\n",
       "  </thead>\n",
       "  <tbody>\n",
       "    <tr>\n",
       "      <th>4858</th>\n",
       "      <td>0.000000</td>\n",
       "      <td>0.034268</td>\n",
       "      <td>25.0</td>\n",
       "      <td>Svoz odpadu je příliš drahý. Chodníky v zimě n...</td>\n",
       "      <td>Stížnosti na radnicích? I na nehlídanou volebn...</td>\n",
       "      <td>20462</td>\n",
       "      <td>2013-02</td>\n",
       "      <td>denik</td>\n",
       "      <td>denik.cz</td>\n",
       "      <td>Například ve Slavkově u Brna loni dorazilo na ...</td>\n",
       "      <td>http://www.denik.cz/jihomoravsky-kraj/stiznost...</td>\n",
       "      <td>2013</td>\n",
       "    </tr>\n",
       "    <tr>\n",
       "      <th>3806</th>\n",
       "      <td>0.000000</td>\n",
       "      <td>0.002142</td>\n",
       "      <td>0.0</td>\n",
       "      <td>Srbské prezidentské volby dnes podle zpřesněný...</td>\n",
       "      <td>Prezidentské volby v Srbsku vyhrál nacionalist...</td>\n",
       "      <td>19431</td>\n",
       "      <td>2012-05</td>\n",
       "      <td>denik</td>\n",
       "      <td>denik.cz</td>\n",
       "      <td>Ve druhém kole voleb zatím poráží původně favo...</td>\n",
       "      <td>https://www.denik.cz/ze_sveta/v-srbskych-prezi...</td>\n",
       "      <td>2012</td>\n",
       "    </tr>\n",
       "    <tr>\n",
       "      <th>3757</th>\n",
       "      <td>0.000000</td>\n",
       "      <td>0.009041</td>\n",
       "      <td>0.0</td>\n",
       "      <td>Zástupci pražské TOP 09 předali ČSSD na dnešní...</td>\n",
       "      <td>Pražská TOP 09 předala ČSSD dokument 500 dní p...</td>\n",
       "      <td>19797</td>\n",
       "      <td>2013-06</td>\n",
       "      <td>praha</td>\n",
       "      <td>denik.cz</td>\n",
       "      <td>\"Toto není klasická koaliční smlouva, je to do...</td>\n",
       "      <td>https://www.denik.cz/praha/prazska-top-09-pred...</td>\n",
       "      <td>2013</td>\n",
       "    </tr>\n",
       "    <tr>\n",
       "      <th>2061</th>\n",
       "      <td>0.000000</td>\n",
       "      <td>0.004569</td>\n",
       "      <td>0.0</td>\n",
       "      <td>V pondělí bude jasné, zda se pražská TOP 09 a ...</td>\n",
       "      <td>O nové pražské koalici bude jasno v pondělí</td>\n",
       "      <td>19745</td>\n",
       "      <td>2013-06</td>\n",
       "      <td>praha</td>\n",
       "      <td>denik.cz</td>\n",
       "      <td>ČSSD podle Vávry slevila z požadavku účasti vš...</td>\n",
       "      <td>https://www.denik.cz/praha/sef-klubu-top-09-o-...</td>\n",
       "      <td>2013</td>\n",
       "    </tr>\n",
       "    <tr>\n",
       "      <th>3701</th>\n",
       "      <td>0.000000</td>\n",
       "      <td>0.007472</td>\n",
       "      <td>0.0</td>\n",
       "      <td>Senátorkou v obvodě v Praze 10 bude buď místos...</td>\n",
       "      <td>Senátorkou v Praze 10 bude Cabrnochová (SZ) ne...</td>\n",
       "      <td>20083</td>\n",
       "      <td>2014-09</td>\n",
       "      <td>denik</td>\n",
       "      <td>denik.cz</td>\n",
       "      <td>Doplňovacích voleb se zúčastnilo 15,8 procenta...</td>\n",
       "      <td>http://www.denik.cz/z_domova/senatorkou-v-praz...</td>\n",
       "      <td>2014</td>\n",
       "    </tr>\n",
       "    <tr>\n",
       "      <th>...</th>\n",
       "      <td>...</td>\n",
       "      <td>...</td>\n",
       "      <td>...</td>\n",
       "      <td>...</td>\n",
       "      <td>...</td>\n",
       "      <td>...</td>\n",
       "      <td>...</td>\n",
       "      <td>...</td>\n",
       "      <td>...</td>\n",
       "      <td>...</td>\n",
       "      <td>...</td>\n",
       "      <td>...</td>\n",
       "    </tr>\n",
       "    <tr>\n",
       "      <th>2976</th>\n",
       "      <td>65.217391</td>\n",
       "      <td>0.615239</td>\n",
       "      <td>50.0</td>\n",
       "      <td>Je to tak trochu zaobalená výzva. Ale všem jas...</td>\n",
       "      <td>Komunisty nebrat! Krajský hejtman Franc čelí v...</td>\n",
       "      <td>20252</td>\n",
       "      <td>2012-11</td>\n",
       "      <td>denik</td>\n",
       "      <td>denik.cz</td>\n",
       "      <td>Jde o komunisty, samozřejmě. Ti se prosadí do ...</td>\n",
       "      <td>https://www.denik.cz/kralovehradecky-kraj/komu...</td>\n",
       "      <td>2012</td>\n",
       "    </tr>\n",
       "    <tr>\n",
       "      <th>14316</th>\n",
       "      <td>66.666667</td>\n",
       "      <td>0.837644</td>\n",
       "      <td>100.0</td>\n",
       "      <td>\"Asi už stárneme, když se náš spolužák z vysok...</td>\n",
       "      <td>Z klávesnice Tomáše Procházky: O cestě Zelenýc...</td>\n",
       "      <td>20604</td>\n",
       "      <td>2016-01</td>\n",
       "      <td>denik</td>\n",
       "      <td>denik.cz</td>\n",
       "      <td>Na časy \"pravicových zelených\" Martina Bursíka...</td>\n",
       "      <td>https://www.denik.cz/z_domova/z-klavesnice-tom...</td>\n",
       "      <td>2016</td>\n",
       "    </tr>\n",
       "    <tr>\n",
       "      <th>9777</th>\n",
       "      <td>66.666667</td>\n",
       "      <td>0.699667</td>\n",
       "      <td>75.0</td>\n",
       "      <td>Kdekdo komentuje dění u našich polských soused...</td>\n",
       "      <td>Z klávesnice Kateřiny Perknerové: Co chtějí Če...</td>\n",
       "      <td>20838</td>\n",
       "      <td>2016-01</td>\n",
       "      <td>denik</td>\n",
       "      <td>denik.cz</td>\n",
       "      <td>Země visegrádské čtyřky jsou vedle Velké Britá...</td>\n",
       "      <td>https://www.denik.cz/z_domova/z-klavesnice-kat...</td>\n",
       "      <td>2016</td>\n",
       "    </tr>\n",
       "    <tr>\n",
       "      <th>5636</th>\n",
       "      <td>72.222222</td>\n",
       "      <td>0.255511</td>\n",
       "      <td>50.0</td>\n",
       "      <td>Když se naposledy na Pražském hradě volil pres...</td>\n",
       "      <td>Když nejde o život</td>\n",
       "      <td>18064</td>\n",
       "      <td>2008-02</td>\n",
       "      <td>denik</td>\n",
       "      <td>denik.cz</td>\n",
       "      <td>Někteří se, pravda, vymlouvali, že šlo o hodně...</td>\n",
       "      <td>https://www.denik.cz/hoffmanuv_denik/kdyz-nejd...</td>\n",
       "      <td>2008</td>\n",
       "    </tr>\n",
       "    <tr>\n",
       "      <th>282</th>\n",
       "      <td>86.666667</td>\n",
       "      <td>0.779606</td>\n",
       "      <td>50.0</td>\n",
       "      <td>Ve vysokých funkcích se pohybuje řada lidí, se...</td>\n",
       "      <td>Skanzen bez Fidela</td>\n",
       "      <td>18254</td>\n",
       "      <td>2008-02</td>\n",
       "      <td>denik</td>\n",
       "      <td>denik.cz</td>\n",
       "      <td>Navíc je v demokraciích moudře zajištěno, že p...</td>\n",
       "      <td>https://www.denik.cz/hoffmanuv_denik/skanzen_f...</td>\n",
       "      <td>2008</td>\n",
       "    </tr>\n",
       "  </tbody>\n",
       "</table>\n",
       "<p>931 rows × 12 columns</p>\n",
       "</div>"
      ],
      "text/plain": [
       "       text_bias  headline_bias  abstract_bias  \\\n",
       "4858    0.000000       0.034268           25.0   \n",
       "3806    0.000000       0.002142            0.0   \n",
       "3757    0.000000       0.009041            0.0   \n",
       "2061    0.000000       0.004569            0.0   \n",
       "3701    0.000000       0.007472            0.0   \n",
       "...          ...            ...            ...   \n",
       "2976   65.217391       0.615239           50.0   \n",
       "14316  66.666667       0.837644          100.0   \n",
       "9777   66.666667       0.699667           75.0   \n",
       "5636   72.222222       0.255511           50.0   \n",
       "282    86.666667       0.779606           50.0   \n",
       "\n",
       "                                                abstract  \\\n",
       "4858   Svoz odpadu je příliš drahý. Chodníky v zimě n...   \n",
       "3806   Srbské prezidentské volby dnes podle zpřesněný...   \n",
       "3757   Zástupci pražské TOP 09 předali ČSSD na dnešní...   \n",
       "2061   V pondělí bude jasné, zda se pražská TOP 09 a ...   \n",
       "3701   Senátorkou v obvodě v Praze 10 bude buď místos...   \n",
       "...                                                  ...   \n",
       "2976   Je to tak trochu zaobalená výzva. Ale všem jas...   \n",
       "14316  \"Asi už stárneme, když se náš spolužák z vysok...   \n",
       "9777   Kdekdo komentuje dění u našich polských soused...   \n",
       "5636   Když se naposledy na Pražském hradě volil pres...   \n",
       "282    Ve vysokých funkcích se pohybuje řada lidí, se...   \n",
       "\n",
       "                                                headline  length published  \\\n",
       "4858   Stížnosti na radnicích? I na nehlídanou volebn...   20462   2013-02   \n",
       "3806   Prezidentské volby v Srbsku vyhrál nacionalist...   19431   2012-05   \n",
       "3757   Pražská TOP 09 předala ČSSD dokument 500 dní p...   19797   2013-06   \n",
       "2061         O nové pražské koalici bude jasno v pondělí   19745   2013-06   \n",
       "3701   Senátorkou v Praze 10 bude Cabrnochová (SZ) ne...   20083   2014-09   \n",
       "...                                                  ...     ...       ...   \n",
       "2976   Komunisty nebrat! Krajský hejtman Franc čelí v...   20252   2012-11   \n",
       "14316  Z klávesnice Tomáše Procházky: O cestě Zelenýc...   20604   2016-01   \n",
       "9777   Z klávesnice Kateřiny Perknerové: Co chtějí Če...   20838   2016-01   \n",
       "5636                                  Když nejde o život   18064   2008-02   \n",
       "282                                   Skanzen bez Fidela   18254   2008-02   \n",
       "\n",
       "      section subdomain                                               text  \\\n",
       "4858    denik  denik.cz  Například ve Slavkově u Brna loni dorazilo na ...   \n",
       "3806    denik  denik.cz  Ve druhém kole voleb zatím poráží původně favo...   \n",
       "3757    praha  denik.cz  \"Toto není klasická koaliční smlouva, je to do...   \n",
       "2061    praha  denik.cz  ČSSD podle Vávry slevila z požadavku účasti vš...   \n",
       "3701    denik  denik.cz  Doplňovacích voleb se zúčastnilo 15,8 procenta...   \n",
       "...       ...       ...                                                ...   \n",
       "2976    denik  denik.cz  Jde o komunisty, samozřejmě. Ti se prosadí do ...   \n",
       "14316   denik  denik.cz  Na časy \"pravicových zelených\" Martina Bursíka...   \n",
       "9777    denik  denik.cz  Země visegrádské čtyřky jsou vedle Velké Britá...   \n",
       "5636    denik  denik.cz  Někteří se, pravda, vymlouvali, že šlo o hodně...   \n",
       "282     denik  denik.cz  Navíc je v demokraciích moudře zajištěno, že p...   \n",
       "\n",
       "                                                     url  Year  \n",
       "4858   http://www.denik.cz/jihomoravsky-kraj/stiznost...  2013  \n",
       "3806   https://www.denik.cz/ze_sveta/v-srbskych-prezi...  2012  \n",
       "3757   https://www.denik.cz/praha/prazska-top-09-pred...  2013  \n",
       "2061   https://www.denik.cz/praha/sef-klubu-top-09-o-...  2013  \n",
       "3701   http://www.denik.cz/z_domova/senatorkou-v-praz...  2014  \n",
       "...                                                  ...   ...  \n",
       "2976   https://www.denik.cz/kralovehradecky-kraj/komu...  2012  \n",
       "14316  https://www.denik.cz/z_domova/z-klavesnice-tom...  2016  \n",
       "9777   https://www.denik.cz/z_domova/z-klavesnice-kat...  2016  \n",
       "5636   https://www.denik.cz/hoffmanuv_denik/kdyz-nejd...  2008  \n",
       "282    https://www.denik.cz/hoffmanuv_denik/skanzen_f...  2008  \n",
       "\n",
       "[931 rows x 12 columns]"
      ]
     },
     "execution_count": 75,
     "metadata": {},
     "output_type": "execute_result"
    }
   ],
   "source": [
    "data_volby"
   ]
  },
  {
   "cell_type": "code",
   "execution_count": 219,
   "id": "1d3925e3",
   "metadata": {},
   "outputs": [
    {
     "data": {
      "text/plain": [
       "array([['„Požádal jsem generálního manažera pana Šaffera, aby nám doručil DVD ztohoto utkání.',\n",
       "        '0'],\n",
       "       ['Komise rozhodčích záznam prozkoumá,\" uvedl Stanislav Šulc.',\n",
       "        '0'],\n",
       "       ['Šaffer se dnes již opátečním incidentu nechtělbavit.', '0'],\n",
       "       ['Rozhodčí René Hradil otomto incidentu nic nenapsal do oficiálního zápisu.',\n",
       "        '0'],\n",
       "       ['Přesto podle Šulce záležitost ještě není ukonce.', '0'],\n",
       "       ['Podle pardubického primátora je ale současné postavení hokejistů Moelleru spíše výjimečné a vPardubicích se vždy více tleskalo než nadávalo.',\n",
       "        '0'],\n",
       "       ['„Primátorovi Kubatovi ale rozumím, Ústí je poslední, prodělává krizi a Kubata tomu hokeji podléhá, úplně ho pohltil.',\n",
       "        '1'],\n",
       "       ['Je sním tak spjat, že se pak lehce může nechat unést knějakým výstřelkům.',\n",
       "        '1'],\n",
       "       ['Myslím si ale, že těch výroků bude litovat.', '1'],\n",
       "       ['Nicméně je to silná osobnost, a tak to určitě ustojí,“ charakterizuje svého kolegu pardubický primátor.',\n",
       "        '0'],\n",
       "       ['Pardubický primátor Jaroslav Deml, rovněž hokejový fanda, sice svého kolegu chápe, leč ví, že až takhle daleko zajít neměl.',\n",
       "        '1'],\n",
       "       ['„Jednoznačně by si toto neměl dovolit žádný člověk, natož představitel města.',\n",
       "        '1'],\n",
       "       ['Chápu, že někdy samotná hra a potažmo iněkteří rozhodčí dokáží fanoušky pořádně naštvat, ale to je rozhodně neopravňuje knadávkám,“ řekl včera našemu Deníku první muž Pardubic.',\n",
       "        '0'],\n",
       "       ['Sám však přiznává, že ion má někdy při hokeji na jazyku nějaké peprnější slovo.',\n",
       "        '0'],\n",
       "       ['„Já jsem povahově klidný člověk, vtom mám trochu výhodu.', '1'],\n",
       "       ['Přiznám se ale, že vduchu jsem už také několikrát sprostá slova použil.',\n",
       "        '1'],\n",
       "       ['Ale to vyplývá zté sportovní atmosféry.', '1'],\n",
       "       ['Nahlas ale žádné sprosté nadávky vnaší primátorské lóži nikdy nezazněly,“ říká JaroslavDeml.',\n",
       "        '0'],\n",
       "       ['Ladislav Špaček: Primátor se neovládl, selhal - MINIROZHOVOR\\n\\nÚstí nad Labem/ Vpátek na hokejovém utkání křičel primátor Jan Kubata na rozhodčího neslušnáslova.',\n",
       "        '1'],\n",
       "       ['Ladislava Špačka, který učil Jana Kubatu společenskému chování, jsme se proto zeptali:\\n\\nMůže si to ve své funkci dovolit?',\n",
       "        '0'],\n",
       "       ['Nemůže, jako představitel města by se měl ovládat.', '1'],\n",
       "       ['Dá se to však pochopit, ipolitik je jen člověk.', '1'],\n",
       "       ['Na sportovní utkání se jde vyřvat, uvolnit.', '1'],\n",
       "       ['Je pro něj omluvou, že řekl jen to, co si právě myslely 4tisíce fanoušků?',\n",
       "        '1'],\n",
       "       ['To omluva není.', '1'],\n",
       "       ['Ale známe idalší případy, kdy se politik ve vypjatých situacích neovládl.',\n",
       "        '0'],\n",
       "       [', Jiří Paroubek nezvládl své chování po zjištění výsledku voleb a jak se někdy chovali slovenští politici– třeba Vladimír Mečiar– dobřevíme.',\n",
       "        '1'],\n",
       "       ['Jan Kubata se zkrátka choval jako normální chlap na hokeji, což si ve funkci nesmí dovolit.',\n",
       "        '1'],\n",
       "       ['Nezvládl chování, selhal.', '1'],\n",
       "       ['Jako primátor má smůlu, že ho každý vidí.', '1'],\n",
       "       ['Pokud tak ještě neučinil, měl by se za to omluvit.', '0'],\n",
       "       ['Stalo se mu to, co by se politikům stát nemělo.', '0'],\n",
       "       ['(dts)', '0']], dtype='<U176')"
      ]
     },
     "execution_count": 219,
     "metadata": {},
     "output_type": "execute_result"
    }
   ],
   "source": [
    "f = classify_article(data_volby.iloc[-21]['url'])[0]\n",
    "f"
   ]
  },
  {
   "cell_type": "code",
   "execution_count": 212,
   "id": "365b96bd",
   "metadata": {},
   "outputs": [
    {
     "data": {
      "text/plain": [
       "'http://www.denik.cz/ze_sveta/rakousko_pristehovalci20080807.html'"
      ]
     },
     "execution_count": 212,
     "metadata": {},
     "output_type": "execute_result"
    }
   ],
   "source": [
    "data_volby.iloc[-18]['url']"
   ]
  }
 ],
 "metadata": {
  "kernelspec": {
   "display_name": "Python 3 (ipykernel)",
   "language": "python",
   "name": "python3"
  },
  "language_info": {
   "codemirror_mode": {
    "name": "ipython",
    "version": 3
   },
   "file_extension": ".py",
   "mimetype": "text/x-python",
   "name": "python",
   "nbconvert_exporter": "python",
   "pygments_lexer": "ipython3",
   "version": "3.8.6"
  }
 },
 "nbformat": 4,
 "nbformat_minor": 5
}
