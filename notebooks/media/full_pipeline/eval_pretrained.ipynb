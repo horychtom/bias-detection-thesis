{
 "cells": [
  {
   "cell_type": "code",
   "execution_count": 1,
   "id": "d9705f98-8fb9-43cf-a62f-d8fa14918268",
   "metadata": {
    "tags": []
   },
   "outputs": [],
   "source": [
    "# Making imports convenient\n",
    "import sys\n",
    "import os\n",
    "PATH=os.getcwd().split('/notebooks')[0]\n",
    "sys.path.insert(1, PATH)\n",
    "\n",
    "import torch\n",
    "from torch.utils.data import DataLoader\n",
    "from datasets import load_dataset, Dataset\n",
    "import transformers\n",
    "from sklearn.model_selection import StratifiedKFold\n",
    "\n",
    "from transformers import AutoTokenizer, DataCollatorWithPadding,AutoModelForSequenceClassification,TrainingArguments,Trainer\n",
    "\n",
    "from src.utils.myutils import *\n",
    "import yaml\n",
    "from tqdm import tqdm\n",
    "import logging\n",
    "import json\n",
    "import warnings\n",
    "import random\n",
    "\n",
    "logging.disable(logging.ERROR)\n",
    "np.warnings.filterwarnings('ignore', category=np.VisibleDeprecationWarning)\n",
    "warnings.filterwarnings(\"ignore\", category=UserWarning) \n",
    "\n",
    "CS_DATA_PATH = PATH + '/data/CS/processed/BABE/train.csv'\n",
    "CONFIG_PATH = PATH + '/src/utils/config.yaml'\n",
    "\n",
    "model_name = 'fav-kky/FERNET-C5'\n",
    "tokenizer = AutoTokenizer.from_pretrained(model_name, use_fast=False,padding=True)\n",
    "data_collator = DataCollatorWithPadding(tokenizer=tokenizer)\n",
    "\n",
    "device = torch.device(\"cuda\") if torch.cuda.is_available() else torch.device(\"cpu\")\n",
    "BATCH_SIZE = 32"
   ]
  },
  {
   "cell_type": "code",
   "execution_count": 3,
   "id": "9091ee38-5e10-494d-bc3d-d408f55f9316",
   "metadata": {},
   "outputs": [],
   "source": [
    "model = AutoModelForSequenceClassification.from_pretrained(model_name,num_labels=2);"
   ]
  },
  {
   "cell_type": "code",
   "execution_count": 37,
   "id": "fbc57a24-5dd0-4187-9ae0-8dd1fb4b0c5e",
   "metadata": {},
   "outputs": [],
   "source": [
    "def eval_on_babe(MODEL_PATH,to_train):\n",
    "    scores=[]\n",
    "    print(\"Running 10-fold CV on model: \",model_name,\"...\")\n",
    "    for train_index, val_index in skfold.split(token_full['input_ids'],token_full['label']):\n",
    "\n",
    "        token_train = Dataset.from_dict(token_full[train_index])\n",
    "        token_valid = Dataset.from_dict(token_full[val_index])\n",
    "\n",
    "        model = AutoModelForSequenceClassification.from_pretrained(model_name,num_labels=2);\n",
    "        if MODEL_PATH is not None:\n",
    "            model.load_state_dict(torch.load(MODEL_PATH))\n",
    "        model.to(device)\n",
    "        if to_train:\n",
    "            trainer = Trainer(model,training_args,train_dataset=token_train,data_collator=data_collator,tokenizer=tokenizer)\n",
    "            trainer.train()\n",
    "\n",
    "            #evaluation\n",
    "        eval_dataloader = DataLoader(token_valid, batch_size=BATCH_SIZE, collate_fn=data_collator)\n",
    "        scores.append(compute_metrics(model,device,eval_dataloader)['f1'])\n",
    "        print(scores[-1])\n",
    "\n",
    "    return np.mean(scores)"
   ]
  },
  {
   "cell_type": "code",
   "execution_count": 5,
   "id": "961a33ac-1c87-4c96-9741-29fa1c844e34",
   "metadata": {},
   "outputs": [],
   "source": [
    "data = load_dataset('csv',data_files = CS_DATA_PATH)['train']\n",
    "with open(CONFIG_PATH) as f:\n",
    "    config_data = yaml.load(f, Loader=yaml.FullLoader)"
   ]
  },
  {
   "cell_type": "code",
   "execution_count": 6,
   "id": "34be2cf9-4ed0-46da-a176-b7ae4a4ad4b9",
   "metadata": {},
   "outputs": [],
   "source": [
    "skfold = StratifiedKFold(n_splits=10, shuffle=True, random_state=42)"
   ]
  },
  {
   "cell_type": "code",
   "execution_count": 22,
   "id": "329cba7e-3eda-4783-88cf-65406c3a9910",
   "metadata": {},
   "outputs": [],
   "source": [
    "subj_path = '/home/horyctom/bias-detection-thesis/src/models/trained/subj_balanced.pth'\n",
    "mb_path = '/home/horyctom/bias-detection-thesis/src/models/trained/mb_balanced.pth'\n",
    "wikinpov_path = '/home/horyctom/bias-detection-thesis/src/models/trained/wiki_balanced.pth'\n",
    "all_path = '/home/horyctom/bias-detection-thesis/src/models/trained/all_balanced.pth'\n",
    "wncs_path = '/home/horyctom/bias-detection-thesis/src/models/trained/wncs_balanced.pth'"
   ]
  },
  {
   "cell_type": "code",
   "execution_count": 8,
   "id": "db957677-2015-4600-a9a5-aa4138215079",
   "metadata": {},
   "outputs": [],
   "source": [
    "training_args = TrainingArguments(\n",
    "    output_dir = './',\n",
    "    num_train_epochs=3,\n",
    "    per_device_train_batch_size=BATCH_SIZE,  \n",
    "    logging_steps=50,\n",
    "    disable_tqdm = False,\n",
    "    save_total_limit=2,\n",
    "    weight_decay=0.1,\n",
    "    learning_rate=3e-5)"
   ]
  },
  {
   "cell_type": "code",
   "execution_count": 9,
   "id": "f8665e32-503a-4e84-a8d9-23daeed5eb20",
   "metadata": {},
   "outputs": [],
   "source": [
    "token_full = preprocess_data(data,tokenizer,'sentence')"
   ]
  },
  {
   "cell_type": "markdown",
   "id": "b874a6f6-64bf-4d1c-9e9b-adb610a3fe4a",
   "metadata": {},
   "source": [
    "## Vanilla"
   ]
  },
  {
   "cell_type": "code",
   "execution_count": 28,
   "id": "0082dc68-b6ab-459f-9e4f-865b08f99c74",
   "metadata": {
    "tags": []
   },
   "outputs": [
    {
     "name": "stdout",
     "output_type": "stream",
     "text": [
      "0.7835047922235006\n"
     ]
    }
   ],
   "source": [
    "eval_on_babe(None,True)"
   ]
  },
  {
   "cell_type": "markdown",
   "id": "4606bc42-52b9-40d6-aa67-995412cf9e3c",
   "metadata": {},
   "source": [
    "## SUBJ"
   ]
  },
  {
   "cell_type": "code",
   "execution_count": 29,
   "id": "07bffc8e-c2c6-43f9-912c-fac0e14c809c",
   "metadata": {
    "tags": []
   },
   "outputs": [
    {
     "name": "stdout",
     "output_type": "stream",
     "text": [
      "0.7875124708824497\n"
     ]
    }
   ],
   "source": [
    "eval_on_babe(subj_path,True)"
   ]
  },
  {
   "cell_type": "markdown",
   "id": "07ea98e0-0283-45f7-98be-e448867eb639",
   "metadata": {},
   "source": [
    "## WIKI"
   ]
  },
  {
   "cell_type": "code",
   "execution_count": 30,
   "id": "929e740c-c9eb-481b-9156-382029a84bb5",
   "metadata": {
    "tags": []
   },
   "outputs": [
    {
     "name": "stdout",
     "output_type": "stream",
     "text": [
      "0.779679482883832\n"
     ]
    }
   ],
   "source": [
    "eval_on_babe(wikinpov_path,True)"
   ]
  },
  {
   "cell_type": "markdown",
   "id": "f80b1e52-7b20-4f90-abff-e1b16660750f",
   "metadata": {},
   "source": [
    "## MB"
   ]
  },
  {
   "cell_type": "code",
   "execution_count": 31,
   "id": "6f0d469b-dd12-47d6-9458-dd9c44dfa92f",
   "metadata": {
    "tags": []
   },
   "outputs": [
    {
     "name": "stdout",
     "output_type": "stream",
     "text": [
      "0.7702455353097961\n"
     ]
    }
   ],
   "source": [
    "eval_on_babe(mb_path,True)"
   ]
  },
  {
   "cell_type": "markdown",
   "id": "32e91b1e-2702-417d-9e18-4a9f8ed3c19b",
   "metadata": {},
   "source": [
    "## All"
   ]
  },
  {
   "cell_type": "code",
   "execution_count": 32,
   "id": "13f49a7b-353e-43dd-963f-87acbfd4c417",
   "metadata": {
    "tags": []
   },
   "outputs": [
    {
     "name": "stdout",
     "output_type": "stream",
     "text": [
      "0.7877931723291478\n"
     ]
    }
   ],
   "source": [
    "eval_on_babe(all_path,True)"
   ]
  },
  {
   "cell_type": "markdown",
   "id": "392cd662-32b4-4e11-bd33-48238c53704e",
   "metadata": {},
   "source": [
    "## WNCS"
   ]
  },
  {
   "cell_type": "code",
   "execution_count": 33,
   "id": "dd4b75b7-d2e4-4d61-b35f-7d9f3c899d92",
   "metadata": {
    "tags": []
   },
   "outputs": [
    {
     "name": "stdout",
     "output_type": "stream",
     "text": [
      "0.7824775510066212\n"
     ]
    }
   ],
   "source": [
    "eval_on_babe(wncs_path,True)"
   ]
  },
  {
   "cell_type": "markdown",
   "id": "865d08fd-df2d-482f-84c7-55808b28cba5",
   "metadata": {},
   "source": [
    "## Eval all on BABE not fine-tuning"
   ]
  },
  {
   "cell_type": "code",
   "execution_count": 38,
   "id": "c8c9709b-64d9-468e-828e-d6333af45728",
   "metadata": {
    "tags": []
   },
   "outputs": [
    {
     "name": "stdout",
     "output_type": "stream",
     "text": [
      "Running 10-fold CV on model:  fav-kky/FERNET-C5 ...\n",
      "0.5706637168141593\n",
      "0.5455947736140095\n",
      "0.5366336633663366\n",
      "0.5680827886710239\n",
      "0.5866801028091351\n",
      "0.539760348583878\n",
      "0.5351981144661361\n",
      "0.525599128540305\n",
      "0.5473767177272884\n",
      "0.5866801028091351\n"
     ]
    },
    {
     "data": {
      "text/plain": [
       "0.5542269457401406"
      ]
     },
     "execution_count": 38,
     "metadata": {},
     "output_type": "execute_result"
    }
   ],
   "source": [
    "eval_on_babe(subj_path,False)"
   ]
  },
  {
   "cell_type": "code",
   "execution_count": 39,
   "id": "48268e3f-acd0-4fd3-9e0b-30b29b9fb043",
   "metadata": {},
   "outputs": [
    {
     "name": "stdout",
     "output_type": "stream",
     "text": [
      "Running 10-fold CV on model:  fav-kky/FERNET-C5 ...\n",
      "0.6176034943184889\n",
      "0.6446758133047906\n",
      "0.6518423019836843\n",
      "0.6262673796791443\n",
      "0.6115673597763411\n",
      "0.6236265826223986\n",
      "0.6428220979295457\n",
      "0.6371895886540238\n",
      "0.6253924192855491\n",
      "0.6635030198446936\n"
     ]
    },
    {
     "data": {
      "text/plain": [
       "0.634449005739866"
      ]
     },
     "execution_count": 39,
     "metadata": {},
     "output_type": "execute_result"
    }
   ],
   "source": [
    "eval_on_babe(wikinpov_path,False)"
   ]
  },
  {
   "cell_type": "code",
   "execution_count": 40,
   "id": "f742f74c-a493-4318-a2df-0d6946f09937",
   "metadata": {},
   "outputs": [
    {
     "name": "stdout",
     "output_type": "stream",
     "text": [
      "Running 10-fold CV on model:  fav-kky/FERNET-C5 ...\n",
      "0.49369869628198937\n",
      "0.49142444484564\n",
      "0.4768768768768769\n",
      "0.4378378378378378\n",
      "0.40071558596447177\n",
      "0.4570135746606334\n",
      "0.4222808441558442\n",
      "0.5284330677242663\n",
      "0.46691942182258084\n",
      "0.4555520682945201\n"
     ]
    },
    {
     "data": {
      "text/plain": [
       "0.46307524184646615"
      ]
     },
     "execution_count": 40,
     "metadata": {},
     "output_type": "execute_result"
    }
   ],
   "source": [
    "eval_on_babe(mb_path,False)"
   ]
  },
  {
   "cell_type": "code",
   "execution_count": 41,
   "id": "541894cd-ac1a-45d1-8a6e-9cd15e615289",
   "metadata": {
    "tags": []
   },
   "outputs": [
    {
     "name": "stdout",
     "output_type": "stream",
     "text": [
      "Running 10-fold CV on model:  fav-kky/FERNET-C5 ...\n",
      "0.6254487435181493\n",
      "0.6453529321696524\n",
      "0.647203947368421\n",
      "0.6281898500102732\n",
      "0.6474358974358975\n",
      "0.6344802071772104\n",
      "0.6666529689747278\n",
      "0.6529334212261041\n",
      "0.6183976566113367\n",
      "0.6568785651883448\n"
     ]
    },
    {
     "data": {
      "text/plain": [
       "0.6422974189680117"
      ]
     },
     "execution_count": 41,
     "metadata": {},
     "output_type": "execute_result"
    }
   ],
   "source": [
    "eval_on_babe(all_path,False)"
   ]
  },
  {
   "cell_type": "code",
   "execution_count": 42,
   "id": "a296fab2-2e1e-49a1-81b7-de3daf5885e5",
   "metadata": {},
   "outputs": [
    {
     "name": "stdout",
     "output_type": "stream",
     "text": [
      "Running 10-fold CV on model:  fav-kky/FERNET-C5 ...\n",
      "0.6681572455781242\n",
      "0.7046179011827867\n",
      "0.7009574165551962\n",
      "0.6640707483562087\n",
      "0.6907764328792543\n",
      "0.6323232323232324\n",
      "0.650411016283575\n",
      "0.6691479186592922\n",
      "0.6452096285668739\n",
      "0.6717171717171717\n"
     ]
    },
    {
     "data": {
      "text/plain": [
       "0.6697388712101715"
      ]
     },
     "execution_count": 42,
     "metadata": {},
     "output_type": "execute_result"
    }
   ],
   "source": [
    "eval_on_babe(wncs_path,False)"
   ]
  },
  {
   "cell_type": "code",
   "execution_count": null,
   "id": "94edbd01-adef-4401-b53f-78172f64d698",
   "metadata": {},
   "outputs": [],
   "source": []
  }
 ],
 "metadata": {
  "kernelspec": {
   "display_name": "Python 3 (ipykernel)",
   "language": "python",
   "name": "python3"
  },
  "language_info": {
   "codemirror_mode": {
    "name": "ipython",
    "version": 3
   },
   "file_extension": ".py",
   "mimetype": "text/x-python",
   "name": "python",
   "nbconvert_exporter": "python",
   "pygments_lexer": "ipython3",
   "version": "3.8.6"
  }
 },
 "nbformat": 4,
 "nbformat_minor": 5
}
