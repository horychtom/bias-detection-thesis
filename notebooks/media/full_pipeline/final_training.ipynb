{
 "cells": [
  {
   "cell_type": "code",
   "execution_count": 1,
   "id": "e01d1632-3e68-4583-be8f-a6be7bc1cc93",
   "metadata": {},
   "outputs": [],
   "source": [
    "# Making imports convenient\n",
    "import sys\n",
    "import os\n",
    "PATH=os.getcwd().split('/notebooks')[0]\n",
    "sys.path.insert(1, PATH)\n",
    "\n",
    "import torch\n",
    "from torch.utils.data import DataLoader\n",
    "import torch.nn.functional as F\n",
    "from datasets import load_dataset, Dataset, concatenate_datasets\n",
    "import transformers\n",
    "from sklearn.model_selection import StratifiedKFold\n",
    "from sklearn.metrics import confusion_matrix\n",
    "\n",
    "\n",
    "from transformers import AutoTokenizer, DataCollatorWithPadding,BertForSequenceClassification,TrainingArguments,Trainer\n",
    "\n",
    "from src.utils.myutils import *\n",
    "import yaml\n",
    "from tqdm import tqdm\n",
    "import logging\n",
    "import json\n",
    "import warnings\n",
    "import random\n",
    "import pandas as pd\n",
    "\n",
    "logging.disable(logging.ERROR)\n",
    "np.warnings.filterwarnings('ignore', category=np.VisibleDeprecationWarning)\n",
    "warnings.filterwarnings(\"ignore\", category=UserWarning) \n",
    "\n",
    "CS_DATA_PATH = PATH + '/data/CS/processed/'\n",
    "CONFIG_PATH = PATH + '/src/utils/config.yaml'\n",
    "\n",
    "device = torch.device(\"cuda\") if torch.cuda.is_available() else torch.device(\"cpu\")\n",
    "\n",
    "model_name = 'fav-kky/FERNET-C5'\n",
    "tokenizer = AutoTokenizer.from_pretrained(model_name, use_fast=False,padding=True)\n",
    "data_collator = DataCollatorWithPadding(tokenizer=tokenizer)\n",
    "\n",
    "BATCH_SIZE = 32"
   ]
  },
  {
   "cell_type": "code",
   "execution_count": 2,
   "id": "8d63fb62-b3d7-4b06-83bc-da4c6556dea9",
   "metadata": {},
   "outputs": [],
   "source": [
    "babe_train = load_dataset('csv',data_files = CS_DATA_PATH + 'BABE/train.csv')['train']\n",
    "babe_test = load_dataset('csv',data_files = CS_DATA_PATH + 'BABE/test.csv')['train']\n",
    "babe_all = load_dataset('csv',data_files = CS_DATA_PATH + 'BABE/babe.csv')['train']\n",
    "\n",
    "PRETRAINED_PATH = '/home/horyctom/bias-detection-thesis/src/models/trained/all_balanced.pth'\n",
    "FINAL_PATH = '/home/horyctom/bias-detection-thesis/src/models/trained/final_classifier.pth'\n",
    "SUBJ_PATH = '/home/horyctom/bias-detection-thesis/src/models/trained/subj_balanced.pth'"
   ]
  },
  {
   "cell_type": "markdown",
   "id": "4031041c-ddbc-4069-a419-7ee5b2dcb52c",
   "metadata": {},
   "source": [
    "## Prepare model"
   ]
  },
  {
   "cell_type": "code",
   "execution_count": 89,
   "id": "2e526462-6d98-4416-8aaa-d8440f0631b9",
   "metadata": {
    "tags": []
   },
   "outputs": [
    {
     "data": {
      "text/plain": [
       "<All keys matched successfully>"
      ]
     },
     "execution_count": 89,
     "metadata": {},
     "output_type": "execute_result"
    }
   ],
   "source": [
    "model_all = BertForSequenceClassification.from_pretrained(model_name,num_labels=2)\n",
    "model_all.load_state_dict(torch.load(PRETRAINED_PATH))"
   ]
  },
  {
   "cell_type": "markdown",
   "id": "ea457b81-4b01-4196-9bac-cdf27aa4a690",
   "metadata": {},
   "source": [
    "## Prepare Data"
   ]
  },
  {
   "cell_type": "code",
   "execution_count": 3,
   "id": "2964ba81-b361-4607-a038-e867c5a41dbd",
   "metadata": {},
   "outputs": [],
   "source": [
    "train_tok = preprocess_data(babe_train,tokenizer,'sentence')\n",
    "test_tok = preprocess_data(babe_test,tokenizer,'sentence')\n",
    "babe_tok = preprocess_data(babe_all,tokenizer,'sentence')"
   ]
  },
  {
   "cell_type": "markdown",
   "id": "cc8df9cd-28d0-4f53-906d-c2c7b88ea511",
   "metadata": {},
   "source": [
    "# Training"
   ]
  },
  {
   "cell_type": "code",
   "execution_count": 91,
   "id": "11c19e7e-b1eb-43e6-9670-cae8f5f7e41c",
   "metadata": {},
   "outputs": [],
   "source": [
    "training_args = TrainingArguments(\n",
    "    output_dir = './',\n",
    "    num_train_epochs=3,\n",
    "    per_device_train_batch_size=32,  \n",
    "    logging_steps=20,\n",
    "    disable_tqdm = False,\n",
    "    save_total_limit=2,\n",
    "    weight_decay=0.1,\n",
    "    learning_rate=3e-5)"
   ]
  },
  {
   "cell_type": "code",
   "execution_count": 92,
   "id": "3a5e9b9d-9f68-4c71-8467-87ff35c78ccb",
   "metadata": {
    "tags": []
   },
   "outputs": [
    {
     "data": {
      "text/html": [
       "\n",
       "    <div>\n",
       "      \n",
       "      <progress value='294' max='294' style='width:300px; height:20px; vertical-align: middle;'></progress>\n",
       "      [294/294 00:48, Epoch 3/3]\n",
       "    </div>\n",
       "    <table border=\"1\" class=\"dataframe\">\n",
       "  <thead>\n",
       "    <tr style=\"text-align: left;\">\n",
       "      <th>Step</th>\n",
       "      <th>Training Loss</th>\n",
       "    </tr>\n",
       "  </thead>\n",
       "  <tbody>\n",
       "    <tr>\n",
       "      <td>20</td>\n",
       "      <td>0.561600</td>\n",
       "    </tr>\n",
       "    <tr>\n",
       "      <td>40</td>\n",
       "      <td>0.499300</td>\n",
       "    </tr>\n",
       "    <tr>\n",
       "      <td>60</td>\n",
       "      <td>0.507400</td>\n",
       "    </tr>\n",
       "    <tr>\n",
       "      <td>80</td>\n",
       "      <td>0.513800</td>\n",
       "    </tr>\n",
       "    <tr>\n",
       "      <td>100</td>\n",
       "      <td>0.438000</td>\n",
       "    </tr>\n",
       "    <tr>\n",
       "      <td>120</td>\n",
       "      <td>0.366600</td>\n",
       "    </tr>\n",
       "    <tr>\n",
       "      <td>140</td>\n",
       "      <td>0.305300</td>\n",
       "    </tr>\n",
       "    <tr>\n",
       "      <td>160</td>\n",
       "      <td>0.275800</td>\n",
       "    </tr>\n",
       "    <tr>\n",
       "      <td>180</td>\n",
       "      <td>0.290400</td>\n",
       "    </tr>\n",
       "    <tr>\n",
       "      <td>200</td>\n",
       "      <td>0.301900</td>\n",
       "    </tr>\n",
       "    <tr>\n",
       "      <td>220</td>\n",
       "      <td>0.199800</td>\n",
       "    </tr>\n",
       "    <tr>\n",
       "      <td>240</td>\n",
       "      <td>0.214800</td>\n",
       "    </tr>\n",
       "    <tr>\n",
       "      <td>260</td>\n",
       "      <td>0.153600</td>\n",
       "    </tr>\n",
       "    <tr>\n",
       "      <td>280</td>\n",
       "      <td>0.180600</td>\n",
       "    </tr>\n",
       "  </tbody>\n",
       "</table><p>"
      ],
      "text/plain": [
       "<IPython.core.display.HTML object>"
      ]
     },
     "metadata": {},
     "output_type": "display_data"
    },
    {
     "data": {
      "text/plain": [
       "0.8039869298268728"
      ]
     },
     "execution_count": 92,
     "metadata": {},
     "output_type": "execute_result"
    }
   ],
   "source": [
    "model = AutoModelForSequenceClassification.from_pretrained(model_name,num_labels=2);\n",
    "model.load_state_dict(torch.load(PRETRAINED_PATH))\n",
    "\n",
    "model.to(device)\n",
    "trainer = Trainer(model,training_args,train_dataset=train_tok,data_collator=data_collator\n",
    "                      ,tokenizer=tokenizer)\n",
    "trainer.train()\n",
    "\n",
    "eval_dataloader = DataLoader(test_tok, batch_size=BATCH_SIZE, collate_fn=data_collator)\n",
    "compute_metrics(model,device,eval_dataloader)['f1']"
   ]
  },
  {
   "cell_type": "code",
   "execution_count": 142,
   "id": "e2e68584-288a-4e78-8225-15265e7c6f51",
   "metadata": {},
   "outputs": [],
   "source": [
    "preds = torch.Tensor([]).to(device)\n",
    "\n",
    "model.eval()\n",
    "for batch in eval_dataloader:\n",
    "    batch = {k: v.to(device) for k, v in batch.items()}\n",
    "    with torch.no_grad():\n",
    "        outputs = model(**batch)\n",
    "\n",
    "    logits = outputs.logits\n",
    "    preds = torch.cat((preds,logits),0)"
   ]
  },
  {
   "cell_type": "code",
   "execution_count": 143,
   "id": "c526bbca-0cd2-42a8-8e5c-cb7bc956d955",
   "metadata": {},
   "outputs": [
    {
     "name": "stdout",
     "output_type": "stream",
     "text": [
      "Confusion matrix, without normalization\n",
      "[[220  50]\n",
      " [ 58 223]]\n"
     ]
    },
    {
     "data": {
      "image/png": "[encoded data removed]",
      "text/plain": [
       "<Figure size 576x576 with 2 Axes>"
      ]
     },
     "metadata": {
      "needs_background": "light"
     },
     "output_type": "display_data"
    }
   ],
   "source": [
    "labels = test_tok['label']\n",
    "preds_prob = F.softmax(preds,dim=1).max(dim=1)[0]\n",
    "pred_labels = F.softmax(preds,dim=1).argmax(dim=1)\n",
    "\n",
    "cm = confusion_matrix(labels,pred_labels.cpu())\n",
    "plt.figure(figsize=(8,8))\n",
    "plot_confusion_matrix(cm,['unbiased','biased'])"
   ]
  },
  {
   "cell_type": "code",
   "execution_count": 136,
   "id": "8a482574-0306-4d40-991e-e56cec558e5b",
   "metadata": {},
   "outputs": [],
   "source": [
    "misclasified_idx = np.where(pred_labels.cpu()!=labels)[0]"
   ]
  },
  {
   "cell_type": "code",
   "execution_count": 145,
   "id": "fb9924ed-d410-4399-b4cf-3298f10fba01",
   "metadata": {},
   "outputs": [
    {
     "data": {
      "text/plain": [
       "tensor([0.7294, 0.8579, 0.8636, 0.9815, 0.8792, 0.9981, 0.5362, 0.9919, 0.9914,\n",
       "        0.9971, 0.9970, 0.9141, 0.8567, 0.8192, 0.9400, 0.9949, 0.9885, 0.9965,\n",
       "        0.7758, 0.7390, 0.6478, 0.7829, 0.9244, 0.9898, 0.5232, 0.5738, 0.9442,\n",
       "        0.9767, 0.8995, 0.7939, 0.9229, 0.7854, 0.9549, 0.8516, 0.7746, 0.6668,\n",
       "        0.9855, 0.7847, 0.7638, 0.6456, 0.8795, 0.8618, 0.9361, 0.7658, 0.9538,\n",
       "        0.8596, 0.9981, 0.7757, 0.9166, 0.9979, 0.9476, 0.9493, 0.6941, 0.9687,\n",
       "        0.9662, 0.6925, 0.9584, 0.7197, 0.8736, 0.9945, 0.9249, 0.9739, 0.5550,\n",
       "        0.5514, 0.9913, 0.8031, 0.9921, 0.9663, 0.9577, 0.9907, 0.6277, 0.9721,\n",
       "        0.9798, 0.9253, 0.9933, 0.7996, 0.5873, 0.8233, 0.9838, 0.9187, 0.7460,\n",
       "        0.9709, 0.9896, 0.9851, 0.9724, 0.9204, 0.8240, 0.9749, 0.9721, 0.7201,\n",
       "        0.7762, 0.9334, 0.6061, 0.6302, 0.8023, 0.9777, 0.9511, 0.9681, 0.9780,\n",
       "        0.8164, 0.8440, 0.9858, 0.9596, 0.9788, 0.9878, 0.5307, 0.9425, 0.9481],\n",
       "       device='cuda:0')"
      ]
     },
     "execution_count": 145,
     "metadata": {},
     "output_type": "execute_result"
    }
   ],
   "source": [
    "preds_prob[misclasified_idx]"
   ]
  },
  {
   "cell_type": "code",
   "execution_count": 146,
   "id": "386cdb94-8492-4382-b510-16d6ce3f86da",
   "metadata": {},
   "outputs": [
    {
     "data": {
      "text/plain": [
       "tensor([0, 0, 1, 1, 0, 0, 1, 1, 0, 0, 0, 0, 0, 1, 1, 1, 0, 0, 0, 1, 1, 1, 1, 1,\n",
       "        0, 1, 1, 1, 1, 0, 1, 1, 0, 1, 1, 0, 0, 0, 1, 1, 1, 0, 1, 0, 1, 0, 0, 1,\n",
       "        0, 0, 1, 0, 1, 0, 1, 1, 1, 1, 1, 0, 1, 1, 0, 0, 0, 0, 0, 0, 1, 0, 0, 1,\n",
       "        0, 1, 1, 1, 1, 0, 0, 1, 1, 1, 1, 0, 0, 0, 0, 1, 0, 0, 1, 0, 1, 1, 1, 0,\n",
       "        1, 0, 1, 1, 0, 1, 0, 1, 1, 0, 1, 1])"
      ]
     },
     "execution_count": 146,
     "metadata": {},
     "output_type": "execute_result"
    }
   ],
   "source": [
    "labels[misclasified_idx]"
   ]
  },
  {
   "cell_type": "code",
   "execution_count": 147,
   "id": "fe50fc5b-bc9d-4bdd-b697-72e4a2eb7a4b",
   "metadata": {},
   "outputs": [
    {
     "data": {
      "text/plain": [
       "'Immigration Voice tvrdí, že je nezávislou skupinou, ale údajně úzce spolupracuje s Compete America, skupinou na obranu imigrantů, kterou vytvořily velké technologické společnosti v zemi, z nichž téměř všechny zaměstnávají velké bloky indických a čínských pracovníků s vízy na pracovních místech, která by mohli obsadit mladí američtí absolventi.'"
      ]
     },
     "execution_count": 147,
     "metadata": {},
     "output_type": "execute_result"
    }
   ],
   "source": [
    "babe_test[misclasified_idx]['sentence'][6]"
   ]
  },
  {
   "cell_type": "markdown",
   "id": "e19a7666-2bf8-4bf4-adf3-65d420aa69ca",
   "metadata": {},
   "source": [
    "# Final model"
   ]
  },
  {
   "cell_type": "code",
   "execution_count": 9,
   "id": "b99a710a-cc83-47b9-8296-b939f0a9ee9d",
   "metadata": {
    "collapsed": true,
    "jupyter": {
     "outputs_hidden": true
    },
    "tags": []
   },
   "outputs": [
    {
     "data": {
      "text/html": [
       "\n",
       "    <div>\n",
       "      \n",
       "      <progress value='345' max='345' style='width:300px; height:20px; vertical-align: middle;'></progress>\n",
       "      [345/345 00:56, Epoch 3/3]\n",
       "    </div>\n",
       "    <table border=\"1\" class=\"dataframe\">\n",
       "  <thead>\n",
       "    <tr style=\"text-align: left;\">\n",
       "      <th>Step</th>\n",
       "      <th>Training Loss</th>\n",
       "    </tr>\n",
       "  </thead>\n",
       "  <tbody>\n",
       "    <tr>\n",
       "      <td>20</td>\n",
       "      <td>0.564800</td>\n",
       "    </tr>\n",
       "    <tr>\n",
       "      <td>40</td>\n",
       "      <td>0.496300</td>\n",
       "    </tr>\n",
       "    <tr>\n",
       "      <td>60</td>\n",
       "      <td>0.461800</td>\n",
       "    </tr>\n",
       "    <tr>\n",
       "      <td>80</td>\n",
       "      <td>0.492600</td>\n",
       "    </tr>\n",
       "    <tr>\n",
       "      <td>100</td>\n",
       "      <td>0.448900</td>\n",
       "    </tr>\n",
       "    <tr>\n",
       "      <td>120</td>\n",
       "      <td>0.453500</td>\n",
       "    </tr>\n",
       "    <tr>\n",
       "      <td>140</td>\n",
       "      <td>0.308200</td>\n",
       "    </tr>\n",
       "    <tr>\n",
       "      <td>160</td>\n",
       "      <td>0.329600</td>\n",
       "    </tr>\n",
       "    <tr>\n",
       "      <td>180</td>\n",
       "      <td>0.297000</td>\n",
       "    </tr>\n",
       "    <tr>\n",
       "      <td>200</td>\n",
       "      <td>0.294000</td>\n",
       "    </tr>\n",
       "    <tr>\n",
       "      <td>220</td>\n",
       "      <td>0.306900</td>\n",
       "    </tr>\n",
       "    <tr>\n",
       "      <td>240</td>\n",
       "      <td>0.250400</td>\n",
       "    </tr>\n",
       "    <tr>\n",
       "      <td>260</td>\n",
       "      <td>0.166600</td>\n",
       "    </tr>\n",
       "    <tr>\n",
       "      <td>280</td>\n",
       "      <td>0.182200</td>\n",
       "    </tr>\n",
       "    <tr>\n",
       "      <td>300</td>\n",
       "      <td>0.166500</td>\n",
       "    </tr>\n",
       "    <tr>\n",
       "      <td>320</td>\n",
       "      <td>0.221500</td>\n",
       "    </tr>\n",
       "    <tr>\n",
       "      <td>340</td>\n",
       "      <td>0.140100</td>\n",
       "    </tr>\n",
       "  </tbody>\n",
       "</table><p>"
      ],
      "text/plain": [
       "<IPython.core.display.HTML object>"
      ]
     },
     "metadata": {},
     "output_type": "display_data"
    },
    {
     "data": {
      "text/plain": [
       "0.9678364213527204"
      ]
     },
     "execution_count": 9,
     "metadata": {},
     "output_type": "execute_result"
    }
   ],
   "source": [
    "model = AutoModelForSequenceClassification.from_pretrained(model_name,num_labels=2);\n",
    "model.load_state_dict(torch.load(PRETRAINED_PATH))\n",
    "\n",
    "model.to(device)\n",
    "trainer = Trainer(model,training_args,train_dataset=babe_tok,data_collator=data_collator\n",
    "                      ,tokenizer=tokenizer)\n",
    "trainer.train()"
   ]
  },
  {
   "cell_type": "code",
   "execution_count": 39,
   "id": "cc14fb00-e64f-4651-b18b-7405592a1e3d",
   "metadata": {},
   "outputs": [],
   "source": [
    "torch.save(model.state_dict(),FINAL_PATH)"
   ]
  },
  {
   "cell_type": "code",
   "execution_count": 40,
   "id": "dcfec49c-22a2-4d02-947a-65ec05ce1e19",
   "metadata": {},
   "outputs": [
    {
     "data": {
      "text/plain": [
       "<All keys matched successfully>"
      ]
     },
     "execution_count": 40,
     "metadata": {},
     "output_type": "execute_result"
    }
   ],
   "source": [
    "model1 = BertForSequenceClassification.from_pretrained(model_name,num_labels=2)\n",
    "model1.load_state_dict(torch.load(PRETRAINED_PATH))"
   ]
  },
  {
   "cell_type": "code",
   "execution_count": 4,
   "id": "342c52f3-a7e1-4a51-b398-1b06e9ddd205",
   "metadata": {},
   "outputs": [
    {
     "data": {
      "text/plain": [
       "<All keys matched successfully>"
      ]
     },
     "execution_count": 4,
     "metadata": {},
     "output_type": "execute_result"
    }
   ],
   "source": [
    "model2 = BertForSequenceClassification.from_pretrained(model_name,num_labels=2)\n",
    "model2.load_state_dict(torch.load(FINAL_PATH))"
   ]
  },
  {
   "cell_type": "code",
   "execution_count": 74,
   "id": "b8aab59b-7013-409d-a248-18cae78031ae",
   "metadata": {},
   "outputs": [
    {
     "data": {
      "text/plain": [
       "<All keys matched successfully>"
      ]
     },
     "execution_count": 74,
     "metadata": {},
     "output_type": "execute_result"
    }
   ],
   "source": [
    "model3 = BertForSequenceClassification.from_pretrained(model_name,num_labels=2)\n",
    "model3.load_state_dict(torch.load(SUBJ_PATH))"
   ]
  },
  {
   "cell_type": "code",
   "execution_count": 5,
   "id": "2a2e3d3a-b7d8-47b3-a4bd-da4483596419",
   "metadata": {},
   "outputs": [],
   "source": [
    "model=model2"
   ]
  },
  {
   "cell_type": "code",
   "execution_count": 158,
   "id": "9b028571-85f7-4327-bbea-04801010e8d2",
   "metadata": {},
   "outputs": [
    {
     "data": {
      "text/plain": [
       "tensor([[0.7109, 0.2891]], device='cuda:0')"
      ]
     },
     "execution_count": 158,
     "metadata": {},
     "output_type": "execute_result"
    }
   ],
   "source": [
    "classify_sentence_certainty('Postavu v Přístavu kvůli mně přejmenovali, vzpomíná Martin Dejdar.')"
   ]
  },
  {
   "cell_type": "code",
   "execution_count": 7,
   "id": "d27a6dd8-d504-4ae7-aa41-59c4941c0daf",
   "metadata": {},
   "outputs": [
    {
     "name": "stdout",
     "output_type": "stream",
     "text": [
      "Polovina zaměstnanců si nemůže vybrat volno, kdy a jak by chtěla.Mužům hrozí za drogy až dvanáct let vězení.Exploze v Zákupech: policie čeká na vyjádření expertů.Horehroní: po stopách hradních pánů, ale i zbojníků.Postavu v Přístavu kvůli mně přejmenovali, vzpomíná Martin Dejdar.Český pavilón okouzluje vtipem, návštěvníci nahrávají vzkazy na kameru.Znojemský obchvat: druhá stavba začne letos.Lyžař Bauer hledá vzpruhu. Chce trénovat s ruskými běžci.\"Můžeš vyhrávat pořád dál?\" ptala se Šafářová Plíškové. Chce vládnout společně.Komando, které vtrhlo se samopaly do ČT, končí.\n"
     ]
    }
   ],
   "source": [
    "print(\"Polovina zaměstnanců si nemůže vybrat volno, kdy a jak by chtěla.\"\n",
    "\"Mužům hrozí za drogy až dvanáct let vězení.\"\n",
    "\"Exploze v Zákupech: policie čeká na vyjádření expertů.\"\n",
    "\"Horehroní: po stopách hradních pánů, ale i zbojníků.\"\n",
    "\"Postavu v Přístavu kvůli mně přejmenovali, vzpomíná Martin Dejdar.\"\n",
    "\"Český pavilón okouzluje vtipem, návštěvníci nahrávají vzkazy na kameru.\"\n",
    "\"Znojemský obchvat: druhá stavba začne letos.\"\n",
    "\"Lyžař Bauer hledá vzpruhu. Chce trénovat s ruskými běžci.\"\n",
    "\"\\\"Můžeš vyhrávat pořád dál?\\\" ptala se Šafářová Plíškové. Chce vládnout společně.\"\n",
    "\"Komando, které vtrhlo se samopaly do ČT, končí.\")"
   ]
  },
  {
   "cell_type": "markdown",
   "id": "7e201db7-051d-4a89-8eba-cd51e16846fa",
   "metadata": {},
   "source": [
    "## Experiments"
   ]
  },
  {
   "cell_type": "code",
   "execution_count": 14,
   "id": "b5bad158-54fc-4a89-8c5d-dc736478c029",
   "metadata": {},
   "outputs": [],
   "source": [
    "def classify_sentence(sent:str):\n",
    "    toksentence = tokenizer(sent,truncation=True,return_tensors=\"pt\")\n",
    "    model.eval()\n",
    "    model.to(device)\n",
    "    with torch.no_grad():\n",
    "        toksentence.to(device)\n",
    "        output = model(**toksentence)\n",
    "    \n",
    "    classification = F.softmax(output.logits,dim=1).argmax(dim=1)\n",
    "    \n",
    "    return {0:'unbiased',1:'biased'}[classification[0].item()]"
   ]
  },
  {
   "cell_type": "code",
   "execution_count": 15,
   "id": "a6c48381-c1b3-4b26-86f8-99f536228246",
   "metadata": {},
   "outputs": [],
   "source": [
    "def classify_sentence_certainty(sent:str):\n",
    "    toksentence = tokenizer(sent,truncation=True,return_tensors=\"pt\")\n",
    "    model.eval()\n",
    "    model.to(device)\n",
    "    with torch.no_grad():\n",
    "        toksentence.to(device)\n",
    "        output = model(**toksentence)\n",
    "    \n",
    "    classification = F.softmax(output.logits,dim=1)\n",
    "    \n",
    "    return classification"
   ]
  },
  {
   "cell_type": "code",
   "execution_count": 76,
   "id": "bfaaa8ed-397c-402b-8f92-f1a6273d129a",
   "metadata": {},
   "outputs": [
    {
     "name": "stdout",
     "output_type": "stream",
     "text": [
      "tensor([[0.7847, 0.2153]], device='cuda:0')\n",
      "tensor([[0.0374, 0.9626]], device='cuda:0')\n"
     ]
    }
   ],
   "source": [
    "print(classify_sentence_certainty('Od března jedeme sedm dní v týdnu a bojujeme s touto ojedinělou situací'))\n",
    "print(classify_sentence_certainty('ojedinělá situace, na kterou nemohl být nikdo připraven.'))"
   ]
  },
  {
   "cell_type": "code",
   "execution_count": 77,
   "id": "7efbb9b0-b62e-4721-894a-353b20275e7d",
   "metadata": {},
   "outputs": [
    {
     "name": "stdout",
     "output_type": "stream",
     "text": [
      "tensor([[0.1404, 0.8596]], device='cuda:0')\n",
      "tensor([[0.4194, 0.5806]], device='cuda:0')\n"
     ]
    }
   ],
   "source": [
    "print(classify_sentence_certainty('Podle íránské vlády bylo sestřelení IR 655 \"Vincennes\" úmyslně provedeným a nezákonným činem.'))\n",
    "print(classify_sentence_certainty('Sestřelení IR 655 \"Vincennes\" bylo úmyslně provedeným a nezákonným činem.'))"
   ]
  },
  {
   "cell_type": "code",
   "execution_count": 78,
   "id": "0c75b33c-f25a-49f3-8c57-fa348a5f3dfd",
   "metadata": {},
   "outputs": [
    {
     "data": {
      "text/plain": [
       "tensor([[0.3038, 0.6962]], device='cuda:0')"
      ]
     },
     "execution_count": 78,
     "metadata": {},
     "output_type": "execute_result"
    }
   ],
   "source": [
    "classify_sentence_certainty('Byli mu prý doporučeni jako \"spolehliví a levní\" a sám přesvědčil, že je droga od nich kvalitní a čistá.')"
   ]
  },
  {
   "cell_type": "code",
   "execution_count": 10,
   "id": "b8b05e21-047f-485d-a568-620babd1b8dd",
   "metadata": {},
   "outputs": [],
   "source": [
    "from newspaper import Article"
   ]
  },
  {
   "cell_type": "code",
   "execution_count": 11,
   "id": "d386bb3a-ddec-448f-915b-a1f482cd00f8",
   "metadata": {},
   "outputs": [],
   "source": [
    "from nltk import sent_tokenize"
   ]
  },
  {
   "cell_type": "code",
   "execution_count": 25,
   "id": "3e1b9d09-4767-4a47-aa2d-6977aae1db97",
   "metadata": {},
   "outputs": [
    {
     "name": "stdout",
     "output_type": "stream",
     "text": [
      "Řada zaměstnanců se pro získání několika volných dní v celku snaží využít i státní svátky, které kombinuje s krátkou několikadenní dovolenou. Například začátek července, kde se sejdou dva státní svátky za sebou, dává k takovému řešení velkou příležitost. Červencové \"supervolno\" vylidní až polovinu firem, úřadů a institucí v Čechách i na Moravě, potvrzuje exkluzivní reprezentativní průzkum společnosti Wincott People.\n",
      "Bezmála 50 procent zaměstnanců totiž Den slovanských věrozvěstů Cyrila a Metoděje (5. 7.) a Den upálení mistra Jana Husa (6. 7.) spojuje s oblibou s dalším jedním či více dny řádné dovolené.\n",
      "Češi si plánují na tyto červencové svátky především rodinné výlety (30 procent dotázaných), spojí je s řádnou letní dovolenou (16 procent), případně volno využijí pro vylepšení bydlení, pro práci doma, na chatě, chalupě nebo na zahrádce (20 procent).Letní odstávky provozu spojené se závodní dovolenou jsou typické hlavně pro automobilový průmysl.Adrian Suchánek, agentura Wincott People Se třinácti civilními a náboženskými svátky se Česká republika v EU řadí k průměru. Více svátků mají například Německo a Slovensko (16 volných dní), naopak nejméně slaví Nizozemci (9 svátků). Za námi jsou překvapivě i silně katoličtí Poláci s pouhými deseti převážně církevními svátky.\n",
      "Ministerstvo financí spočítalo, že jeden státní svátek ekonomiku připraví až o 0,4 procenta ročního hrubého domácího produktu. Červencové \"supervolno\" by tak odhadem mohlo českou ekonomiku při polovičním výkonu firem přijít až na 18,5 miliardy korun. Ekonomové s tím ale tak docela nesouhlasí.\n",
      "Sice se méně pracuje, ale zpravidla se na druhé straně více spotřebovává – lidé cestují, utrácejí více za služby ubytování nebo pohostinství, nakupují. Řada majitelů chat a rekreačních objektů využije volné dny k přestavbě či vylepšení svých nemovitostí, což je spojeno i s investicemi do stavebního materiálu.\n",
      "Při plánování dovolené se musí přes 49 procent zaměstnanců přizpůsobit potřebám svých zaměstnavatelů.\n",
      "Část dovolené tak mohou Češi čerpat buď po dohodě, nebo přímo v termínu určeném zaměstnavatelem. Ve větší míře se to týká mužů než žen a spíše obyvatel větších měst. Průzkum Wincott People také dokazuje, že téměř 25 procent pracovníků má problém si v práci vzít souvislé dva týdny dovolené, ačkoli toto právo zakotvuje zákoník práce.Kde nejsou potřeba kvalifikované síly, je možné pracovníky na dovolené nahradit brigádníky, což některé podniky dělají právě v létě.Adrian Suchánek Více než pětině pracovníků určuje zaměstnavatel takzvané celozávodní volno. V 15 procentech případů v pravidelných termínech.\n",
      "\"Letní odstávky provozu spojené se závodní dovolenou jsou typické hlavně pro automobilový průmysl. Ty letošní se překryjí s červencovými svátky a připadnou na 4. až 17. července,\" upozornil Adrian Suchánek, personální ředitel agentury Wincott People.\n",
      "\"U strojírenských podniků pak záleží, zda má klient zakázky, na kterých se musí pracovat. V tom případě se se zaměstnanci snažíme buď dohodnout na dovolené v jiném termínu, nebo zakázku částečně pokrýváme přesčasy, kdy kupříkladu dva lidé mají dovolenou, další přesčasy a pak se to vymění. Kde nejsou potřeba kvalifikované síly, je možné pracovníky na dovolené nahradit brigádníky, což některé podniky dělají právě v létě,\" dodal Suchánek.\n"
     ]
    }
   ],
   "source": [
    "print(\"Řada zaměstnanců se pro získání několika volných dní v celku snaží využít i státní svátky, které kombinuje s krátkou několikadenní dovolenou. Například začátek července, kde se sejdou dva státní svátky za sebou, dává k takovému řešení velkou příležitost. Červencové \\\"supervolno\\\" vylidní až polovinu firem, úřadů a institucí v Čechách i na Moravě, potvrzuje exkluzivní reprezentativní průzkum společnosti Wincott People.\\nBezmála 50 procent zaměstnanců totiž Den slovanských věrozvěstů Cyrila a Metoděje (5. 7.) a Den upálení mistra Jana Husa (6. 7.) spojuje s oblibou s dalším jedním či více dny řádné dovolené.\\nČeši si plánují na tyto červencové svátky především rodinné výlety (30 procent dotázaných), spojí je s řádnou letní dovolenou (16 procent), případně volno využijí pro vylepšení bydlení, pro práci doma, na chatě, chalupě nebo na zahrádce (20 procent).Letní odstávky provozu spojené se závodní dovolenou jsou typické hlavně pro automobilový průmysl.Adrian Suchánek, agentura Wincott People Se třinácti civilními a náboženskými svátky se Česká republika v EU řadí k průměru. Více svátků mají například Německo a Slovensko (16 volných dní), naopak nejméně slaví Nizozemci (9 svátků). Za námi jsou překvapivě i silně katoličtí Poláci s pouhými deseti převážně církevními svátky.\\nMinisterstvo financí spočítalo, že jeden státní svátek ekonomiku připraví až o 0,4 procenta ročního hrubého domácího produktu. Červencové \\\"supervolno\\\" by tak odhadem mohlo českou ekonomiku při polovičním výkonu firem přijít až na 18,5 miliardy korun. Ekonomové s tím ale tak docela nesouhlasí.\\nSice se méně pracuje, ale zpravidla se na druhé straně více spotřebovává – lidé cestují, utrácejí více za služby ubytování nebo pohostinství, nakupují. Řada majitelů chat a rekreačních objektů využije volné dny k přestavbě či vylepšení svých nemovitostí, což je spojeno i s investicemi do stavebního materiálu.\\nPři plánování dovolené se musí přes 49 procent zaměstnanců přizpůsobit potřebám svých zaměstnavatelů.\\nČást dovolené tak mohou Češi čerpat buď po dohodě, nebo přímo v termínu určeném zaměstnavatelem. Ve větší míře se to týká mužů než žen a spíše obyvatel větších měst. Průzkum Wincott People také dokazuje, že téměř 25 procent pracovníků má problém si v práci vzít souvislé dva týdny dovolené, ačkoli toto právo zakotvuje zákoník práce.Kde nejsou potřeba kvalifikované síly, je možné pracovníky na dovolené nahradit brigádníky, což některé podniky dělají právě v létě.Adrian Suchánek Více než pětině pracovníků určuje zaměstnavatel takzvané celozávodní volno. V 15 procentech případů v pravidelných termínech.\\n\\\"Letní odstávky provozu spojené se závodní dovolenou jsou typické hlavně pro automobilový průmysl. Ty letošní se překryjí s červencovými svátky a připadnou na 4. až 17. července,\\\" upozornil Adrian Suchánek, personální ředitel agentury Wincott People.\\n\\\"U strojírenských podniků pak záleží, zda má klient zakázky, na kterých se musí pracovat. V tom případě se se zaměstnanci snažíme buď dohodnout na dovolené v jiném termínu, nebo zakázku částečně pokrýváme přesčasy, kdy kupříkladu dva lidé mají dovolenou, další přesčasy a pak se to vymění. Kde nejsou potřeba kvalifikované síly, je možné pracovníky na dovolené nahradit brigádníky, což některé podniky dělají právě v létě,\\\" dodal Suchánek.\")"
   ]
  },
  {
   "cell_type": "code",
   "execution_count": 26,
   "id": "a7a5b1c4-96d4-45bf-966e-36057e1c6ce2",
   "metadata": {},
   "outputs": [],
   "source": [
    "with open('text.txt','r') as f:\n",
    "    text = f.read()\n"
   ]
  },
  {
   "cell_type": "code",
   "execution_count": 96,
   "id": "36dd2df9-8bfc-49f7-abdc-07609da25e83",
   "metadata": {},
   "outputs": [
    {
     "name": "stdout",
     "output_type": "stream",
     "text": [
      "bias level:  22.463768115942027 %\n"
     ]
    }
   ],
   "source": [
    "article = Article('https://a2larm.cz/2022/03/clenky-feministickeho-protivalecneho-odporu-putinovo-rusko-je-zakleta-ziva-mrtvola/')\n",
    "article.download()\n",
    "article.parse()\n",
    "sentences = sent_tokenize(article.text)\n",
    "annotations = np.array(list(zip(sentences,list(map(classify_sentence,sentences)))))\n",
    "certainity = np.array(list(zip(sentences,list(map(classify_sentence_certainty,sentences)))))\n",
    "\n",
    "stats = np.unique(annotations[:,1],return_counts=True)\n",
    "print(\"bias level: \",stats[1][0]/stats[1].sum()*100,\"%\")"
   ]
  },
  {
   "cell_type": "code",
   "execution_count": 98,
   "id": "4fd2551e-f73d-4e06-aa01-baa6d211f6c2",
   "metadata": {
    "tags": []
   },
   "outputs": [
    {
     "name": "stdout",
     "output_type": "stream",
     "text": [
      "[['Feministický protiválečný odpor (Feminističeskoje antivojennoje soprotivlenije, FAS) působí v Rusku a dalších zemích od začátku rusko-ukrajinské války.'\n",
      "  tensor([[0.9662, 0.0338]], device='cuda:0')]\n",
      " ['Cílem tohoto aktivistického hnutí je podle jeho představitelek a představitelů „prolomit informační blokádu“ a šířit informace o válce na Ukrajině.'\n",
      "  tensor([[0.8613, 0.1387]], device='cuda:0')]\n",
      " ['Redakce Meduzy hovořila se dvěma členkami FAS: Darjou Serenkovou, spisovatelkou a aktivistkou z Moskvy, a její kolegyní Táňou (jméno bylo na její žádost změněno), které v prvních dnech války na svém telegramovém kanálu shromáždily více než 24 tisíc lidí.'\n",
      "  tensor([[0.9589, 0.0411]], device='cuda:0')]\n",
      " ['Jak jste se organizovaly?' tensor([[0.9874, 0.0126]], device='cuda:0')]\n",
      " ['Inspirovaly jste se jinými podobnými hnutími?'\n",
      "  tensor([[0.8588, 0.1412]], device='cuda:0')]\n",
      " ['Darja: Zorganizovat se bylo snadné.'\n",
      "  tensor([[0.7742, 0.2258]], device='cuda:0')]\n",
      " ['Jsme feministky a queer aktivistky, takže jsme spolu neustále v kontaktu.'\n",
      "  tensor([[0.9356, 0.0644]], device='cuda:0')]\n",
      " ['Jako protiválečné hnutí jsme se začaly formovat již první den války.'\n",
      "  tensor([[0.8941, 0.1059]], device='cuda:0')]\n",
      " ['Mnoho feministických hnutí a hnutí za lidská práva po celém světě, včetně hnutí sufražetek na konci 19. století, bylo spojeno s antimilitarismem a antiimperialismem.'\n",
      "  tensor([[0.9235, 0.0765]], device='cuda:0')]\n",
      " ['Boj proti otroctví, boj proti válce a boj za lidská práva se vždy prolínaly.'\n",
      "  tensor([[0.9575, 0.0425]], device='cuda:0')]\n",
      " ['Ukázkovým příkladem je americké hnutí v šedesátých letech proti válce ve Vietnamu.'\n",
      "  tensor([[0.6571, 0.3429]], device='cuda:0')]\n",
      " ['To bylo mimochodem velmi konsolidované – podíleli se na něm jak intelektuálové, tak dělníci.'\n",
      "  tensor([[0.7156, 0.2844]], device='cuda:0')]\n",
      " ['Táňa: Asi deset aktivistů z různých měst se prostě sešlo na chatu.'\n",
      "  tensor([[0.8560, 0.1440]], device='cuda:0')]\n",
      " ['Velké feministické organizace existují nejen v Moskvě a Petrohradě, ale také v regionech: Jekatěrinburgu, Kaliningradu, Nižním Novgorodě, Murmansku… V Rusku existuje asi čtyřicet feministických buněk, a to jsou jen ty, o kterých víme.'\n",
      "  tensor([[0.7439, 0.2561]], device='cuda:0')]\n",
      " ['Všechny tyto organizace jsou vzájemně propojeny a často spolupracují, například pořádají akce v různých městech.'\n",
      "  tensor([[0.9799, 0.0201]], device='cuda:0')]\n",
      " ['Darja: Ve skutečnosti byla infrastruktura pro vytvoření FAS už hotová.'\n",
      "  tensor([[0.9181, 0.0819]], device='cuda:0')]\n",
      " ['Byly jsme si dobře vědomy toho, že otázka genderově podmíněného násilí, což, jak víme, ve válce představuje velký problém, nebude ve zpravodajství o válce na Ukrajině zohledněna.'\n",
      "  tensor([[0.9266, 0.0734]], device='cuda:0')]\n",
      " ['A my ji bereme v úvahu.' tensor([[0.9383, 0.0617]], device='cuda:0')]\n",
      " ['Jak hodnotíte rozsah genderově podmíněného násilí ve válce?'\n",
      "  tensor([[0.8017, 0.1983]], device='cuda:0')]\n",
      " ['Darja: Na to potřebujeme sociology.'\n",
      "  tensor([[0.9352, 0.0648]], device='cuda:0')]\n",
      " ['V současné době slyšíme hlasy jednotlivých genderových výzkumnic z Ukrajiny.'\n",
      "  tensor([[0.5406, 0.4594]], device='cuda:0')]\n",
      " ['Například v Charkově je Centrum pro genderový výzkum, které v roce 2001 vydalo učebnici Úvod do genderových studií, podle níž mnoho lidí v Rusku studuje teoretické aspekty feminismu.'\n",
      "  tensor([[0.9525, 0.0475]], device='cuda:0')]\n",
      " ['Jednou z autorek je Irina Žerebkinová.'\n",
      "  tensor([[0.9856, 0.0144]], device='cuda:0')]\n",
      " ['V současné době žije v Charkově se svým manželem a kočkami.'\n",
      "  tensor([[0.9876, 0.0124]], device='cuda:0')]\n",
      " ['Vede si veřejný deník, do něhož každý den zapisuje, jak a co ve válečných podmínkách vaří a jak přežili den – je to o drobných domácích věcech, které jsou ve skutečnosti velmi důležité.'\n",
      "  tensor([[0.9596, 0.0404]], device='cuda:0')]\n",
      " ['Zdá se mi, že právě u těchto lidí by bylo třeba hledat odpověď na otázku po metodologii.'\n",
      "  tensor([[0.4246, 0.5754]], device='cuda:0')]\n",
      " ['Mají k dispozici vědecké nástroje.'\n",
      "  tensor([[0.9960, 0.0040]], device='cuda:0')]\n",
      " ['Naše aktivistická optika je – stejně jako každá jiná optika – omezená.'\n",
      "  tensor([[0.0338, 0.9662]], device='cuda:0')]\n",
      " ['Pracujeme však přímo s důkazy, s konkrétními případy genderově podmíněného násilí.'\n",
      "  tensor([[0.8984, 0.1016]], device='cuda:0')]\n",
      " ['S jistotou víme, že existuje problém s ukrajinskými uprchlicemi, které se v evropských zemích stávají oběťmi obchodování s lidmi.'\n",
      "  tensor([[0.6562, 0.3438]], device='cuda:0')]\n",
      " ['Bylo potvrzeno znásilňování ukrajinských žen ruskými vojáky.'\n",
      "  tensor([[0.9163, 0.0837]], device='cuda:0')]\n",
      " ['Například v Charkově bylo znásilněno jedenáct žen a pouze čtyři z nich přežily.'\n",
      "  tensor([[0.7798, 0.2202]], device='cuda:0')]\n",
      " ['Tyto informace je samozřejmě třeba ověřit, ale na ukrajinských sociálních sítích a v médiích takové údaje kolují.'\n",
      "  tensor([[0.8754, 0.1246]], device='cuda:0')]\n",
      " ['Putin denacifikuje Ukrajinu a zároveň ho v Rusku podporují neonacisté.'\n",
      "  tensor([[0.0384, 0.9616]], device='cuda:0')]\n",
      " ['Některé aktivistky už byly nuceny emigrovat.'\n",
      "  tensor([[0.8899, 0.1101]], device='cuda:0')]\n",
      " ['Na našem novém telegramovém kanálu Feministického protiválečného odporu máme rubriku „Hlasy Ukrajiny“, kam pro nás píší známé aktivistky z různých ukrajinských měst o svých zkušenostech z války.'\n",
      "  tensor([[0.5622, 0.4378]], device='cuda:0')]\n",
      " ['Některé ukrajinské feministky tvrdí, že po skončení války dojde k nárůstu domácího násilí, protože muži se vracejí z války s psychickými traumaty, která si vybíjejí na ostatních.'\n",
      "  tensor([[0.4082, 0.5918]], device='cuda:0')]\n",
      " ['Jedná se o velký problém militarismu, jímž trpí ženy, queer lidi a děti, tedy ty nejzranitelnější skupiny.'\n",
      "  tensor([[0.2864, 0.7136]], device='cuda:0')]\n",
      " ['Táňa: V Rusku bude stejná situace, až se vojáci vrátí z války.'\n",
      "  tensor([[0.9535, 0.0465]], device='cuda:0')]\n",
      " ['Rusko se nyní propadá do chudoby, bude narůstat násilí, nezaměstnanost, více žen a queer lidí bude nuceno k sexuální práci, protože nebudou mít šanci najít jiný zdroj příjmů.'\n",
      "  tensor([[0.7851, 0.2149]], device='cuda:0')]\n",
      " ['Darja: Každá válka je pro oblast lidských práv katastrofou.'\n",
      "  tensor([[0.5236, 0.4764]], device='cuda:0')]\n",
      " ['Ničí všechny dosavadní úspěchy nevládních organizací, filantropie, feministických a queer komunit.'\n",
      "  tensor([[0.1031, 0.8969]], device='cuda:0')]\n",
      " ['Nezáleží na tom, zda jste ve vítězné nebo poražené zemi.'\n",
      "  tensor([[0.9009, 0.0991]], device='cuda:0')]\n",
      " ['V popkultuře panuje představa, že válka osvobozuje…\\n\\nDarja: Ano, existuje populární narativ o ženách se zbraněmi v rukou, o ženských praporech.'\n",
      "  tensor([[0.7398, 0.2602]], device='cuda:0')]\n",
      " ['Podívejme se však, jak genderoví výzkumníci hodnotí například výsledky druhé světové války pro ženy v Sovětském svazu.'\n",
      "  tensor([[0.9250, 0.0750]], device='cuda:0')]\n",
      " ['Ella Rossmanová ve své studii Znepokojivý sovětský gender, publikované ve sborníku Feministický samizdat čtyřicet let poté, píše, že během válečných let ženy na domácí frontě vykonávaly mužskou práci, ale po válce byly rychle vráceny „na patřičné místo“, což mnohé z nich dost bolestně prožívaly.'\n",
      "  tensor([[0.9065, 0.0935]], device='cuda:0')]\n",
      " ['A teprve po válce, o patnáct až dvacet let později, se objevil seznam povolání zakázaných pro ženy, ačkoli během války tyto práce ženy vykonávaly.'\n",
      "  tensor([[0.8794, 0.1206]], device='cuda:0')]\n",
      " ['Válka je extrémní situace a emancipační výdobytky se po jejím skončení často takřka beze stopy vytratí.'\n",
      "  tensor([[0.3318, 0.6682]], device='cuda:0')]\n",
      " ['Toho aktivně využívá jak poválečná společnost, tak stát.'\n",
      "  tensor([[0.9315, 0.0685]], device='cuda:0')]\n",
      " ['Vracejí se pak ke svému velkému konzervativnímu narativu „máme velké ztráty, musíme mít více dětí“.'\n",
      "  tensor([[0.0226, 0.9774]], device='cuda:0')]\n",
      " ['Táňa: V Sovětském svazu v padesátých letech bylo ženám jednoduše řečeno, aby se vrátily od „mužských“ záležitostí k těm „ženským“.'\n",
      "  tensor([[0.4074, 0.5926]], device='cuda:0')]\n",
      " ['A například v USA proběhla celá reklamní kampaň, podporující tento návrat k patriarchálnímu modelu společnosti.'\n",
      "  tensor([[0.7017, 0.2983]], device='cuda:0')]\n",
      " ['Její podstatou bylo ukázat, jak cool je být ženou v domácnosti.'\n",
      "  tensor([[0.7961, 0.2039]], device='cuda:0')]\n",
      " ['Jakou podobu má vaše hnutí nyní?'\n",
      "  tensor([[0.9467, 0.0533]], device='cuda:0')]\n",
      " ['Darja: Jedná se o decentralizovanou horizontální síť, kde jsou všechny buňky v každém městě autonomní.'\n",
      "  tensor([[0.9697, 0.0303]], device='cuda:0')]\n",
      " ['Chcete-li si založit buňku FAS, stačí, když se nazvete FAS a budete sdílet ideové body našeho manifestu.'\n",
      "  tensor([[0.7647, 0.2353]], device='cuda:0')]\n",
      " ['Vítána jsou i případná upřesnění tezí.'\n",
      "  tensor([[0.4811, 0.5189]], device='cuda:0')]\n",
      " ['Neexistuje žádný pevný postup, vše je velmi volné.'\n",
      "  tensor([[0.8514, 0.1486]], device='cuda:0')]\n",
      " ['Nová buňka pak může jednat samostatně, záměrně nevytváříme organizaci v obvyklém smyslu, protože to není bezpečné.'\n",
      "  tensor([[0.9147, 0.0853]], device='cuda:0')]\n",
      " ['Nechceme, aby existovala „hlava“ a „tělo“ organizace: pokud se hlava odřízne, zemře i tělo.'\n",
      "  tensor([[0.3621, 0.6379]], device='cuda:0')]\n",
      " ['Dokonce existují buňky, o kterých se dozvídáme náhodně, například z reportáží zahraničních novinářů, když na fotografiích vidíme naše symboly.'\n",
      "  tensor([[0.5854, 0.4146]], device='cuda:0')]\n",
      " ['V jiných zemích, například v Turecku, Gruzii a Itálii, pořádají vlastní akce a to je super.'\n",
      "  tensor([[0.8084, 0.1916]], device='cuda:0')]\n",
      " ['Máme komunikační kanál, anonymního bota, jehož prostřednictvím můžete navrhnout formát akce nebo něco zveřejnit, ať už je to textový příspěvek pro telegramový kanál nebo leták, nemusíte ani uvádět své jméno.'\n",
      "  tensor([[0.9188, 0.0812]], device='cuda:0')]\n",
      " ['Chceme prolomit informační blokádu.'\n",
      "  tensor([[0.8351, 0.1649]], device='cuda:0')]\n",
      " ['Stát má na své straně obrovské peníze a represivní mechanismy, my máme aktivisty, nadšení a touhu pracovat zdola.'\n",
      "  tensor([[0.7719, 0.2281]], device='cuda:0')]\n",
      " ['Nejvíce se zaměřujeme na agitaci.'\n",
      "  tensor([[0.8448, 0.1552]], device='cuda:0')]\n",
      " ['Říkáme: staňte se agitátory proti válce.'\n",
      "  tensor([[0.4600, 0.5400]], device='cuda:0')]\n",
      " ['Zaměřujeme se také na interakci s konzervativnějšími sociálními sítěmi: napodobujeme jejich jazyk, snažíme se mluvit se starším publikem, žádáme všechny, aby se hromadně registrovali na Spolužácích a šířili tam naše protiválečné texty.'\n",
      "  tensor([[0.4976, 0.5024]], device='cuda:0')]\n",
      " ['Dokonce jsme napsali text modlitby pro věřící křesťany.'\n",
      "  tensor([[0.9691, 0.0309]], device='cuda:0')]\n",
      " ['Vytváříme i letáky.' tensor([[0.9426, 0.0574]], device='cuda:0')]\n",
      " ['Některé z nich mohou být šokující.'\n",
      "  tensor([[0.9455, 0.0545]], device='cuda:0')]\n",
      " ['Vytvořila jsem například leták v podobě parte, která teď dostávají matky po celém Rusku.'\n",
      "  tensor([[0.9676, 0.0324]], device='cuda:0')]\n",
      " ['Máme také letáky „Chybí muž“ o skutečných vojácích, kteří se nevrátili z války.'\n",
      "  tensor([[0.8886, 0.1114]], device='cuda:0')]\n",
      " ['Brzy budeme vydávat letáky, které napodobují provládní agitace typu „Za Putina, za mír!“.'\n",
      "  tensor([[0.0335, 0.9665]], device='cuda:0')]\n",
      " ['Na nich Putinovi poděkujeme například za to, že se naše děti už nemusí učit anglicky, protože stejně nikam nepojedou.'\n",
      "  tensor([[0.3942, 0.6058]], device='cuda:0')]\n",
      " ['Děláme také pouliční akce, především tiché protesty.'\n",
      "  tensor([[0.9874, 0.0126]], device='cuda:0')]\n",
      " ['Za ně bylo zatčeno třináct osob.'\n",
      "  tensor([[0.9964, 0.0036]], device='cuda:0')]\n",
      " ['Naše květinová akce 8. března se konala ve více než 120 městech.'\n",
      "  tensor([[0.9870, 0.0130]], device='cuda:0')]\n",
      " ['Ještě před válkou jsme se na oslavy připravovaly, abychom upozornily na genderové otázky.'\n",
      "  tensor([[0.9268, 0.0732]], device='cuda:0')]\n",
      " ['Pak ale začala válka a my jsme si uvědomily, že 8. březen už nelze slavit starým způsobem.'\n",
      "  tensor([[0.7155, 0.2845]], device='cuda:0')]\n",
      " ['Putin po celá léta využíval válečný narativ.'\n",
      "  tensor([[0.1061, 0.8939]], device='cuda:0')]\n",
      " ['Svou represivní ideologii postavil na velkém vítězství, vítězném národě, ruském lidu.'\n",
      "  tensor([[0.3772, 0.6228]], device='cuda:0')]\n",
      " ['Po vypuknutí války se ukázalo, že veškerá oficiální rétorika směřovala k válce.'\n",
      "  tensor([[0.3755, 0.6245]], device='cuda:0')]\n",
      " ['Nyní získala fyzický rozměr a dokonce i symboly.'\n",
      "  tensor([[0.9194, 0.0806]], device='cuda:0')]\n",
      " ['A na místo „nikdy více“ přišlo „můžeme to udělat znovu“.'\n",
      "  tensor([[0.9657, 0.0343]], device='cuda:0')]\n",
      " ['Uvědomily jsme si, že musíme získat narativ velké války pro sebe, pokusit se ho získat zpět, a vyzvaly jsme všechny aktivistky, feministky, ženy i queer lidi, aby přišli k památníkům, položili květiny a spontánně uctili minutou ticha památku mrtvých civilistů na Ukrajině.'\n",
      "  tensor([[0.9777, 0.0223]], device='cuda:0')]\n",
      " ['K našemu překvapení se tato akce 8. března uskutečnila v mnoha městech a zemích, a dokonce i u pomníků na okrajích měst byly květiny.'\n",
      "  tensor([[0.0472, 0.9528]], device='cuda:0')]\n",
      " ['Táňa: Na antimilitaristickou akci Ženy v černém, jejímž smyslem bylo projevit soustrast s lidmi, kteří zahynuli ve válce, přišly obyvatelky Petrohradu, Jekatěrinburgu, Tbilisi a mnoha dalších měst.'\n",
      "  tensor([[0.9858, 0.0142]], device='cuda:0')]\n",
      " ['Dívky byly zadrženy policií kvůli „truchlivému“ vzhledu.'\n",
      "  tensor([[0.9578, 0.0422]], device='cuda:0')]\n",
      " ['Anna Loginová, feministka z Jekatěrinburgu, dostala devět dní.'\n",
      "  tensor([[0.9701, 0.0299]], device='cuda:0')]\n",
      " ['Akci Ženy v černém poprvé zorganizovaly izraelské feministky v roce 1988 v reakci na porušování lidských práv izraelskými vojáky na okupovaných územích.'\n",
      "  tensor([[0.9232, 0.0768]], device='cuda:0')]\n",
      " ['Akce je celosvětová, otevřená a také horizontální, tj.'\n",
      "  tensor([[0.9182, 0.0818]], device='cuda:0')]\n",
      " ['bez vůdce.' tensor([[0.0027, 0.9973]], device='cuda:0')]\n",
      " ['S překvapením jsme zjistily, že náš manifest byl přeložen do více než dvaceti jazyků.'\n",
      "  tensor([[0.2993, 0.7007]], device='cuda:0')]\n",
      " ['K akcím se připojilo Portugalsko, Francie, Německo, Indie, Korea.'\n",
      "  tensor([[0.9936, 0.0064]], device='cuda:0')]\n",
      " ['Kontaktujeme existující feministické a antimilitaristické organizace po celém světě.'\n",
      "  tensor([[0.7061, 0.2939]], device='cuda:0')]\n",
      " ['Na základě našeho manifestu se píší další manifesty… Překládáme své texty nejen do cizích jazyků, ale také do jazyků dalších národů Ruské federace.'\n",
      "  tensor([[0.9221, 0.0779]], device='cuda:0')]\n",
      " ['Aktivistky v Jakutsku, Udmurtsku a Čuvašsku jsou s námi.'\n",
      "  tensor([[0.8401, 0.1599]], device='cuda:0')]\n",
      " ['Podporují hnutí ve svých jazycích a zahrnují do svých akcí protiimperiální program.'\n",
      "  tensor([[0.8848, 0.1152]], device='cuda:0')]\n",
      " ['Táňa: Protiválečné hnutí samozřejmě nemůže teď válku zastavit.'\n",
      "  tensor([[0.8640, 0.1360]], device='cuda:0')]\n",
      " ['Musí však působit dlouhodobě.'\n",
      "  tensor([[0.9092, 0.0908]], device='cuda:0')]\n",
      " ['Je velká škoda, že se nezačalo dříve.'\n",
      "  tensor([[0.0117, 0.9883]], device='cuda:0')]\n",
      " ['Možná, že kdyby FAS vznikl v roce 2014 během událostí na Krymu, reakce lidí na válku by nyní nebyla tak neurčitá.'\n",
      "  tensor([[0.9314, 0.0686]], device='cuda:0')]\n",
      " ['Zdá se mi, že k rozkolu, který nenastal po Krymu, dochází nyní.'\n",
      "  tensor([[0.3274, 0.6726]], device='cuda:0')]\n",
      " ['Tehdy jste mohli předstírat, že je všechno v pořádku, nebo říct: „Já se v tom nevyznám.“ I pro mnoho pravicových intelektuálů se válka stala bodem zlomu.'\n",
      "  tensor([[0.0484, 0.9516]], device='cuda:0')]\n",
      " ['A přesně o to jde v kauze Mariny Ovsjannikovové.'\n",
      "  tensor([[0.9527, 0.0473]], device='cuda:0')]\n",
      " ['Je důležité, aby se Ovsjannikovové dostalo co největší podpory veřejnosti.'\n",
      "  tensor([[0.9789, 0.0211]], device='cuda:0')]\n",
      " ['Je to důležité pro všechny lidi, kteří váhají a přemýšlejí, zda mají udělat nějaké gesto.'\n",
      "  tensor([[0.9813, 0.0187]], device='cuda:0')]\n",
      " ['Darja: Myslím, že je důležité oslovit mocné, kteří v sobě mají ještě trochu lidskosti.'\n",
      "  tensor([[0.5969, 0.4031]], device='cuda:0')]\n",
      " ['To se týká i žen v ozbrojených složkách.'\n",
      "  tensor([[0.9811, 0.0189]], device='cuda:0')]\n",
      " ['Které jsou často kruté…\\n\\nDarja: Ano.'\n",
      "  tensor([[0.5212, 0.4788]], device='cuda:0')]\n",
      " ['Když jsem byla zatčena, policistky byly vůči mně krutější než muži… Ale vraťme se k tématu.'\n",
      "  tensor([[0.1653, 0.8347]], device='cuda:0')]\n",
      " ['Účastníci a účastnice akcí FAS jsou vystaveni velkému tlaku ze strany státní moci.'\n",
      "  tensor([[0.4802, 0.5198]], device='cuda:0')]\n",
      " ['Před válkou jako by feministické aktivistky stát nebral vážně.'\n",
      "  tensor([[0.0039, 0.9961]], device='cuda:0')]\n",
      " ['Teď ale riziko dramaticky narostlo a máme velmi mnoho zadržených, asi stovku.'\n",
      "  tensor([[0.8147, 0.1853]], device='cuda:0')]\n",
      " ['Některé z dívek, které skončily na moskevské policejní stanici Bratějevo po protestech 6. března, jsou naše aktivistky.'\n",
      "  tensor([[0.9604, 0.0396]], device='cuda:0')]\n",
      " ['Bylo jich tam 24 a většina z nich byla vystavena mučení.'\n",
      "  tensor([[0.9769, 0.0231]], device='cuda:0')]\n",
      " ['Noc, kdy jsme přepisovaly zvukové záznamy dokumentující mučení, byla jednou z nejhorších nocí našeho života.'\n",
      "  tensor([[0.9348, 0.0652]], device='cuda:0')]\n",
      " ['Stejně jako v době míru jsme čelily útokům ultranacionalistů – lídra Mužského státu Vladislava Pozdňakova a jeho lidí.'\n",
      "  tensor([[0.5771, 0.4229]], device='cuda:0')]\n",
      " ['Aktivistkám na dveře namalovali písmena Z a výzvy k násilí, zveřejnili naše adresy, jména a tváře.'\n",
      "  tensor([[0.8776, 0.1224]], device='cuda:0')]\n",
      " ['Několik aktivistek bylo napadeno, když se vracely z protestů.'\n",
      "  tensor([[0.9074, 0.0926]], device='cuda:0')]\n",
      " ['I to je paradoxní: Putin denacifikuje Ukrajinu a zároveň ho v Rusku podporují neonacisté.'\n",
      "  tensor([[0.0060, 0.9940]], device='cuda:0')]\n",
      " ['Některé aktivistky už byly nuceny emigrovat.'\n",
      "  tensor([[0.8899, 0.1101]], device='cuda:0')]\n",
      " ['Jsou v řadách FAS i muži?' tensor([[0.8672, 0.1328]], device='cuda:0')]\n",
      " ['Táňa: Muži se k FAS mohou připojit.'\n",
      "  tensor([[0.9285, 0.0715]], device='cuda:0')]\n",
      " ['Nuance jsou stejné jako u feministického hnutí.'\n",
      "  tensor([[0.0568, 0.9432]], device='cuda:0')]\n",
      " ['Muži se mohou účastnit shromáždění, rozdávat letáky.'\n",
      "  tensor([[0.9907, 0.0093]], device='cuda:0')]\n",
      " ['Jediným požadavkem je, aby nešířili své názory na to, jak má feministický aktivismus vypadat.'\n",
      "  tensor([[0.8886, 0.1114]], device='cuda:0')]\n",
      " ['Žádáme muže, aby byli našimi spojenci, a nikoli přizvanými odborníky.'\n",
      "  tensor([[0.2112, 0.7888]], device='cuda:0')]\n",
      " ['Jak vám mohou pomoci Rusové, kteří opustili Rusko?'\n",
      "  tensor([[0.8097, 0.1903]], device='cuda:0')]\n",
      " ['Darja: Rusové, kteří emigrovali, mají tu výsadu, že jsou v bezpečí a mohou sdílet informace.'\n",
      "  tensor([[0.9655, 0.0345]], device='cuda:0')]\n",
      " ['Rusové v jiných zemích by měli chodit na protiválečné akce a měli by je pořádat.'\n",
      "  tensor([[0.8671, 0.1329]], device='cuda:0')]\n",
      " ['Jejich hlas musí být ve světě slyšet.'\n",
      "  tensor([[0.6965, 0.3035]], device='cuda:0')]\n",
      " ['Ne proto, aby se ostatní Rusové zbavili viny a očistili své svědomí, ale proto, aby se po celém světě vytvářely ruské protiválečné sítě se silným hlasem.'\n",
      "  tensor([[0.8857, 0.1143]], device='cuda:0')]\n",
      " ['Musíme se navzájem vidět, uvědomit si, že jsme lidé, kteří budou Rusko jednou znovu budovat – s jinou ideologií, s jiným poselstvím.'\n",
      "  tensor([[0.9424, 0.0576]], device='cuda:0')]\n",
      " ['Putinovo Rusko je zakletá živá mrtvola, která vláčí miliony nevinných lidí na onen svět.'\n",
      "  tensor([[0.0013, 0.9987]], device='cuda:0')]\n",
      " ['Z ruského originálu Путинская Россия – живой заколдованный труп.'\n",
      "  tensor([[0.9916, 0.0084]], device='cuda:0')]\n",
      " ['Одной из самых заметных антивоенных организаций в России стало Феминистское сопротивление, publikovaného na serveru Meduza, přeložila Jitka Komendová.'\n",
      "  tensor([[0.9921, 0.0079]], device='cuda:0')]]\n"
     ]
    }
   ],
   "source": [
    "print(certainity)"
   ]
  },
  {
   "cell_type": "code",
   "execution_count": 97,
   "id": "8c094642-54eb-4e27-b531-c19c39a2635b",
   "metadata": {},
   "outputs": [
    {
     "data": {
      "text/plain": [
       "[array(['Zdá se mi, že právě u těchto lidí by bylo třeba hledat odpověď na otázku po metodologii.',\n",
       "        'biased'], dtype='<U296'),\n",
       " array(['Naše aktivistická optika je – stejně jako každá jiná optika – omezená.',\n",
       "        'biased'], dtype='<U296'),\n",
       " array(['Putin denacifikuje Ukrajinu a zároveň ho v Rusku podporují neonacisté.',\n",
       "        'biased'], dtype='<U296'),\n",
       " array(['Některé ukrajinské feministky tvrdí, že po skončení války dojde k nárůstu domácího násilí, protože muži se vracejí z války s psychickými traumaty, která si vybíjejí na ostatních.',\n",
       "        'biased'], dtype='<U296'),\n",
       " array(['Jedná se o velký problém militarismu, jímž trpí ženy, queer lidi a děti, tedy ty nejzranitelnější skupiny.',\n",
       "        'biased'], dtype='<U296'),\n",
       " array(['Ničí všechny dosavadní úspěchy nevládních organizací, filantropie, feministických a queer komunit.',\n",
       "        'biased'], dtype='<U296'),\n",
       " array(['Válka je extrémní situace a emancipační výdobytky se po jejím skončení často takřka beze stopy vytratí.',\n",
       "        'biased'], dtype='<U296'),\n",
       " array(['Vracejí se pak ke svému velkému konzervativnímu narativu „máme velké ztráty, musíme mít více dětí“.',\n",
       "        'biased'], dtype='<U296'),\n",
       " array(['Táňa: V Sovětském svazu v padesátých letech bylo ženám jednoduše řečeno, aby se vrátily od „mužských“ záležitostí k těm „ženským“.',\n",
       "        'biased'], dtype='<U296'),\n",
       " array(['Vítána jsou i případná upřesnění tezí.', 'biased'], dtype='<U296'),\n",
       " array(['Nechceme, aby existovala „hlava“ a „tělo“ organizace: pokud se hlava odřízne, zemře i tělo.',\n",
       "        'biased'], dtype='<U296'),\n",
       " array(['Říkáme: staňte se agitátory proti válce.', 'biased'],\n",
       "       dtype='<U296'),\n",
       " array(['Zaměřujeme se také na interakci s konzervativnějšími sociálními sítěmi: napodobujeme jejich jazyk, snažíme se mluvit se starším publikem, žádáme všechny, aby se hromadně registrovali na Spolužácích a šířili tam naše protiválečné texty.',\n",
       "        'biased'], dtype='<U296'),\n",
       " array(['Brzy budeme vydávat letáky, které napodobují provládní agitace typu „Za Putina, za mír!“.',\n",
       "        'biased'], dtype='<U296'),\n",
       " array(['Na nich Putinovi poděkujeme například za to, že se naše děti už nemusí učit anglicky, protože stejně nikam nepojedou.',\n",
       "        'biased'], dtype='<U296'),\n",
       " array(['Putin po celá léta využíval válečný narativ.', 'biased'],\n",
       "       dtype='<U296'),\n",
       " array(['Svou represivní ideologii postavil na velkém vítězství, vítězném národě, ruském lidu.',\n",
       "        'biased'], dtype='<U296'),\n",
       " array(['Po vypuknutí války se ukázalo, že veškerá oficiální rétorika směřovala k válce.',\n",
       "        'biased'], dtype='<U296'),\n",
       " array(['K našemu překvapení se tato akce 8. března uskutečnila v mnoha městech a zemích, a dokonce i u pomníků na okrajích měst byly květiny.',\n",
       "        'biased'], dtype='<U296'),\n",
       " array(['bez vůdce.', 'biased'], dtype='<U296'),\n",
       " array(['S překvapením jsme zjistily, že náš manifest byl přeložen do více než dvaceti jazyků.',\n",
       "        'biased'], dtype='<U296'),\n",
       " array(['Je velká škoda, že se nezačalo dříve.', 'biased'], dtype='<U296'),\n",
       " array(['Zdá se mi, že k rozkolu, který nenastal po Krymu, dochází nyní.',\n",
       "        'biased'], dtype='<U296'),\n",
       " array(['Tehdy jste mohli předstírat, že je všechno v pořádku, nebo říct: „Já se v tom nevyznám.“ I pro mnoho pravicových intelektuálů se válka stala bodem zlomu.',\n",
       "        'biased'], dtype='<U296'),\n",
       " array(['Když jsem byla zatčena, policistky byly vůči mně krutější než muži… Ale vraťme se k tématu.',\n",
       "        'biased'], dtype='<U296'),\n",
       " array(['Účastníci a účastnice akcí FAS jsou vystaveni velkému tlaku ze strany státní moci.',\n",
       "        'biased'], dtype='<U296'),\n",
       " array(['Před válkou jako by feministické aktivistky stát nebral vážně.',\n",
       "        'biased'], dtype='<U296'),\n",
       " array(['I to je paradoxní: Putin denacifikuje Ukrajinu a zároveň ho v Rusku podporují neonacisté.',\n",
       "        'biased'], dtype='<U296'),\n",
       " array(['Nuance jsou stejné jako u feministického hnutí.', 'biased'],\n",
       "       dtype='<U296'),\n",
       " array(['Žádáme muže, aby byli našimi spojenci, a nikoli přizvanými odborníky.',\n",
       "        'biased'], dtype='<U296'),\n",
       " array(['Putinovo Rusko je zakletá živá mrtvola, která vláčí miliony nevinných lidí na onen svět.',\n",
       "        'biased'], dtype='<U296')]"
      ]
     },
     "execution_count": 97,
     "metadata": {},
     "output_type": "execute_result"
    }
   ],
   "source": [
    "list(filter(lambda x : x[1] == 'biased',annotations))"
   ]
  },
  {
   "cell_type": "code",
   "execution_count": 74,
   "id": "6b9383b9-61a6-406f-b8e6-7ff4e371ae31",
   "metadata": {},
   "outputs": [
    {
     "name": "stdout",
     "output_type": "stream",
     "text": [
      "Za námi jsou překvapivě i silně katoličtí Poláci s pouhými deseti převážně církevními svátky. bias probability: 98.35 %\n",
      "Za námi jsou i silně katoličtí Poláci s pouhými deseti převážně církevními svátky. bias probability: 98.0 %\n",
      "Za námi jsou i katoličtí Poláci s pouhými deseti převážně církevními svátky. bias probability: 91.38 %\n",
      "Za námi jsou i katoličtí Poláci s deseti převážně církevními svátky. bias probability: 25.37 %\n"
     ]
    }
   ],
   "source": [
    "print('Za námi jsou překvapivě i silně katoličtí Poláci s pouhými deseti převážně církevními svátky.',\"bias probability:\",\n",
    "      round(classify_sentence_certainty('Za námi jsou překvapivě i silně katoličtí Poláci s pouhými deseti převážně církevními svátky.')[0][1].item()*100,2),\"%\")\n",
    "print('Za námi jsou i silně katoličtí Poláci s pouhými deseti převážně církevními svátky.',\"bias probability:\",\n",
    "      round(classify_sentence_certainty('Za námi jsou i silně katoličtí Poláci s pouhými deseti převážně církevními svátky.')[0][1].item()*100,2),\"%\")\n",
    "print('Za námi jsou i katoličtí Poláci s pouhými deseti převážně církevními svátky.',\"bias probability:\",\n",
    "      round(classify_sentence_certainty('Za námi jsou i katoličtí Poláci s pouhými deseti převážně církevními svátky.')[0][1].item()*100,2),\"%\")\n",
    "print('Za námi jsou i katoličtí Poláci s deseti převážně církevními svátky.',\"bias probability:\",\n",
    "      round(classify_sentence_certainty('Za námi jsou i katoličtí Poláci s deseti převážně církevními svátky.')[0][1].item()*100,2),\"%\")"
   ]
  },
  {
   "cell_type": "code",
   "execution_count": 95,
   "id": "c5f324bb-4ad5-4e7b-b942-1860cadeaf40",
   "metadata": {},
   "outputs": [
    {
     "name": "stdout",
     "output_type": "stream",
     "text": [
      "Trump nakonec rozhodnul, že zruší slíbené regulace bias probability: 29.47 %\n",
      "Trump konečně rozhodnul, že zruší slíbené regulace bias probability: 34.65 %\n"
     ]
    }
   ],
   "source": [
    "print('Trump nakonec rozhodnul, že zruší slíbené regulace',\"bias probability:\",\n",
    "      round(classify_sentence_certainty('Trump nakonec rozhodnul, že zruší slíbené regulace')[0][1].item()*100,2),\"%\")\n",
    "print('Trump konečně rozhodnul, že zruší slíbené regulace',\"bias probability:\",\n",
    "      round(classify_sentence_certainty('Trump konečně rozhodnul, že zruší slíbené regulace')[0][1].item()*100,2),\"%\")"
   ]
  },
  {
   "cell_type": "code",
   "execution_count": 66,
   "id": "8590beb0-7aeb-4236-af19-2dacb01e91fd",
   "metadata": {},
   "outputs": [
    {
     "name": "stdout",
     "output_type": "stream",
     "text": [
      "Začátky osídlovaní Horehroní se datují někdy okolo roku 2500 před naším letopočtem. Horský drsný terén nepředstavoval takové lákadlo jako níže položené oblasti a tehdejší obyvatelstvo potrápil při chovu dobytka a zemědělské činnosti.\n",
      "Zlaté časy přišly až později ve 13. století. A to doslova zlaté. Velká část Horehroní byla totiž bohatá na zlato, které se v místních kopcích těžilo ve velkém. Například tehdejší obec Mýto pod Ďumbierom představovala jednu velkou továrnu o rozloze 600 hektarů, v níž se zpracovávala vytěžená hmota, a oddělovalo se zlato od hlušiny. Poprvé na světě byl pro tento proces těžby použit mlýn právě zde, díky čemuž je dodnes možné spatřit hory hlušiny, ale i pozůstatky štol v okolních horách.\n",
      "Horehroní se nachází na historicky slavné obchodní cestě Via Magna. Za účelem ochrany této trasy byl postaven hrad Ľupča, který je dnes možné navštívit. Dalšími hrady v regionu jsou Tisovský hrad a hrad Muráň, z nějž však zůstalo již jen torzo. Přesto však představuje oblíbené místo turistů a milovníků koní, zejména pro své unikátní vyhlídky na okolní přírodu Muránské planiny.\n",
      "Skrýval se zde Janošík\n",
      "Tak jako bylo panstvo součástí historie Horehroní, tak jimi byli také zbojníci, kteří někdy bohatým brali a chudým dávali a někdy jen brali a nikomu nic nedali. V sedle Zbojská \"úřadoval\" zbojník Jakub Surovec, kterému je věnován naučný chodník při Salaši Zbojská.\n",
      "A o pár kopců dál, nad obcí Klenovec v roce 1713 chytli Janošíka, který se skrýval u Martina Mravce, taktéž zbojníka. Oba byli odsouzeni a krátce na to popraveni. V každém případě i tyto osobnosti vešly do dějin regionu, i když pouze jako opozice tehdejší moci. Zůstaly po nich však, pro turisty oblíbené, Zbojnické chodníčky nedaleko Salaše Zbojská.\n",
      "Velkým lákadlem také železnice\n",
      "Do dnešních dob na nás dýchá i historie technické revoluce. Nejznámějším parním vlakem na Slovensku je Čiernohronská železnice v Čiernom Balogu. K jejímu znovuzrození výraznou měrou přispěl původně dobrovolný studentský brigádník a současný ředitel, rodák z Plzně, Aleš Bílek.\n",
      "Pod jeho vedením vlaky jezdí celoročně, dokonce i v tuhých zimách, a představují lákadlo, jak pro malé děti, tak pro dospělé, jelikož jejich kouzlo je nezapomenutelné. Tratě železnice vedou dolinami Slovenského rudohoří a jednou z jejich zastávek je i Lesnický skanzen, který své návštěvníky vtáhne do tajů života lesa, těžby dřeva a nabírání nových znalostí o přírodě.\n",
      "Před pár lety byla také dobrovolníky z dezolátního stavu oživena ozubnicová železnice. Tento světový unikát dnes jezdí z Tisovce k Salaši Zbojská, na trati vinoucí se viadukty ve výšce 30 metrů a na úseku 4,7 kilometrů, Bánovo - Zbojská, překoná neuvěřitelné převýšení 166 metrů. Oba parní vlaky mají svá muzea v Čiernom Balogu a Tisovci.\n",
      "Celá řada muzeí\n",
      "Z monumentů minulosti, dávné i ne tak dávné, do dnešních dob zůstaly hrady, hradby, ale i muzea. Tím největším je určitě Horehronské muzeum v Brezně nacházející se ve třech budovách na náměstí. Zajímavá je i zrekonstruovaná synagoga se stálou expozicí holocaustu, ale i dechberoucí prostory, ve kterých probíhají umělecké vystoupení a vernisáže.\n",
      "Neméně zajímavým je Hutní muzeum v Podbrezové s vykopávkami z pradávných dob. Skvostem jsou i muzea: Zvonce na Šumiaci, muzeum miniatur v Pohorelej, ale také muzeum lyží a lanovek v Podkonici nebo Von Roll na svahu Chopku.\n"
     ]
    }
   ],
   "source": [
    "print(\"Začátky osídlovaní Horehroní se datují někdy okolo roku 2500 před naším letopočtem. Horský drsný terén nepředstavoval takové lákadlo jako níže položené oblasti a tehdejší obyvatelstvo potrápil při chovu dobytka a zemědělské činnosti.\\nZlaté časy přišly až později ve 13. století. A to doslova zlaté. Velká část Horehroní byla totiž bohatá na zlato, které se v místních kopcích těžilo ve velkém. Například tehdejší obec Mýto pod Ďumbierom představovala jednu velkou továrnu o rozloze 600 hektarů, v níž se zpracovávala vytěžená hmota, a oddělovalo se zlato od hlušiny. Poprvé na světě byl pro tento proces těžby použit mlýn právě zde, díky čemuž je dodnes možné spatřit hory hlušiny, ale i pozůstatky štol v okolních horách.\\nHorehroní se nachází na historicky slavné obchodní cestě Via Magna. Za účelem ochrany této trasy byl postaven hrad Ľupča, který je dnes možné navštívit. Dalšími hrady v regionu jsou Tisovský hrad a hrad Muráň, z nějž však zůstalo již jen torzo. Přesto však představuje oblíbené místo turistů a milovníků koní, zejména pro své unikátní vyhlídky na okolní přírodu Muránské planiny.\\nSkrýval se zde Janošík\\nTak jako bylo panstvo součástí historie Horehroní, tak jimi byli také zbojníci, kteří někdy bohatým brali a chudým dávali a někdy jen brali a nikomu nic nedali. V sedle Zbojská \\\"úřadoval\\\" zbojník Jakub Surovec, kterému je věnován naučný chodník při Salaši Zbojská.\\nA o pár kopců dál, nad obcí Klenovec v roce 1713 chytli Janošíka, který se skrýval u Martina Mravce, taktéž zbojníka. Oba byli odsouzeni a krátce na to popraveni. V každém případě i tyto osobnosti vešly do dějin regionu, i když pouze jako opozice tehdejší moci. Zůstaly po nich však, pro turisty oblíbené, Zbojnické chodníčky nedaleko Salaše Zbojská.\\nVelkým lákadlem také železnice\\nDo dnešních dob na nás dýchá i historie technické revoluce. Nejznámějším parním vlakem na Slovensku je Čiernohronská železnice v Čiernom Balogu. K jejímu znovuzrození výraznou měrou přispěl původně dobrovolný studentský brigádník a současný ředitel, rodák z Plzně, Aleš Bílek.\\nPod jeho vedením vlaky jezdí celoročně, dokonce i v tuhých zimách, a představují lákadlo, jak pro malé děti, tak pro dospělé, jelikož jejich kouzlo je nezapomenutelné. Tratě železnice vedou dolinami Slovenského rudohoří a jednou z jejich zastávek je i Lesnický skanzen, který své návštěvníky vtáhne do tajů života lesa, těžby dřeva a nabírání nových znalostí o přírodě.\\nPřed pár lety byla také dobrovolníky z dezolátního stavu oživena ozubnicová železnice. Tento světový unikát dnes jezdí z Tisovce k Salaši Zbojská, na trati vinoucí se viadukty ve výšce 30 metrů a na úseku 4,7 kilometrů, Bánovo - Zbojská, překoná neuvěřitelné převýšení 166 metrů. Oba parní vlaky mají svá muzea v Čiernom Balogu a Tisovci.\\nCelá řada muzeí\\nZ monumentů minulosti, dávné i ne tak dávné, do dnešních dob zůstaly hrady, hradby, ale i muzea. Tím největším je určitě Horehronské muzeum v Brezně nacházející se ve třech budovách na náměstí. Zajímavá je i zrekonstruovaná synagoga se stálou expozicí holocaustu, ale i dechberoucí prostory, ve kterých probíhají umělecké vystoupení a vernisáže.\\nNeméně zajímavým je Hutní muzeum v Podbrezové s vykopávkami z pradávných dob. Skvostem jsou i muzea: Zvonce na Šumiaci, muzeum miniatur v Pohorelej, ale také muzeum lyží a lanovek v Podkonici nebo Von Roll na svahu Chopku.\")"
   ]
  },
  {
   "cell_type": "code",
   "execution_count": null,
   "id": "88f90b4d-af52-43b9-bc3f-b07c06fb2c3c",
   "metadata": {},
   "outputs": [],
   "source": []
  }
 ],
 "metadata": {
  "kernelspec": {
   "display_name": "Python 3 (ipykernel)",
   "language": "python",
   "name": "python3"
  },
  "language_info": {
   "codemirror_mode": {
    "name": "ipython",
    "version": 3
   },
   "file_extension": ".py",
   "mimetype": "text/x-python",
   "name": "python",
   "nbconvert_exporter": "python",
   "pygments_lexer": "ipython3",
   "version": "3.8.6"
  }
 },
 "nbformat": 4,
 "nbformat_minor": 5
}
