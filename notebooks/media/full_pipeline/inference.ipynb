{
 "cells": [
  {
   "cell_type": "markdown",
   "id": "6148c3a8-4267-45c0-b51b-9d7d02543b41",
   "metadata": {
    "tags": []
   },
   "source": [
    "## Imports"
   ]
  },
  {
   "cell_type": "code",
   "execution_count": 1,
   "id": "2553cd26-9e0e-4ea7-8eeb-104b921054bb",
   "metadata": {},
   "outputs": [],
   "source": [
    "# Making imports convenient\n",
    "import sys\n",
    "import os\n",
    "PATH=os.getcwd().split('/notebooks')[0]\n",
    "sys.path.insert(1, PATH)"
   ]
  },
  {
   "cell_type": "code",
   "execution_count": 2,
   "id": "40a8b086-b750-4e4f-966c-4e644ff088f4",
   "metadata": {
    "tags": []
   },
   "outputs": [],
   "source": [
    "import torch\n",
    "import torch.nn.functional as F\n",
    "from datasets import load_dataset,concatenate_datasets\n",
    "import transformers\n",
    "from sklearn.metrics import confusion_matrix\n",
    "\n",
    "\n",
    "from transformers import AutoTokenizer, DataCollatorWithPadding,BertForSequenceClassification,TrainingArguments,Trainer\n",
    "\n",
    "from src.utils.myutils import *\n",
    "from tqdm import tqdm\n",
    "import logging\n",
    "import warnings\n",
    "import re\n",
    "import pandas as pd\n",
    "from newspaper import Article\n",
    "from nltk import sent_tokenize\n",
    "import seaborn as sns\n",
    "\n",
    "logging.disable(logging.ERROR)\n",
    "np.warnings.filterwarnings('ignore', category=np.VisibleDeprecationWarning)\n",
    "warnings.filterwarnings(\"ignore\", category=UserWarning) \n",
    "\n",
    "DATA_PATH = PATH + '/data/Inference/'\n",
    "\n",
    "device = torch.device(\"cuda\") if torch.cuda.is_available() else torch.device(\"cpu\")\n",
    "\n",
    "model_name = 'fav-kky/FERNET-C5'\n",
    "tokenizer = AutoTokenizer.from_pretrained(model_name, use_fast=False,padding=True)\n",
    "data_collator = DataCollatorWithPadding(tokenizer=tokenizer)\n",
    "model = AutoModelForSequenceClassification.from_pretrained(\"horychtom/czech_media_bias_classifier\")\n",
    "\n",
    "BATCH_SIZE = 32"
   ]
  },
  {
   "cell_type": "markdown",
   "id": "5e679f59-80df-4d9b-9f16-94c9ac3b4391",
   "metadata": {
    "tags": []
   },
   "source": [
    "## Function definitions"
   ]
  },
  {
   "cell_type": "code",
   "execution_count": 3,
   "id": "52fbf4d7-6b6b-4e8d-9f02-cb70874d929c",
   "metadata": {
    "tags": []
   },
   "outputs": [],
   "source": [
    "def classify_sentence(sent:str):\n",
    "    \"\"\"Clasification of a single sentence\n",
    "\n",
    "    Args:\n",
    "        sent (str): sentence to be classified\n",
    "    Returns:\n",
    "        int: label either 0 or 1 (unbiased/biased) \n",
    "    \"\"\"\n",
    "    toksentence = tokenizer(sent,truncation=True,return_tensors=\"pt\",max_length=128)\n",
    "    model.eval()\n",
    "    model.to(device)\n",
    "    with torch.no_grad():\n",
    "        toksentence.to(device)\n",
    "        output = model(**toksentence)\n",
    "    \n",
    "    classification = F.softmax(output.logits,dim=1).argmax(dim=1)\n",
    "    \n",
    "    return classification[0].item()"
   ]
  },
  {
   "cell_type": "code",
   "execution_count": 5,
   "id": "ae20064a-5a87-446a-93ff-dfe9eeb4d503",
   "metadata": {
    "tags": []
   },
   "outputs": [],
   "source": [
    "def classify_article(url:str):\n",
    "    \"\"\"classifies news article\n",
    "\n",
    "    Args:\n",
    "        url (str): link to article to be classified\n",
    "\n",
    "    Returns:\n",
    "        (numpy array of labels with sentences,probabilities): zipped annotations and sentences\n",
    "    \"\"\"\n",
    "    article = Article(url)\n",
    "    article.download()\n",
    "    article.parse()\n",
    "    sentences = sent_tokenize(article.text)\n",
    "    annotations = np.array(list(zip(sentences,list(map(classify_sentence,sentences)))))\n",
    "    probabilities = np.array(list(zip(sentences,list(map(classify_sentence_bias_prob,sentences)))))\n",
    "    return annotations,probabilities"
   ]
  },
  {
   "cell_type": "code",
   "execution_count": 6,
   "id": "1562db6e-50b3-4d52-a197-26bd60fc2f7b",
   "metadata": {},
   "outputs": [],
   "source": [
    "def strip_domains(data):\n",
    "    \"\"\"removes prefixes from domains\n",
    "       example: subdomain:= novinky.cz <- sport.novinky.cz \n",
    "                section:=sport <- sport.novinky.cz\n",
    "\n",
    "    Args:\n",
    "        data (pandas dataframe) with 'subdomain' column\n",
    "    \"\"\"\n",
    "    get_domain = lambda x : '.'.join(x.split('.')[-2:])\n",
    "    get_section = lambda x : x.split('.')[0] if '.' in x else x\n",
    "    data['subdomain'] = data['subdomain'].apply(get_domain)\n",
    "    data['section'] = data['section'].apply(get_section)\n",
    "    \n",
    "    return data"
   ]
  },
  {
   "cell_type": "code",
   "execution_count": 7,
   "id": "de13bb47-4711-4a48-beea-5cd388d314f3",
   "metadata": {},
   "outputs": [],
   "source": [
    "def date_format(data):\n",
    "    \"\"\"strips irrelevant details of dates\n",
    "    \"\"\"\n",
    "    data['published'] = data['published'].apply(lambda x: x[:7])\n",
    "    data = data.assign(Year = data['published'].apply(lambda x: int(x[:4])))\n",
    "    \n",
    "    return data"
   ]
  },
  {
   "cell_type": "code",
   "execution_count": 8,
   "id": "6bfd48dc-a7ee-4627-ae1b-85061d97374e",
   "metadata": {},
   "outputs": [],
   "source": [
    "def assign_bias_ratio(data,split:str):\n",
    "    \"\"\"computes bias frequency for each row (article) in the dataset\n",
    "\n",
    "    Args:\n",
    "        data (pandas dataframe): articles\n",
    "        split (str): abstract, text or headline\n",
    "    \"\"\"\n",
    "    size = len(data)\n",
    "    values = np.zeros(size)\n",
    "    \n",
    "    for i in tqdm(range(size)):\n",
    "        text = data.iloc[i][split]\n",
    "        sentences = sent_tokenize(text)\n",
    "        labels = np.array(list(map(classify_sentence,sentences)))\n",
    "        values[i] = 100*np.sum(labels)/len(labels)\n",
    "    \n",
    "    data.insert(0,split+'_bias',values)\n",
    "    \n",
    "    return data"
   ]
  },
  {
   "cell_type": "code",
   "execution_count": 10,
   "id": "36396c1d-df5f-4f76-9808-e76bd7fd8f3e",
   "metadata": {},
   "outputs": [],
   "source": [
    "def assign_quote_ratio(data):\n",
    "    \"\"\"for each row (article) computes frequency of quoting\n",
    "    \"\"\"\n",
    "    size = len(data)\n",
    "    qvalues = np.zeros(size)\n",
    "\n",
    "    r = re.compile('„|\"')\n",
    "    \n",
    "    for i in tqdm(range(size)):\n",
    "        text = data.iloc[i]['text']\n",
    "        sentences = sent_tokenize(text)\n",
    "        \n",
    "        # quoting\n",
    "        result = np.array(list(map(r.search, sentences)))\n",
    "        qindices = np.where(np.array(result) != None)[0]\n",
    "\n",
    "        qvalues[i] = 100*len(qindices)/len(sentences)\n",
    "    \n",
    "    data.insert(0,'quoting_ratio',qvalues)\n",
    "    \n",
    "    return data"
   ]
  },
  {
   "cell_type": "code",
   "execution_count": 11,
   "id": "b9b5db6e-f239-4daf-9a5d-fc5ef5212f3c",
   "metadata": {},
   "outputs": [],
   "source": [
    "def assign_bias_headline(data):\n",
    "    \"\"\"computes binary label for headlines\n",
    "    \"\"\"\n",
    "    size = len(data)\n",
    "    values = np.zeros(size)\n",
    "    \n",
    "    for i in tqdm(range(size)):\n",
    "        text = data.iloc[i]['headline']\n",
    "        values[i] = classify_sentence(text)\n",
    "        \n",
    "    data.insert(0,'headline_bias',values)\n",
    "    \n",
    "    return data"
   ]
  },
  {
   "cell_type": "markdown",
   "id": "3c9f25e8-5caa-4d62-8b16-fde15ffa5489",
   "metadata": {
    "tags": []
   },
   "source": [
    "## Load and clean data from RCI repo"
   ]
  },
  {
   "cell_type": "code",
   "execution_count": 81,
   "id": "99641d58-02bf-417a-9468-975e2523064c",
   "metadata": {},
   "outputs": [],
   "source": [
    "test = pd.read_json('/mnt/data/factcheck/summarization/sumeczech/sumeczech-1.0-test.jsonl',lines=True)\n",
    "dev = pd.read_json('/mnt/data/factcheck/summarization/sumeczech/sumeczech-1.0-dev.jsonl',lines=True)\n",
    "train = pd.read_json('/mnt/data/factcheck/summarization/sumeczech/sumeczech-1.0-train.jsonl',lines=True)\n",
    "\n",
    "#train is too big, train is only used to get more of CTK\n",
    "data = pd.concat([test,dev])\n",
    "\n",
    "#throaway blogs\n",
    "data = data[~data['subdomain'].str.contains('blog')]"
   ]
  },
  {
   "cell_type": "code",
   "execution_count": null,
   "id": "7260f65f",
   "metadata": {},
   "outputs": [],
   "source": [
    "data = data[data['published']!='']\n",
    "data = date_format(data)\n",
    "data = strip_domains(data)\n",
    "data.drop(['filename', 'dataset','md5','offset'], axis=1, inplace=True)"
   ]
  },
  {
   "cell_type": "code",
   "execution_count": 57,
   "id": "70771dfc-6270-47e4-bf0e-bc852edf7db4",
   "metadata": {},
   "outputs": [],
   "source": [
    "train = train[train['published']!='']\n",
    "train = date_format(train)\n",
    "train = strip_domains(train)\n",
    "train.drop(['filename', 'dataset','md5','offset'], axis=1, inplace=True)"
   ]
  },
  {
   "cell_type": "code",
   "execution_count": 76,
   "id": "32e8b00a-d4f7-47c8-9882-cd0dbb450dda",
   "metadata": {},
   "outputs": [],
   "source": [
    "ctk1 = train[train['subdomain']=='ceskenoviny.cz']\n",
    "ctk2 = data[data['subdomain'] == 'ceskenoviny.cz']"
   ]
  },
  {
   "cell_type": "code",
   "execution_count": 83,
   "id": "8cf915c9-5136-4854-8018-33a671cb5ae7",
   "metadata": {
    "tags": []
   },
   "outputs": [],
   "source": [
    "ctk = pd.concat([ctk1,ctk2])\n",
    "denik = data[data.subdomain == 'denik.cz']\n",
    "idnes = data[data.subdomain == 'idnes.cz']\n",
    "lidovky = data[data.subdomain == 'lidovky.cz']\n",
    "novinky = data[data.subdomain == 'novinky.cz']"
   ]
  },
  {
   "cell_type": "markdown",
   "id": "6fafcd69-7bf0-4311-9b35-a2191b3519e3",
   "metadata": {},
   "source": [
    "## lidovky"
   ]
  },
  {
   "cell_type": "code",
   "execution_count": 100,
   "id": "298a6141-15df-4bc0-a262-65db54169b9f",
   "metadata": {},
   "outputs": [
    {
     "name": "stderr",
     "output_type": "stream",
     "text": [
      "100%|██████████| 11892/11892 [08:04<00:00, 24.53it/s]\n"
     ]
    }
   ],
   "source": [
    "lidovky = assign_bias_ratio(lidovky,'abstract')"
   ]
  },
  {
   "cell_type": "code",
   "execution_count": 101,
   "id": "d01958d4-1814-4377-a664-3098eb6e212f",
   "metadata": {},
   "outputs": [
    {
     "name": "stderr",
     "output_type": "stream",
     "text": [
      "100%|██████████| 11892/11892 [02:52<00:00, 68.92it/s]\n"
     ]
    }
   ],
   "source": [
    "lidovky = assign_bias_headline(lidovky)"
   ]
  },
  {
   "cell_type": "code",
   "execution_count": 104,
   "id": "92f82852-4cad-4044-be36-5e91f954c0dd",
   "metadata": {},
   "outputs": [
    {
     "name": "stderr",
     "output_type": "stream",
     "text": [
      "100%|██████████| 11892/11892 [1:12:30<00:00,  2.73it/s]\n"
     ]
    }
   ],
   "source": [
    "lidovky = assign_bias_ratio(lidovky,'text')"
   ]
  },
  {
   "cell_type": "code",
   "execution_count": 102,
   "id": "0ff76b2d-8038-4f92-9e75-295c9c0850b4",
   "metadata": {},
   "outputs": [
    {
     "name": "stderr",
     "output_type": "stream",
     "text": [
      "100%|██████████| 11892/11892 [00:12<00:00, 935.73it/s] \n"
     ]
    }
   ],
   "source": [
    "lidovky = assign_quote_ratio(lidovky)"
   ]
  },
  {
   "cell_type": "code",
   "execution_count": 105,
   "id": "f9313fc6-e218-4cca-836e-a75e7ce58fd1",
   "metadata": {},
   "outputs": [],
   "source": [
    "lidovky.to_csv(DATA_PATH+ 'lidovky.csv',index=False)"
   ]
  },
  {
   "cell_type": "markdown",
   "id": "ab6f94c2-0584-40a3-a44a-0f00955f4c94",
   "metadata": {},
   "source": [
    "## CTK"
   ]
  },
  {
   "cell_type": "code",
   "execution_count": 89,
   "id": "eb65464f-5b76-42b4-bd7e-46dea21a7bbf",
   "metadata": {},
   "outputs": [
    {
     "name": "stderr",
     "output_type": "stream",
     "text": [
      "100%|██████████| 4715/4715 [03:23<00:00, 23.20it/s]\n"
     ]
    }
   ],
   "source": [
    "ctk = assign_bias_ratio(ctk,'abstract')"
   ]
  },
  {
   "cell_type": "code",
   "execution_count": 90,
   "id": "28462dfa-8213-4a19-b771-7e055f33900e",
   "metadata": {},
   "outputs": [
    {
     "name": "stderr",
     "output_type": "stream",
     "text": [
      "100%|██████████| 4715/4715 [00:58<00:00, 80.87it/s]\n"
     ]
    }
   ],
   "source": [
    "ctk = assign_bias_headline(ctk)"
   ]
  },
  {
   "cell_type": "code",
   "execution_count": 91,
   "id": "c8872ba9-33bc-4683-b2a6-7685964ebdb3",
   "metadata": {},
   "outputs": [
    {
     "name": "stderr",
     "output_type": "stream",
     "text": [
      "100%|██████████| 4715/4715 [33:41<00:00,  2.33it/s]  \n"
     ]
    }
   ],
   "source": [
    "ctk = assign_bias_ratio(ctk,'text')"
   ]
  },
  {
   "cell_type": "code",
   "execution_count": 92,
   "id": "f520a823-65cc-4bce-bde3-ff155be45bbc",
   "metadata": {
    "tags": []
   },
   "outputs": [
    {
     "name": "stderr",
     "output_type": "stream",
     "text": [
      "100%|██████████| 4715/4715 [00:06<00:00, 780.73it/s]\n"
     ]
    }
   ],
   "source": [
    "ctk = assign_quote_ratio(ctk)"
   ]
  },
  {
   "cell_type": "code",
   "execution_count": 93,
   "id": "61dd158e-f8a3-41e6-9451-9072567c1b80",
   "metadata": {},
   "outputs": [],
   "source": [
    "ctk.to_csv(DATA_PATH +'/ctk.csv',index=False)"
   ]
  },
  {
   "cell_type": "markdown",
   "id": "db613ad2-d3bb-4215-8794-920e2eae3ede",
   "metadata": {
    "tags": []
   },
   "source": [
    "## novinky.cz"
   ]
  },
  {
   "cell_type": "code",
   "execution_count": null,
   "id": "4b528c6b-3e76-4ddd-865f-1db96bdefe48",
   "metadata": {},
   "outputs": [
    {
     "name": "stderr",
     "output_type": "stream",
     "text": [
      "100%|██████████| 20871/20871 [14:44<00:00, 23.60it/s]\n",
      " 32%|███▏      | 6759/20871 [01:39<03:26, 68.24it/s]"
     ]
    }
   ],
   "source": [
    "novinky = assign_bias_ratio(novinky,'abstract')"
   ]
  },
  {
   "cell_type": "code",
   "execution_count": 26,
   "id": "7324bb8a-2e02-4864-b0c0-0fbcf0148dc1",
   "metadata": {},
   "outputs": [
    {
     "name": "stderr",
     "output_type": "stream",
     "text": [
      "100%|██████████| 20871/20871 [05:07<00:00, 67.88it/s]\n"
     ]
    }
   ],
   "source": [
    "novinky = assign_bias_headline(novinky)"
   ]
  },
  {
   "cell_type": "code",
   "execution_count": 30,
   "id": "8b96286f-64d4-42ba-8fe9-df78d653dda1",
   "metadata": {},
   "outputs": [
    {
     "name": "stderr",
     "output_type": "stream",
     "text": [
      "100%|██████████| 20871/20871 [1:58:27<00:00,  2.94it/s]  \n"
     ]
    }
   ],
   "source": [
    "novinky = assign_bias_ratio(novinky,'text')"
   ]
  },
  {
   "cell_type": "code",
   "execution_count": null,
   "id": "12b2d57b",
   "metadata": {},
   "outputs": [],
   "source": [
    "novinky = assign_quote_ratio(novinky)"
   ]
  },
  {
   "cell_type": "code",
   "execution_count": 31,
   "id": "7f31fb37-3018-4d0d-b87d-9f94aa13a646",
   "metadata": {},
   "outputs": [],
   "source": [
    "novinky.to_csv(DATA_PATH + '/novinky.csv',index=False)"
   ]
  },
  {
   "cell_type": "code",
   "execution_count": 14,
   "id": "30e7324e",
   "metadata": {},
   "outputs": [
    {
     "name": "stdout",
     "output_type": "stream",
     "text": [
      "Jak číst volby\n",
      "domaci\n",
      "https://www.novinky.cz/domaci/34069-jak-cist-volby.html\n",
      "V pátek a v sobotu jsme sice volili do Evropského parlamentu, o něj však v první řadě nešlo. V nanicovaté předvolební kampani totiž nikdo voličům kloudně nevysvětlil, k čemu ona instituce je dobrá. Možná to nevěděla ani většina kandidátů. \n",
      "\n",
      "Jinak by občany nemátla sliby o hájení národních zájmů. K tomu je Evropský parlament sotva vhodný. A tak se volby změnily v jakési vysvědčení, které voliči vládní koalici vystavili v půli jejího mandátu.\n",
      "O výsledku vládních stran dá se hovořit v těsné souvislosti se slovem katastrofa. Unie svobody potvrdila, že žije jen díky napojení na \"vládní přístroje\", lidovci zůstali ve své beznadějné izolovanosti (ale potřebné minimum mají a zřejmě i budou mít jisté), sociální demokraté utrpěli těžkou a ničím nemírněnou porážku.\n",
      "Premiér Špidla je školený historik, jistě mu při pohledu na výsledky musela táhnout hlavou klasická výzva: \"sedíte zde už příliš dlouho, než abyste mohli vykonat něco dobrého. Jděte!\" Přesto se Vladimír Špidla pokusil přečíst volební výsledky jinak. Jednak tvrzením, že síla jeho vlády je dána posledními sněmovními volbami, jednak myšlenkou, že ODS se zcela nepodařilo zmobilizovat voliče proti vládě. První je nepravda, druhé je hloupost, nehodná muže Špidlova formátu.\n",
      "Jak číst volební výsledky vítězů? Zvítězila samozřejmě ODS. Zvítězila jasně a přesvědčivě, k vítězství drtivému jí však chybějí hlasy, získané SNK a Evropskými demokraty někdejšího pražského primátora Kasla. Po odeznění euforie přijde čas na vrásky. Mohlo by se to totiž a ve větším rozsahu opakovat při nejbližších sněmovních volbách.\n",
      "Komunisté jasně převálcovali ČSSD, svoje poslední sněmovní výsledky však nijak nevylepšili. Že by dosáhli zenitu? Dost hlasů jim však mohla odlákat jednoúčelová (dostat pana doktora do EP) squadra Vladimíra Železného. A tak skutečné vítěze voleb, kteří mohou promluvit do blížících se voleb sněmovních, vidím v Evropských demokratech - a v zelených. Ti se konečně vymanili z nepřehledné změti pidistran a v každém případě už stanuli alespoň v zákulisí velké politiky.\n",
      "Až se nad volebními výsledky sejde vedení ČSSD, mělo by si uvědomit starou pravdu: sebelepší výrobek (o dobrých úmyslech ani nemluvě) je k ničemu, když ho nikdo neumí prodat. V tomto ohledu selhal jak Stanislav Gross (odpovědný za mediální politiku), tak Vladimír Špidla. V tomto pořadí. Jednání bude navíc probíhat v režimu nebezpečí z prodlení. Protože po víkendových volbách do EP je možnost mimořádných voleb do české Sněmovny velice reálná.\n",
      "PRÁVO 14. června 2004\n",
      "57.69230769230769\n"
     ]
    }
   ],
   "source": [
    "#THE BEST\n",
    "searchfor = ['volby', 'volební','volbách','voleb']\n",
    "idx = -1\n",
    "print(novinky[novinky['headline'].str.contains('|'.join(searchfor))].sort_values(by='text_bias').iloc[idx]['headline'])\n",
    "print(novinky[novinky['headline'].str.contains('|'.join(searchfor))].sort_values(by='text_bias').iloc[idx]['section'])\n",
    "print(novinky[novinky['headline'].str.contains('|'.join(searchfor))].sort_values(by='text_bias').iloc[idx]['url'])\n",
    "print(novinky[novinky['headline'].str.contains('|'.join(searchfor))].sort_values(by='text_bias').iloc[idx]['abstract'],\"\\n\")\n",
    "print(novinky[novinky['headline'].str.contains('|'.join(searchfor))].sort_values(by='text_bias').iloc[idx]['text'])\n",
    "print(novinky[novinky['headline'].str.contains('|'.join(searchfor))].sort_values(by='text_bias').iloc[idx]['text_bias'])\n",
    "\n",
    "\n"
   ]
  },
  {
   "cell_type": "markdown",
   "id": "8155d5bb",
   "metadata": {
    "jp-MarkdownHeadingCollapsed": true,
    "tags": []
   },
   "source": [
    "## Idnes"
   ]
  },
  {
   "cell_type": "markdown",
   "id": "a9333190",
   "metadata": {},
   "source": [
    "missing"
   ]
  },
  {
   "cell_type": "markdown",
   "id": "cc45936f-d2a1-4e79-9e5a-79f5f53bfa7d",
   "metadata": {
    "tags": []
   },
   "source": [
    "## Denik.cz experiments"
   ]
  },
  {
   "cell_type": "code",
   "execution_count": 193,
   "id": "4d7d32e3-dd90-4821-abcf-95bddef68ccc",
   "metadata": {},
   "outputs": [
    {
     "name": "stderr",
     "output_type": "stream",
     "text": [
      "100%|██████████| 14413/14413 [07:46<00:00, 30.90it/s]\n",
      "100%|██████████| 14413/14413 [03:17<00:00, 72.87it/s]\n"
     ]
    }
   ],
   "source": [
    "denik = assign_bias_ratio(denik,'abstract')\n",
    "denik = assign_bias_headline(denik)"
   ]
  },
  {
   "cell_type": "code",
   "execution_count": 228,
   "id": "7ca26894-d764-445a-8472-7b4861ceb415",
   "metadata": {},
   "outputs": [
    {
     "name": "stderr",
     "output_type": "stream",
     "text": [
      "100%|██████████| 14413/14413 [1:25:23<00:00,  2.81it/s]  \n"
     ]
    }
   ],
   "source": [
    "denik = assign_bias_ratio(denik,'text')"
   ]
  },
  {
   "cell_type": "code",
   "execution_count": 93,
   "id": "8f0e6780-d946-44de-86af-d379aa371359",
   "metadata": {},
   "outputs": [],
   "source": [
    "data.to_csv(DATA_PATH + '/denik.csv',index=False)"
   ]
  },
  {
   "cell_type": "markdown",
   "id": "6b224ded",
   "metadata": {
    "jp-MarkdownHeadingCollapsed": true,
    "tags": []
   },
   "source": [
    "## Volby bias"
   ]
  },
  {
   "cell_type": "code",
   "execution_count": 65,
   "id": "d3fde8c9",
   "metadata": {},
   "outputs": [
    {
     "data": {
      "text/html": [
       "<div>\n",
       "<style scoped>\n",
       "    .dataframe tbody tr th:only-of-type {\n",
       "        vertical-align: middle;\n",
       "    }\n",
       "\n",
       "    .dataframe tbody tr th {\n",
       "        vertical-align: top;\n",
       "    }\n",
       "\n",
       "    .dataframe thead th {\n",
       "        text-align: right;\n",
       "    }\n",
       "</style>\n",
       "<table border=\"1\" class=\"dataframe\">\n",
       "  <thead>\n",
       "    <tr style=\"text-align: right;\">\n",
       "      <th></th>\n",
       "      <th>text_bias</th>\n",
       "    </tr>\n",
       "    <tr>\n",
       "      <th>text</th>\n",
       "      <th></th>\n",
       "    </tr>\n",
       "  </thead>\n",
       "  <tbody>\n",
       "    <tr>\n",
       "      <th>False</th>\n",
       "      <td>7.959036</td>\n",
       "    </tr>\n",
       "    <tr>\n",
       "      <th>True</th>\n",
       "      <td>11.318319</td>\n",
       "    </tr>\n",
       "  </tbody>\n",
       "</table>\n",
       "</div>"
      ],
      "text/plain": [
       "       text_bias\n",
       "text            \n",
       "False   7.959036\n",
       "True   11.318319"
      ]
     },
     "execution_count": 65,
     "metadata": {},
     "output_type": "execute_result"
    }
   ],
   "source": [
    "searchfor = ['volby', 'volební','volbách','voleb']\n",
    "data.groupby(data['text'].str.contains('|'.join(searchfor))).agg({'text_bias':'mean'})"
   ]
  },
  {
   "cell_type": "code",
   "execution_count": 66,
   "id": "870a7951",
   "metadata": {},
   "outputs": [
    {
     "data": {
      "text/html": [
       "<div>\n",
       "<style scoped>\n",
       "    .dataframe tbody tr th:only-of-type {\n",
       "        vertical-align: middle;\n",
       "    }\n",
       "\n",
       "    .dataframe tbody tr th {\n",
       "        vertical-align: top;\n",
       "    }\n",
       "\n",
       "    .dataframe thead th {\n",
       "        text-align: right;\n",
       "    }\n",
       "</style>\n",
       "<table border=\"1\" class=\"dataframe\">\n",
       "  <thead>\n",
       "    <tr style=\"text-align: right;\">\n",
       "      <th></th>\n",
       "      <th>text_bias</th>\n",
       "    </tr>\n",
       "    <tr>\n",
       "      <th>text</th>\n",
       "      <th></th>\n",
       "    </tr>\n",
       "  </thead>\n",
       "  <tbody>\n",
       "    <tr>\n",
       "      <th>False</th>\n",
       "      <td>4.347826</td>\n",
       "    </tr>\n",
       "    <tr>\n",
       "      <th>True</th>\n",
       "      <td>7.692308</td>\n",
       "    </tr>\n",
       "  </tbody>\n",
       "</table>\n",
       "</div>"
      ],
      "text/plain": [
       "       text_bias\n",
       "text            \n",
       "False   4.347826\n",
       "True    7.692308"
      ]
     },
     "execution_count": 66,
     "metadata": {},
     "output_type": "execute_result"
    }
   ],
   "source": [
    "data.groupby(data['text'].str.contains('|'.join(searchfor))).agg({'text_bias':'median'})"
   ]
  },
  {
   "cell_type": "code",
   "execution_count": 69,
   "id": "082fa4d3",
   "metadata": {},
   "outputs": [
    {
     "data": {
      "text/html": [
       "<div>\n",
       "<style scoped>\n",
       "    .dataframe tbody tr th:only-of-type {\n",
       "        vertical-align: middle;\n",
       "    }\n",
       "\n",
       "    .dataframe tbody tr th {\n",
       "        vertical-align: top;\n",
       "    }\n",
       "\n",
       "    .dataframe thead th {\n",
       "        text-align: right;\n",
       "    }\n",
       "</style>\n",
       "<table border=\"1\" class=\"dataframe\">\n",
       "  <thead>\n",
       "    <tr style=\"text-align: right;\">\n",
       "      <th></th>\n",
       "      <th>text_bias</th>\n",
       "    </tr>\n",
       "    <tr>\n",
       "      <th>text</th>\n",
       "      <th></th>\n",
       "    </tr>\n",
       "  </thead>\n",
       "  <tbody>\n",
       "    <tr>\n",
       "      <th>False</th>\n",
       "      <td>8.141556</td>\n",
       "    </tr>\n",
       "    <tr>\n",
       "      <th>True</th>\n",
       "      <td>12.936312</td>\n",
       "    </tr>\n",
       "  </tbody>\n",
       "</table>\n",
       "</div>"
      ],
      "text/plain": [
       "       text_bias\n",
       "text            \n",
       "False   8.141556\n",
       "True   12.936312"
      ]
     },
     "execution_count": 69,
     "metadata": {},
     "output_type": "execute_result"
    }
   ],
   "source": [
    "searchfor = ['Babiš', 'Babišovi','Babišovo','Babišem','Babišův']\n",
    "data.groupby(data['text'].str.contains('|'.join(searchfor))).agg({'text_bias':'mean'})"
   ]
  },
  {
   "cell_type": "code",
   "execution_count": 69,
   "id": "ac56dcfb",
   "metadata": {},
   "outputs": [
    {
     "data": {
      "text/html": [
       "<div>\n",
       "<style scoped>\n",
       "    .dataframe tbody tr th:only-of-type {\n",
       "        vertical-align: middle;\n",
       "    }\n",
       "\n",
       "    .dataframe tbody tr th {\n",
       "        vertical-align: top;\n",
       "    }\n",
       "\n",
       "    .dataframe thead th {\n",
       "        text-align: right;\n",
       "    }\n",
       "</style>\n",
       "<table border=\"1\" class=\"dataframe\">\n",
       "  <thead>\n",
       "    <tr style=\"text-align: right;\">\n",
       "      <th></th>\n",
       "      <th>text_bias</th>\n",
       "    </tr>\n",
       "    <tr>\n",
       "      <th>text</th>\n",
       "      <th></th>\n",
       "    </tr>\n",
       "  </thead>\n",
       "  <tbody>\n",
       "    <tr>\n",
       "      <th>False</th>\n",
       "      <td>7.959036</td>\n",
       "    </tr>\n",
       "    <tr>\n",
       "      <th>True</th>\n",
       "      <td>11.318319</td>\n",
       "    </tr>\n",
       "  </tbody>\n",
       "</table>\n",
       "</div>"
      ],
      "text/plain": [
       "       text_bias\n",
       "text            \n",
       "False   7.959036\n",
       "True   11.318319"
      ]
     },
     "execution_count": 69,
     "metadata": {},
     "output_type": "execute_result"
    }
   ],
   "source": [
    "searchfor = ['volby', 'volební','volbách','voleb']\n",
    "data.groupby(data['text'].str.contains('|'.join(searchfor))).agg({'text_bias':'mean'})"
   ]
  },
  {
   "cell_type": "code",
   "execution_count": 72,
   "id": "9b40c21f",
   "metadata": {},
   "outputs": [],
   "source": [
    "data_volby = data[data['text'].str.contains('|'.join(searchfor))].sort_values(by='text_bias')"
   ]
  },
  {
   "cell_type": "markdown",
   "id": "ade3523b-15ce-46ce-930f-2135225e5dfb",
   "metadata": {},
   "source": [
    "### Size study"
   ]
  },
  {
   "cell_type": "code",
   "execution_count": 165,
   "id": "4571792d-7a9c-43a7-9ac2-fc20a2187d57",
   "metadata": {},
   "outputs": [],
   "source": [
    "new = pd.DataFrame({'bias':df_months['text_bias'],'size':sizes_months['size']})"
   ]
  },
  {
   "cell_type": "code",
   "execution_count": 168,
   "id": "b457fb6f-6647-4488-9095-5990ae9fb5a7",
   "metadata": {},
   "outputs": [
    {
     "data": {
      "text/plain": [
       "Text(0.5, 1.0, 'Media Bias development over months')"
      ]
     },
     "execution_count": 168,
     "metadata": {},
     "output_type": "execute_result"
    },
    {
     "data": {
      "image/png": "[encoded data removed]",
      "text/plain": [
       "<Figure size 720x360 with 1 Axes>"
      ]
     },
     "metadata": {
      "needs_background": "light"
     },
     "output_type": "display_data"
    }
   ],
   "source": [
    "fig, ax = plt.subplots(figsize = (10, 5))\n",
    "sns.lineplot(ax = ax, x='published', y='size', data=sizes_months).set_title('Media Bias development over months')"
   ]
  },
  {
   "cell_type": "code",
   "execution_count": 170,
   "id": "ce797085-c08a-447f-997c-79f7b37a111a",
   "metadata": {},
   "outputs": [
    {
     "data": {
      "text/html": [
       "<div>\n",
       "<style scoped>\n",
       "    .dataframe tbody tr th:only-of-type {\n",
       "        vertical-align: middle;\n",
       "    }\n",
       "\n",
       "    .dataframe tbody tr th {\n",
       "        vertical-align: top;\n",
       "    }\n",
       "\n",
       "    .dataframe thead th {\n",
       "        text-align: right;\n",
       "    }\n",
       "</style>\n",
       "<table border=\"1\" class=\"dataframe\">\n",
       "  <thead>\n",
       "    <tr style=\"text-align: right;\">\n",
       "      <th></th>\n",
       "      <th>published</th>\n",
       "      <th>size</th>\n",
       "    </tr>\n",
       "  </thead>\n",
       "  <tbody>\n",
       "    <tr>\n",
       "      <th>124</th>\n",
       "      <td>2017-07</td>\n",
       "      <td>1</td>\n",
       "    </tr>\n",
       "    <tr>\n",
       "      <th>128</th>\n",
       "      <td>2017-11</td>\n",
       "      <td>3</td>\n",
       "    </tr>\n",
       "    <tr>\n",
       "      <th>122</th>\n",
       "      <td>2017-05</td>\n",
       "      <td>4</td>\n",
       "    </tr>\n",
       "    <tr>\n",
       "      <th>121</th>\n",
       "      <td>2017-04</td>\n",
       "      <td>5</td>\n",
       "    </tr>\n",
       "    <tr>\n",
       "      <th>123</th>\n",
       "      <td>2017-06</td>\n",
       "      <td>6</td>\n",
       "    </tr>\n",
       "    <tr>\n",
       "      <th>...</th>\n",
       "      <td>...</td>\n",
       "      <td>...</td>\n",
       "    </tr>\n",
       "    <tr>\n",
       "      <th>85</th>\n",
       "      <td>2014-04</td>\n",
       "      <td>205</td>\n",
       "    </tr>\n",
       "    <tr>\n",
       "      <th>60</th>\n",
       "      <td>2012-03</td>\n",
       "      <td>214</td>\n",
       "    </tr>\n",
       "    <tr>\n",
       "      <th>62</th>\n",
       "      <td>2012-05</td>\n",
       "      <td>218</td>\n",
       "    </tr>\n",
       "    <tr>\n",
       "      <th>81</th>\n",
       "      <td>2013-12</td>\n",
       "      <td>218</td>\n",
       "    </tr>\n",
       "    <tr>\n",
       "      <th>106</th>\n",
       "      <td>2016-01</td>\n",
       "      <td>223</td>\n",
       "    </tr>\n",
       "  </tbody>\n",
       "</table>\n",
       "<p>129 rows × 2 columns</p>\n",
       "</div>"
      ],
      "text/plain": [
       "    published  size\n",
       "124   2017-07     1\n",
       "128   2017-11     3\n",
       "122   2017-05     4\n",
       "121   2017-04     5\n",
       "123   2017-06     6\n",
       "..        ...   ...\n",
       "85    2014-04   205\n",
       "60    2012-03   214\n",
       "62    2012-05   218\n",
       "81    2013-12   218\n",
       "106   2016-01   223\n",
       "\n",
       "[129 rows x 2 columns]"
      ]
     },
     "execution_count": 170,
     "metadata": {},
     "output_type": "execute_result"
    }
   ],
   "source": [
    "sizes_months.sort_values(by='size')"
   ]
  },
  {
   "cell_type": "code",
   "execution_count": 167,
   "id": "a5ff950e-b22d-452e-9805-6bcb21248f21",
   "metadata": {},
   "outputs": [
    {
     "data": {
      "image/png": "[encoded data removed]",
      "text/plain": [
       "<Figure size 720x432 with 2 Axes>"
      ]
     },
     "metadata": {
      "needs_background": "light"
     },
     "output_type": "display_data"
    }
   ],
   "source": [
    "df = new[['bias','size']]\n",
    "plt.figure(figsize=(10, 6))\n",
    "heatmap = sns.heatmap(df.corr(), vmin=-1, vmax=1, annot=True)\n",
    "heatmap.set_title('Correlation Heatmap', fontdict={'fontsize':12}, pad=12);"
   ]
  },
  {
   "cell_type": "code",
   "execution_count": 172,
   "id": "34b8aaa5-b591-41c3-a931-6acc069d7168",
   "metadata": {},
   "outputs": [],
   "source": [
    "new_years = pd.DataFrame({'bias':df_years['text_bias'],'size':sizes_years['size']})"
   ]
  },
  {
   "cell_type": "code",
   "execution_count": 177,
   "id": "ef024268-3e9e-45e1-b254-8083356b6bc2",
   "metadata": {},
   "outputs": [
    {
     "data": {
      "text/plain": [
       "Text(0.5, 1.0, 'Ammount of articles')"
      ]
     },
     "execution_count": 177,
     "metadata": {},
     "output_type": "execute_result"
    },
    {
     "data": {
      "image/png": "[encoded data removed]",
      "text/plain": [
       "<Figure size 720x360 with 1 Axes>"
      ]
     },
     "metadata": {
      "needs_background": "light"
     },
     "output_type": "display_data"
    }
   ],
   "source": [
    "fig, ax = plt.subplots(figsize = (10, 5))\n",
    "sns.lineplot(ax = ax, x='Year', y='size', data=sizes_years).set_title('Ammount of articles')"
   ]
  },
  {
   "cell_type": "code",
   "execution_count": 178,
   "id": "559e354f-e20b-4a69-9a3c-bc9f5504d64a",
   "metadata": {},
   "outputs": [
    {
     "data": {
      "text/plain": [
       "Text(0.5, 1.0, 'Media Bias development over years')"
      ]
     },
     "execution_count": 178,
     "metadata": {},
     "output_type": "execute_result"
    },
    {
     "data": {
      "image/png": "[encoded data removed]",
      "text/plain": [
       "<Figure size 720x360 with 1 Axes>"
      ]
     },
     "metadata": {
      "needs_background": "light"
     },
     "output_type": "display_data"
    }
   ],
   "source": [
    "fig, ax = plt.subplots(figsize = (10, 5))\n",
    "sns.lineplot(ax = ax, x='Year', y='text_bias', data=df_years).set_title('Media Bias development over years')"
   ]
  },
  {
   "cell_type": "code",
   "execution_count": 175,
   "id": "a27fce38-e5fd-4ece-89d0-57d6e9a4d1c6",
   "metadata": {},
   "outputs": [
    {
     "data": {
      "image/png": "[encoded data removed]",
      "text/plain": [
       "<Figure size 720x432 with 2 Axes>"
      ]
     },
     "metadata": {
      "needs_background": "light"
     },
     "output_type": "display_data"
    }
   ],
   "source": [
    "df = new_years[['bias','size']]\n",
    "plt.figure(figsize=(10, 6))\n",
    "heatmap = sns.heatmap(df.corr(), vmin=-1, vmax=1, annot=True)\n",
    "heatmap.set_title('Correlation Heatmap', fontdict={'fontsize':12}, pad=12);"
   ]
  },
  {
   "cell_type": "code",
   "execution_count": null,
   "id": "87b73af7-3d7f-4ea7-9e3f-6c808d12ed21",
   "metadata": {},
   "outputs": [],
   "source": []
  }
 ],
 "metadata": {
  "kernelspec": {
   "display_name": "Python 3 (ipykernel)",
   "language": "python",
   "name": "python3"
  },
  "language_info": {
   "codemirror_mode": {
    "name": "ipython",
    "version": 3
   },
   "file_extension": ".py",
   "mimetype": "text/x-python",
   "name": "python",
   "nbconvert_exporter": "python",
   "pygments_lexer": "ipython3",
   "version": "3.8.6"
  }
 },
 "nbformat": 4,
 "nbformat_minor": 5
}
