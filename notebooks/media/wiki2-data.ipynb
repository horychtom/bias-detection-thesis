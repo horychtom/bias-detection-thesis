{
 "cells": [
  {
   "cell_type": "code",
   "execution_count": 1,
   "metadata": {},
   "outputs": [],
   "source": [
    "import sys\n",
    "import os\n",
    "PATH=os.getcwd().split('/notebooks')[0]\n",
    "sys.path.insert(1, PATH)\n",
    "\n",
    "\n",
    "from datasets import load_dataset,Dataset,concatenate_datasets"
   ]
  },
  {
   "cell_type": "code",
   "execution_count": 4,
   "metadata": {},
   "outputs": [
    {
     "name": "stderr",
     "output_type": "stream",
     "text": [
      "Using custom data configuration default-ee195a582f3b5869\n",
      "Reusing dataset csv (/home/tomas/.cache/huggingface/datasets/csv/default-ee195a582f3b5869/0.0.0/2dc6629a9ff6b5697d82c25b73731dd440507a69cbce8b425db50b751e8fcfd0)\n",
      "Using custom data configuration default-0ca32b077149993e\n",
      "Reusing dataset csv (/home/tomas/.cache/huggingface/datasets/csv/default-0ca32b077149993e/0.0.0/2dc6629a9ff6b5697d82c25b73731dd440507a69cbce8b425db50b751e8fcfd0)\n",
      "Using custom data configuration default-a0044ce30b4aefc6\n",
      "Reusing dataset csv (/home/tomas/.cache/huggingface/datasets/csv/default-a0044ce30b4aefc6/0.0.0/2dc6629a9ff6b5697d82c25b73731dd440507a69cbce8b425db50b751e8fcfd0)\n",
      "Using custom data configuration default-1b8d5dda46a92e74\n",
      "Reusing dataset csv (/home/tomas/.cache/huggingface/datasets/csv/default-1b8d5dda46a92e74/0.0.0/2dc6629a9ff6b5697d82c25b73731dd440507a69cbce8b425db50b751e8fcfd0)\n"
     ]
    }
   ],
   "source": [
    "biased = load_dataset(\"csv\",data_files=PATH+\"/data/CS/raw/WIKI2/corpus.biased\",\n",
    "                    delimiter=\"\\t\",column_names=[\"id\",\"pretok\",\"posttok\",\"pre\",\"post\"])['train']\n",
    "unbiased = load_dataset(\"csv\",data_files=PATH+\"/data/CS/raw/WIKI2/corpus.unbiased\",\n",
    "                    delimiter=\"\\t\",column_names=[\"id\",\"pretok\",\"posttok\",\"pre\",\"post\"])['train']\n",
    "wordbiased = load_dataset(\"csv\",data_files=PATH+\"/data/CS/raw/WIKI2/corpus.wordbiased\",\n",
    "                    delimiter=\"\\t\",column_names=[\"id\",\"pretok\",\"posttok\",\"pre\",\"post\"])['train']\n",
    "ids = load_dataset(\"csv\",data_files=PATH+\"/data/CS/raw/WIKI2/revision.ids\",\n",
    "                    delimiter=\"\\t\",column_names=[\"id\",\"text\",\"timestamp\"])['train']"
   ]
  },
  {
   "cell_type": "code",
   "execution_count": 5,
   "metadata": {},
   "outputs": [],
   "source": [
    "wordbiased = wordbiased.remove_columns([\"pretok\",\"posttok\"])\n",
    "unbiased = unbiased.remove_columns([\"pretok\",\"posttok\"])\n",
    "biased = biased.remove_columns([\"pretok\",\"posttok\"])\n",
    "ids = ids['id']"
   ]
  },
  {
   "cell_type": "code",
   "execution_count": 11,
   "metadata": {},
   "outputs": [
    {
     "name": "stdout",
     "output_type": "stream",
     "text": [
      "Before: od roku 1993 byl dvě funkční období prezidentem české republiky, kterou vyvedl z varšavské smlouvy a navzdory svým slovům dovedl do nato.\n",
      "After : od roku 1993 byl dvě funkční období prezidentem české republiky, kterou vyvedl z varšavské smlouvy a dovedl do nato.\n",
      "\n",
      "\n",
      "Before: po osvobození československa v roce 1945 navštěvoval elitní internátní školu v poděbradech (spolu s milošem formanem a vrahy bratry mašínovými).\n",
      "After : po osvobození československa v roce 1945 navštěvoval elitní internátní školu v poděbradech (spolu s milošem formanem a bratry mašínovými).\n",
      "\n",
      "\n",
      "Before: po vypuknutí velké sametové revoluce v listopadu 1989 se václav havel stal jedním ze spoluzakladatelů protikomunistického hnutí občanské fórum a jako jeho kandidát byl 29. prosince 1989 zvolen prezidentem československa.\n",
      "After : po vypuknutí sametové revoluce v listopadu 1989 se václav havel stal jedním ze spoluzakladatelů protikomunistického hnutí občanské fórum a jako jeho kandidát byl 29. prosince 1989 zvolen prezidentem československa.\n",
      "\n",
      "\n"
     ]
    }
   ],
   "source": [
    "for i in range(3):\n",
    "    print(\"Before:\",biased[9+i]['pre'])\n",
    "    print(\"After :\",biased[9+i]['post'])\n",
    "    print(\"\\n\")"
   ]
  },
  {
   "cell_type": "code",
   "execution_count": 10,
   "metadata": {},
   "outputs": [
    {
     "name": "stdout",
     "output_type": "stream",
     "text": [
      "Before: nizozemsko je známé svým pokrokovým liberální postojem vůči psychoaktivním drogám, prostituci, eutanazii a homosexualitě.\n",
      "After : nizozemsko je známé svým liberální postojem vůči psychoaktivním drogám, prostituci, eutanazii a homosexualitě.\n",
      "\n",
      "\n",
      "Before: v roce 2002 se stala velmi populární strana zavražděného politika pima fortuyna a v roce 2006 získala devět mandátu strana pro svobodu vlasteneckého politika geerta wilderse.\n",
      "After : v roce 2002 se stala velmi populární strana zavražděného politika pima fortuyna a v roce 2006 získala devět mandátu strana pro svobodu politika geerta wilderse.\n",
      "\n",
      "\n",
      "Before: karel kachyňa (1. května 1924 vyškov – 12. března 2004 říčany) byl významný český filmový režisér.\n",
      "After : karel kachyňa (1. května 1924 vyškov – 12. března 2004 říčany) byl český filmový režisér.\n",
      "\n",
      "\n"
     ]
    }
   ],
   "source": [
    "for i in range(3):\n",
    "    print(\"Before:\",wordbiased[5+i]['pre'])\n",
    "    print(\"After :\",wordbiased[5+i]['post'])\n",
    "    print(\"\\n\")"
   ]
  },
  {
   "cell_type": "markdown",
   "metadata": {},
   "source": [
    "## Processing"
   ]
  },
  {
   "cell_type": "code",
   "execution_count": 51,
   "metadata": {
    "tags": []
   },
   "outputs": [
    {
     "name": "stderr",
     "output_type": "stream",
     "text": [
      "Using custom data configuration default-ba062ae4977b6d1e\n"
     ]
    },
    {
     "name": "stdout",
     "output_type": "stream",
     "text": [
      "Downloading and preparing dataset csv/default (download: Unknown size, generated: Unknown size, post-processed: Unknown size, total: Unknown size) to /home/horyctom/.cache/huggingface/datasets/csv/default-ba062ae4977b6d1e/0.0.0/9144e0a4e8435090117cea53e6c7537173ef2304525df4a077c435d8ee7828ff...\n"
     ]
    },
    {
     "data": {
      "application/vnd.jupyter.widget-view+json": {
       "model_id": "",
       "version_major": 2,
       "version_minor": 0
      },
      "text/plain": [
       "0 tables [00:00, ? tables/s]"
      ]
     },
     "metadata": {},
     "output_type": "display_data"
    },
    {
     "name": "stdout",
     "output_type": "stream",
     "text": [
      "Dataset csv downloaded and prepared to /home/horyctom/.cache/huggingface/datasets/csv/default-ba062ae4977b6d1e/0.0.0/9144e0a4e8435090117cea53e6c7537173ef2304525df4a077c435d8ee7828ff. Subsequent calls will reuse this data.\n"
     ]
    },
    {
     "name": "stderr",
     "output_type": "stream",
     "text": [
      "Using custom data configuration default-8e138c37c245be98\n"
     ]
    },
    {
     "name": "stdout",
     "output_type": "stream",
     "text": [
      "Downloading and preparing dataset csv/default (download: Unknown size, generated: Unknown size, post-processed: Unknown size, total: Unknown size) to /home/horyctom/.cache/huggingface/datasets/csv/default-8e138c37c245be98/0.0.0/9144e0a4e8435090117cea53e6c7537173ef2304525df4a077c435d8ee7828ff...\n"
     ]
    },
    {
     "data": {
      "application/vnd.jupyter.widget-view+json": {
       "model_id": "",
       "version_major": 2,
       "version_minor": 0
      },
      "text/plain": [
       "0 tables [00:00, ? tables/s]"
      ]
     },
     "metadata": {},
     "output_type": "display_data"
    },
    {
     "name": "stdout",
     "output_type": "stream",
     "text": [
      "Dataset csv downloaded and prepared to /home/horyctom/.cache/huggingface/datasets/csv/default-8e138c37c245be98/0.0.0/9144e0a4e8435090117cea53e6c7537173ef2304525df4a077c435d8ee7828ff. Subsequent calls will reuse this data.\n"
     ]
    }
   ],
   "source": [
    "test = load_dataset(\"csv\",data_files='/home/horyctom/bias-detection-thesis/data/CS/processed/CWNC/test.csv')['train']\n",
    "train = load_dataset(\"csv\",data_files='/home/horyctom/bias-detection-thesis/data/CS/processed/CWNC/train.csv')['train']"
   ]
  },
  {
   "cell_type": "code",
   "execution_count": 24,
   "metadata": {},
   "outputs": [],
   "source": [
    "from corpy.morphodita import Tokenizer\n",
    "t = Tokenizer(\"czech\")"
   ]
  },
  {
   "cell_type": "code",
   "execution_count": 33,
   "metadata": {
    "collapsed": true,
    "jupyter": {
     "outputs_hidden": true
    },
    "tags": []
   },
   "outputs": [
    {
     "data": {
      "text/plain": [
       "['Friedrich',\n",
       " 'Spee',\n",
       " 'von',\n",
       " 'Langenfeld',\n",
       " '(',\n",
       " '25',\n",
       " '.',\n",
       " 'února',\n",
       " '1591',\n",
       " 'v',\n",
       " 'Kaiserswerthu',\n",
       " 'u',\n",
       " 'Düsseldorfu',\n",
       " '–',\n",
       " '7',\n",
       " '.',\n",
       " 'srpna',\n",
       " '1635',\n",
       " 'v',\n",
       " 'Trevíru',\n",
       " ')',\n",
       " 'byl',\n",
       " 'německý',\n",
       " 'jezuita',\n",
       " ',',\n",
       " 'významný',\n",
       " 'duchovní',\n",
       " 'lyrik',\n",
       " 'raného',\n",
       " 'baroka',\n",
       " ',',\n",
       " 'duchovní',\n",
       " 'spisovatel',\n",
       " 'a',\n",
       " 'morální',\n",
       " 'teolog',\n",
       " ',',\n",
       " 'který',\n",
       " 'rozhodujícím',\n",
       " 'způsobem',\n",
       " 'přispěl',\n",
       " 'k',\n",
       " 'ukončení',\n",
       " 'honů',\n",
       " 'na',\n",
       " 'čarodějnice',\n",
       " '.']"
      ]
     },
     "execution_count": 33,
     "metadata": {},
     "output_type": "execute_result"
    }
   ],
   "source": [
    "list(t.tokenize(train['sentence'][0]))"
   ]
  },
  {
   "cell_type": "code",
   "execution_count": 52,
   "metadata": {},
   "outputs": [
    {
     "data": {
      "text/plain": [
       "Dataset({\n",
       "    features: ['sentence', 'label'],\n",
       "    num_rows: 4900\n",
       "})"
      ]
     },
     "execution_count": 52,
     "metadata": {},
     "output_type": "execute_result"
    }
   ],
   "source": [
    "train"
   ]
  },
  {
   "cell_type": "code",
   "execution_count": 46,
   "metadata": {},
   "outputs": [
    {
     "data": {
      "application/vnd.jupyter.widget-view+json": {
       "model_id": "291fc82ae9534659bfafc26d797f3be8",
       "version_major": 2,
       "version_minor": 0
      },
      "text/plain": [
       "  0%|          | 0/5 [00:00<?, ?ba/s]"
      ]
     },
     "metadata": {},
     "output_type": "display_data"
    },
    {
     "data": {
      "text/plain": [
       "Dataset({\n",
       "    features: ['sentence', 'label'],\n",
       "    num_rows: 4900\n",
       "})"
      ]
     },
     "execution_count": 54,
     "metadata": {},
     "output_type": "execute_result"
    }
   ],
   "source": [
    "train.filter(lambda x: len(x['sentence']) > 30)\n",
    "train.filter(lambda x: \"NPOV\" not in x['sentence'])\n",
    "train = train.filter(lambda x: \"POV\" not in x['sentence'])"
   ]
  },
  {
   "cell_type": "code",
   "execution_count": 48,
   "metadata": {},
   "outputs": [
    {
     "data": {
      "application/vnd.jupyter.widget-view+json": {
       "model_id": "862e96bb9a56484e9465b9e2d75ae282",
       "version_major": 2,
       "version_minor": 0
      },
      "text/plain": [
       "  0%|          | 0/1 [00:00<?, ?ba/s]"
      ]
     },
     "metadata": {},
     "output_type": "display_data"
    },
    {
     "data": {
      "application/vnd.jupyter.widget-view+json": {
       "model_id": "84709010118c46dfa1e1513199544c46",
       "version_major": 2,
       "version_minor": 0
      },
      "text/plain": [
       "  0%|          | 0/1 [00:00<?, ?ba/s]"
      ]
     },
     "metadata": {},
     "output_type": "display_data"
    },
    {
     "data": {
      "application/vnd.jupyter.widget-view+json": {
       "model_id": "e9ad9ae1e3cf475ba05b4ac69c579cbd",
       "version_major": 2,
       "version_minor": 0
      },
      "text/plain": [
       "  0%|          | 0/1 [00:00<?, ?ba/s]"
      ]
     },
     "metadata": {},
     "output_type": "display_data"
    }
   ],
   "source": [
    "test = test.filter(lambda x: len(x['sentence']) > 30)\n",
    "test = test.filter(lambda x: \"NPOV\" not in x['sentence'])\n",
    "test = test.filter(lambda x: \"POV\" not in x['sentence'])"
   ]
  },
  {
   "cell_type": "code",
   "execution_count": 49,
   "metadata": {},
   "outputs": [
    {
     "data": {
      "text/plain": [
       "Dataset({\n",
       "    features: ['sentence', 'label'],\n",
       "    num_rows: 4895\n",
       "})"
      ]
     },
     "execution_count": 49,
     "metadata": {},
     "output_type": "execute_result"
    }
   ],
   "source": [
    "train"
   ]
  },
  {
   "cell_type": "code",
   "execution_count": 50,
   "metadata": {},
   "outputs": [
    {
     "data": {
      "text/plain": [
       "Dataset({\n",
       "    features: ['sentence', 'label'],\n",
       "    num_rows: 870\n",
       "})"
      ]
     },
     "execution_count": 50,
     "metadata": {},
     "output_type": "execute_result"
    }
   ],
   "source": [
    "test"
   ]
  },
  {
   "cell_type": "code",
   "execution_count": null,
   "metadata": {},
   "outputs": [],
   "source": []
  }
 ],
 "metadata": {
  "interpreter": {
   "hash": "31f2aee4e71d21fbe5cf8b01ff0e069b9275f58929596ceb00d14d90e3e16cd6"
  },
  "kernelspec": {
   "display_name": "Python 3 (ipykernel)",
   "language": "python",
   "name": "python3"
  },
  "language_info": {
   "codemirror_mode": {
    "name": "ipython",
    "version": 3
   },
   "file_extension": ".py",
   "mimetype": "text/x-python",
   "name": "python",
   "nbconvert_exporter": "python",
   "pygments_lexer": "ipython3",
   "version": "3.8.6"
  }
 },
 "nbformat": 4,
 "nbformat_minor": 4
}
