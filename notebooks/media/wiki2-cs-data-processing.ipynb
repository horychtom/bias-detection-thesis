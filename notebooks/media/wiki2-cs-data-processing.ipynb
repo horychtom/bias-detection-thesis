{
 "cells": [
  {
   "cell_type": "code",
   "execution_count": 2,
   "metadata": {},
   "outputs": [],
   "source": [
    "import sys\n",
    "import os\n",
    "PATH=os.getcwd().split('/notebooks')[0]\n",
    "sys.path.insert(1, PATH)\n",
    "\n",
    "from datasets import load_dataset"
   ]
  },
  {
   "cell_type": "code",
   "execution_count": 20,
   "metadata": {},
   "outputs": [
    {
     "name": "stderr",
     "output_type": "stream",
     "text": [
      "Using custom data configuration default-4488a5205f11ec01\n",
      "Reusing dataset csv (/home/tomas/.cache/huggingface/datasets/csv/default-4488a5205f11ec01/0.0.0/2dc6629a9ff6b5697d82c25b73731dd440507a69cbce8b425db50b751e8fcfd0)\n"
     ]
    }
   ],
   "source": [
    "biased = load_dataset(\"csv\",data_files=PATH+\"/data/CS/raw/WIKI2-CS/corpus.biased\",\n",
    "                    delimiter=\"\\t\",column_names=[\"id\",\"pretok\",\"posttok\",\"pre\",\"post\"])['train']"
   ]
  },
  {
   "cell_type": "code",
   "execution_count": 33,
   "metadata": {},
   "outputs": [
    {
     "name": "stderr",
     "output_type": "stream",
     "text": [
      "Using custom data configuration default-11013a1202c9d046\n",
      "                            "
     ]
    },
    {
     "name": "stdout",
     "output_type": "stream",
     "text": [
      "Downloading and preparing dataset csv/default (download: Unknown size, generated: Unknown size, post-processed: Unknown size, total: Unknown size) to /home/tomas/.cache/huggingface/datasets/csv/default-11013a1202c9d046/0.0.0/2dc6629a9ff6b5697d82c25b73731dd440507a69cbce8b425db50b751e8fcfd0...\n",
      "Dataset csv downloaded and prepared to /home/tomas/.cache/huggingface/datasets/csv/default-11013a1202c9d046/0.0.0/2dc6629a9ff6b5697d82c25b73731dd440507a69cbce8b425db50b751e8fcfd0. Subsequent calls will reuse this data.\n"
     ]
    },
    {
     "name": "stderr",
     "output_type": "stream",
     "text": [
      "\r"
     ]
    }
   ],
   "source": [
    "biased = load_dataset(\"csv\",data_files=PATH+\"/data/CS/raw/WIKI2-CS/corpus.wordbiased\",\n",
    "                    delimiter=\"\\t\",column_names=[\"id\",\"pretok\",\"posttok\",\"pre\",\"post\"])['train']"
   ]
  },
  {
   "cell_type": "code",
   "execution_count": 34,
   "metadata": {},
   "outputs": [],
   "source": [
    "biased = biased.remove_columns([\"pretok\",\"posttok\"])"
   ]
  },
  {
   "cell_type": "code",
   "execution_count": 35,
   "metadata": {},
   "outputs": [
    {
     "data": {
      "text/plain": [
       "'ota ginz (19. července 1896 – 29. února 1976) byl významný esperantista a úředník.'"
      ]
     },
     "execution_count": 35,
     "metadata": {},
     "output_type": "execute_result"
    }
   ],
   "source": [
    "biased[0]['pre']"
   ]
  },
  {
   "cell_type": "code",
   "execution_count": 24,
   "metadata": {},
   "outputs": [
    {
     "data": {
      "text/plain": [
       "'(varování pov:) a co mně osobně vadí, že mají pořád ještě \"věřící\" mezi mladými, i studovanými , němci – jako pds, teď ta linkepartei a historicky sympatie k \"boji kpd\"... (konec pov) téma je ale, myslím, větší a v této souvislosti by imho stálo za zmínku... –wiki-vr 11:14, 15.'"
      ]
     },
     "execution_count": 24,
     "metadata": {},
     "output_type": "execute_result"
    }
   ],
   "source": [
    "biased[0]['post']"
   ]
  },
  {
   "cell_type": "code",
   "execution_count": 48,
   "metadata": {},
   "outputs": [
    {
     "data": {
      "text/plain": [
       "{'id': 14587251,\n",
       " 'pre': 'alan mathison turing, obe (23. června 1912 – 7. června 1954) byl významný britský matematik, logik, kryptoanalytik a zakladatel moderní informatiky.',\n",
       " 'post': 'alan mathison turing, obe (23. června 1912 – 7. června 1954) byl britský matematik, logik, kryptoanalytik a zakladatel moderní informatiky.'}"
      ]
     },
     "execution_count": 48,
     "metadata": {},
     "output_type": "execute_result"
    }
   ],
   "source": [
    "biased[55]"
   ]
  },
  {
   "cell_type": "code",
   "execution_count": 28,
   "metadata": {},
   "outputs": [
    {
     "data": {
      "text/plain": [
       "18"
      ]
     },
     "execution_count": 28,
     "metadata": {},
     "output_type": "execute_result"
    }
   ],
   "source": [
    "count"
   ]
  },
  {
   "cell_type": "code",
   "execution_count": null,
   "metadata": {},
   "outputs": [],
   "source": []
  }
 ],
 "metadata": {
  "interpreter": {
   "hash": "31f2aee4e71d21fbe5cf8b01ff0e069b9275f58929596ceb00d14d90e3e16cd6"
  },
  "kernelspec": {
   "display_name": "Python 3.6.8 64-bit",
   "language": "python",
   "name": "python3"
  },
  "language_info": {
   "codemirror_mode": {
    "name": "ipython",
    "version": 3
   },
   "file_extension": ".py",
   "mimetype": "text/x-python",
   "name": "python",
   "nbconvert_exporter": "python",
   "pygments_lexer": "ipython3",
   "version": "3.6.8"
  },
  "orig_nbformat": 4
 },
 "nbformat": 4,
 "nbformat_minor": 2
}
