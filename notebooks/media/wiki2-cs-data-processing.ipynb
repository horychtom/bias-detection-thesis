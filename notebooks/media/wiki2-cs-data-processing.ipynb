{
 "cells": [
  {
   "cell_type": "code",
   "execution_count": 93,
   "metadata": {},
   "outputs": [],
   "source": [
    "import sys\n",
    "import os\n",
    "PATH=os.getcwd().split('/notebooks')[0]\n",
    "sys.path.insert(1, PATH)\n",
    "\n",
    "\n",
    "from datasets import load_dataset,Dataset,concatenate_datasets"
   ]
  },
  {
   "cell_type": "code",
   "execution_count": 40,
   "metadata": {},
   "outputs": [
    {
     "name": "stderr",
     "output_type": "stream",
     "text": [
      "Using custom data configuration default-4488a5205f11ec01\n",
      "Reusing dataset csv (/home/tomas/.cache/huggingface/datasets/csv/default-4488a5205f11ec01/0.0.0/2dc6629a9ff6b5697d82c25b73731dd440507a69cbce8b425db50b751e8fcfd0)\n",
      "Using custom data configuration default-b8126d447e27eb5e\n",
      "Reusing dataset csv (/home/tomas/.cache/huggingface/datasets/csv/default-b8126d447e27eb5e/0.0.0/2dc6629a9ff6b5697d82c25b73731dd440507a69cbce8b425db50b751e8fcfd0)\n",
      "Using custom data configuration default-11013a1202c9d046\n",
      "Reusing dataset csv (/home/tomas/.cache/huggingface/datasets/csv/default-11013a1202c9d046/0.0.0/2dc6629a9ff6b5697d82c25b73731dd440507a69cbce8b425db50b751e8fcfd0)\n",
      "Using custom data configuration default-96187f5883e9bfd2\n",
      "Reusing dataset csv (/home/tomas/.cache/huggingface/datasets/csv/default-96187f5883e9bfd2/0.0.0/2dc6629a9ff6b5697d82c25b73731dd440507a69cbce8b425db50b751e8fcfd0)\n"
     ]
    }
   ],
   "source": [
    "biased = load_dataset(\"csv\",data_files=PATH+\"/data/CS/raw/WIKI2-CS/corpus.biased\",\n",
    "                    delimiter=\"\\t\",column_names=[\"id\",\"pretok\",\"posttok\",\"pre\",\"post\"])['train']\n",
    "unbiased = load_dataset(\"csv\",data_files=PATH+\"/data/CS/raw/WIKI2-CS/corpus.unbiased\",\n",
    "                    delimiter=\"\\t\",column_names=[\"id\",\"pretok\",\"posttok\",\"pre\",\"post\"])['train']\n",
    "wordbiased = load_dataset(\"csv\",data_files=PATH+\"/data/CS/raw/WIKI2-CS/corpus.wordbiased\",\n",
    "                    delimiter=\"\\t\",column_names=[\"id\",\"pretok\",\"posttok\",\"pre\",\"post\"])['train']\n",
    "ids = load_dataset(\"csv\",data_files=PATH+\"/data/CS/raw/WIKI2-CS/revision.ids\",\n",
    "                    delimiter=\"\\t\",column_names=[\"id\",\"text\",\"timestamp\"])['train']"
   ]
  },
  {
   "cell_type": "code",
   "execution_count": 41,
   "metadata": {},
   "outputs": [],
   "source": [
    "wordbiased = wordbiased.remove_columns([\"pretok\",\"posttok\"])\n",
    "unbiased = unbiased.remove_columns([\"pretok\",\"posttok\"])\n",
    "biased = biased.remove_columns([\"pretok\",\"posttok\"])\n",
    "ids = ids['id']"
   ]
  },
  {
   "cell_type": "code",
   "execution_count": 68,
   "metadata": {},
   "outputs": [],
   "source": [
    "all = []\n",
    "for idx,id in enumerate(wordbiased['id']):\n",
    "    if id in ids:\n",
    "        all.append(wordbiased[idx])"
   ]
  },
  {
   "cell_type": "code",
   "execution_count": 77,
   "metadata": {},
   "outputs": [],
   "source": [
    "all = []\n",
    "for i in range(len(biased)):\n",
    "    if(abs(len(biased[i]['pre']) - len(biased[i]['post'])) > 20):\n",
    "        all.append(biased[i])"
   ]
  },
  {
   "cell_type": "code",
   "execution_count": 85,
   "metadata": {},
   "outputs": [
    {
     "data": {
      "text/plain": [
       "{'id': 7728033,\n",
       " 'pre': 'jaroslav ježek (25. září 1906 praha – 1. ledna 1942 new york) byl český skladatel (skvěle improvizující , což bylo potěšením hlavně pro diváky) , dramaturg a klavírista .',\n",
       " 'post': 'jaroslav ježek (25. září 1906 praha – 1. ledna 1942 new york) byl český hudební skladatel , hudební improvizátor , dramaturg a klavírista .'}"
      ]
     },
     "execution_count": 85,
     "metadata": {},
     "output_type": "execute_result"
    }
   ],
   "source": [
    "all[5]"
   ]
  },
  {
   "cell_type": "code",
   "execution_count": null,
   "metadata": {},
   "outputs": [],
   "source": []
  },
  {
   "cell_type": "markdown",
   "metadata": {},
   "source": [
    "### Create standardized formats"
   ]
  },
  {
   "cell_type": "code",
   "execution_count": 96,
   "metadata": {},
   "outputs": [],
   "source": [
    "biased_sents = biased['pre']\n",
    "unbiased_sents = biased['post']\n",
    "dict_biased = {'label':[1]*len(biased_sents),'sentence':biased_sents}\n",
    "dict_unbiased = {'label':[0]*len(unbiased_sents),'sentence':unbiased_sents}\n",
    "dat1 = Dataset.from_dict(dict_biased)\n",
    "dat2 = Dataset.from_dict(dict_unbiased)\n",
    "final = concatenate_datasets([dat1,dat2]).shuffle()"
   ]
  },
  {
   "cell_type": "code",
   "execution_count": 100,
   "metadata": {},
   "outputs": [
    {
     "data": {
      "text/plain": [
       "1004653"
      ]
     },
     "execution_count": 100,
     "metadata": {},
     "output_type": "execute_result"
    }
   ],
   "source": [
    "final.to_csv(PATH+\"/data/CS/raw/WIKI2-CS/biased-unbiased-6k.csv\",index=False)"
   ]
  },
  {
   "cell_type": "code",
   "execution_count": 101,
   "metadata": {},
   "outputs": [],
   "source": [
    "biased_sents = wordbiased['pre']\n",
    "unbiased_sents = wordbiased['post']\n",
    "dict_biased = {'label':[1]*len(biased_sents),'sentence':biased_sents}\n",
    "dict_unbiased = {'label':[0]*len(unbiased_sents),'sentence':unbiased_sents}\n",
    "dat1 = Dataset.from_dict(dict_biased)\n",
    "dat2 = Dataset.from_dict(dict_unbiased)\n",
    "final = concatenate_datasets([dat1,dat2]).shuffle()"
   ]
  },
  {
   "cell_type": "code",
   "execution_count": 103,
   "metadata": {},
   "outputs": [
    {
     "data": {
      "text/plain": [
       "547713"
      ]
     },
     "execution_count": 103,
     "metadata": {},
     "output_type": "execute_result"
    }
   ],
   "source": [
    "final.to_csv(PATH+\"/data/CS/raw/WIKI2-CS/wordbiased-unbiased-3.5k.csv\",index=False)"
   ]
  },
  {
   "cell_type": "code",
   "execution_count": null,
   "metadata": {},
   "outputs": [],
   "source": []
  }
 ],
 "metadata": {
  "interpreter": {
   "hash": "31f2aee4e71d21fbe5cf8b01ff0e069b9275f58929596ceb00d14d90e3e16cd6"
  },
  "kernelspec": {
   "display_name": "Python 3.6.8 64-bit",
   "language": "python",
   "name": "python3"
  },
  "language_info": {
   "codemirror_mode": {
    "name": "ipython",
    "version": 3
   },
   "file_extension": ".py",
   "mimetype": "text/x-python",
   "name": "python",
   "nbconvert_exporter": "python",
   "pygments_lexer": "ipython3",
   "version": "3.8.10"
  },
  "orig_nbformat": 4
 },
 "nbformat": 4,
 "nbformat_minor": 2
}
