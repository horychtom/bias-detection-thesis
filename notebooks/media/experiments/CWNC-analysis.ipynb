{
 "cells": [
  {
   "cell_type": "code",
   "execution_count": 1,
   "metadata": {},
   "outputs": [],
   "source": [
    "import sys\n",
    "import os\n",
    "PATH=os.getcwd().split('/notebooks')[0]\n",
    "sys.path.insert(1, PATH)\n",
    "\n",
    "\n",
    "from datasets import load_dataset,Dataset,concatenate_datasets"
   ]
  },
  {
   "cell_type": "code",
   "execution_count": null,
   "metadata": {},
   "outputs": [],
   "source": [
    "biased = load_dataset(\"csv\",data_files=PATH+\"/data/CS/raw/WIKI2/corpus.biased\",\n",
    "                    delimiter=\"\\t\",column_names=[\"id\",\"pretok\",\"posttok\",\"pre\",\"post\"])['train']\n",
    "unbiased = load_dataset(\"csv\",data_files=PATH+\"/data/CS/raw/WIKI2/corpus.unbiased\",\n",
    "                    delimiter=\"\\t\",column_names=[\"id\",\"pretok\",\"posttok\",\"pre\",\"post\"])['train']\n",
    "wordbiased = load_dataset(\"csv\",data_files=PATH+\"/data/CS/raw/WIKI2/corpus.wordbiased\",\n",
    "                    delimiter=\"\\t\",column_names=[\"id\",\"pretok\",\"posttok\",\"pre\",\"post\"])['train']\n",
    "ids = load_dataset(\"csv\",data_files=PATH+\"/data/CS/raw/WIKI2/revision.ids\",\n",
    "                    delimiter=\"\\t\",column_names=[\"id\",\"text\",\"timestamp\"])['train']"
   ]
  },
  {
   "cell_type": "code",
   "execution_count": 5,
   "metadata": {},
   "outputs": [],
   "source": [
    "wordbiased = wordbiased.remove_columns([\"pretok\",\"posttok\"])\n",
    "unbiased = unbiased.remove_columns([\"pretok\",\"posttok\"])\n",
    "biased = biased.remove_columns([\"pretok\",\"posttok\"])\n",
    "ids = ids['id']"
   ]
  },
  {
   "cell_type": "code",
   "execution_count": 11,
   "metadata": {},
   "outputs": [
    {
     "name": "stdout",
     "output_type": "stream",
     "text": [
      "Before: od roku 1993 byl dvě funkční období prezidentem české republiky, kterou vyvedl z varšavské smlouvy a navzdory svým slovům dovedl do nato.\n",
      "After : od roku 1993 byl dvě funkční období prezidentem české republiky, kterou vyvedl z varšavské smlouvy a dovedl do nato.\n",
      "\n",
      "\n",
      "Before: po osvobození československa v roce 1945 navštěvoval elitní internátní školu v poděbradech (spolu s milošem formanem a vrahy bratry mašínovými).\n",
      "After : po osvobození československa v roce 1945 navštěvoval elitní internátní školu v poděbradech (spolu s milošem formanem a bratry mašínovými).\n",
      "\n",
      "\n",
      "Before: po vypuknutí velké sametové revoluce v listopadu 1989 se václav havel stal jedním ze spoluzakladatelů protikomunistického hnutí občanské fórum a jako jeho kandidát byl 29. prosince 1989 zvolen prezidentem československa.\n",
      "After : po vypuknutí sametové revoluce v listopadu 1989 se václav havel stal jedním ze spoluzakladatelů protikomunistického hnutí občanské fórum a jako jeho kandidát byl 29. prosince 1989 zvolen prezidentem československa.\n",
      "\n",
      "\n"
     ]
    }
   ],
   "source": [
    "for i in range(3):\n",
    "    print(\"Before:\",biased[9+i]['pre'])\n",
    "    print(\"After :\",biased[9+i]['post'])\n",
    "    print(\"\\n\")"
   ]
  },
  {
   "cell_type": "code",
   "execution_count": 10,
   "metadata": {},
   "outputs": [
    {
     "name": "stdout",
     "output_type": "stream",
     "text": [
      "Before: nizozemsko je známé svým pokrokovým liberální postojem vůči psychoaktivním drogám, prostituci, eutanazii a homosexualitě.\n",
      "After : nizozemsko je známé svým liberální postojem vůči psychoaktivním drogám, prostituci, eutanazii a homosexualitě.\n",
      "\n",
      "\n",
      "Before: v roce 2002 se stala velmi populární strana zavražděného politika pima fortuyna a v roce 2006 získala devět mandátu strana pro svobodu vlasteneckého politika geerta wilderse.\n",
      "After : v roce 2002 se stala velmi populární strana zavražděného politika pima fortuyna a v roce 2006 získala devět mandátu strana pro svobodu politika geerta wilderse.\n",
      "\n",
      "\n",
      "Before: karel kachyňa (1. května 1924 vyškov – 12. března 2004 říčany) byl významný český filmový režisér.\n",
      "After : karel kachyňa (1. května 1924 vyškov – 12. března 2004 říčany) byl český filmový režisér.\n",
      "\n",
      "\n"
     ]
    }
   ],
   "source": [
    "for i in range(3):\n",
    "    print(\"Before:\",wordbiased[5+i]['pre'])\n",
    "    print(\"After :\",wordbiased[5+i]['post'])\n",
    "    print(\"\\n\")"
   ]
  }
 ],
 "metadata": {
  "interpreter": {
   "hash": "31f2aee4e71d21fbe5cf8b01ff0e069b9275f58929596ceb00d14d90e3e16cd6"
  },
  "kernelspec": {
   "display_name": "Python 3 (ipykernel)",
   "language": "python",
   "name": "python3"
  },
  "language_info": {
   "codemirror_mode": {
    "name": "ipython",
    "version": 3
   },
   "file_extension": ".py",
   "mimetype": "text/x-python",
   "name": "python",
   "nbconvert_exporter": "python",
   "pygments_lexer": "ipython3",
   "version": "3.8.6"
  }
 },
 "nbformat": 4,
 "nbformat_minor": 4
}
